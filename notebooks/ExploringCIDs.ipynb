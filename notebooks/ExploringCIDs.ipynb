{
 "cells": [
  {
   "cell_type": "markdown",
   "id": "59598f70-502a-4422-b35c-83a628c7eb4b",
   "metadata": {},
   "source": [
    "# Exploring CIDs"
   ]
  },
  {
   "cell_type": "code",
   "execution_count": 1,
   "id": "7850120a-79c7-451d-84ed-7ced1cdf5608",
   "metadata": {},
   "outputs": [],
   "source": [
    "import sys\n",
    "import os\n",
    "\n",
    "# Get the path to the Notebooks directory\n",
    "notebooks_path = os.path.abspath(os.path.join(os.getcwd(), '..'))\n",
    "\n",
    "# Add the Notebooks directory to the sys.path\n",
    "sys.path.append(notebooks_path)"
   ]
  },
  {
   "cell_type": "code",
   "execution_count": 2,
   "id": "1634f9d9-25f0-4581-a9da-73bd5f1e38e4",
   "metadata": {},
   "outputs": [],
   "source": [
    "from multiformats import multibase, multihash, CID"
   ]
  },
  {
   "cell_type": "code",
   "execution_count": 3,
   "id": "d7791f91-c5fd-47d0-b18b-d4b731eac19d",
   "metadata": {},
   "outputs": [],
   "source": [
    "data = b\"Hello World\""
   ]
  },
  {
   "cell_type": "code",
   "execution_count": 4,
   "id": "09a87ca9-08a9-4057-916f-3c416af6ccc5",
   "metadata": {
    "scrolled": true
   },
   "outputs": [
    {
     "data": {
      "text/plain": [
       "b'\\x12 \\xa5\\x91\\xa6\\xd4\\x0b\\xf4 @J\\x01\\x173\\xcf\\xb7\\xb1\\x90\\xd6,e\\xbf\\x0b\\xcd\\xa3+W\\xb2w\\xd9\\xad\\x9f\\x14n'"
      ]
     },
     "execution_count": 4,
     "metadata": {},
     "output_type": "execute_result"
    }
   ],
   "source": [
    "digest = multihash.digest(data, \"sha2-256\")\n",
    "digest"
   ]
  },
  {
   "cell_type": "code",
   "execution_count": 5,
   "id": "ff499814-14b7-4e30-be1d-b326aa36784d",
   "metadata": {},
   "outputs": [],
   "source": [
    "cid = CID(\"base58btc\",1,\"cidv1\",digest)\n",
    "\n",
    "cid_encode = cid.encode()\n",
    "\n",
    "\n",
    "assert(cid.digest == digest)"
   ]
  },
  {
   "cell_type": "code",
   "execution_count": 12,
   "id": "914a316e-2b6f-4828-9be8-c4157a2850b1",
   "metadata": {},
   "outputs": [],
   "source": [
    "from buidl.helper import str_to_bytes, bytes_to_str"
   ]
  },
  {
   "cell_type": "code",
   "execution_count": 13,
   "id": "422c2d8b-9234-47f6-a267-0b14da231512",
   "metadata": {},
   "outputs": [
    {
     "data": {
      "text/plain": [
       "b'zSejHzT7QpYzX3oA63pbsqGANKK9qV4madQf7Yrg81w6NByTj'"
      ]
     },
     "execution_count": 13,
     "metadata": {},
     "output_type": "execute_result"
    }
   ],
   "source": [
    "byt = str_to_bytes(cid_encode)\n",
    "\n",
    "byt"
   ]
  },
  {
   "cell_type": "code",
   "execution_count": 14,
   "id": "693f15ab-9330-445e-8805-c1a30a3a5e55",
   "metadata": {},
   "outputs": [
    {
     "name": "stdout",
     "output_type": "stream",
     "text": [
      "x10ffk26jg0f2rw5tst9a9svm0gymrxurzwdc5ws2wfd9nju2kx3kkzez3vcm4jun88qchwdjwgfu4g6spjm89p\n"
     ]
    }
   ],
   "source": [
    "from libbtc1.bech32 import encode_bech32_identifier, decode_bech32_identifier\n",
    "\n",
    "bech32_identifier = encode_bech32_identifier(\"external\", byt)\n",
    "\n",
    "print(bech32_identifier)"
   ]
  },
  {
   "cell_type": "code",
   "execution_count": 15,
   "id": "3e0673cf-72fe-4cf8-8ce7-05858ad5d2b3",
   "metadata": {},
   "outputs": [
    {
     "data": {
      "text/plain": [
       "'x1zgs2tydx6s9lggzqfgq3wv70k7cep43vvklshndr9dtmya7e4k03gmsf6k73j'"
      ]
     },
     "execution_count": 15,
     "metadata": {},
     "output_type": "execute_result"
    }
   ],
   "source": [
    "encode_bech32_identifier(\"external\", digest)\n"
   ]
  },
  {
   "cell_type": "code",
   "execution_count": 16,
   "id": "42cc1e9c-d365-4dc2-b7fa-f1b161e9cf4b",
   "metadata": {},
   "outputs": [],
   "source": [
    "\n",
    "type, cid_bytes = decode_bech32_identifier(bech32_identifier)"
   ]
  },
  {
   "cell_type": "code",
   "execution_count": 17,
   "id": "7362553a-fc66-45ca-a815-138c9f2b7f11",
   "metadata": {},
   "outputs": [
    {
     "data": {
      "text/plain": [
       "'zSejHzT7QpYzX3oA63pbsqGANKK9qV4madQf7Yrg81w6NByTj'"
      ]
     },
     "execution_count": 17,
     "metadata": {},
     "output_type": "execute_result"
    }
   ],
   "source": [
    "id_cid = bytes_to_str(cid_bytes)\n",
    "\n",
    "id_cid"
   ]
  },
  {
   "cell_type": "code",
   "execution_count": 18,
   "id": "6d8226c4-6089-4d0f-bbe1-f619b7dde530",
   "metadata": {},
   "outputs": [],
   "source": [
    "decode_cid = CID.decode(id_cid)"
   ]
  },
  {
   "cell_type": "code",
   "execution_count": 19,
   "id": "f4f2a827-0846-4e50-ab9e-00abbb0be99a",
   "metadata": {},
   "outputs": [
    {
     "data": {
      "text/plain": [
       "True"
      ]
     },
     "execution_count": 19,
     "metadata": {},
     "output_type": "execute_result"
    }
   ],
   "source": [
    "decode_cid.digest == digest"
   ]
  },
  {
   "cell_type": "code",
   "execution_count": null,
   "id": "79abdafc-501e-45bc-a22a-832c2737a6c2",
   "metadata": {},
   "outputs": [],
   "source": []
  },
  {
   "cell_type": "code",
   "execution_count": 20,
   "id": "7ea61491-69f8-4200-bfe9-581d099270a6",
   "metadata": {},
   "outputs": [],
   "source": [
    "did_doc = {\n",
    "  \"id\": \"did:btc1:k1q2ddta4gt5n7u6d3xwhdyua57t6awrk55ut82qvurfm0qnrxx5nw7vnsy65\",\n",
    "  \"@context\": [\n",
    "    \"https://www.w3.org/ns/did/v1\",\n",
    "    \"https://did-btc1/TBD/context\"\n",
    "  ],\n",
    "  \"verificationMethod\": [\n",
    "    {\n",
    "      \"id\": \"#initialKey\",\n",
    "      \"type\": \"Multikey\",\n",
    "      \"controller\": \"did:btc1:k1q2ddta4gt5n7u6d3xwhdyua57t6awrk55ut82qvurfm0qnrxx5nw7vnsy65\",\n",
    "      \"publicKeyMultibase\": \"z66PwJnYvwJLhGrVc8vcuUkKs99sKCzYRM2HQ2gDCGTAStHk\"\n",
    "    }\n",
    "  ],\n",
    "  \"authentication\": [\n",
    "    \"#initialKey\"\n",
    "  ],\n",
    "  \"assertionMethod\": [\n",
    "    \"#initialKey\"\n",
    "  ],\n",
    "  \"capabilityInvocation\": [\n",
    "    \"#initialKey\"\n",
    "  ],\n",
    "  \"capabilityDelegation\": [\n",
    "    \"#initialKey\"\n",
    "  ],\n",
    "  \"service\": [\n",
    "    {\n",
    "      \"id\": \"#initial_p2pkh\",\n",
    "      \"type\": \"SingletonBeacon\",\n",
    "      \"serviceEndpoint\": \"bitcoin:1CYzZ6DpweJ5cmhsaFPGqcDmmpAjmnp2eT\"\n",
    "    },\n",
    "    {\n",
    "      \"id\": \"#initial_p2wpkh\",\n",
    "      \"type\": \"SingletonBeacon\",\n",
    "      \"serviceEndpoint\": \"bitcoin:bc1q06m9yn2kxgxg2mara55667958d0a6s2kcz60ph\"\n",
    "    },\n",
    "    {\n",
    "      \"id\": \"#initial_p2tr\",\n",
    "      \"type\": \"SingletonBeacon\",\n",
    "      \"serviceEndpoint\": \"bitcoin:bc1psajngvjme0fkzv83m2ys80dhmya3nghph4h478ad2z5q564049jsxdzeua\"\n",
    "    }\n",
    "  ]\n",
    "}"
   ]
  },
  {
   "cell_type": "code",
   "execution_count": 21,
   "id": "de2b93d5-6296-4bde-b5db-8e8aadb7a5ca",
   "metadata": {},
   "outputs": [],
   "source": [
    "import jcs"
   ]
  },
  {
   "cell_type": "code",
   "execution_count": 25,
   "id": "32c9333a-3389-492d-83b7-f214d310a260",
   "metadata": {},
   "outputs": [
    {
     "data": {
      "text/plain": [
       "{'@context': ['https://www.w3.org/ns/did/v1', 'https://did-btc1/TBD/context'],\n",
       " 'assertionMethod': ['#initialKey'],\n",
       " 'authentication': ['#initialKey'],\n",
       " 'capabilityDelegation': ['#initialKey'],\n",
       " 'capabilityInvocation': ['#initialKey'],\n",
       " 'id': 'did:btc1:k1q2ddta4gt5n7u6d3xwhdyua57t6awrk55ut82qvurfm0qnrxx5nw7vnsy65',\n",
       " 'service': [{'id': '#initial_p2pkh',\n",
       "   'serviceEndpoint': 'bitcoin:1CYzZ6DpweJ5cmhsaFPGqcDmmpAjmnp2eT',\n",
       "   'type': 'SingletonBeacon'},\n",
       "  {'id': '#initial_p2wpkh',\n",
       "   'serviceEndpoint': 'bitcoin:bc1q06m9yn2kxgxg2mara55667958d0a6s2kcz60ph',\n",
       "   'type': 'SingletonBeacon'},\n",
       "  {'id': '#initial_p2tr',\n",
       "   'serviceEndpoint': 'bitcoin:bc1psajngvjme0fkzv83m2ys80dhmya3nghph4h478ad2z5q564049jsxdzeua',\n",
       "   'type': 'SingletonBeacon'}],\n",
       " 'verificationMethod': [{'controller': 'did:btc1:k1q2ddta4gt5n7u6d3xwhdyua57t6awrk55ut82qvurfm0qnrxx5nw7vnsy65',\n",
       "   'id': '#initialKey',\n",
       "   'publicKeyMultibase': 'z66PwJnYvwJLhGrVc8vcuUkKs99sKCzYRM2HQ2gDCGTAStHk',\n",
       "   'type': 'Multikey'}]}"
      ]
     },
     "execution_count": 25,
     "metadata": {},
     "output_type": "execute_result"
    }
   ],
   "source": [
    "import json\n",
    "json.loads(bytes_to_str(jcs.canonicalize(did_doc)))"
   ]
  },
  {
   "cell_type": "code",
   "execution_count": null,
   "id": "349e7882-5db7-49e2-baeb-31f4864e2ad2",
   "metadata": {},
   "outputs": [],
   "source": []
  }
 ],
 "metadata": {
  "kernelspec": {
   "display_name": "Python 3 (ipykernel)",
   "language": "python",
   "name": "python3"
  },
  "language_info": {
   "codemirror_mode": {
    "name": "ipython",
    "version": 3
   },
   "file_extension": ".py",
   "mimetype": "text/x-python",
   "name": "python",
   "nbconvert_exporter": "python",
   "pygments_lexer": "ipython3",
   "version": "3.12.3"
  }
 },
 "nbformat": 4,
 "nbformat_minor": 5
}
