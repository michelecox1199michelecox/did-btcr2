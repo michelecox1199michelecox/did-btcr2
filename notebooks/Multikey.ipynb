{
 "cells": [
  {
   "cell_type": "markdown",
   "id": "26e5a5fe-7359-48de-9f90-4a77f025adf9",
   "metadata": {},
   "source": [
    "# Multikey\n",
    "\n",
    "We decided to use Multikey to represent Secp256k1 xOnly public keys in the DID document. This notebook walks through that process."
   ]
  },
  {
   "cell_type": "code",
   "execution_count": 1,
   "id": "5347b593-77aa-49d2-94cb-754899efcc31",
   "metadata": {},
   "outputs": [
    {
     "name": "stdout",
     "output_type": "stream",
     "text": [
      "Mnemonic :  horse script comic poverty wink weekend cheese media apart barely major bag crop wheat private bicycle good nasty trouble fatal again whale permit three\n"
     ]
    }
   ],
   "source": [
    "from buidl.mnemonic import secure_mnemonic\n",
    "from buidl.hd import HDPrivateKey\n",
    "\n",
    "mnemonic = \"horse script comic poverty wink weekend cheese media apart barely major bag crop wheat private bicycle good nasty trouble fatal again whale permit three\"\n",
    "root_hdpriv = HDPrivateKey.from_mnemonic(mnemonic, network=\"signet\")\n",
    "\n",
    "print(\"Mnemonic : \", mnemonic)"
   ]
  },
  {
   "cell_type": "markdown",
   "id": "ac42929b-ddf9-4433-86f4-7e6b35f4acb0",
   "metadata": {},
   "source": [
    "# Generate a XOnly Secp256k1 public key\n",
    "\n",
    "Represented in bytes"
   ]
  },
  {
   "cell_type": "code",
   "execution_count": 2,
   "id": "1c7703dc-f1c3-4b9e-add2-c7e4c6aa054e",
   "metadata": {},
   "outputs": [
    {
     "data": {
      "text/plain": [
       "b'\\x97\\x9a\\xc3\\x83\\x05\\xa6\\xd6\\x07J\\xc7\\xfd.bp&\\xf1\\xa6\\xaa\\xfd\\x0e@\\xe3\\xdc\\xbc\\x16_W\\x82\\x94\\xb8:S'"
      ]
     },
     "execution_count": 2,
     "metadata": {},
     "output_type": "execute_result"
    }
   ],
   "source": [
    "didkey_purpose = \"11\"\n",
    "initial_vm_privkey = root_hdpriv.get_private_key(didkey_purpose, address_num=4)\n",
    "xonly_publickey = initial_vm_privkey.point.xonly()\n",
    "\n",
    "\n",
    "xonly_publickey"
   ]
  },
  {
   "cell_type": "markdown",
   "id": "78b02762-e387-46fe-9056-eba86996221a",
   "metadata": {},
   "source": [
    "# Convert Bytes to Multikey"
   ]
  },
  {
   "cell_type": "markdown",
   "id": "4e229981-fca8-47ee-ac5b-1c0f119c164b",
   "metadata": {},
   "source": [
    "## Must select two byte prefix identifying the Multikey as a Secp256k1 XOnly public key\n",
    "\n",
    "For example from the controller document spec:\n",
    "\n",
    "**ECDSA 256-bit public key**: The Multikey encoding of a P-256 public key MUST start with the two-byte prefix 0x8024 (the varint expression of 0x1200) followed by the 33-byte compressed public key data. The resulting 35-byte value MUST then be encoded using the base-58-btc alphabet, according to Section 2.4 Multibase, and then prepended with the base-58-btc Multibase header (z).\n",
    "\n",
    "They select the two-byte prefix as 0x8024 (the varint expression of 0x1200)."
   ]
  },
  {
   "cell_type": "code",
   "execution_count": 3,
   "id": "e1f4be39-f16a-4802-9d8a-fa152897426a",
   "metadata": {},
   "outputs": [],
   "source": [
    "from multiformats import varint"
   ]
  },
  {
   "cell_type": "code",
   "execution_count": 4,
   "id": "469681af-d563-4db4-8c11-38c790dd6181",
   "metadata": {},
   "outputs": [
    {
     "data": {
      "text/plain": [
       "'8024'"
      ]
     },
     "execution_count": 4,
     "metadata": {},
     "output_type": "execute_result"
    }
   ],
   "source": [
    "varint.encode(0x1200).hex()"
   ]
  },
  {
   "cell_type": "markdown",
   "id": "207ec0d0-12d6-43ed-8947-bbdf98a18df8",
   "metadata": {},
   "source": [
    "## Proposal: XOnly Secp256k1 2-byte prefix is 0xe14a (the varint expression of 0x2561)\n",
    "\n",
    "Note: We can debate this. I don't particularly care. I think we just need to select one."
   ]
  },
  {
   "cell_type": "code",
   "execution_count": 15,
   "id": "3efcc1f4-106f-43ba-a1f1-2f85e3a81ab5",
   "metadata": {},
   "outputs": [],
   "source": [
    "secp_xonly_prefix = varint.encode(0x2561)"
   ]
  },
  {
   "cell_type": "code",
   "execution_count": 16,
   "id": "bbba1594-b300-4961-8ade-30f78e4b9c57",
   "metadata": {},
   "outputs": [
    {
     "data": {
      "text/plain": [
       "'e14a'"
      ]
     },
     "execution_count": 16,
     "metadata": {},
     "output_type": "execute_result"
    }
   ],
   "source": [
    "secp_xonly_prefix.hex()"
   ]
  },
  {
   "cell_type": "code",
   "execution_count": 17,
   "id": "ea3e7c26-ae85-494d-8b35-1c524bc7e282",
   "metadata": {},
   "outputs": [
    {
     "data": {
      "text/plain": [
       "True"
      ]
     },
     "execution_count": 17,
     "metadata": {},
     "output_type": "execute_result"
    }
   ],
   "source": [
    "varint.decode(secp_xonly_prefix) == 0x2561"
   ]
  },
  {
   "cell_type": "code",
   "execution_count": 18,
   "id": "5ad9ea36-064c-43cb-be9b-1ae00f2e19fd",
   "metadata": {},
   "outputs": [],
   "source": [
    "multikey_bytes = secp_xonly_prefix + xonly_publickey"
   ]
  },
  {
   "cell_type": "code",
   "execution_count": 19,
   "id": "d7beb2e5-a79c-4179-9731-28400af2d55a",
   "metadata": {},
   "outputs": [
    {
     "data": {
      "text/plain": [
       "b'\\xe1J\\x97\\x9a\\xc3\\x83\\x05\\xa6\\xd6\\x07J\\xc7\\xfd.bp&\\xf1\\xa6\\xaa\\xfd\\x0e@\\xe3\\xdc\\xbc\\x16_W\\x82\\x94\\xb8:S'"
      ]
     },
     "execution_count": 19,
     "metadata": {},
     "output_type": "execute_result"
    }
   ],
   "source": [
    "multikey_bytes"
   ]
  },
  {
   "cell_type": "markdown",
   "id": "7cfc6fe0-3fcc-48b0-aac8-cf9a373fa977",
   "metadata": {},
   "source": [
    "## Must select encoding: Propose using base58btc.\n",
    "\n",
    "Note: we might want to use bech32 here. But until we can get this in the multibase specification this will not be possible"
   ]
  },
  {
   "cell_type": "code",
   "execution_count": 20,
   "id": "36122ac4-3be2-4430-a9f4-cd4e6e75d81b",
   "metadata": {},
   "outputs": [],
   "source": [
    "from multiformats import multibase"
   ]
  },
  {
   "cell_type": "code",
   "execution_count": 21,
   "id": "993b617e-9e22-4035-81bd-13473d3c7949",
   "metadata": {},
   "outputs": [
    {
     "name": "stdout",
     "output_type": "stream",
     "text": [
      "Multikey value :  z66Pw6AyJsXnpc6bNQ93FwjYuatdnACMyQLLqqxDea394MxN\n"
     ]
    }
   ],
   "source": [
    "multikey_value = multibase.encode(multikey_bytes, \"base58btc\")\n",
    "\n",
    "print(\"Multikey value : \", multikey_value)"
   ]
  },
  {
   "cell_type": "code",
   "execution_count": 24,
   "id": "1128c4f9-4247-441b-99b0-e5b061679e29",
   "metadata": {},
   "outputs": [
    {
     "data": {
      "text/plain": [
       "'6Pw6AyJsXnpc6bNQ93FwjYuatdnACMyQLLqqxDea394MxN'"
      ]
     },
     "execution_count": 24,
     "metadata": {},
     "output_type": "execute_result"
    }
   ],
   "source": [
    "multikey_value[2:]"
   ]
  },
  {
   "cell_type": "markdown",
   "id": "1a1e9c28-530e-42ae-9702-5bd1201074d6",
   "metadata": {},
   "source": [
    "## Spec Text\n",
    "\n",
    "**Secp256k1 XOnly public key**: The Multikey encoding of a Secp256k1 XOnly public key MUST start with the two-byte prefix 0xe14a (the varint expression of 0x2561) followed by the 32-byte XOnly public key data. The resulting 34-byte value MUST then be encoded using the base-58-btc alphabet, according to Section 2.4 Multibase in the Controller Document specification, and then prepended with the base-58-btc Multibase header (z).\n"
   ]
  },
  {
   "cell_type": "markdown",
   "id": "c499ec6f-b01a-4917-8376-3d992e06182c",
   "metadata": {},
   "source": [
    "## Note: Must also propose a two-byte value to identify the secret key\n",
    "\n",
    "Propse: 0x130e\n",
    "\n",
    "**Secp256k1 secret key** The Multikey encoding of a Secp256k1 secret key MUST start with the two-byte prefix 0x8626 (the varint expression of 0x1306) followed by the 32-byte secret key data. The resulting 34-byte value MUST then be encoded using the base-58-btc alphabet, according to Section 2.4 Multibase, and then prepended with the base-58-btc Multibase header (z)."
   ]
  },
  {
   "cell_type": "code",
   "execution_count": 11,
   "id": "4323e4b2-8eb4-48cf-97d9-595f766c9817",
   "metadata": {},
   "outputs": [
    {
     "data": {
      "text/plain": [
       "'8e26'"
      ]
     },
     "execution_count": 11,
     "metadata": {},
     "output_type": "execute_result"
    }
   ],
   "source": [
    "varint.encode(0x130e).hex()"
   ]
  },
  {
   "cell_type": "markdown",
   "id": "08516e80-eb29-46ef-b88b-6fe8f6ea0f34",
   "metadata": {},
   "source": [
    "## Construct Verification Method"
   ]
  },
  {
   "cell_type": "code",
   "execution_count": 41,
   "id": "d3b87b37-24f7-4856-90eb-c0a530116312",
   "metadata": {},
   "outputs": [],
   "source": [
    "\n",
    "verificationMethod = {}\n",
    "verificationMethod[\"id\"] = '#initialKey'\n",
    "verificationMethod[\"type\"] = \"Multikey\"\n",
    "verificationMethod[\"publicKeyMultibase\"] = multikey_value\n"
   ]
  },
  {
   "cell_type": "code",
   "execution_count": 42,
   "id": "60a13347-f250-4022-aa64-7b62a2599498",
   "metadata": {},
   "outputs": [
    {
     "data": {
      "text/plain": [
       "{'id': '#initialKey',\n",
       " 'type': 'Multikey',\n",
       " 'publicKeyMultibase': 'z66Pw6AyJsXnpc6bNQ93FwjYuatdnACMyQLLqqxDea394MxN'}"
      ]
     },
     "execution_count": 42,
     "metadata": {},
     "output_type": "execute_result"
    }
   ],
   "source": [
    "verificationMethod"
   ]
  },
  {
   "cell_type": "code",
   "execution_count": null,
   "id": "219f17ff-9887-4944-9663-2e7437f91ba1",
   "metadata": {},
   "outputs": [],
   "source": []
  }
 ],
 "metadata": {
  "kernelspec": {
   "display_name": "Python 3 (ipykernel)",
   "language": "python",
   "name": "python3"
  },
  "language_info": {
   "codemirror_mode": {
    "name": "ipython",
    "version": 3
   },
   "file_extension": ".py",
   "mimetype": "text/x-python",
   "name": "python",
   "nbconvert_exporter": "python",
   "pygments_lexer": "ipython3",
   "version": "3.12.6"
  }
 },
 "nbformat": 4,
 "nbformat_minor": 5
}
