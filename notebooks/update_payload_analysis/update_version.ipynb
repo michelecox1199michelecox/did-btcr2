{
 "cells": [
  {
   "cell_type": "markdown",
   "id": "318c281e-6c11-4bfa-9e2d-67ea6aaebab2",
   "metadata": {},
   "source": [
    "# Update Versioning"
   ]
  },
  {
   "cell_type": "code",
   "execution_count": 8,
   "id": "2874873e-c62a-4215-bb22-dcdab17d4662",
   "metadata": {},
   "outputs": [],
   "source": [
    "from buidl import pecc\n",
    "from buidl.mnemonic import secure_mnemonic\n",
    "from buidl.hd import HDPrivateKey"
   ]
  },
  {
   "cell_type": "code",
   "execution_count": 9,
   "id": "cfc35415-3b6e-4790-97c9-25fa1e790dd8",
   "metadata": {},
   "outputs": [
    {
     "name": "stdout",
     "output_type": "stream",
     "text": [
      "Mnemonic :  prosper can dial lumber write coconut express imitate husband isolate inside release brush media please kind comic pill science repeat basic also endorse bronze\n"
     ]
    }
   ],
   "source": [
    "mnemonic = \"prosper can dial lumber write coconut express imitate husband isolate inside release brush media please kind comic pill science repeat basic also endorse bronze\"\n",
    "root_hdpriv = HDPrivateKey.from_mnemonic(mnemonic, network=\"signet\")\n",
    "\n",
    "print(\"Mnemonic : \", mnemonic)"
   ]
  },
  {
   "cell_type": "code",
   "execution_count": 10,
   "id": "5fd7b022-85b4-43a1-b338-e682dcc074d8",
   "metadata": {},
   "outputs": [
    {
     "name": "stdout",
     "output_type": "stream",
     "text": [
      "Secp256k1 PrivateKey 73fddc12fc9342bb29ae9b5ed476323bdc693a116e36512455aee830fe8a25a2\n",
      "Secp256k1 Public Key S256Point(029ad5f6a85d27ee69b133aed273b4f2f5d70ed4a71675019c1a76f04c663526ef)\n"
     ]
    }
   ],
   "source": [
    "from buidl.helper import encode_base58, decode_base58, encode_base58_checksum\n",
    "\n",
    "# We could define a specific purpose (Current purposes are for different script types)\n",
    "didkey_purpose = \"11\"\n",
    "\n",
    "cohort_participation_sk = root_hdpriv.get_private_key(didkey_purpose, address_num=2)\n",
    "cohort_participation_pk = cohort_participation_sk.point\n",
    "\n",
    "print(\"Secp256k1 PrivateKey\", cohort_participation_sk.hex())\n",
    "print(\"Secp256k1 Public Key\", cohort_participation_pk.__repr__())"
   ]
  },
  {
   "cell_type": "code",
   "execution_count": 19,
   "id": "e726d564-1fea-409a-9a1a-98b65bc345f3",
   "metadata": {},
   "outputs": [
    {
     "data": {
      "text/plain": [
       "SchnorrSignature(S256Point(02675a1b39f2ee027140b4099a7b4f23f2ad8eee175d5b1dc6b08aa948606fe593),ced38f03092bc797f689e0f8bd50daaa07ad26c890eff962db82d5a0eb39eb85)"
      ]
     },
     "execution_count": 19,
     "metadata": {},
     "output_type": "execute_result"
    }
   ],
   "source": [
    "msg = \"TEST\"\n",
    "from buidl.helper import sha256, str_to_bytes\n",
    "\n",
    "sha_msg = sha256(str_to_bytes(msg))\n",
    "cohort_participation_sk.sign_schnorr(sha_msg)"
   ]
  },
  {
   "cell_type": "code",
   "execution_count": 23,
   "id": "efa7870f-3bbb-4ed7-acae-3daa055f4dd8",
   "metadata": {},
   "outputs": [
    {
     "ename": "TypeError",
     "evalue": "object of type 'int' has no len()",
     "output_type": "error",
     "traceback": [
      "\u001b[0;31m---------------------------------------------------------------------------\u001b[0m",
      "\u001b[0;31mTypeError\u001b[0m                                 Traceback (most recent call last)",
      "Cell \u001b[0;32mIn[23], line 1\u001b[0m\n\u001b[0;32m----> 1\u001b[0m \u001b[43mcohort_participation_sk\u001b[49m\u001b[38;5;241;43m.\u001b[39;49m\u001b[43msign_schnorr\u001b[49m\u001b[43m(\u001b[49m\u001b[43msha_msg\u001b[49m\u001b[43m,\u001b[49m\u001b[43m \u001b[49m\u001b[38;5;241;43m123\u001b[39;49m\u001b[43m)\u001b[49m\n",
      "File \u001b[0;32m~/work/LegendaryRequirements/clients/dcd/btcr_repo/notebooks/venv/lib/python3.12/site-packages/buidl/pecc.py:593\u001b[0m, in \u001b[0;36mPrivateKey.sign_schnorr\u001b[0;34m(self, msg, aux)\u001b[0m\n\u001b[1;32m    591\u001b[0m e \u001b[38;5;241m=\u001b[39m \u001b[38;5;28mself\u001b[39m\u001b[38;5;241m.\u001b[39meven_secret()\n\u001b[1;32m    592\u001b[0m \u001b[38;5;66;03m# get k using the self.bip340_k method\u001b[39;00m\n\u001b[0;32m--> 593\u001b[0m k \u001b[38;5;241m=\u001b[39m \u001b[38;5;28;43mself\u001b[39;49m\u001b[38;5;241;43m.\u001b[39;49m\u001b[43mbip340_k\u001b[49m\u001b[43m(\u001b[49m\u001b[43mmsg\u001b[49m\u001b[43m,\u001b[49m\u001b[43m \u001b[49m\u001b[43maux\u001b[49m\u001b[43m)\u001b[49m\n\u001b[1;32m    594\u001b[0m \u001b[38;5;66;03m# get the resulting R=kG point\u001b[39;00m\n\u001b[1;32m    595\u001b[0m r \u001b[38;5;241m=\u001b[39m k \u001b[38;5;241m*\u001b[39m G\n",
      "File \u001b[0;32m~/work/LegendaryRequirements/clients/dcd/btcr_repo/notebooks/venv/lib/python3.12/site-packages/buidl/pecc.py:582\u001b[0m, in \u001b[0;36mPrivateKey.bip340_k\u001b[0;34m(self, msg, aux)\u001b[0m\n\u001b[1;32m    580\u001b[0m \u001b[38;5;28;01mif\u001b[39;00m \u001b[38;5;28mlen\u001b[39m(msg) \u001b[38;5;241m!=\u001b[39m \u001b[38;5;241m32\u001b[39m:\n\u001b[1;32m    581\u001b[0m     \u001b[38;5;28;01mraise\u001b[39;00m \u001b[38;5;167;01mValueError\u001b[39;00m(\u001b[38;5;124m\"\u001b[39m\u001b[38;5;124mmsg needs to be 32 bytes\u001b[39m\u001b[38;5;124m\"\u001b[39m)\n\u001b[0;32m--> 582\u001b[0m \u001b[38;5;28;01mif\u001b[39;00m \u001b[38;5;28;43mlen\u001b[39;49m\u001b[43m(\u001b[49m\u001b[43maux\u001b[49m\u001b[43m)\u001b[49m \u001b[38;5;241m!=\u001b[39m \u001b[38;5;241m32\u001b[39m:\n\u001b[1;32m    583\u001b[0m     \u001b[38;5;28;01mraise\u001b[39;00m \u001b[38;5;167;01mValueError\u001b[39;00m(\u001b[38;5;124m\"\u001b[39m\u001b[38;5;124maux needs to be 32 bytes\u001b[39m\u001b[38;5;124m\"\u001b[39m)\n\u001b[1;32m    584\u001b[0m \u001b[38;5;66;03m# t contains the secret, msg is added so it's unique to the\u001b[39;00m\n\u001b[1;32m    585\u001b[0m \u001b[38;5;66;03m# message and private key\u001b[39;00m\n",
      "\u001b[0;31mTypeError\u001b[0m: object of type 'int' has no len()"
     ]
    }
   ],
   "source": [
    "cohort_participation_sk.sign_schnorr(sha_msg, 123)"
   ]
  },
  {
   "cell_type": "code",
   "execution_count": 21,
   "id": "42ef5f1d-e586-4373-bb08-d5b50ab622b9",
   "metadata": {},
   "outputs": [
    {
     "data": {
      "text/plain": [
       "SchnorrSignature(S256Point(02675a1b39f2ee027140b4099a7b4f23f2ad8eee175d5b1dc6b08aa948606fe593),ced38f03092bc797f689e0f8bd50daaa07ad26c890eff962db82d5a0eb39eb85)"
      ]
     },
     "execution_count": 21,
     "metadata": {},
     "output_type": "execute_result"
    }
   ],
   "source": [
    "cohort_participation_sk.sign_schnorr(sha_msg)"
   ]
  },
  {
   "cell_type": "code",
   "execution_count": 18,
   "id": "c64346d9-acd2-4d73-890d-fe94e7a287fa",
   "metadata": {},
   "outputs": [
    {
     "name": "stdout",
     "output_type": "stream",
     "text": [
      "Help on module buidl.helper in buidl:\n",
      "\n",
      "NAME\n",
      "    buidl.helper\n",
      "\n",
      "FUNCTIONS\n",
      "    base64_decode(s)\n",
      "\n",
      "    base64_encode(b)\n",
      "\n",
      "    big_endian_to_int(b)\n",
      "        little_endian_to_int takes byte sequence as a little-endian number.\n",
      "        Returns an integer\n",
      "\n",
      "    bit_field_to_bytes(bit_field)\n",
      "\n",
      "    bits_to_target(bits)\n",
      "        Turns bits into a target (large 256-bit integer)\n",
      "\n",
      "    byte_to_int(b)\n",
      "        Returns an integer that corresponds to the byte\n",
      "\n",
      "    bytes_to_bit_field(some_bytes)\n",
      "\n",
      "    bytes_to_str(b, encoding='ascii')\n",
      "        Returns a string version of the bytes\n",
      "\n",
      "    calculate_new_bits(previous_bits, time_differential)\n",
      "        Calculates the new bits given\n",
      "        a 2016-block time differential and the previous bits\n",
      "\n",
      "    child_to_path(child_number)\n",
      "\n",
      "    decode_base58(s)\n",
      "\n",
      "    encode_base58(s)\n",
      "\n",
      "    encode_base58_checksum(raw)\n",
      "        Takes bytes and turns it into base58 encoding with checksum\n",
      "\n",
      "    encode_varint(i)\n",
      "        encodes an integer as a varint\n",
      "\n",
      "    encode_varstr(b)\n",
      "        encodes bytes as a varstr\n",
      "\n",
      "    filter_null(items)\n",
      "\n",
      "    hash160(s)\n",
      "\n",
      "    hash256(s)\n",
      "\n",
      "    hmac_sha512(key, msg)\n",
      "\n",
      "    hmac_sha512_kdf(msg, salt)\n",
      "\n",
      "    int_to_big_endian(n, length)\n",
      "        int_to_little_endian takes an integer and returns the little-endian\n",
      "        byte sequence of length\n",
      "\n",
      "    int_to_byte(n)\n",
      "        Returns a single byte that corresponds to the integer\n",
      "\n",
      "    int_to_little_endian(n, length)\n",
      "        int_to_little_endian takes an integer and returns the little-endian\n",
      "        byte sequence of length\n",
      "\n",
      "    is_intable(int_as_string)\n",
      "\n",
      "    little_endian_to_int(b)\n",
      "        little_endian_to_int takes byte sequence as a little-endian number.\n",
      "        Returns an integer\n",
      "\n",
      "    merkle_parent(hash1, hash2)\n",
      "        Takes the binary hashes and calculates the hash256\n",
      "\n",
      "    merkle_parent_level(hashes)\n",
      "        Takes a list of binary hashes and returns a list that's half\n",
      "        the length\n",
      "\n",
      "    merkle_root(hashes)\n",
      "        Takes a list of binary hashes and returns the merkle root\n",
      "\n",
      "    murmur3(data, seed=0)\n",
      "        from http://stackoverflow.com/questions/13305290/is-there-a-pure-python-implementation-of-murmurhash\n",
      "\n",
      "    parse_binary_path(bin_path)\n",
      "\n",
      "    path_network(root_path)\n",
      "\n",
      "    raw_decode_base58(s)\n",
      "\n",
      "    read_varint(s)\n",
      "        reads a variable integer from a stream\n",
      "\n",
      "    read_varstr(s)\n",
      "        reads a variable string from a stream\n",
      "\n",
      "    serialize_key_value(key, value)\n",
      "\n",
      "    sha256(s)\n",
      "\n",
      "    str_to_bytes(s, encoding='ascii')\n",
      "        Returns a bytes version of the string\n",
      "\n",
      "    target_to_bits(target)\n",
      "        Turns a target integer back into bits, which is 4 bytes\n",
      "\n",
      "    uses_only_hex_chars(string)\n",
      "\n",
      "    xor_bytes(a, b)\n",
      "\n",
      "DATA\n",
      "    BASE58_ALPHABET = '123456789ABCDEFGHJKLMNPQRSTUVWXYZabcdefghijkmnopqrs...\n",
      "    GOLOMB_M = 784931\n",
      "    GOLOMB_P = 19\n",
      "    HEX_CHARS_RE = re.compile('^[0-9a-f]*$')\n",
      "    MAX_TARGET = 269595352910113094...4164086137773096960\n",
      "    PBKDF2_ROUNDS = 2048\n",
      "    SIGHASH_ALL = 1\n",
      "    SIGHASH_ANYONECANPAY = 128\n",
      "    SIGHASH_DEFAULT = 0\n",
      "    SIGHASH_NONE = 2\n",
      "    SIGHASH_SINGLE = 3\n",
      "    TWO_WEEKS = 1209600\n",
      "\n",
      "FILE\n",
      "    /home/will/work/LegendaryRequirements/clients/dcd/btcr_repo/notebooks/venv/lib/python3.12/site-packages/buidl/helper.py\n",
      "\n",
      "\n"
     ]
    }
   ],
   "source": [
    "import buidl\n",
    "help(buidl.helper)"
   ]
  },
  {
   "cell_type": "code",
   "execution_count": null,
   "id": "447e1bcb-8ece-44d5-bfee-91e013ec42f4",
   "metadata": {},
   "outputs": [],
   "source": []
  }
 ],
 "metadata": {
  "kernelspec": {
   "display_name": "Python 3 (ipykernel)",
   "language": "python",
   "name": "python3"
  },
  "language_info": {
   "codemirror_mode": {
    "name": "ipython",
    "version": 3
   },
   "file_extension": ".py",
   "mimetype": "text/x-python",
   "name": "python",
   "nbconvert_exporter": "python",
   "pygments_lexer": "ipython3",
   "version": "3.12.5"
  }
 },
 "nbformat": 4,
 "nbformat_minor": 5
}
