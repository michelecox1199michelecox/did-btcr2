{
 "cells": [
  {
   "cell_type": "markdown",
   "id": "ffc13dc7-8020-415f-8ad0-8a5948912ccc",
   "metadata": {},
   "source": [
    "# Exploring JSON Patch\n",
    "\n",
    "https://jsonpatch.com/"
   ]
  },
  {
   "cell_type": "code",
   "execution_count": 19,
   "id": "e33c4b96-3be7-4a7d-8b09-91dc1062e6cb",
   "metadata": {},
   "outputs": [],
   "source": [
    "did_document = did_document = {'@context': ['https://www.w3.org/ns/did/v1'], 'verificationMethod': {'id': '#initialKey', 'type': 'JsonWebKey', 'publicKeyJwk': {'kty': 'EC', 'crv': 'secp256k1', 'x': '0233985507371e4a22cd2acc2cfed604efb2fc24400ff4a6bce8086561244f5a6d'}}, 'authentication': ['#initialKey'], 'assertionMethod': ['#initialKey'], 'capabilityInvocation': ['#initialKey'], 'capabilityDelegation': ['#initialKey'], 'service': [{'id': '#initial_p2pkh', 'type': 'BTCSingleUpdateBeacon', 'serviceEndpoint': 'bitcoin:mvrk1NC2TWi3gnSUkD9NMyRFqtBGFdXhHv'}, {'id': '#initial_p2wpkh', 'type': 'BTCSingleUpdateBeacon', 'serviceEndpoint': 'bitcoin:tb1q4prl9he7s99639g5kzp6pencna25ykmdd08h0k'}, {'id': '#initial_p2tr', 'type': 'BTCSingleUpdateBeacon', 'serviceEndpoint': 'bitcoin:tb1p9s5fa89ypc6dnqmxkmclxa3ecfqvrfqchejq7d89agccm9c7u5fs86akaw'}, {'id': '#smt_aggregated', 'type': 'SMTAggregatedBTCBeacon', 'serviceEndpoint': 'bitcoin:tb1pfdnyc8vxeca2zpsg365sn308dmrpka4e0n9c5axmp2nptdf7j6ts7eqhr8'}], 'id': 'did:btc:5kq8whVLtvEgLhhY2uKff2GSv3sBKDKcQKiwSTLNuqeh'}"
   ]
  },
  {
   "cell_type": "code",
   "execution_count": 20,
   "id": "7687e531-4a51-448f-805a-93f7ed40cf98",
   "metadata": {
    "scrolled": true
   },
   "outputs": [
    {
     "data": {
      "text/plain": [
       "{'@context': ['https://www.w3.org/ns/did/v1'],\n",
       " 'verificationMethod': {'id': '#initialKey',\n",
       "  'type': 'JsonWebKey',\n",
       "  'publicKeyJwk': {'kty': 'EC',\n",
       "   'crv': 'secp256k1',\n",
       "   'x': '0233985507371e4a22cd2acc2cfed604efb2fc24400ff4a6bce8086561244f5a6d'}},\n",
       " 'authentication': ['#initialKey'],\n",
       " 'assertionMethod': ['#initialKey'],\n",
       " 'capabilityInvocation': ['#initialKey'],\n",
       " 'capabilityDelegation': ['#initialKey'],\n",
       " 'service': [{'id': '#initial_p2pkh',\n",
       "   'type': 'BTCSingleUpdateBeacon',\n",
       "   'serviceEndpoint': 'bitcoin:mvrk1NC2TWi3gnSUkD9NMyRFqtBGFdXhHv'},\n",
       "  {'id': '#initial_p2wpkh',\n",
       "   'type': 'BTCSingleUpdateBeacon',\n",
       "   'serviceEndpoint': 'bitcoin:tb1q4prl9he7s99639g5kzp6pencna25ykmdd08h0k'},\n",
       "  {'id': '#initial_p2tr',\n",
       "   'type': 'BTCSingleUpdateBeacon',\n",
       "   'serviceEndpoint': 'bitcoin:tb1p9s5fa89ypc6dnqmxkmclxa3ecfqvrfqchejq7d89agccm9c7u5fs86akaw'},\n",
       "  {'id': '#smt_aggregated',\n",
       "   'type': 'SMTAggregatedBTCBeacon',\n",
       "   'serviceEndpoint': 'bitcoin:tb1pfdnyc8vxeca2zpsg365sn308dmrpka4e0n9c5axmp2nptdf7j6ts7eqhr8'}],\n",
       " 'id': 'did:btc:5kq8whVLtvEgLhhY2uKff2GSv3sBKDKcQKiwSTLNuqeh'}"
      ]
     },
     "execution_count": 20,
     "metadata": {},
     "output_type": "execute_result"
    }
   ],
   "source": [
    "did_document"
   ]
  },
  {
   "cell_type": "code",
   "execution_count": 34,
   "id": "e7c119df-a3bb-4374-80a6-5e07bfd0b7e4",
   "metadata": {},
   "outputs": [
    {
     "data": {
      "text/plain": [
       "[{'op': 'add',\n",
       "  'path': '/service/4',\n",
       "  'value': {'id': '#linked-domain',\n",
       "   'type': 'LinkedDomains',\n",
       "   'serviceEndpoint': 'https://contact-me.com'}}]"
      ]
     },
     "execution_count": 34,
     "metadata": {},
     "output_type": "execute_result"
    }
   ],
   "source": [
    "new_service = {'id': '#linked-domain',\n",
    "  'type': 'LinkedDomains',\n",
    "  'serviceEndpoint': 'https://contact-me.com'}\n",
    "\n",
    "service_path = f\"/service/{len(did_document[\"service\"])}\"\n",
    "\n",
    "update = [{'op': 'add', 'path': service_path, 'value': new_service}]\n",
    "\n",
    "update"
   ]
  },
  {
   "cell_type": "code",
   "execution_count": 33,
   "id": "84c858f2-2c13-4281-9a07-fe6eb9653859",
   "metadata": {},
   "outputs": [
    {
     "data": {
      "text/plain": [
       "<jsonpatch.JsonPatch at 0x7fc62040daf0>"
      ]
     },
     "execution_count": 33,
     "metadata": {},
     "output_type": "execute_result"
    }
   ],
   "source": [
    "import jsonpatch\n",
    "\n",
    "patch = jsonpatch.JsonPatch(update)\n",
    "\n",
    "patch"
   ]
  },
  {
   "cell_type": "code",
   "execution_count": 30,
   "id": "67032422-159f-4d3d-adb2-f0ae9350f5dd",
   "metadata": {},
   "outputs": [
    {
     "data": {
      "text/plain": [
       "{'@context': ['https://www.w3.org/ns/did/v1'],\n",
       " 'verificationMethod': {'id': '#initialKey',\n",
       "  'type': 'JsonWebKey',\n",
       "  'publicKeyJwk': {'kty': 'EC',\n",
       "   'crv': 'secp256k1',\n",
       "   'x': '0233985507371e4a22cd2acc2cfed604efb2fc24400ff4a6bce8086561244f5a6d'}},\n",
       " 'authentication': ['#initialKey'],\n",
       " 'assertionMethod': ['#initialKey'],\n",
       " 'capabilityInvocation': ['#initialKey'],\n",
       " 'capabilityDelegation': ['#initialKey'],\n",
       " 'service': [{'id': '#initial_p2pkh',\n",
       "   'type': 'BTCSingleUpdateBeacon',\n",
       "   'serviceEndpoint': 'bitcoin:mvrk1NC2TWi3gnSUkD9NMyRFqtBGFdXhHv'},\n",
       "  {'id': '#initial_p2wpkh',\n",
       "   'type': 'BTCSingleUpdateBeacon',\n",
       "   'serviceEndpoint': 'bitcoin:tb1q4prl9he7s99639g5kzp6pencna25ykmdd08h0k'},\n",
       "  {'id': '#initial_p2tr',\n",
       "   'type': 'BTCSingleUpdateBeacon',\n",
       "   'serviceEndpoint': 'bitcoin:tb1p9s5fa89ypc6dnqmxkmclxa3ecfqvrfqchejq7d89agccm9c7u5fs86akaw'},\n",
       "  {'id': '#smt_aggregated',\n",
       "   'type': 'SMTAggregatedBTCBeacon',\n",
       "   'serviceEndpoint': 'bitcoin:tb1pfdnyc8vxeca2zpsg365sn308dmrpka4e0n9c5axmp2nptdf7j6ts7eqhr8'}],\n",
       " 'id': 'did:btc:5kq8whVLtvEgLhhY2uKff2GSv3sBKDKcQKiwSTLNuqeh'}"
      ]
     },
     "execution_count": 30,
     "metadata": {},
     "output_type": "execute_result"
    }
   ],
   "source": [
    "did_document"
   ]
  },
  {
   "cell_type": "code",
   "execution_count": 31,
   "id": "ebb03169-0d6a-44b0-8d41-2c6194f13bcd",
   "metadata": {},
   "outputs": [
    {
     "data": {
      "text/plain": [
       "{'@context': ['https://www.w3.org/ns/did/v1'],\n",
       " 'verificationMethod': {'id': '#initialKey',\n",
       "  'type': 'JsonWebKey',\n",
       "  'publicKeyJwk': {'kty': 'EC',\n",
       "   'crv': 'secp256k1',\n",
       "   'x': '0233985507371e4a22cd2acc2cfed604efb2fc24400ff4a6bce8086561244f5a6d'}},\n",
       " 'authentication': ['#initialKey'],\n",
       " 'assertionMethod': ['#initialKey'],\n",
       " 'capabilityInvocation': ['#initialKey'],\n",
       " 'capabilityDelegation': ['#initialKey'],\n",
       " 'service': [{'id': '#initial_p2pkh',\n",
       "   'type': 'BTCSingleUpdateBeacon',\n",
       "   'serviceEndpoint': 'bitcoin:mvrk1NC2TWi3gnSUkD9NMyRFqtBGFdXhHv'},\n",
       "  {'id': '#initial_p2wpkh',\n",
       "   'type': 'BTCSingleUpdateBeacon',\n",
       "   'serviceEndpoint': 'bitcoin:tb1q4prl9he7s99639g5kzp6pencna25ykmdd08h0k'},\n",
       "  {'id': '#initial_p2tr',\n",
       "   'type': 'BTCSingleUpdateBeacon',\n",
       "   'serviceEndpoint': 'bitcoin:tb1p9s5fa89ypc6dnqmxkmclxa3ecfqvrfqchejq7d89agccm9c7u5fs86akaw'},\n",
       "  {'id': '#smt_aggregated',\n",
       "   'type': 'SMTAggregatedBTCBeacon',\n",
       "   'serviceEndpoint': 'bitcoin:tb1pfdnyc8vxeca2zpsg365sn308dmrpka4e0n9c5axmp2nptdf7j6ts7eqhr8'},\n",
       "  {'id': '#linked-domain',\n",
       "   'type': 'LinkedDomains',\n",
       "   'serviceEndpoint': 'https://contact-me.com'}],\n",
       " 'id': 'did:btc:5kq8whVLtvEgLhhY2uKff2GSv3sBKDKcQKiwSTLNuqeh'}"
      ]
     },
     "execution_count": 31,
     "metadata": {},
     "output_type": "execute_result"
    }
   ],
   "source": [
    "result = patch.apply(did_document)\n",
    "\n",
    "result"
   ]
  },
  {
   "cell_type": "markdown",
   "id": "b0331a65-c2fc-40c4-a6bd-5d5a3b3131c9",
   "metadata": {},
   "source": [
    "# Represent Update Patch in JSONLD"
   ]
  },
  {
   "cell_type": "code",
   "execution_count": 37,
   "id": "fefca61f-5396-4677-8db9-059414781c6e",
   "metadata": {},
   "outputs": [
    {
     "data": {
      "text/plain": [
       "{'@context': 'https://w3id.org/json-ld-patch/v1',\n",
       " 'patch': [{'op': 'add',\n",
       "   'path': '/service/4',\n",
       "   'value': {'id': '#linked-domain',\n",
       "    'type': 'LinkedDomains',\n",
       "    'serviceEndpoint': 'https://contact-me.com'}}]}"
      ]
     },
     "execution_count": 37,
     "metadata": {},
     "output_type": "execute_result"
    }
   ],
   "source": [
    "update_payload = {\n",
    "    '@context': 'https://w3id.org/json-ld-patch/v1',\n",
    "    'patch': update\n",
    " }\n",
    "\n",
    "update_payload"
   ]
  },
  {
   "cell_type": "markdown",
   "id": "a130b830-b911-4ac2-85e5-a655436c422d",
   "metadata": {},
   "source": [
    "# Using CBORLD on Update\n",
    "\n",
    "Using DB's JS library I have got the size down to **138 bytes.**"
   ]
  },
  {
   "cell_type": "code",
   "execution_count": 39,
   "id": "8bd4dc91-8a1e-4206-b113-101ee93ef359",
   "metadata": {},
   "outputs": [
    {
     "name": "stdout",
     "output_type": "stream",
     "text": [
      "Stringified JSONLD Size 202\n"
     ]
    }
   ],
   "source": [
    "import json\n",
    "print(\"Stringified JSONLD Size\", len(json.dumps(update_payload)))"
   ]
  },
  {
   "cell_type": "code",
   "execution_count": null,
   "id": "d58a5e88-ba21-40ad-8c38-007024109113",
   "metadata": {},
   "outputs": [],
   "source": []
  },
  {
   "cell_type": "code",
   "execution_count": null,
   "id": "65fa8583-5465-4d1f-b173-2240d63479a1",
   "metadata": {},
   "outputs": [],
   "source": []
  }
 ],
 "metadata": {
  "kernelspec": {
   "display_name": "Python 3 (ipykernel)",
   "language": "python",
   "name": "python3"
  },
  "language_info": {
   "codemirror_mode": {
    "name": "ipython",
    "version": 3
   },
   "file_extension": ".py",
   "mimetype": "text/x-python",
   "name": "python",
   "nbconvert_exporter": "python",
   "pygments_lexer": "ipython3",
   "version": "3.12.6"
  }
 },
 "nbformat": 4,
 "nbformat_minor": 5
}
