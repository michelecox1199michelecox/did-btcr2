{
 "cells": [
  {
   "cell_type": "markdown",
   "id": "42f21d66-2fa3-4314-95ab-83ce5539c445",
   "metadata": {},
   "source": [
    "# Satoshi\n",
    "\n",
    "\n",
    "In this notebook Satoshi will join a beacon cohort and generate an offline, sidecar did:btc DID that includes this beacon address in the DID document. Then Satoshi will participate in the aggregation protocol of the beacon cohort, authorizing an aggregated update that does not contain an update for his DID.\n",
    "\n",
    "This notebook should be run together with the Satoshi and Aggregator notebooks, together they implement the following high level steps:\n",
    "\n",
    "The high level steps required for aggregation are as follows:\n",
    "\n",
    "- **A. Create a DID, already bound to an aggregator (Controller)**\n",
    "- B. Aggregator creates cohort (Aggregator)\n",
    "- **C. Update that DID document (Controller)**\n",
    "- D. Aggregate Updates (Aggregator)\n",
    "- E. Resolve Updated DID Document (Resolver)\n",
    "\n",
    "Steps A and B are two halves of an interactive protocol in which a DID controller joins a beacon cohort and includes the resulting beacon address in an offline DID they are creating. Similarly C and D are two halves of an interactive protocol whereby a DID controller submits an update to the Aggregator, who aggregates it along with other updates from cohort participants, requests authorization and broadcasts the aggregated update through a bitcoin spend from the beacon address.\n",
    "\n",
    "This notebook implements the DID controller halves these flows (A and C in bold). It should be run alongside the notebooks for the [SMT Aggregator](./SMT_Aggregator.ipynb) and [Alexis](./Alexis.ipynb).\n",
    "\n",
    "**The communication protocols required to facilitate interaction between an aggregator and a DID controller still need to be defined (Our initial hope is to leverage NOSTR). For these notebooks we use the Copy + Paste protocol. You the notebook runner will be told when to go to different notebooks, execute cells and copy across payloads that can be used in other notebooks.**\n",
    "\n",
    "This notebook is similar to the [Alexis](./Alexis.ipynb) notebook, except that Satoshi will be creating and submiting a DID update."
   ]
  },
  {
   "cell_type": "code",
   "execution_count": 1,
   "id": "e7c8842b-6cfb-4238-8663-792777ffc635",
   "metadata": {},
   "outputs": [],
   "source": [
    "import sys\n",
    "import os\n",
    "\n",
    "# Get the path to the Notebooks directory\n",
    "notebooks_path = os.path.abspath(os.path.join(os.getcwd(), '..'))\n",
    "\n",
    "# Add the Notebooks directory to the sys.path\n",
    "sys.path.append(notebooks_path)"
   ]
  },
  {
   "cell_type": "markdown",
   "id": "acfb2d3a-3f1b-4c1e-a119-87679cf5647c",
   "metadata": {},
   "source": [
    "## Setup Mock Hardware Wallet"
   ]
  },
  {
   "cell_type": "code",
   "execution_count": 2,
   "id": "a9c392a9-21da-40c0-9abe-7249f9129427",
   "metadata": {},
   "outputs": [],
   "source": [
    "from buidl.mnemonic import secure_mnemonic\n",
    "from buidl.hd import HDPrivateKey"
   ]
  },
  {
   "cell_type": "code",
   "execution_count": 3,
   "id": "b52b9a45-3723-4dd6-87da-77b004c71246",
   "metadata": {},
   "outputs": [
    {
     "name": "stdout",
     "output_type": "stream",
     "text": [
      "Mnemonic :  horse script comic poverty wink weekend cheese media apart barely major bag crop wheat private bicycle good nasty trouble fatal again whale permit three\n"
     ]
    }
   ],
   "source": [
    "## Run this if you want a new hardware key\n",
    "# mnemonic = secure_mnemonic()\n",
    "\n",
    "mnemonic = \"horse script comic poverty wink weekend cheese media apart barely major bag crop wheat private bicycle good nasty trouble fatal again whale permit three\"\n",
    "root_hdpriv = HDPrivateKey.from_mnemonic(mnemonic, network=\"signet\")\n",
    "\n",
    "print(\"Mnemonic : \", mnemonic)"
   ]
  },
  {
   "cell_type": "markdown",
   "id": "d61bd6f2-9c8b-4c1b-86d3-9c77750f1c47",
   "metadata": {},
   "source": [
    "# A. Create an offline DID, already bound to an aggregator\n",
    "\n",
    "This can be broken down into five steps:\n",
    "\n",
    "1. Find an aggregator\n",
    "2. Join an aggregation cohort\n",
    "3. Create DID Document\n",
    "4. Create actual DID\n",
    "5. Register DID with aggregator\n",
    "6. Use DID\n",
    "\n"
   ]
  },
  {
   "cell_type": "markdown",
   "id": "62317060-f543-4d2e-8e08-ddf493f03b63",
   "metadata": {},
   "source": [
    "## A1. Find an Aggregator\n",
    "\n",
    "Aggregators advertise open beacons that participants can join. The participant needs to identify a suitable advertised beacon cohort and then proceed to join that cohort.\n",
    "\n",
    "To do this there needs to be an aggregator advertising beacon cohorts. \n",
    "\n"
   ]
  },
  {
   "cell_type": "markdown",
   "id": "133ace37-5bbb-459a-9d69-279278b4a88e",
   "metadata": {},
   "source": [
    "### A1.1. Fetch Beacon Advert\n",
    "\n",
    "**First run through steps B1. and B2. of the [Aggregator](./Aggregator.ipynb) notebook to define the beacon advert. Use the Copy+Paste protocol to announce this advert to DID controllers.**"
   ]
  },
  {
   "cell_type": "code",
   "execution_count": 4,
   "id": "e3955064-75c3-4b11-8886-b9284eb9d2b9",
   "metadata": {},
   "outputs": [],
   "source": [
    "### THIS SHOULD BE COPIED FROM THE AGGREGATOR ###\n",
    "\n",
    "beacon_advert={'id': 'SOMEBEACONID', 'type': 'SMTAggregatorBeacon', 'cohort_size': 2, 'btc_network': 'signet', 'frequency': '1 per month', 'return_address': 'SMT_Aggregator => Copy + Paste'}\n"
   ]
  },
  {
   "cell_type": "code",
   "execution_count": 5,
   "id": "9ad3117a-db44-4e0e-b0e9-ff2048c6c62e",
   "metadata": {},
   "outputs": [
    {
     "data": {
      "text/plain": [
       "{'id': 'SOMEBEACONID',\n",
       " 'type': 'SMTAggregatorBeacon',\n",
       " 'cohort_size': 2,\n",
       " 'btc_network': 'signet',\n",
       " 'frequency': '1 per month',\n",
       " 'return_address': 'SMT_Aggregator => Copy + Paste'}"
      ]
     },
     "execution_count": 5,
     "metadata": {},
     "output_type": "execute_result"
    }
   ],
   "source": [
    "beacon_advert"
   ]
  },
  {
   "cell_type": "markdown",
   "id": "c8a11860-242a-42b5-8a40-ce0e1adc0321",
   "metadata": {},
   "source": [
    "## A2. Join aggregator cohort"
   ]
  },
  {
   "cell_type": "markdown",
   "id": "aef4b077-1292-4a1a-af77-49171f4cdee0",
   "metadata": {},
   "source": [
    "### A2.1 Create aggregation participant key\n",
    "\n",
    "A Secp256k1 key is required, this will be used by the aggregator to contruct and n-of-n p2tr address, where n is the number of cohort participant keys."
   ]
  },
  {
   "cell_type": "code",
   "execution_count": 6,
   "id": "50b999ce-23a8-4192-a513-13b83e0a1285",
   "metadata": {},
   "outputs": [
    {
     "name": "stdout",
     "output_type": "stream",
     "text": [
      "Secp256k1 PrivateKey 217d39a17424b7965cea4058b747239ecb0fa13c5a4afe23c07df8b138069a51\n",
      "Secp256k1 Public Key S256Point(02f0a96d61fd8451566b861bc78f2e2a34679b841dcd7397f2ed9af95225d8da72)\n"
     ]
    }
   ],
   "source": [
    "from buidl.helper import encode_base58, decode_base58, encode_base58_checksum\n",
    "\n",
    "# We could define a specific purpose (Current purposes are for different script types)\n",
    "didkey_purpose = \"11\"\n",
    "\n",
    "cohort_participation_sk = root_hdpriv.get_private_key(didkey_purpose, address_num=2)\n",
    "cohort_participation_pk = cohort_participation_sk.point\n",
    "\n",
    "print(\"Secp256k1 PrivateKey\", cohort_participation_sk.hex())\n",
    "print(\"Secp256k1 Public Key\", cohort_participation_pk.__repr__())"
   ]
  },
  {
   "cell_type": "markdown",
   "id": "37235c62-26f8-43b8-b789-692717177fae",
   "metadata": {},
   "source": [
    "### A2.2 Construct Beacon OptIn message to aggregator\n",
    "\n",
    "Includes:\n",
    "- Advert ID: Uniquely identifies the advert within the context of the aggregator\n",
    "- Cohort Participation Public Key: Hex representation of a Secp256k1 public key\n",
    "- signature: A signature from the cohort particpation public key\n",
    "- return_interact?: How the aggregator can interact with participant\n",
    "- did?\n",
    "\n",
    "**Question:** Should OptIn message be a VC?"
   ]
  },
  {
   "cell_type": "code",
   "execution_count": 7,
   "id": "efbe0142-9719-49d9-b38a-c5d0ef12a053",
   "metadata": {},
   "outputs": [],
   "source": [
    "hex_pubkey = cohort_participation_pk.sec().hex()\n",
    "\n",
    "beacon_opt_in = {\n",
    "    \"advert_id\": beacon_advert[\"id\"],\n",
    "    \"participant_pubkey\": hex_pubkey,\n",
    "    # TODO: this could be a DID serviceEndpoint?\n",
    "    \"return_interact\": \"Satoshi => Copy+Paste\"\n",
    "    # TODO: some authentication?\n",
    "}"
   ]
  },
  {
   "cell_type": "markdown",
   "id": "fcd64f83-7680-4a5e-902c-2413472d4e41",
   "metadata": {},
   "source": [
    "### A2.3 Sign Beacon OptIn"
   ]
  },
  {
   "cell_type": "code",
   "execution_count": 8,
   "id": "7f2da5ba-883a-4c54-b07a-33e4d0bc39ba",
   "metadata": {},
   "outputs": [],
   "source": [
    "## TODO: sign beacon opt in\n",
    "\n",
    "\n"
   ]
  },
  {
   "cell_type": "markdown",
   "id": "2efa8dfb-19e3-49dc-a88b-37435aa5c1cb",
   "metadata": {},
   "source": [
    "### A2.4 Send Beacon OptIn payload to Aggregator\n",
    "\n",
    "Copy+Paste the output below into step B3 in the [Aggregator](./Aggregator.ipynp) notebook."
   ]
  },
  {
   "cell_type": "code",
   "execution_count": 9,
   "id": "de0209de-32e4-4b7e-8204-a726e337dabd",
   "metadata": {
    "scrolled": true
   },
   "outputs": [
    {
     "name": "stdout",
     "output_type": "stream",
     "text": [
      "Copy and Paste the below output as a value for satoshi_optin in step B3 in the Aggregator notebook\n",
      "\n",
      "\n",
      "{'advert_id': 'SOMEBEACONID', 'participant_pubkey': '02f0a96d61fd8451566b861bc78f2e2a34679b841dcd7397f2ed9af95225d8da72', 'return_interact': 'Satoshi => Copy+Paste'}\n"
     ]
    }
   ],
   "source": [
    "print(\"Copy and Paste the below output as a value for satoshi_optin in step B3 in the Aggregator notebook\\n\\n\")\n",
    "print(beacon_opt_in)"
   ]
  },
  {
   "cell_type": "markdown",
   "id": "0ad278b5-8ae0-42e8-97a8-1adf42394e62",
   "metadata": {},
   "source": [
    "### A2.5 Get Cohort Set Payload\n",
    "\n",
    "Copy+Paste the cohort set payload output from step B5.3 of the [Aggregator](./Aggregator.ipynb) notebook"
   ]
  },
  {
   "cell_type": "code",
   "execution_count": 10,
   "id": "0ec6dd5f-e96a-49e6-9b0c-f0cd21fdb47a",
   "metadata": {},
   "outputs": [],
   "source": [
    "cohort_set_payload = {'advert_id': 'SOMEBEACONID', 'participant_pubkeys': ['0242f96da7b5a849b97044a9e494ac711f14fd5189e468b84fcc8fad4b007302d6', '02f0a96d61fd8451566b861bc78f2e2a34679b841dcd7397f2ed9af95225d8da72'], 'beacon_address': 'tb1p8fx4cmaqt0hsrnw6kprqcjtrtrhkpjvclzwra58yz8klp4r7vv4qs3hpz5'}"
   ]
  },
  {
   "cell_type": "markdown",
   "id": "20c248ae-ed9e-48ff-ac48-6808ba426c0d",
   "metadata": {},
   "source": [
    "### A2.6 Check Advert ID\n",
    "\n",
    "AdvertID of cohort set payload should match the ID for the beacon advert the participant opted into."
   ]
  },
  {
   "cell_type": "code",
   "execution_count": 11,
   "id": "91154b68-7e49-4475-b45c-0303ec93369f",
   "metadata": {},
   "outputs": [],
   "source": [
    "assert(cohort_set_payload[\"advert_id\"] == beacon_advert[\"id\"])"
   ]
  },
  {
   "cell_type": "markdown",
   "id": "324c89b2-012d-4494-8688-7f6ca4ffb00a",
   "metadata": {},
   "source": [
    "### A2.7 Verify Signature"
   ]
  },
  {
   "cell_type": "code",
   "execution_count": 12,
   "id": "6c9c41d9-30b0-4dc3-8397-f96bb311240c",
   "metadata": {},
   "outputs": [],
   "source": [
    "# TODO: Verify Signature"
   ]
  },
  {
   "cell_type": "markdown",
   "id": "8c0e5054-24a4-4aaf-9301-d903c733a78e",
   "metadata": {},
   "source": [
    "### A2.8 Verify Beacon Address"
   ]
  },
  {
   "cell_type": "code",
   "execution_count": 13,
   "id": "a5a593b3-9805-40af-b0c4-f22fbc773667",
   "metadata": {},
   "outputs": [],
   "source": [
    "from buidl.ecc import S256Point\n",
    "\n",
    "cohort_hex_pks = cohort_set_payload[\"participant_pubkeys\"]\n"
   ]
  },
  {
   "cell_type": "code",
   "execution_count": 14,
   "id": "6b35cb96-e37c-4d17-a2b0-7536704654b4",
   "metadata": {},
   "outputs": [],
   "source": [
    "\n",
    "# Check own PK in the set of cohort keys\n",
    "assert(hex_pubkey in cohort_hex_pks)\n"
   ]
  },
  {
   "cell_type": "code",
   "execution_count": 15,
   "id": "50a2207a-940e-4098-b4f3-c7102529bd2c",
   "metadata": {},
   "outputs": [],
   "source": [
    "cohort_pks = [S256Point.parse(bytes.fromhex(hex_key)) for hex_key in cohort_hex_pks]\n",
    "\n",
    "from buidl.taproot import MuSigTapScript, TapRootMultiSig, P2PKTapScript\n",
    "\n",
    "musig = MuSigTapScript(cohort_pks)"
   ]
  },
  {
   "cell_type": "markdown",
   "id": "b6b9c392-ddf7-4fa2-971e-b25e7dc928d3",
   "metadata": {},
   "source": [
    "### ADDITIONAL STEP BECAUSE OF BUG IN BUIDL LIBRARY\n",
    "\n",
    "p2tr musig2 must include a tweak"
   ]
  },
  {
   "cell_type": "code",
   "execution_count": 16,
   "id": "a1ab5df2-8668-49a2-a1d4-9fcf23eb7b61",
   "metadata": {},
   "outputs": [],
   "source": [
    "tr_multisig = TapRootMultiSig(cohort_pks, len(cohort_pks))\n",
    "internal_pubkey = tr_multisig.default_internal_pubkey\n",
    "branch = tr_multisig.musig_tree()\n",
    "tr_merkle_root = branch.hash()\n",
    "\n",
    "network = beacon_advert[\"btc_network\"]\n",
    "p2tr_beacon_address = internal_pubkey.p2tr_address(tr_merkle_root,network=network)\n",
    "\n",
    "assert(cohort_set_payload[\"beacon_address\"] == p2tr_beacon_address)"
   ]
  },
  {
   "cell_type": "code",
   "execution_count": 17,
   "id": "06b5094b-2a30-4927-9c69-99d7cf41337b",
   "metadata": {},
   "outputs": [
    {
     "name": "stdout",
     "output_type": "stream",
     "text": [
      "Beacon Address Set : tb1p8fx4cmaqt0hsrnw6kprqcjtrtrhkpjvclzwra58yz8klp4r7vv4qs3hpz5\n"
     ]
    }
   ],
   "source": [
    "print(\"Beacon Address Set : \" + p2tr_beacon_address)"
   ]
  },
  {
   "cell_type": "markdown",
   "id": "f5c0a26b-ab6e-4a26-9be5-0f69a4503c2f",
   "metadata": {},
   "source": [
    "### OPTIONAL: Fund beacon address\n",
    "\n",
    "Depending on the beacon T&Cs each participant might be required to fund the beacon address. Or, as in this implementation, the aggregator may fund the address themselves"
   ]
  },
  {
   "cell_type": "markdown",
   "id": "2419166f-05d7-4346-b82a-cd7298a3ff2f",
   "metadata": {},
   "source": [
    "## A3. Create DID Document\n",
    "\n",
    "The cohort participant creates an offline sidecar DID document with arbitrary content and includes the beacon address as a service endpoint within the document."
   ]
  },
  {
   "cell_type": "markdown",
   "id": "7115d30f-456a-4593-b4c7-e9a2973db6e0",
   "metadata": {},
   "source": [
    "### A3.1 Create arbitrary DID document content\n",
    "\n",
    "Including:\n",
    "- Verification Methods\n",
    "- Verification Relationships\n",
    "- Service Endpoints"
   ]
  },
  {
   "cell_type": "code",
   "execution_count": 18,
   "id": "7aae8d23-04d4-4958-b498-b0c68ade6135",
   "metadata": {},
   "outputs": [],
   "source": [
    "intermediate_did_doc = {}\n"
   ]
  },
  {
   "cell_type": "markdown",
   "id": "c8e2593e-7f96-47ce-a045-32bc69d51da4",
   "metadata": {},
   "source": [
    "#### A3.1.1 Set the DID context\n",
    "\n",
    "TODO: define the context for did:btc1, need to specify the beacon service types"
   ]
  },
  {
   "cell_type": "code",
   "execution_count": 19,
   "id": "9a7a20b9-ded7-4005-b1c4-7257f2600a02",
   "metadata": {},
   "outputs": [],
   "source": [
    "intermediate_did_doc[\"@context\"] = [\n",
    "    \"https://www.w3.org/ns/did/v1\",\n",
    "    # \"<didbtc_context>\"\n",
    "]"
   ]
  },
  {
   "cell_type": "markdown",
   "id": "34902de5-9656-4f43-b030-ac73d2a35cb9",
   "metadata": {},
   "source": [
    "#### A3.1.1 Create verification method"
   ]
  },
  {
   "cell_type": "code",
   "execution_count": 20,
   "id": "f9e67632-91a1-4f2f-885f-d228ac2b0326",
   "metadata": {},
   "outputs": [],
   "source": [
    "initial_vm_privkey = root_hdpriv.get_private_key(didkey_purpose, address_num=4)\n",
    "initial_vm_pubkey = initial_vm_privkey.point\n",
    "initial_vm_privkey.wif(compressed=False)\n",
    "\n",
    "verificationMethod = {}\n",
    "verificationMethod[\"id\"] = '#initialKey'\n",
    "verificationMethod[\"type\"] = \"JsonWebKey\"\n",
    "x = initial_vm_pubkey.sec().hex()\n",
    "\n",
    "kty = 'EC'\n",
    "crv = 'secp256k1'\n",
    "jwkObject = {\n",
    "    \"kty\": kty,\n",
    "    \"crv\": crv,\n",
    "    \"x\": x\n",
    "}\n",
    "\n",
    "verificationMethod[\"publicKeyJwk\"] = jwkObject\n",
    "\n",
    "intermediate_did_doc[\"verificationMethod\"] = [verificationMethod]"
   ]
  },
  {
   "cell_type": "markdown",
   "id": "2a005233-bfdc-4c0e-8526-b42497cb5cd0",
   "metadata": {},
   "source": [
    "#### A3.1.2 Define Verification Relationships"
   ]
  },
  {
   "cell_type": "code",
   "execution_count": 21,
   "id": "fa8e3634-b0de-4411-8f90-2a49a339dd77",
   "metadata": {},
   "outputs": [],
   "source": [
    "intermediate_did_doc[\"authentication\"] = [verificationMethod[\"id\"]]\n",
    "intermediate_did_doc[\"assertionMethod\"] = [verificationMethod[\"id\"]]\n",
    "intermediate_did_doc[\"capabilityInvocation\"] = [verificationMethod[\"id\"]]\n",
    "intermediate_did_doc[\"capabilityDelegation\"] = [verificationMethod[\"id\"]]"
   ]
  },
  {
   "cell_type": "markdown",
   "id": "05d30b19-7e66-4567-b08f-a05556230b06",
   "metadata": {},
   "source": [
    "#### A3.1.3 Create Service Endpoint"
   ]
  },
  {
   "cell_type": "code",
   "execution_count": 22,
   "id": "ed9103d3-36b5-48a3-a6b3-74a4df3869ef",
   "metadata": {},
   "outputs": [],
   "source": [
    "services = [];\n",
    "\n",
    "## TOOD:"
   ]
  },
  {
   "cell_type": "markdown",
   "id": "f7933eaf-b3fe-41e1-b1dc-e7c93e40b8a3",
   "metadata": {},
   "source": [
    "#### A3.1.4 Create Single Update Beacon Service\n",
    "\n",
    "This is RECOMMENDED and acts as an escape hatch so that DID controllers are always able to update their DID even if the aggregated beacons they participate in fail."
   ]
  },
  {
   "cell_type": "code",
   "execution_count": 23,
   "id": "398df6ea-9a83-4f62-8683-fa753574a7b7",
   "metadata": {},
   "outputs": [],
   "source": [
    "# Create beacon keypair\n",
    "single_beacon_private_key = root_hdpriv.get_private_key(didkey_purpose, address_num=3)\n",
    "single_beacon_public_key = single_beacon_private_key.point\n",
    "\n"
   ]
  },
  {
   "cell_type": "code",
   "execution_count": 24,
   "id": "af8cea4a-0873-4778-9a9c-ffabde076c83",
   "metadata": {},
   "outputs": [],
   "source": [
    "## Create Beacon address\n",
    "# p2pkh\n",
    "p2pkh_address = single_beacon_public_key.p2pkh_script().address(network=network)\n",
    "# p2wpkh\n",
    "p2wpkh_address = single_beacon_public_key.p2wpkh_address(network=network)\n",
    "# p2tr\n",
    "p2tr_address = single_beacon_public_key.p2tr_address(network=network)"
   ]
  },
  {
   "cell_type": "code",
   "execution_count": 25,
   "id": "c411588c-da21-47e3-b66d-3f14333fc81c",
   "metadata": {},
   "outputs": [],
   "source": [
    "p2pkh_uri = 'bitcoin:' + p2pkh_address\n",
    "p2wpkh_uri = 'bitcoin:' + p2wpkh_address\n",
    "p2tr_uri = 'bitcoin:' + p2tr_address\n",
    "\n",
    "p2pkh_beacon = {\n",
    "    \"id\": \"#initial_p2pkh\",  # Can be anything\n",
    "    \"type\": \"SingletonBeacon\",\n",
    "    \"serviceEndpoint\": p2pkh_uri  \n",
    "}\n",
    "p2wpkh_beacon = {\n",
    "    \"id\": \"#initial_p2wpkh\", \n",
    "    \"type\": \"SingletonBeacon\",\n",
    "    \"serviceEndpoint\": p2wpkh_uri\n",
    "}\n",
    "\n",
    "p2tr_beacon = {\n",
    "    \"id\": \"#initial_p2tr\", \n",
    "    \"type\": \"SingletonBeacon\",\n",
    "    \"serviceEndpoint\": p2tr_uri\n",
    "}\n",
    "\n",
    "services.append(p2pkh_beacon)\n",
    "services.append(p2wpkh_beacon)\n",
    "services.append(p2tr_beacon)"
   ]
  },
  {
   "cell_type": "markdown",
   "id": "3e041e98-5ba3-4d9a-9f0c-2dd13951f0ff",
   "metadata": {},
   "source": [
    "## A3.1.5 Add Aggregated Beacon Service\n",
    "\n",
    "Use the beacon address recieved from step A2."
   ]
  },
  {
   "cell_type": "code",
   "execution_count": 26,
   "id": "dcbc2b57-3d2b-4394-af49-f00f8754063e",
   "metadata": {},
   "outputs": [],
   "source": [
    "p2tr_aggregated_beacon_uri = 'bitcoin:' + p2tr_beacon_address\n",
    "beacon_type = beacon_advert[\"type\"]\n",
    "aggregated_beacon = {\n",
    "    \"id\": \"#cid_aggregated\",\n",
    "    \"type\": beacon_type,\n",
    "    \"serviceEndpoint\": p2tr_aggregated_beacon_uri\n",
    "}\n",
    "\n",
    "services.append(aggregated_beacon)"
   ]
  },
  {
   "cell_type": "code",
   "execution_count": 27,
   "id": "b23fe2c8-aef0-4d91-adb0-43068f20b9cd",
   "metadata": {},
   "outputs": [],
   "source": [
    "intermediate_did_doc[\"service\"] = services"
   ]
  },
  {
   "cell_type": "markdown",
   "id": "8d4c8b5a-f0e6-445d-af89-dc5e0fcac17d",
   "metadata": {},
   "source": [
    "## A4. Create DID"
   ]
  },
  {
   "cell_type": "markdown",
   "id": "11d2c3ee-93d5-418b-a843-e8695909bbd4",
   "metadata": {},
   "source": [
    "### A4.1 Hash the ID-less DID Document\n",
    "\n",
    "This should follow the SAID manner. \n",
    "\n",
    "TODO: Review the SAID approach and align"
   ]
  },
  {
   "cell_type": "code",
   "execution_count": 28,
   "id": "8b2d056c-a437-4ad5-9885-ff30e5d8c2ac",
   "metadata": {},
   "outputs": [],
   "source": [
    "from buidl.helper import sha256, str_to_bytes, bytes_to_str, encode_base58\n",
    "import json\n",
    "from libbtc1.bech32 import encode_bech32_identifier, decode_bech32_identifier\n",
    "\n",
    "\n",
    "# TODO: canonicalization?\n",
    "data = str_to_bytes(json.dumps(intermediate_did_doc))\n",
    "\n",
    "\n",
    "hashed_initial_doc = sha256(data)\n",
    "\n",
    "\n",
    "## TODO: Move to bech32\n",
    "method_identifier = encode_bech32_identifier(\"external\", hashed_initial_doc)"
   ]
  },
  {
   "cell_type": "markdown",
   "id": "4ef67460-26e3-4f13-9671-229f820795d6",
   "metadata": {},
   "source": [
    "### A4.2 Create actual DID"
   ]
  },
  {
   "cell_type": "code",
   "execution_count": 29,
   "id": "c8fcd688-7eab-4fd0-9697-2bfe034432bd",
   "metadata": {},
   "outputs": [
    {
     "data": {
      "text/plain": [
       "'did:btc1:x1zsl364wvtg47e2jffvdhx4tux7mj3mgjeyqet2wsvyvlmw3mtegsg5x2ut'"
      ]
     },
     "execution_count": 29,
     "metadata": {},
     "output_type": "execute_result"
    }
   ],
   "source": [
    "did_btc1 = f\"did:btc1:{method_identifier}\"\n",
    "did_btc1"
   ]
  },
  {
   "cell_type": "markdown",
   "id": "2374427b-452b-4d75-9898-f0b89ecfc649",
   "metadata": {},
   "source": [
    "### A4.3 Set DID as id in the DID document"
   ]
  },
  {
   "cell_type": "code",
   "execution_count": 30,
   "id": "459d8518-8d64-4833-b93a-11d6a29ba66a",
   "metadata": {},
   "outputs": [],
   "source": [
    "import copy\n",
    "did_document = copy.deepcopy(intermediate_did_doc)\n",
    "did_document[\"id\"] = did_btc1\n",
    "did_document[\"verificationMethod\"][0][\"controller\"] = did_btc1\n",
    "\n",
    "# TODO: What about the verificationMethod controller properties? Should this also be set as the DID?"
   ]
  },
  {
   "cell_type": "code",
   "execution_count": 31,
   "id": "4e1f7405-3bcf-4dae-b123-760ba3e9270c",
   "metadata": {},
   "outputs": [
    {
     "name": "stdout",
     "output_type": "stream",
     "text": [
      "Sidecar DID document for did:btc1:x1zsl364wvtg47e2jffvdhx4tux7mj3mgjeyqet2wsvyvlmw3mtegsg5x2ut\n",
      "\n",
      "\n",
      "{'@context': ['https://www.w3.org/ns/did/v1'], 'verificationMethod': [{'id': '#initialKey', 'type': 'JsonWebKey', 'publicKeyJwk': {'kty': 'EC', 'crv': 'secp256k1', 'x': '03979ac38305a6d6074ac7fd2e627026f1a6aafd0e40e3dcbc165f578294b83a53'}, 'controller': 'did:btc1:x1zsl364wvtg47e2jffvdhx4tux7mj3mgjeyqet2wsvyvlmw3mtegsg5x2ut'}], 'authentication': ['#initialKey'], 'assertionMethod': ['#initialKey'], 'capabilityInvocation': ['#initialKey'], 'capabilityDelegation': ['#initialKey'], 'service': [{'id': '#initial_p2pkh', 'type': 'SingletonBeacon', 'serviceEndpoint': 'bitcoin:mfgBH17XZnFajMsp2s7FADfPr9JReoEmfR'}, {'id': '#initial_p2wpkh', 'type': 'SingletonBeacon', 'serviceEndpoint': 'bitcoin:tb1qqxlffya76krtl3cejg5rxkxyud8t2rjl3fchms'}, {'id': '#initial_p2tr', 'type': 'SingletonBeacon', 'serviceEndpoint': 'bitcoin:tb1pe0r3064u0p96ptqgl0luygpa70dtknp0cvarf3tsrlxvwvxg3nzsx9nase'}, {'id': '#cid_aggregated', 'type': 'SMTAggregatorBeacon', 'serviceEndpoint': 'bitcoin:tb1p8fx4cmaqt0hsrnw6kprqcjtrtrhkpjvclzwra58yz8klp4r7vv4qs3hpz5'}], 'id': 'did:btc1:x1zsl364wvtg47e2jffvdhx4tux7mj3mgjeyqet2wsvyvlmw3mtegsg5x2ut'}\n"
     ]
    }
   ],
   "source": [
    "print(\"Sidecar DID document for \" + did_btc1 + \"\\n\\n\")\n",
    "print(did_document)"
   ]
  },
  {
   "cell_type": "markdown",
   "id": "d21e5588-95c8-487f-acb7-81d6da3ac09d",
   "metadata": {},
   "source": [
    "### A4.4 Store DID and initial DID document\n",
    "\n"
   ]
  },
  {
   "cell_type": "code",
   "execution_count": null,
   "id": "45a5c887-f7c2-4e3e-bdf8-9e5f79c22f44",
   "metadata": {},
   "outputs": [],
   "source": []
  },
  {
   "cell_type": "markdown",
   "id": "67df0c34-1e85-4f1a-bab0-c41d9a770c28",
   "metadata": {},
   "source": [
    "## A5. Register DID with Aggregator\n",
    "\n",
    "Aggregator needs to know all DIDs that a cohort participant intends to use the aggregated beacon with to aggregate updates. These are the DIDs that the aggregator will generate and provide proofs of (non)inclusion for."
   ]
  },
  {
   "cell_type": "markdown",
   "id": "9ef80409-ecc8-47e5-93d2-ca8af928685d",
   "metadata": {},
   "source": [
    "### A5.1 Construct DID registration payload\n",
    "\n",
    "This includes:\n",
    "\n",
    "- beacon_address: Identifies the beacon\n",
    "- participant_pk: Identifies the cohort participant in the beacon\n",
    "- did: The DID string that the cohort participant wishes to register\n",
    "\n",
    "TODO: Anything else?"
   ]
  },
  {
   "cell_type": "code",
   "execution_count": 32,
   "id": "be31bf67-4bf1-42ad-8c01-9862e61e82b6",
   "metadata": {},
   "outputs": [],
   "source": [
    "did_registration_payload = {\n",
    "    \"beacon_address\": p2tr_beacon_address,\n",
    "    \"participant_pk\": hex_pubkey,\n",
    "    \"did\": did_btc1\n",
    "}"
   ]
  },
  {
   "cell_type": "markdown",
   "id": "9fc096f8-7df6-43a1-b622-1e6e63ad7c06",
   "metadata": {},
   "source": [
    "### A5.2 Sign the DID registration payload\n",
    "\n",
    "This is a TODO.\n",
    "\n",
    "**Question:** Sign with what? \n",
    "- Participant_pk\n",
    "- did_btc\n",
    "\n",
    "I think either participant_pk, or both."
   ]
  },
  {
   "cell_type": "code",
   "execution_count": 33,
   "id": "698474a7-0467-4c9c-98bd-dfbab6850bcd",
   "metadata": {},
   "outputs": [],
   "source": [
    "# TODO: Sign the payload"
   ]
  },
  {
   "cell_type": "markdown",
   "id": "9a9952d0-9390-4e1c-b0ad-d9e4c5d5bf9d",
   "metadata": {},
   "source": [
    "### A5.3 Send DID registration payload to the aggregator\n",
    "\n",
    "Use the Copy+Paste protocol to communicate the payload output below to section B6. of the [Aggregator](./SMT_Aggregator.ipynb) notebook."
   ]
  },
  {
   "cell_type": "code",
   "execution_count": 34,
   "id": "85ce3a11-4346-4b0b-8814-5990692b77e2",
   "metadata": {
    "scrolled": true
   },
   "outputs": [
    {
     "name": "stdout",
     "output_type": "stream",
     "text": [
      "Use the Copy+Paste protocol to communicate the payload output below to section B6. of the Aggregator notebook.\n",
      "\n",
      "\n",
      "{'beacon_address': 'tb1p8fx4cmaqt0hsrnw6kprqcjtrtrhkpjvclzwra58yz8klp4r7vv4qs3hpz5', 'participant_pk': '02f0a96d61fd8451566b861bc78f2e2a34679b841dcd7397f2ed9af95225d8da72', 'did': 'did:btc1:x1zsl364wvtg47e2jffvdhx4tux7mj3mgjeyqet2wsvyvlmw3mtegsg5x2ut'}\n"
     ]
    }
   ],
   "source": [
    "print(\"Use the Copy+Paste protocol to communicate the payload output below to section B6. of the Aggregator notebook.\\n\\n\")\n",
    "print(did_registration_payload)"
   ]
  },
  {
   "cell_type": "markdown",
   "id": "268e8ce8-add8-4eae-86d3-cf233e7c8a15",
   "metadata": {},
   "source": [
    "## A6 Use DID\n",
    "\n",
    "- Include DID document with DID\n",
    "  - As the DID Document is updated, the entire DID Document update history must be presented along with the DID. This is sidecar.\n",
    "- Verifier can verify the provided DID Document matches the hash\n"
   ]
  },
  {
   "cell_type": "code",
   "execution_count": null,
   "id": "0f1a53dd-9534-43b5-891c-5d5d5ffa9e8f",
   "metadata": {},
   "outputs": [],
   "source": []
  },
  {
   "cell_type": "markdown",
   "id": "bfa98590-794f-4525-8a4a-de5ee64f93aa",
   "metadata": {},
   "source": [
    "## COMPLETED: A. Create a DID, already bound to an aggregator complete\n",
    "\n",
    "The did:btc1 created in step A is an offline, sidecar and updatable DID document. The DID controller can use an aggregator to publish updates for reduced costs and increased scalability."
   ]
  },
  {
   "cell_type": "code",
   "execution_count": null,
   "id": "ae3ca7eb-0d43-4d78-b5ec-2332f7192c93",
   "metadata": {},
   "outputs": [],
   "source": []
  },
  {
   "cell_type": "markdown",
   "id": "32e47649-81f1-4135-ac42-a7eb4e9590e9",
   "metadata": {},
   "source": [
    "# C. Update DID document\n",
    "\n",
    "To update the DID document created in step A requires the following steps:\n",
    "\n",
    "1. ~~Create updated DID document~~\n",
    "2. ~~Create update payload~~\n",
    "3. ~~Create DID update invocation~~\n",
    "4. Publish update\n",
    "5. Store update\n",
    "6. Watch BTC to verify publication\n",
    "\n",
    "**In this notebook, Satoshi will NOT be performing an update to his DID document. However, Satoshi still needs to participate in authorizing beacon signals from the beacon. Steps C4, C5 and C6**"
   ]
  },
  {
   "cell_type": "markdown",
   "id": "a3d1ed40-6859-4d24-bbfb-3cc54c95445f",
   "metadata": {},
   "source": [
    "## C4. Publish DID update\n",
    "\n",
    "Publishing a DID update using an aggregated beacon requires coordination of a multiparty cryptographic protocol to produce a MuSig2 signature that is a valid spend from the n-of-n beacon address.\n",
    "\n",
    "From the cohort participants perspective this can can be broken down into the following substeps:\n",
    "\n",
    "1. ~~Select beacon from current DID document with suitable cohort policy~~\n",
    "2. ~~Send invocation to beacon aggregator~~\n",
    "3. Receive authorize beacon signal request\n",
    "4. Verify contents of pending beacon signal\n",
    "5. Generate MuSig2 aggregated nonce\n",
    "6. Generate MuSig2 signing data\n",
    "7. Authorize pending beacon signal\n",
    "8. Return partially signed bitcoin transaction\n",
    "\n",
    "**Satoshi will receive a request to authorize a beacon signal, despite having not submitted any update to the beacon. He must verify that he has a valid proof of non-inclusion for the SMT root in the pending beacon signal before participating in the MuSig2 signing protocol.**"
   ]
  },
  {
   "cell_type": "markdown",
   "id": "ac88fcf8-0ca7-463d-b041-f46ad07027c5",
   "metadata": {},
   "source": [
    "### C4.3 Receive authorize beacon signal request\n",
    "\n",
    "Paste in the output from Step D4 in the [Aggregator](./Aggregator.ipynb) notebook."
   ]
  },
  {
   "cell_type": "code",
   "execution_count": 35,
   "id": "d21aa8d2-00ac-4718-9cac-ceecfebf800f",
   "metadata": {},
   "outputs": [],
   "source": [
    "authorize_beacon_signal = {'session_id': 'SOME SESSION ID', 'beacon_address': 'tb1p8fx4cmaqt0hsrnw6kprqcjtrtrhkpjvclzwra58yz8klp4r7vv4qs3hpz5', 'pending_beacon_signal': '010000000001017e077ab786657bcb471d7b61e36d2450a8253d6a435288a1c5c91fe442f3cb6f0100000000ffffffff020000000000000000226a201daf0196dcfc1e7c029d1113444dc0502ca288b491d2b766cbd17b22bbacdc3942850100000000002251203a4d5c6fa05bef01cddab0460c496358ef60c998f89c3ed0e411edf0d47e632a0000000000', 'proofs': {'did:btc1:x1zsl364wvtg47e2jffvdhx4tux7mj3mgjeyqet2wsvyvlmw3mtegsg5x2ut': b\"\\x80\\x04\\x95\\x81\\x00\\x00\\x00\\x00\\x00\\x00\\x00}\\x94(\\x8c\\tsidenodes\\x94]\\x94\\x8c\\x17non_membership_leafdata\\x94CA\\x00<\\x1c\\x03\\xc2\\xc5\\xd4\\xc5\\xce\\x92ga\\x91\\xb9\\xbf\\xcd\\xbai.2\\xf9`\\x8aC\\xa4\\xf0oRKv\\xaa\\xdb\\xaa\\xb2\\x9e\\xb4>\\xa6\\xf3\\x86\\xe9*\\x9c\\xe4\\xa5\\xf0&\\x1d\\x10`\\x8e\\xe9\\xa7\\xc6\\xf9O\\x91y'k\\xd13N\\xb3\\xcf\\x94\\x8c\\x0csibling_data\\x94Nu.\"}}\n"
   ]
  },
  {
   "cell_type": "code",
   "execution_count": 36,
   "id": "de9c8729-72ef-4c05-9a26-2483ffe3327b",
   "metadata": {},
   "outputs": [],
   "source": [
    "from buidl.tx import Tx\n",
    "session_id = authorize_beacon_signal[\"session_id\"]\n",
    "pending_beacon_signal_hex = authorize_beacon_signal[\"pending_beacon_signal\"]\n",
    "pending_beacon_signal = Tx.parse_hex(pending_beacon_signal_hex)\n"
   ]
  },
  {
   "cell_type": "code",
   "execution_count": 37,
   "id": "04d50e7a-4f62-414e-8f07-2410c2de98a0",
   "metadata": {},
   "outputs": [],
   "source": [
    "# Check request from a beacon that you are participating in\n",
    "assert(p2tr_beacon_address == authorize_beacon_signal[\"beacon_address\"])"
   ]
  },
  {
   "cell_type": "code",
   "execution_count": 38,
   "id": "53cc9629-36f2-46f8-9e8b-689349f3bcb6",
   "metadata": {},
   "outputs": [],
   "source": [
    "## TODO: verify signature from aggregator"
   ]
  },
  {
   "cell_type": "markdown",
   "id": "c9b88681-0f20-4511-91fd-2e8867a42ffa",
   "metadata": {},
   "source": [
    "### C4.4 Verify authorize beacon signal request"
   ]
  },
  {
   "cell_type": "markdown",
   "id": "277c0052-29cf-4f6d-bd22-d2f9ec1d137e",
   "metadata": {},
   "source": [
    "#### C4.4.1 Check pending beacon signal is a btc transaction with a single input that is a spend from the beacon address"
   ]
  },
  {
   "cell_type": "code",
   "execution_count": 39,
   "id": "2e92285a-0a94-498e-8cd8-e233bcaa2fbd",
   "metadata": {},
   "outputs": [],
   "source": [
    "# Check has a single tx input\n",
    "assert(len(pending_beacon_signal.tx_ins) == 1)"
   ]
  },
  {
   "cell_type": "code",
   "execution_count": 40,
   "id": "002aecd4-6a68-4a9f-b23f-dd6fc006f7d5",
   "metadata": {},
   "outputs": [],
   "source": [
    "tx_in = pending_beacon_signal.tx_ins[0]\n",
    "prev_tx = tx_in.fetch_tx(network=network)\n",
    "prev_tx_out = prev_tx.tx_outs[tx_in.prev_index]\n",
    "address_being_spent_from = prev_tx_out.script_pubkey.address(network=\"signet\")\n",
    "\n",
    "# Check tx input is a spend from the beacon address\n",
    "assert(address_being_spent_from == cohort_set_payload[\"beacon_address\"])"
   ]
  },
  {
   "cell_type": "markdown",
   "id": "0d2afd05-4379-4a18-8f4d-c911b86f1c08",
   "metadata": {},
   "source": [
    "#### C4.4.2 Verify proofs against Sparse Merkle Tree root in tx output at index 0"
   ]
  },
  {
   "cell_type": "code",
   "execution_count": 41,
   "id": "16e25495-dfd9-47da-83b7-90af76053cd9",
   "metadata": {},
   "outputs": [],
   "source": [
    "from smt.tree import SparseMerkleTree\n",
    "from smt.proof import verify_proof, SparseMerkleProof\n",
    "from smt.utils import DEFAULTVALUE"
   ]
  },
  {
   "cell_type": "code",
   "execution_count": 42,
   "id": "137e7c43-6d4b-4404-a36f-f380e36a1387",
   "metadata": {},
   "outputs": [
    {
     "name": "stdout",
     "output_type": "stream",
     "text": [
      "SMT root b'\\x1d\\xaf\\x01\\x96\\xdc\\xfc\\x1e|\\x02\\x9d\\x11\\x13DM\\xc0P,\\xa2\\x88\\xb4\\x91\\xd2\\xb7f\\xcb\\xd1{\"\\xbb\\xac\\xdc9'\n"
     ]
    }
   ],
   "source": [
    "tx_out = pending_beacon_signal.tx_outs[0]\n",
    "script = tx_out.script_pubkey\n",
    "\n",
    "assert(len(script.commands) == 2)\n",
    "\n",
    "# Check first command is OP_RETURN\n",
    "assert(script.commands[0] == 0x6a)\n",
    "\n",
    "# Get SparseMerkleTreeRoot\n",
    "smt_root = script.commands[1]\n",
    "print(f\"SMT root {smt_root}\")\n",
    "\n"
   ]
  },
  {
   "cell_type": "code",
   "execution_count": null,
   "id": "0292e690-1e2e-423b-8a39-ce906d5ee47e",
   "metadata": {},
   "outputs": [],
   "source": []
  },
  {
   "cell_type": "code",
   "execution_count": 44,
   "id": "880954e4-3bca-438b-834c-aee77a0c2c73",
   "metadata": {},
   "outputs": [
    {
     "name": "stdout",
     "output_type": "stream",
     "text": [
      "Proof of Non-inclusion for did:btc1:x1zsl364wvtg47e2jffvdhx4tux7mj3mgjeyqet2wsvyvlmw3mtegsg5x2ut Verified : True\n"
     ]
    }
   ],
   "source": [
    "import pickle\n",
    "## Loop through provided proofs\n",
    "proofs = authorize_beacon_signal[\"proofs\"]\n",
    "for (did, proof) in proofs.items():\n",
    "    ## check key is one of the DIDs registered with this beacon\n",
    "    ## TODO: handle multiple DIDs registered\n",
    "    assert(did == did_btc1)\n",
    "    proof_data = pickle.loads(proof)\n",
    "    smt_proof = SparseMerkleProof(sidenodes=proof_data['sidenodes'], non_membership_leafdata=proof_data[\"non_membership_leafdata\"], siblingdata=proof_data[\"sibling_data\"])\n",
    "    \n",
    "    # Key to SMT leaf\n",
    "    did_bytes = str_to_bytes(did)\n",
    "    \n",
    "    # Data at leaf is empty so DEFAULTVALUE\n",
    "    \n",
    "    verified = verify_proof(smt_proof, smt_root, did_bytes, DEFAULTVALUE)\n",
    "    print(f\"Proof of Non-inclusion for {did_btc1} Verified : {verified}\")\n",
    "    if not verified:\n",
    "        raise Exception(\"Invalid SMT in beacon signal, unable to verify expected update\")"
   ]
  },
  {
   "cell_type": "markdown",
   "id": "f0cf7ca3-68c2-49b6-851a-a057d45b614b",
   "metadata": {},
   "source": [
    "## C4.5 Generate MuSig2 Aggregated Nonce"
   ]
  },
  {
   "cell_type": "markdown",
   "id": "8cad717d-fee2-494f-812b-221fd4a8dba7",
   "metadata": {},
   "source": [
    "### C4.5.1 Generate nonce contribution\n",
    "\n",
    "- Nonce secrets: Required for signing, should NEVER be shared\n",
    "- Nonce points: Public nonce contribution. Should only be used for one signing session"
   ]
  },
  {
   "cell_type": "code",
   "execution_count": 45,
   "id": "86d21b81-6b76-435a-bacf-b0a9d2300caa",
   "metadata": {},
   "outputs": [],
   "source": [
    "## TOOD: Waiting for buidl library updates. Nonce generation should take in data from signing process as source of randomness\n",
    "nonce_secrets, nonce_points = musig.generate_nonces()"
   ]
  },
  {
   "cell_type": "markdown",
   "id": "3a2c896c-1ff7-48e9-ad35-46989e74e68f",
   "metadata": {},
   "source": [
    "### C4.5.2 Send nonce contribution to the aggregator\n",
    "\n",
    "Copy+Paste the below output into Step D5.1 of the [Aggregator](.Aggregator.ipynb)\n",
    "\n",
    "Payload includes:\n",
    "\n",
    "- Beacon address: the address of the beacon\n",
    "- Session Id: Unique identifier for this signing session provided by the aggregator (C4.5)\n",
    "- Nonce points: An array of hex represented Secp256k1 points generated using the MuSig2 nonce_gen algorithm"
   ]
  },
  {
   "cell_type": "code",
   "execution_count": 46,
   "id": "707c1e1c-267d-4d53-be2d-d13349dc2d9f",
   "metadata": {},
   "outputs": [
    {
     "name": "stdout",
     "output_type": "stream",
     "text": [
      "Copy+Paste the below output into Step D5.1 of the Aggregator notebook \n",
      "\n",
      "\n",
      "{'beacon_address': 'tb1p8fx4cmaqt0hsrnw6kprqcjtrtrhkpjvclzwra58yz8klp4r7vv4qs3hpz5', 'session_id': 'SOME SESSION ID', 'nonce_points': ['0300b810f07558a7775fb4cf1e310fb4b850184d0ad72407eceb98751052d965f5', '0320db01295b9926a74e4dcab782a8c62c5d07d82a4847a700e7c2d015bdcb1edc']}\n"
     ]
    }
   ],
   "source": [
    "pubnonces  = [point.sec().hex() for point in nonce_points]\n",
    "\n",
    "nonce_contribution_payload = {\n",
    "    \"beacon_address\": p2tr_beacon_address,\n",
    "    \"session_id\": session_id,\n",
    "    \"nonce_points\": pubnonces\n",
    "}\n",
    "\n",
    "print(\"Copy+Paste the below output into Step D5.1 of the Aggregator notebook \\n\\n\")\n",
    "print(nonce_contribution_payload)\n"
   ]
  },
  {
   "cell_type": "code",
   "execution_count": null,
   "id": "01aa65aa-3512-49e9-8e84-7857995cc125",
   "metadata": {},
   "outputs": [],
   "source": []
  },
  {
   "cell_type": "markdown",
   "id": "11d35697-fb23-4c1f-ab94-6ecf458e5df9",
   "metadata": {},
   "source": [
    "### C4.5.3 Receive aggregated nonce from the aggregator\n",
    "\n",
    "Paste the output from Step D5.4 of the [Aggregator](./Aggregator.ipynb) notebook"
   ]
  },
  {
   "cell_type": "code",
   "execution_count": 47,
   "id": "6e2b6db1-90fc-41bd-955a-f7c06ef05985",
   "metadata": {},
   "outputs": [],
   "source": [
    "aggregated_nonce_payload = {'beacon_address': 'tb1p8fx4cmaqt0hsrnw6kprqcjtrtrhkpjvclzwra58yz8klp4r7vv4qs3hpz5', 'session_id': 'SOME SESSION ID', 'agg_nonce': ['03c1f241d7703302c032bee87d48dfe458ed8bff58058153cbf8c03324279b69db', '0348c1e07d313dba2a309629b46b7ed03ca5f81b04faf2b6daa69533461684496b']}\n",
    "\n",
    "\n",
    "\n",
    "\n",
    "\n"
   ]
  },
  {
   "cell_type": "code",
   "execution_count": 48,
   "id": "f64bd626-129b-48de-8b56-cdcf8f480f30",
   "metadata": {},
   "outputs": [],
   "source": [
    "assert(p2tr_beacon_address == aggregated_nonce_payload[\"beacon_address\"])\n",
    "assert(session_id == aggregated_nonce_payload[\"session_id\"])"
   ]
  },
  {
   "cell_type": "code",
   "execution_count": 49,
   "id": "0de51e24-58b5-4003-ad93-05981636630f",
   "metadata": {},
   "outputs": [],
   "source": [
    "agg_nonce_hex = aggregated_nonce_payload[\"agg_nonce\"]\n",
    "agg_musig_nonce = [S256Point.parse(bytes.fromhex(hex_key)) for hex_key in agg_nonce_hex]"
   ]
  },
  {
   "cell_type": "markdown",
   "id": "812264e3-c1fc-4f21-82ea-e650de746c79",
   "metadata": {},
   "source": [
    "### C4.6 Generate MuSig2 Signing Data\n",
    "\n",
    "See bip0327 - https://github.com/bitcoin/bips/blob/master/bip-0327.mediawiki"
   ]
  },
  {
   "cell_type": "markdown",
   "id": "11d4f8d4-7e7c-4930-93e7-39a9d801a32b",
   "metadata": {},
   "source": [
    "#### C4.6.1 Generate the bitcoin transaction sig hash\n",
    "\n",
    "This is the data to be signed"
   ]
  },
  {
   "cell_type": "code",
   "execution_count": 50,
   "id": "40337b8e-b425-4dc3-9c02-b72b0d9241f9",
   "metadata": {},
   "outputs": [],
   "source": [
    "from buidl.tx import Tx, SIGHASH_DEFAULT\n",
    "input_index = 0\n",
    "sig_hash = pending_beacon_signal.sig_hash(input_index, SIGHASH_DEFAULT)"
   ]
  },
  {
   "cell_type": "markdown",
   "id": "698f1deb-6081-4677-b296-85f7a7f5ed08",
   "metadata": {},
   "source": [
    "#### C4.6.2 Generate r from aggregated nonce and Tx sig hash"
   ]
  },
  {
   "cell_type": "code",
   "execution_count": 51,
   "id": "d8bb7cd4-eb35-43e4-b2b0-a6b37640f06f",
   "metadata": {},
   "outputs": [],
   "source": [
    "r = musig.compute_r(agg_musig_nonce, sig_hash)\n"
   ]
  },
  {
   "cell_type": "markdown",
   "id": "2952a87a-9e8d-4704-ade2-f8b85887dc99",
   "metadata": {},
   "source": [
    "#### C4.6.3 Generate k from secret nonce, aggregated nonce and Tx sig hash"
   ]
  },
  {
   "cell_type": "code",
   "execution_count": 52,
   "id": "96b3261d-8f18-40c4-80db-b77db0c2b79b",
   "metadata": {},
   "outputs": [],
   "source": [
    "k = musig.compute_k(nonce_secrets, agg_musig_nonce, sig_hash)"
   ]
  },
  {
   "cell_type": "markdown",
   "id": "c8339d9d-e108-4f2e-8461-7c01ba1fdc06",
   "metadata": {},
   "source": [
    "## C4.7 Authorize pending beacon signal\n",
    "\n",
    "Sign the btc transaction"
   ]
  },
  {
   "cell_type": "code",
   "execution_count": 53,
   "id": "d70ada37-3f71-494a-bafa-7cde1d9b18c9",
   "metadata": {},
   "outputs": [],
   "source": [
    "partial_sig = musig.sign(cohort_participation_sk, k, r, sig_hash, tr_merkle_root)"
   ]
  },
  {
   "cell_type": "markdown",
   "id": "7b88cba4-af2d-4b66-a6f1-58a101a2bbca",
   "metadata": {},
   "source": [
    "## C4.8 Return signal authorization payload to aggregator"
   ]
  },
  {
   "cell_type": "markdown",
   "id": "92970a6e-652c-4595-b071-44a9837abb0e",
   "metadata": {},
   "source": [
    "### C4.8.1 Construct signal authroization payload"
   ]
  },
  {
   "cell_type": "code",
   "execution_count": 54,
   "id": "e97a2064-ee6b-421a-abfb-0058d5f1a6b0",
   "metadata": {},
   "outputs": [],
   "source": [
    "signal_authorization_payload = {\n",
    "    \"beacon_address\": p2tr_beacon_address,\n",
    "    \"session_id\": session_id,\n",
    "    \"sig\": partial_sig\n",
    "}"
   ]
  },
  {
   "cell_type": "code",
   "execution_count": 55,
   "id": "68781af7-f1c5-494a-a0e4-091c1b2b0c8f",
   "metadata": {},
   "outputs": [],
   "source": [
    "## TODO: sign payload"
   ]
  },
  {
   "cell_type": "markdown",
   "id": "1269600b-a8ea-4ef1-9a55-f5ca12bdb502",
   "metadata": {},
   "source": [
    "### C4.8.2 Send payload to aggregator\n",
    "\n",
    "Copy+Paste the below output into step D6.1 of the Aggregator notebook."
   ]
  },
  {
   "cell_type": "code",
   "execution_count": 56,
   "id": "ed6e9462-7da1-41d3-89ca-d40e5e6bd6f0",
   "metadata": {
    "scrolled": true
   },
   "outputs": [
    {
     "name": "stdout",
     "output_type": "stream",
     "text": [
      "Copy+Paste the below output into step D6.1 of the Aggregator notebook.\n",
      "\n",
      "\n",
      "{'beacon_address': 'tb1p8fx4cmaqt0hsrnw6kprqcjtrtrhkpjvclzwra58yz8klp4r7vv4qs3hpz5', 'session_id': 'SOME SESSION ID', 'sig': 87627379108096024454727278321724372134237684275586364299101006585510639330504}\n"
     ]
    }
   ],
   "source": [
    "print(\"Copy+Paste the below output into step D6.1 of the Aggregator notebook.\\n\\n\")\n",
    "print(signal_authorization_payload)"
   ]
  },
  {
   "cell_type": "code",
   "execution_count": null,
   "id": "e07a2084-e79a-4a7a-96b3-e7eb374ae063",
   "metadata": {},
   "outputs": [],
   "source": []
  },
  {
   "cell_type": "markdown",
   "id": "23505d95-32ae-4b97-8b95-4b98da434cd1",
   "metadata": {},
   "source": [
    "## C5. Store Update Data\n",
    "\n",
    "The DID controller is required to store the following data for each beacon signal emitted by SMT aggregated beacons they have listed in their DID document:\n",
    "\n",
    "- BTC TxID: The transaction ID of the beacon signal which contains the root of a sparse merkle tree in its txoutput\n",
    "- Merkle proof path: Proves (non)inclusion against the SMT root in the beacon signal\n",
    "- Update invocation: Either a signed update invocation or null depending if the DID controller included an update in this beacon signal.\n",
    "\n",
    "DID controllers with many DIDs, each with potentially many different aggregation beacons are likely going to want to develop a data structure to manage this. Below is a rough example."
   ]
  },
  {
   "cell_type": "code",
   "execution_count": null,
   "id": "437f7b7d-6b70-448c-9611-73ccc8ceaa10",
   "metadata": {},
   "outputs": [],
   "source": [
    "beacon_signal_txid = pending_beacon_signal.id()\n",
    "beacon_signal_txid"
   ]
  },
  {
   "cell_type": "code",
   "execution_count": null,
   "id": "a27e9639-3ffb-47a1-b9ea-efdc62853eee",
   "metadata": {},
   "outputs": [],
   "source": [
    "proofs"
   ]
  },
  {
   "cell_type": "markdown",
   "id": "2fe67d5f-9bfb-482f-a451-afbb668d5707",
   "metadata": {},
   "source": [
    "### Data structure is:\n",
    "\n",
    "signal_txid -> {proof, update}\n",
    "\n",
    "Signal txid's act as keys to an object with a proof and an update associated with that beacon signal.\n"
   ]
  },
  {
   "cell_type": "markdown",
   "id": "9b2bbcf7-acf7-470c-bfee-be1955cdcd7a",
   "metadata": {},
   "source": [
    "### Load history from file if present"
   ]
  },
  {
   "cell_type": "code",
   "execution_count": null,
   "id": "099a5688-5838-437e-8859-0f24d22c2b29",
   "metadata": {},
   "outputs": [],
   "source": [
    "sidecar_history_filename = f\"{did_btc1}_sidecar_history\"\n",
    "did_sidecar_history = {\n",
    "    \"initial_document\": did_document,\n",
    "    \"signals\": {}\n",
    "}\n",
    "\n",
    "\n",
    "#open and read the file after the appending:\n",
    "try: \n",
    "    f = open(sidecar_history_filename, \"r\")\n",
    "    did_sidecar_history = json.loads(f.read())\n",
    "    print(f\"Sidecar history found for {did_btc1}\\n\\n {did_sidecar_history}\")\n",
    "except:\n",
    "    print(\"No sidecar history to load for DID : \" + did_btc)"
   ]
  },
  {
   "cell_type": "markdown",
   "id": "8e90dc70-701e-4a34-b4f7-f1ff157c0abe",
   "metadata": {},
   "source": [
    "### Add history for new signal"
   ]
  },
  {
   "cell_type": "code",
   "execution_count": null,
   "id": "9dafb3aa-50e2-44c3-b4f2-25677f6900f6",
   "metadata": {},
   "outputs": [],
   "source": [
    "signals = did_sidecar_history[\"signals\"]\n",
    "\n",
    "signals[beacon_signal_txid] = {\n",
    "    \"update\": None,\n",
    "    \"proof\": proofs[did_btc].hex()\n",
    "}\n",
    "\n",
    "did_sidecar_history"
   ]
  },
  {
   "cell_type": "code",
   "execution_count": null,
   "id": "a7f570d2-b58c-4246-ae07-993a60029f68",
   "metadata": {},
   "outputs": [],
   "source": [
    "print(f\"Sidecar Data for {did_btc1}\") \n",
    "print(f\"\\nInitial DID document \\n\\n\")\n",
    "print(did_sidecar_history[\"initial_document\"])\n",
    "for signal_txid, sidecar_data in did_sidecar_history[\"signals\"].items():\n",
    "    print(f\"Sidecar Data for beacon signal with btc txid : {signal_txid}\")\n",
    "    print(\"DID update in signal\\n\")\n",
    "    print(sidecar_data[\"update\"])\n",
    "    print(\"\\nMerkle proof of update\\n\")\n",
    "    print(sidecar_data[\"proof\"])"
   ]
  },
  {
   "cell_type": "markdown",
   "id": "2668a675-f9ce-42b4-ab64-b401b7a7c3d7",
   "metadata": {},
   "source": [
    "### Save history to file for persistence across notebook sessions"
   ]
  },
  {
   "cell_type": "code",
   "execution_count": null,
   "id": "2ea5c232-f778-4f6e-87ab-1295a8e5c111",
   "metadata": {},
   "outputs": [],
   "source": [
    "serialized_history = json.dumps(did_sidecar_history)\n",
    "\n",
    "f = open(sidecar_history_filename, \"a\")\n",
    "f.write(serialized_history)\n",
    "f.close()\n"
   ]
  },
  {
   "cell_type": "markdown",
   "id": "4acb809c-f773-4392-b68c-6b30cf63a763",
   "metadata": {},
   "source": [
    "## C6. Watch the bitcoin network for the beacon signal to be broadcast\n",
    "\n",
    "**Most DID controllers would likley do this through their own nodes**\n",
    "\n",
    "For these notebooks we can visit mempool.space at the url below:"
   ]
  },
  {
   "cell_type": "code",
   "execution_count": null,
   "id": "ce8ffc47-1f46-4aa3-ada5-6ee0479170e3",
   "metadata": {},
   "outputs": [],
   "source": [
    "print(f\"Mempool.Space URL: https://mempool.space/{network}/tx/{beacon_signal_txid}\")"
   ]
  },
  {
   "cell_type": "code",
   "execution_count": null,
   "id": "4eed3d47-5095-4ad1-bdb2-eb4a46042610",
   "metadata": {},
   "outputs": [],
   "source": []
  },
  {
   "cell_type": "markdown",
   "id": "573ff8b7-05fe-42c3-8c45-326e7df09f72",
   "metadata": {},
   "source": [
    "## Step C Update DID document Completed!\n",
    "\n",
    "You may now open the [Resolver](./Resolver.ipynb) notebook and attempt to resolve the DID created and updated in this notebook\n",
    "\n",
    "Copy+Paste the below sidecar history required for resolution into step R1. of the Resolver notebook."
   ]
  },
  {
   "cell_type": "code",
   "execution_count": null,
   "id": "3e190661-1f9c-47f2-a496-fba3f6c1ca2f",
   "metadata": {},
   "outputs": [],
   "source": [
    "print(f\"did_to_resolve = '{did_btc1}'\")\n",
    "print(f\"sidecar_history = {did_sidecar_history[did_btc]}\")"
   ]
  },
  {
   "cell_type": "code",
   "execution_count": null,
   "id": "5a910925-22a6-4f9c-9535-d669f7e321b3",
   "metadata": {},
   "outputs": [],
   "source": []
  },
  {
   "cell_type": "code",
   "execution_count": null,
   "id": "4a62877f-dc47-444c-b561-4ed870d588f7",
   "metadata": {},
   "outputs": [],
   "source": []
  }
 ],
 "metadata": {
  "kernelspec": {
   "display_name": "Python 3 (ipykernel)",
   "language": "python",
   "name": "python3"
  },
  "language_info": {
   "codemirror_mode": {
    "name": "ipython",
    "version": 3
   },
   "file_extension": ".py",
   "mimetype": "text/x-python",
   "name": "python",
   "nbconvert_exporter": "python",
   "pygments_lexer": "ipython3",
   "version": "3.12.6"
  }
 },
 "nbformat": 4,
 "nbformat_minor": 5
}
