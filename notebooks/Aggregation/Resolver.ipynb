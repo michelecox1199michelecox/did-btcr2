{
 "cells": [
  {
   "cell_type": "markdown",
   "id": "36a8d8a0-d5ba-46da-a075-6a85c9b3c85e",
   "metadata": {},
   "source": [
    "# Resolver\n",
    "\n",
    "In this notebook we will resolve the fully sidecar DID created in the [Alexis](./Alexis.ipynb). See step A2.4. It is recommended that you run through steps A through D, whereby DID controllers ([Alexis](./Alexis.ipynb) and [Satoshi](./Satoshi.ipynb)) join an sparse merkle tree aggregated beacon managed by an [Aggregator](./Aggregator.ipynb). They then include this beacon in an offline, sidecar DID document and generate the associated did:btc identifier. After, Alexis submits an update to the Aggregator who coordinates with Alexis and Satoshi to authorize the update before broadcasting it to the bitcoin network. \n",
    "\n",
    "The high level steps required for resolutionsare as follows:\n",
    "\n",
    "1. Get sidecar history from DID controller\n",
    "2. Verify initial DID document against DID\n",
    "3. Initialize resolution variables\n",
    "4. Collect beacon signals (btc txs) from bitcoin for all beacons\n",
    "5. Process beacon signals to retrieve DID updates according to beacon type\n",
    "6. Apply DID document transformations from updates in order\n",
    "\n",
    "Note: The resolution algorithm is iterative. After applying an update from beacon signal to a DID document, resolution must check if there have been changes to the beacons in the DID document. If there have, the algorithm must return to step 4 and update the set of beacon signals. \n",
    "\n",
    "Resolution is complete only when all beacon signals from all beacons have been processed and their updates applied AND the updates construct a complete version history of the DID document up to its current state."
   ]
  },
  {
   "cell_type": "code",
   "execution_count": 1,
   "id": "36c36abf-569b-4e63-936b-052b7eae7901",
   "metadata": {},
   "outputs": [],
   "source": [
    "import sys\n",
    "import os\n",
    "\n",
    "# Get the path to the Notebooks directory\n",
    "notebooks_path = os.path.abspath(os.path.join(os.getcwd(), '..'))\n",
    "\n",
    "# Add the Notebooks directory to the sys.path\n",
    "sys.path.append(notebooks_path)"
   ]
  },
  {
   "cell_type": "markdown",
   "id": "d01132ad-8535-47d8-9892-e8f261100568",
   "metadata": {},
   "source": [
    "## R1. Get sidecar history from DID controller\n",
    "\n",
    "The DID controller must provide:\n",
    "\n",
    "Note: We should also include some meta data about how many updates there have been. Latest version?\n",
    "\n",
    "- The initial DID document (if offline sidecar)\n",
    "- The current DID document\n",
    "- The proof data for each beacon signal\n",
    "    - txid: bitcoin transaction identifier of beacon signal\n",
    "    - merkle proof of (non)inclusion\n",
    "    - DID update invocation (if update included in beacon signal)\n",
    " \n",
    "Paste in the output from the end of the [Alexis](./Alexis.ipynb) notebook."
   ]
  },
  {
   "cell_type": "code",
   "execution_count": 2,
   "id": "f3cfc50a-4231-40a8-8ea9-fe8d509ecf19",
   "metadata": {},
   "outputs": [],
   "source": [
    "did_to_resolve = 'did:btc1:x1x03w9d88pwcj7cm4tjht5w3lg3rg2zjqzv072q2n2y8y2g9shqks5c7sl5'\n",
    "sidecar_history = {'initial_document': {'@context': ['https://www.w3.org/ns/did/v1'], 'verificationMethod': [{'id': '#initialKey', 'type': 'JsonWebKey', 'publicKeyJwk': {'kty': 'EC', 'crv': 'secp256k1', 'x': '0233985507371e4a22cd2acc2cfed604efb2fc24400ff4a6bce8086561244f5a6d'}, 'controller': 'did:btc1:x1x03w9d88pwcj7cm4tjht5w3lg3rg2zjqzv072q2n2y8y2g9shqks5c7sl5'}], 'authentication': ['#initialKey'], 'assertionMethod': ['#initialKey'], 'capabilityInvocation': ['#initialKey'], 'capabilityDelegation': ['#initialKey'], 'service': [{'id': '#initial_p2pkh', 'type': 'SingletonBeacon', 'serviceEndpoint': 'bitcoin:mvrk1NC2TWi3gnSUkD9NMyRFqtBGFdXhHv'}, {'id': '#initial_p2wpkh', 'type': 'SingletonBeacon', 'serviceEndpoint': 'bitcoin:tb1q4prl9he7s99639g5kzp6pencna25ykmdd08h0k'}, {'id': '#initial_p2tr', 'type': 'SingletonBeacon', 'serviceEndpoint': 'bitcoin:tb1p9s5fa89ypc6dnqmxkmclxa3ecfqvrfqchejq7d89agccm9c7u5fs86akaw'}, {'id': '#smt_aggregated', 'type': 'SMTAggregatorBeacon', 'serviceEndpoint': 'bitcoin:tb1pfdnyc8vxeca2zpsg365sn308dmrpka4e0n9c5axmp2nptdf7j6ts7eqhr8'}], 'id': 'did:btc1:x1x03w9d88pwcj7cm4tjht5w3lg3rg2zjqzv072q2n2y8y2g9shqks5c7sl5'}, 'signals': {'bb1127988db99a6fa710cec1f7514de8995b69ccc6bfeb89a6877a5424ce69c8': {'update': {'@context': ['https://w3id.org/security/v2', 'https://w3id.org/zcap/v1', 'https://w3id.org/json-ld-patch/v1'], 'patch': [{'op': 'add', 'path': '/service/4', 'value': {'id': '#linked-domain', 'type': 'LinkedDomains', 'serviceEndpoint': 'https://contact-me.com'}}], 'version': 1, 'proof': {'type': 'SchnorrSecp256k12024', 'created': '2024-01-04T17:59:51Z', 'verificationMethod': '#initialKey', 'proofPurpose': 'capabilityInvocation', 'capability': 'urn:zcap:root:did%3Abtc1%3Ax1x03w9d88pwcj7cm4tjht5w3lg3rg2zjqzv072q2n2y8y2g9shqks5c7sl5', 'invocationTarget': 'did:btc1:x1x03w9d88pwcj7cm4tjht5w3lg3rg2zjqzv072q2n2y8y2g9shqks5c7sl5', 'capabilityAction': 'write', 'proofValue': 'z381yXYmxU8NudZ4HXY56DfMN6zfD8syvWcRXzT9xD9uYoQToo8QsXD7ahM3gXTzuay5WJbqTswt2BKaGWYn2hHhVFKJLXaDz'}}, 'proof': '8004953e000000000000007d94288c09736964656e6f646573945d948c176e6f6e5f6d656d626572736869705f6c65616664617461944e8c0c7369626c696e675f64617461944e752e'}}}"
   ]
  },
  {
   "cell_type": "code",
   "execution_count": 3,
   "id": "345a339d-db40-4896-8b62-6ddb7da0a9e4",
   "metadata": {},
   "outputs": [
    {
     "data": {
      "text/plain": [
       "{'initial_document': {'@context': ['https://www.w3.org/ns/did/v1'],\n",
       "  'verificationMethod': [{'id': '#initialKey',\n",
       "    'type': 'JsonWebKey',\n",
       "    'publicKeyJwk': {'kty': 'EC',\n",
       "     'crv': 'secp256k1',\n",
       "     'x': '0233985507371e4a22cd2acc2cfed604efb2fc24400ff4a6bce8086561244f5a6d'},\n",
       "    'controller': 'did:btc1:x1x03w9d88pwcj7cm4tjht5w3lg3rg2zjqzv072q2n2y8y2g9shqks5c7sl5'}],\n",
       "  'authentication': ['#initialKey'],\n",
       "  'assertionMethod': ['#initialKey'],\n",
       "  'capabilityInvocation': ['#initialKey'],\n",
       "  'capabilityDelegation': ['#initialKey'],\n",
       "  'service': [{'id': '#initial_p2pkh',\n",
       "    'type': 'SingletonBeacon',\n",
       "    'serviceEndpoint': 'bitcoin:mvrk1NC2TWi3gnSUkD9NMyRFqtBGFdXhHv'},\n",
       "   {'id': '#initial_p2wpkh',\n",
       "    'type': 'SingletonBeacon',\n",
       "    'serviceEndpoint': 'bitcoin:tb1q4prl9he7s99639g5kzp6pencna25ykmdd08h0k'},\n",
       "   {'id': '#initial_p2tr',\n",
       "    'type': 'SingletonBeacon',\n",
       "    'serviceEndpoint': 'bitcoin:tb1p9s5fa89ypc6dnqmxkmclxa3ecfqvrfqchejq7d89agccm9c7u5fs86akaw'},\n",
       "   {'id': '#smt_aggregated',\n",
       "    'type': 'SMTAggregatorBeacon',\n",
       "    'serviceEndpoint': 'bitcoin:tb1pfdnyc8vxeca2zpsg365sn308dmrpka4e0n9c5axmp2nptdf7j6ts7eqhr8'}],\n",
       "  'id': 'did:btc1:x1x03w9d88pwcj7cm4tjht5w3lg3rg2zjqzv072q2n2y8y2g9shqks5c7sl5'},\n",
       " 'signals': {'bb1127988db99a6fa710cec1f7514de8995b69ccc6bfeb89a6877a5424ce69c8': {'update': {'@context': ['https://w3id.org/security/v2',\n",
       "     'https://w3id.org/zcap/v1',\n",
       "     'https://w3id.org/json-ld-patch/v1'],\n",
       "    'patch': [{'op': 'add',\n",
       "      'path': '/service/4',\n",
       "      'value': {'id': '#linked-domain',\n",
       "       'type': 'LinkedDomains',\n",
       "       'serviceEndpoint': 'https://contact-me.com'}}],\n",
       "    'version': 1,\n",
       "    'proof': {'type': 'SchnorrSecp256k12024',\n",
       "     'created': '2024-01-04T17:59:51Z',\n",
       "     'verificationMethod': '#initialKey',\n",
       "     'proofPurpose': 'capabilityInvocation',\n",
       "     'capability': 'urn:zcap:root:did%3Abtc1%3Ax1x03w9d88pwcj7cm4tjht5w3lg3rg2zjqzv072q2n2y8y2g9shqks5c7sl5',\n",
       "     'invocationTarget': 'did:btc1:x1x03w9d88pwcj7cm4tjht5w3lg3rg2zjqzv072q2n2y8y2g9shqks5c7sl5',\n",
       "     'capabilityAction': 'write',\n",
       "     'proofValue': 'z381yXYmxU8NudZ4HXY56DfMN6zfD8syvWcRXzT9xD9uYoQToo8QsXD7ahM3gXTzuay5WJbqTswt2BKaGWYn2hHhVFKJLXaDz'}},\n",
       "   'proof': '8004953e000000000000007d94288c09736964656e6f646573945d948c176e6f6e5f6d656d626572736869705f6c65616664617461944e8c0c7369626c696e675f64617461944e752e'}}}"
      ]
     },
     "execution_count": 3,
     "metadata": {},
     "output_type": "execute_result"
    }
   ],
   "source": [
    "sidecar_history"
   ]
  },
  {
   "cell_type": "markdown",
   "id": "eddbce09-ab18-4a43-81a7-bb0d2dc33944",
   "metadata": {},
   "source": [
    "## R2. Verify Initial DID document against DID\n",
    "\n",
    "As this is a sidecar DID, the did identifier string should be derived from the initial document"
   ]
  },
  {
   "cell_type": "markdown",
   "id": "0a3a3660-f573-4f66-b409-6ca938c09dac",
   "metadata": {},
   "source": [
    "### R2.1 Split DID identifer into components"
   ]
  },
  {
   "cell_type": "code",
   "execution_count": 4,
   "id": "2f9665f4-3a71-41fa-a9c7-deeb8c14e077",
   "metadata": {},
   "outputs": [],
   "source": [
    "identifier_components = did_to_resolve.split(\":\")\n"
   ]
  },
  {
   "cell_type": "markdown",
   "id": "4116f41e-451a-4c4a-96d6-7f16869ba223",
   "metadata": {},
   "source": [
    "### R2.2 Check validity of identifier\n",
    "\n",
    "- The scheme MUST be the value did.\n",
    "- The method MUST be the value btc. \n",
    "\n",
    "#### NOTE: IGNORING these for now:\n",
    "- The version MUST be convertible to a positive integer value.\n",
    "- SHOULD check if identifier is determinstic or sidecar\n",
    "\n",
    "If any of these requirements fail, an invalidDid error MUST be raised. "
   ]
  },
  {
   "cell_type": "code",
   "execution_count": 5,
   "id": "4eac5886-be37-41db-90c6-cf2f0aa4a12f",
   "metadata": {},
   "outputs": [],
   "source": [
    "scheme = 'did'\n",
    "method = 'btc1'\n",
    "\n",
    "assert(scheme == identifier_components[0])\n",
    "assert(method == identifier_components[1])\n",
    "\n",
    "if (len(identifier_components) == 3):\n",
    "    bech32_id = identifier_components[2]\n",
    "elif (len(identifier_components) == 4):\n",
    "    # TODO should cast identifier_components[2] to check that it is not an int and hence a version not network value\n",
    "    network = identifier_components[2]\n",
    "    bech32_id = identifier_components[3]\n",
    "else:\n",
    "    console.log(\"TODO: support optional version identifier components\")"
   ]
  },
  {
   "cell_type": "markdown",
   "id": "69670196-447b-4b33-a6b8-d09f279e4af3",
   "metadata": {},
   "source": [
    "### R2.3 Verify identifier against intial DID document\n",
    "\n",
    "- Check the ID in the initial DID document matches the DID being resolved.\n",
    "- Remove ID from the initial DID document\n",
    "- Hash and encodeBase64 the initial DID document check it matches the method identifier of the DID being resolved"
   ]
  },
  {
   "cell_type": "code",
   "execution_count": 6,
   "id": "67b86290-ff98-4795-b669-efa987d94c6b",
   "metadata": {},
   "outputs": [
    {
     "name": "stdout",
     "output_type": "stream",
     "text": [
      "DID Type :  external\n"
     ]
    }
   ],
   "source": [
    "from libbtc1.bech32 import encode_bech32_identifier, decode_bech32_identifier\n",
    "\n",
    "type, hash_bytes = decode_bech32_identifier(bech32_id)\n",
    "\n",
    "\n",
    "print(\"DID Type : \", type)"
   ]
  },
  {
   "cell_type": "markdown",
   "id": "3a1d1900-bb65-4695-b7f5-8a285d773eab",
   "metadata": {},
   "source": [
    "### Note: If initial document is NOT provided, the resolver MAY turn hash_bytes into a CID and query any Content Addressable Network they think appropriate.\n",
    "\n",
    "Challenge is, there are potentially many configurations of CIDs that one can generate from a hash.\n",
    "\n",
    "The other option is that the bech32_id encodes the CID itself."
   ]
  },
  {
   "cell_type": "code",
   "execution_count": 7,
   "id": "8d0fea82-db25-458b-baba-7e8690a556e1",
   "metadata": {},
   "outputs": [],
   "source": [
    "\n",
    "\n",
    "\n",
    "initial_diddocument = sidecar_history[\"initial_document\"]\n",
    "\n",
    "assert(initial_diddocument[\"id\"] == did_to_resolve)"
   ]
  },
  {
   "cell_type": "code",
   "execution_count": 8,
   "id": "0b7bc29e-4690-4f27-a433-da5fea43454e",
   "metadata": {},
   "outputs": [
    {
     "data": {
      "text/plain": [
       "{'@context': ['https://www.w3.org/ns/did/v1'],\n",
       " 'verificationMethod': [{'id': '#initialKey',\n",
       "   'type': 'JsonWebKey',\n",
       "   'publicKeyJwk': {'kty': 'EC',\n",
       "    'crv': 'secp256k1',\n",
       "    'x': '0233985507371e4a22cd2acc2cfed604efb2fc24400ff4a6bce8086561244f5a6d'}}],\n",
       " 'authentication': ['#initialKey'],\n",
       " 'assertionMethod': ['#initialKey'],\n",
       " 'capabilityInvocation': ['#initialKey'],\n",
       " 'capabilityDelegation': ['#initialKey'],\n",
       " 'service': [{'id': '#initial_p2pkh',\n",
       "   'type': 'SingletonBeacon',\n",
       "   'serviceEndpoint': 'bitcoin:mvrk1NC2TWi3gnSUkD9NMyRFqtBGFdXhHv'},\n",
       "  {'id': '#initial_p2wpkh',\n",
       "   'type': 'SingletonBeacon',\n",
       "   'serviceEndpoint': 'bitcoin:tb1q4prl9he7s99639g5kzp6pencna25ykmdd08h0k'},\n",
       "  {'id': '#initial_p2tr',\n",
       "   'type': 'SingletonBeacon',\n",
       "   'serviceEndpoint': 'bitcoin:tb1p9s5fa89ypc6dnqmxkmclxa3ecfqvrfqchejq7d89agccm9c7u5fs86akaw'},\n",
       "  {'id': '#smt_aggregated',\n",
       "   'type': 'SMTAggregatorBeacon',\n",
       "   'serviceEndpoint': 'bitcoin:tb1pfdnyc8vxeca2zpsg365sn308dmrpka4e0n9c5axmp2nptdf7j6ts7eqhr8'}]}"
      ]
     },
     "execution_count": 8,
     "metadata": {},
     "output_type": "execute_result"
    }
   ],
   "source": [
    "import copy\n",
    "partial_diddocument = copy.deepcopy(initial_diddocument)\n",
    "\n",
    "del partial_diddocument[\"id\"]\n",
    "# TODO: May remove this pending issue in DID core\n",
    "del partial_diddocument[\"verificationMethod\"][0][\"controller\"]\n",
    "partial_diddocument"
   ]
  },
  {
   "cell_type": "code",
   "execution_count": 9,
   "id": "b7afdf62-d1be-44c8-a88c-e32f87911f46",
   "metadata": {},
   "outputs": [],
   "source": [
    "from buidl.helper import sha256, str_to_bytes, bytes_to_str, encode_base58\n",
    "import json\n",
    "\n",
    "# Do we need canoncialization here?\n",
    "data = str_to_bytes(json.dumps(partial_diddocument))\n",
    "\n",
    "hashed_initial_doc = sha256(data)\n",
    "\n",
    "assert(hash_bytes == hashed_initial_doc)"
   ]
  },
  {
   "cell_type": "code",
   "execution_count": null,
   "id": "dfd8ca5c-e62a-4021-b823-ab5c8f2bbb75",
   "metadata": {},
   "outputs": [],
   "source": []
  },
  {
   "cell_type": "markdown",
   "id": "38867371-cd5a-40ec-9f3d-a7057c990606",
   "metadata": {},
   "source": [
    "## R3. Initialize resolution variables"
   ]
  },
  {
   "cell_type": "markdown",
   "id": "1f47614e-196b-4c68-89f5-b7e2f2fb00e3",
   "metadata": {},
   "source": [
    "### R3.1 Initialize latest document to initial document"
   ]
  },
  {
   "cell_type": "code",
   "execution_count": 10,
   "id": "108d8b3b-541c-452e-a648-38cbf3362d73",
   "metadata": {},
   "outputs": [],
   "source": [
    "latest_document = copy.deepcopy(initial_diddocument)"
   ]
  },
  {
   "cell_type": "markdown",
   "id": "e34be0ec-fa86-42a3-ab0b-bb276ed4405a",
   "metadata": {},
   "source": [
    "### R3.2 Initialize activeBeaconIDs to empty array\n",
    "\n",
    "The active beacon IDs will track the identifiers for beacon services in the latest DID document. This will change as DID updates are applied."
   ]
  },
  {
   "cell_type": "code",
   "execution_count": 11,
   "id": "747a6cec-339f-470a-87ca-0f5e64372343",
   "metadata": {},
   "outputs": [],
   "source": [
    "active_beacon_ids = []"
   ]
  },
  {
   "cell_type": "markdown",
   "id": "64eec6e0-138b-44a1-ab0c-cd5109802a25",
   "metadata": {},
   "source": [
    "### R3.3 Initialize current version to 0\n",
    "\n",
    "All DID updates will have a version number, this specifies the order that the update should be applied starting from the initial document with a version of 0."
   ]
  },
  {
   "cell_type": "code",
   "execution_count": 12,
   "id": "1ac730e1-9d90-4049-8c73-7ba8ec7e29b9",
   "metadata": {},
   "outputs": [],
   "source": [
    "current_version = 0"
   ]
  },
  {
   "cell_type": "markdown",
   "id": "726ce095-66b3-4c13-af25-8a8b3ff0e60c",
   "metadata": {},
   "source": [
    "### R3.4 Initialize beacon signals data to an empty array\n",
    "\n",
    "Ordered signals data stores data about beacon signals retrieved from the bitcoin network"
   ]
  },
  {
   "cell_type": "code",
   "execution_count": 13,
   "id": "663bc18a-eb7c-4a15-b48a-4448d777d7a4",
   "metadata": {},
   "outputs": [],
   "source": [
    "beacon_signals_data = []"
   ]
  },
  {
   "cell_type": "markdown",
   "id": "6ac4d0f5-f71b-4b4d-956c-0c60b40c0ef7",
   "metadata": {},
   "source": [
    "### R3.5 Initialze processedUpdated and pendingUpdates to empty arrays.\n",
    "\n",
    "- The processed updates array stores updates that have previously been applied to the DID document, this can be used to verify updates of the same sequence number are the same.\n",
    "- The pending updates array stores updates that still need to be applied to the DID document. Likely becauase an update with an earlier sequence number has not yet been found."
   ]
  },
  {
   "cell_type": "code",
   "execution_count": 14,
   "id": "329c3b53-b349-4ea2-b398-0bffffdffbfe",
   "metadata": {},
   "outputs": [],
   "source": [
    "processed_updates = []\n",
    "pending_updates = []"
   ]
  },
  {
   "cell_type": "markdown",
   "id": "c245744a-851d-4505-b2c4-863293136a10",
   "metadata": {},
   "source": [
    "## R4. Collect beacon signals (btc txs) from bitcoin for all beacons\n",
    "\n",
    "Note: Is this all beacons in the initial DID document, or the current DID document. Or both? What about beacons that are added and removed in the inbetween states."
   ]
  },
  {
   "cell_type": "markdown",
   "id": "a2640414-d732-4755-8d25-2cb01e91f789",
   "metadata": {},
   "source": [
    "### R4.1 Get all beacon services from DID document"
   ]
  },
  {
   "cell_type": "code",
   "execution_count": 15,
   "id": "df585a47-75ad-4b78-b5e5-30cd2753450e",
   "metadata": {},
   "outputs": [
    {
     "data": {
      "text/plain": [
       "[{'id': '#initial_p2pkh',\n",
       "  'type': 'SingletonBeacon',\n",
       "  'serviceEndpoint': 'bitcoin:mvrk1NC2TWi3gnSUkD9NMyRFqtBGFdXhHv'},\n",
       " {'id': '#initial_p2wpkh',\n",
       "  'type': 'SingletonBeacon',\n",
       "  'serviceEndpoint': 'bitcoin:tb1q4prl9he7s99639g5kzp6pencna25ykmdd08h0k'},\n",
       " {'id': '#initial_p2tr',\n",
       "  'type': 'SingletonBeacon',\n",
       "  'serviceEndpoint': 'bitcoin:tb1p9s5fa89ypc6dnqmxkmclxa3ecfqvrfqchejq7d89agccm9c7u5fs86akaw'},\n",
       " {'id': '#smt_aggregated',\n",
       "  'type': 'SMTAggregatorBeacon',\n",
       "  'serviceEndpoint': 'bitcoin:tb1pfdnyc8vxeca2zpsg365sn308dmrpka4e0n9c5axmp2nptdf7j6ts7eqhr8'}]"
      ]
     },
     "execution_count": 15,
     "metadata": {},
     "output_type": "execute_result"
    }
   ],
   "source": [
    "def find_beacon_services(service):\n",
    "    # Note: also should support CID aggregated\n",
    "    if service[\"type\"] == \"SingletonBeacon\" or service[\"type\"] == \"SMTAggregatorBeacon\":        \n",
    "        return True\n",
    "    else:\n",
    "        return False\n",
    "\n",
    "services = latest_document[\"service\"]\n",
    "beacon_services = list(filter(find_beacon_services, services))\n",
    "beacon_services"
   ]
  },
  {
   "cell_type": "markdown",
   "id": "6d0eb65a-ff2c-4f57-8e90-52d1ab94b6ef",
   "metadata": {},
   "source": [
    "### R4.2 Fetch beacon signals for each beacon service"
   ]
  },
  {
   "cell_type": "code",
   "execution_count": 16,
   "id": "b2e3dca8-d664-4f08-9d1d-fdb20cb1064a",
   "metadata": {},
   "outputs": [],
   "source": [
    "import requests\n",
    "\n",
    "## Define function\n",
    "def fetch_beacon_signals(network, beacon_service):\n",
    "    # 1. initialize beacon signals array\n",
    "    beacon_signals = []\n",
    "    # 2. Set `beaconAddressURI` to `beaconService.serviceEndpoint`\n",
    "    beacon_address_uri = beacon_service[\"serviceEndpoint\"]\n",
    "    # 3. Set `beaconAddress` to the conversion of `beaconAddressURI` to a bitcoin address following BIP21.\n",
    "    beacon_address = beacon_address_uri.split(':')[1]\n",
    "    print(\"\\nBeacon address\", beacon_address)\n",
    "    # 4. Set `spendTxs` to the spends on the Bitcoin blockchain `network` from the `beaconAddress`. \n",
    "    response = requests.get(f'https://mempool.space/{network}/api/address/{beacon_address}/txs')\n",
    "    # Tx data\n",
    "    txs_data = response.json()\n",
    "    # TODO: call tx data.\n",
    "    spend_txs_data = []\n",
    "    \n",
    "\n",
    "    for tx_data in txs_data:\n",
    "        # Only care about bitcoin transactions that have been accepted into the chain.\n",
    "        # Should have X number of confirmations\n",
    "        # Check if the address is an input (it's spending an UTXO)\n",
    "        if any(vin['prevout']['scriptpubkey_address'] == beacon_address for vin in tx_data['vin']):\n",
    "            spend_txs_data.append(tx_data)\n",
    "\n",
    "    if len(spend_txs_data) == 0:\n",
    "        print(f\"No beacon signals found from {beacon_service[\"type\"]} with address {beacon_address}\")\n",
    "\n",
    "    # Now, spend_txs contains all transactions where the address spent an UTXO\n",
    "    for tx_data in spend_txs_data:\n",
    "        print(tx_data)\n",
    "\n",
    "        if (tx_data[\"status\"][\"confirmed\"]):\n",
    "            signal = {\n",
    "                \"beacon_id\": beacon_service[\"id\"],\n",
    "                \"beacon_type\": beacon_service[\"type\"],\n",
    "                \"block_height\": tx_data[\"status\"][\"block_height\"],\n",
    "                \"tx\": tx_data\n",
    "            }\n",
    "            beacon_signals_data.append(signal)\n",
    "        else:\n",
    "            print(\"Signal not yet confirmed in bitcoin blockchain\")\n",
    "\n",
    "    return beacon_signals_data"
   ]
  },
  {
   "cell_type": "code",
   "execution_count": 17,
   "id": "08fb4113-8b4d-4554-a24b-4d0bbf12461e",
   "metadata": {},
   "outputs": [
    {
     "name": "stdout",
     "output_type": "stream",
     "text": [
      "\n",
      "Fetch signals\n",
      "\n",
      "Beacon address mvrk1NC2TWi3gnSUkD9NMyRFqtBGFdXhHv\n",
      "No beacon signals found from SingletonBeacon with address mvrk1NC2TWi3gnSUkD9NMyRFqtBGFdXhHv\n",
      "\n",
      "Fetch signals\n",
      "\n",
      "Beacon address tb1q4prl9he7s99639g5kzp6pencna25ykmdd08h0k\n",
      "No beacon signals found from SingletonBeacon with address tb1q4prl9he7s99639g5kzp6pencna25ykmdd08h0k\n",
      "\n",
      "Fetch signals\n",
      "\n",
      "Beacon address tb1p9s5fa89ypc6dnqmxkmclxa3ecfqvrfqchejq7d89agccm9c7u5fs86akaw\n",
      "No beacon signals found from SingletonBeacon with address tb1p9s5fa89ypc6dnqmxkmclxa3ecfqvrfqchejq7d89agccm9c7u5fs86akaw\n",
      "\n",
      "Fetch signals\n",
      "\n",
      "Beacon address tb1pfdnyc8vxeca2zpsg365sn308dmrpka4e0n9c5axmp2nptdf7j6ts7eqhr8\n",
      "{'txid': 'bb1127988db99a6fa710cec1f7514de8995b69ccc6bfeb89a6877a5424ce69c8', 'version': 1, 'locktime': 0, 'vin': [{'txid': 'e067ea53780be9ca587bdc76f0bf81e949bd3e2e9052d99049eaac5feffb7c58', 'vout': 1, 'prevout': {'scriptpubkey': '51204b664c1d86ce3aa106088ea909c5e76ec61b76b97ccb8a74db0aa615b53e9697', 'scriptpubkey_asm': 'OP_PUSHNUM_1 OP_PUSHBYTES_32 4b664c1d86ce3aa106088ea909c5e76ec61b76b97ccb8a74db0aa615b53e9697', 'scriptpubkey_type': 'v1_p2tr', 'scriptpubkey_address': 'tb1pfdnyc8vxeca2zpsg365sn308dmrpka4e0n9c5axmp2nptdf7j6ts7eqhr8', 'value': 99650}, 'scriptsig': '', 'scriptsig_asm': '', 'witness': ['21f5199ab431b079f8a45fb2a2d7f44c8ecc40da05d1d2d567e6eeb80acbe845c674656896244b1ccb9cb255ce9329ed5b52b12c0e21e83b75ed11890bd0ea9d'], 'is_coinbase': False, 'sequence': 4294967295}], 'vout': [{'scriptpubkey': '6a208f575188a0adc6c56a946efef41b2e85193da5c0c928c4695a073df3225142bb', 'scriptpubkey_asm': 'OP_RETURN OP_PUSHBYTES_32 8f575188a0adc6c56a946efef41b2e85193da5c0c928c4695a073df3225142bb', 'scriptpubkey_type': 'op_return', 'value': 0}, {'scriptpubkey': '51204b664c1d86ce3aa106088ea909c5e76ec61b76b97ccb8a74db0aa615b53e9697', 'scriptpubkey_asm': 'OP_PUSHNUM_1 OP_PUSHBYTES_32 4b664c1d86ce3aa106088ea909c5e76ec61b76b97ccb8a74db0aa615b53e9697', 'scriptpubkey_type': 'v1_p2tr', 'scriptpubkey_address': 'tb1pfdnyc8vxeca2zpsg365sn308dmrpka4e0n9c5axmp2nptdf7j6ts7eqhr8', 'value': 99300}], 'size': 205, 'weight': 616, 'sigops': 0, 'fee': 350, 'status': {'confirmed': True, 'block_height': 218608, 'block_hash': '00000075d6da235c369fa56fef1ced9f6b79b56504483c10ab9899db0eced207', 'block_time': 1729606188}}\n",
      "{'txid': 'e067ea53780be9ca587bdc76f0bf81e949bd3e2e9052d99049eaac5feffb7c58', 'version': 1, 'locktime': 0, 'vin': [{'txid': '222b2223defe2b5cdb6261763753b8c755ce73a77d1bec596a6b308d8c60a2d4', 'vout': 1, 'prevout': {'scriptpubkey': '51204b664c1d86ce3aa106088ea909c5e76ec61b76b97ccb8a74db0aa615b53e9697', 'scriptpubkey_asm': 'OP_PUSHNUM_1 OP_PUSHBYTES_32 4b664c1d86ce3aa106088ea909c5e76ec61b76b97ccb8a74db0aa615b53e9697', 'scriptpubkey_type': 'v1_p2tr', 'scriptpubkey_address': 'tb1pfdnyc8vxeca2zpsg365sn308dmrpka4e0n9c5axmp2nptdf7j6ts7eqhr8', 'value': 100000}, 'scriptsig': '', 'scriptsig_asm': '', 'witness': ['7ee0e03101593578f98f597b8052efb9b91680708da66f8230148393b2bc6d700d3d271dae5aae54301748e86e54e1e4904b623798639803b6b7ead76049b83a'], 'is_coinbase': False, 'sequence': 4294967295}], 'vout': [{'scriptpubkey': '6a206917251953193498c3a8330bf5300ed2c1203a35146815bdba3fb0d92195a415', 'scriptpubkey_asm': 'OP_RETURN OP_PUSHBYTES_32 6917251953193498c3a8330bf5300ed2c1203a35146815bdba3fb0d92195a415', 'scriptpubkey_type': 'op_return', 'value': 0}, {'scriptpubkey': '51204b664c1d86ce3aa106088ea909c5e76ec61b76b97ccb8a74db0aa615b53e9697', 'scriptpubkey_asm': 'OP_PUSHNUM_1 OP_PUSHBYTES_32 4b664c1d86ce3aa106088ea909c5e76ec61b76b97ccb8a74db0aa615b53e9697', 'scriptpubkey_type': 'v1_p2tr', 'scriptpubkey_address': 'tb1pfdnyc8vxeca2zpsg365sn308dmrpka4e0n9c5axmp2nptdf7j6ts7eqhr8', 'value': 99650}], 'size': 205, 'weight': 616, 'sigops': 0, 'fee': 350, 'status': {'confirmed': True, 'block_height': 185525, 'block_hash': '0000006d1c3ee53dfbc862e9c8c8fb631be270cb0972c5924bd0569b27579d07', 'block_time': 1709664681}}\n"
     ]
    }
   ],
   "source": [
    "\n",
    "## Run fetch_beacon_signals for each beacon service not currently fetched from\n",
    "for beacon_service in beacon_services:\n",
    "    if (beacon_service[\"id\"] not in active_beacon_ids):\n",
    "        # Fetch beacon signals\n",
    "        print(\"\\nFetch signals\")\n",
    "        network = \"signet\"\n",
    "        beacon_signals = fetch_beacon_signals(network, beacon_service)\n",
    "\n",
    "        beacon_signals_data += beacon_signals\n",
    "        ## Signals from beacon have been processed\n",
    "        active_beacon_ids.append(beacon_service[\"id\"])"
   ]
  },
  {
   "cell_type": "markdown",
   "id": "e6b1ca5a-a448-4a5d-a5f0-985da8d89243",
   "metadata": {},
   "source": [
    "## R4.3 Check processed all beacons in services. \n",
    "\n",
    "This is a proposed algorithm. It is left as a TODO:\n",
    "\n",
    "If `activeBeaconIDs.length !== beaconServices.length`:\n",
    "  - Identify beaconIds in `activeBeaconIDs` and NOT in the `beaconServices` array. Store in `removedBeaconIDs`.\n",
    "  - Remove all signals from the `orderedSignals` array with a `signal.beaconId` value in the `removedBeaconIDs` array.\n",
    "  - Remove `removedBeaconIDs` from the `activeBeaconIDs` array.\n",
    "  - Set `removedBeaconIDs` to an empty array\n",
    "  - Expect the length of `activeBeaconIDs` to equal the length of `beaconServices`\n",
    "\n",
    "**Question:** If a beacon is removed from a DID document in a valid update, do we remove any beacon signals from that beacon that were broadcast to the network at a blocktime that is greater than the beacon signal that contained the DID update that removed the beacon?if (len(active_beacon_ids) != len(beacon_services)):\n",
    "    print(\"TODO\")"
   ]
  },
  {
   "cell_type": "code",
   "execution_count": 18,
   "id": "ec3272fa-487f-42e5-90ac-0d68e9e9aa59",
   "metadata": {},
   "outputs": [
    {
     "name": "stdout",
     "output_type": "stream",
     "text": [
      "All beacon signals returned from active beacon services in DID document\n"
     ]
    }
   ],
   "source": [
    "if (len(active_beacon_ids) != len(beacon_services)):\n",
    "    print(\"TODO\")\n",
    "else:\n",
    "    print(\"All beacon signals returned from active beacon services in DID document\")"
   ]
  },
  {
   "cell_type": "markdown",
   "id": "08287bf7-5999-4c34-9f64-6c8053202a6e",
   "metadata": {},
   "source": [
    "### R4.4 If no beacon signals AND no pending updates to process, return latest DID document\n",
    "\n"
   ]
  },
  {
   "cell_type": "code",
   "execution_count": 19,
   "id": "51cc13df-ab58-4f16-9796-053092755967",
   "metadata": {},
   "outputs": [
    {
     "name": "stdout",
     "output_type": "stream",
     "text": [
      "Still have signals to process\n"
     ]
    }
   ],
   "source": [
    "if (len(beacon_signals_data) == 0):\n",
    "    if (len(pending_updates) == 0):    \n",
    "        print(\"RESOLUTION COMPLETE\\n\\n\")\n",
    "        print(f\"No more signals to process, returning latest document for {did_to_resolve}\\n\")\n",
    "        print(latest_document)\n",
    "    else:\n",
    "        raise \"Error: no more beacon signals but still have pending updates to process. Unable to build full history of DID document updates from available beacon signals\"\n",
    "else:\n",
    "    print(\"Still have signals to process\")"
   ]
  },
  {
   "cell_type": "markdown",
   "id": "63aea539-49e4-4f7f-8ebd-7cbd1118ece8",
   "metadata": {},
   "source": [
    "### R4.5 Sort beacon signals data using block height"
   ]
  },
  {
   "cell_type": "code",
   "execution_count": 20,
   "id": "6a28d6ef-0948-484c-8af0-4309ed19df4b",
   "metadata": {},
   "outputs": [],
   "source": [
    "beacon_signals_data.sort(key=lambda x: x[\"block_height\"])"
   ]
  },
  {
   "cell_type": "markdown",
   "id": "f5ec3a2a-9e12-4bf4-8610-2441820a6a3b",
   "metadata": {},
   "source": [
    "## R5. Process Beacon Signals to retrieve DID updates according to beacon type\n",
    "\n",
    "This notebook is only processing beacon signals of the SMTAggregatedBTCBeacon type.\n",
    "\n",
    "For each smt beacon signal we:\n",
    "\n",
    "1. Get the txid\n",
    "2. Get the sidecar data for that txid (If no sidecar data, throw error)\n",
    "3. Get SMT root from the first tx output of the signal\n",
    "4. Check the sidecar provided merkle proof and did update invocation (may be null) using the DID being resolved as the key against the SMT root.\n",
    "5. If verified, add did update invocation to list of pending updates\n",
    "\n"
   ]
  },
  {
   "cell_type": "code",
   "execution_count": 21,
   "id": "503fb6eb-3d17-4f37-a2f7-d8dd1735f336",
   "metadata": {},
   "outputs": [],
   "source": [
    "from buidl.script import Script\n",
    "from buidl.helper import bytes_to_str\n",
    "from smt.tree import SparseMerkleTree\n",
    "from smt.proof import verify_proof, SparseMerkleProof\n",
    "from smt.utils import DEFAULTVALUE\n",
    "import pickle\n",
    "\n",
    "\n",
    "\n",
    "def process_smt_beacon_signal(tx):\n",
    "    # 1. Get txid\n",
    "    txid = tx[\"txid\"]\n",
    "    # 2. Get sidecar data for txid\n",
    "    signal_sidecar_data = sidecar_history[\"signals\"].get(txid)\n",
    "    if signal_sidecar_data == None:\n",
    "        # Throw error if no sidecar data found\n",
    "        raise Exception(\"No signal data provided for signal with txid : \" + txid)\n",
    "\n",
    "    # 3. Get SMT root from the first tx output of the signal bitcoin tx\n",
    "    # Fetch txout from signal\n",
    "    tx_out = tx[\"vout\"][0]\n",
    "\n",
    "    # Check txOut is of the format [OP_RETURN, 32BYTE_CID], if not MUST raise invalidBeaconSignal error.\n",
    "    assert(tx_out[\"scriptpubkey_type\"] == \"op_return\")\n",
    "    scriptpubkey_hex = tx_out[\"scriptpubkey\"]\n",
    "    script = Script.parse_hex(scriptpubkey_hex)\n",
    "    \n",
    "    assert(len(script.commands[1]) == 32)\n",
    "    # Fetch SMT root from txout script pubkey\n",
    "    smt_root = script.commands[1]\n",
    "    print(f\"SMT root: {smt_root}\")\n",
    "\n",
    "    # 4. Check the sidecar provided merkle proof and did update invocation (may be null) \n",
    "    # using the DID being resolved as the key against the SMT root.\n",
    "    \n",
    "    # Fetch SMT proof from sidecar data\n",
    "    proof_hex = signal_sidecar_data[\"proof\"]\n",
    "    proof = bytes.fromhex(proof_hex)\n",
    "    proof_data = pickle.loads(proof)\n",
    "    smt_proof = SparseMerkleProof(sidenodes=proof_data['sidenodes'], non_membership_leafdata=proof_data[\"non_membership_leafdata\"], siblingdata=proof_data[\"sibling_data\"])\n",
    "    \n",
    "\n",
    "     # Key to SMT leaf\n",
    "    did_bytes = str_to_bytes(did_to_resolve)\n",
    "    # Data at leaf. Either None or an invocation\n",
    "    did_update_invocation = signal_sidecar_data[\"update\"]\n",
    "\n",
    "    leaf_value = DEFAULTVALUE\n",
    "    if did_update_invocation:\n",
    "        leaf_value = str_to_bytes(json.dumps(did_update_invocation))\n",
    "\n",
    "    verified = verify_proof(smt_proof, smt_root, did_bytes, leaf_value)\n",
    "    print(f\"\\nSMT proof for {did_to_resolve} and Update \\n{did_update_invocation}\\nVerified : {verified}\\n\")\n",
    "\n",
    "    # 5. If verified, add did update invocation to list of pending updates\n",
    "    if verified:\n",
    "        print(f\"\\nverified update for {did_to_resolve}:\\n{did_update_invocation}\\n\")\n",
    "        if did_update_invocation:\n",
    "            pending_updates.append(did_update_invocation)"
   ]
  },
  {
   "cell_type": "code",
   "execution_count": 27,
   "id": "38821152-3656-4074-a5af-a76f121dcba8",
   "metadata": {},
   "outputs": [
    {
     "name": "stdout",
     "output_type": "stream",
     "text": [
      "Processing beacon signal of Type SMTAggregatorBeacon\n"
     ]
    },
    {
     "ename": "Exception",
     "evalue": "No signal data provided for signal with txid : e067ea53780be9ca587bdc76f0bf81e949bd3e2e9052d99049eaac5feffb7c58",
     "output_type": "error",
     "traceback": [
      "\u001b[0;31m---------------------------------------------------------------------------\u001b[0m",
      "\u001b[0;31mException\u001b[0m                                 Traceback (most recent call last)",
      "Cell \u001b[0;32mIn[27], line 8\u001b[0m\n\u001b[1;32m      6\u001b[0m         \u001b[38;5;28mprint\u001b[39m(\u001b[38;5;124mf\u001b[39m\u001b[38;5;124m\"\u001b[39m\u001b[38;5;124mProcessing beacon signal of Type \u001b[39m\u001b[38;5;132;01m{\u001b[39;00mbeacon_type\u001b[38;5;132;01m}\u001b[39;00m\u001b[38;5;124m\"\u001b[39m)\n\u001b[1;32m      7\u001b[0m         signal_tx \u001b[38;5;241m=\u001b[39m signal_data[\u001b[38;5;124m\"\u001b[39m\u001b[38;5;124mtx\u001b[39m\u001b[38;5;124m\"\u001b[39m]\n\u001b[0;32m----> 8\u001b[0m         \u001b[43mprocess_smt_beacon_signal\u001b[49m\u001b[43m(\u001b[49m\u001b[43msignal_tx\u001b[49m\u001b[43m)\u001b[49m\n\u001b[1;32m      9\u001b[0m         beacon_signals_data\u001b[38;5;241m.\u001b[39mremove(signal_data)\n\u001b[1;32m     10\u001b[0m \u001b[38;5;28;01melse\u001b[39;00m:\n",
      "Cell \u001b[0;32mIn[21], line 17\u001b[0m, in \u001b[0;36mprocess_smt_beacon_signal\u001b[0;34m(tx)\u001b[0m\n\u001b[1;32m     14\u001b[0m signal_sidecar_data \u001b[38;5;241m=\u001b[39m sidecar_history[\u001b[38;5;124m\"\u001b[39m\u001b[38;5;124msignals\u001b[39m\u001b[38;5;124m\"\u001b[39m]\u001b[38;5;241m.\u001b[39mget(txid)\n\u001b[1;32m     15\u001b[0m \u001b[38;5;28;01mif\u001b[39;00m signal_sidecar_data \u001b[38;5;241m==\u001b[39m \u001b[38;5;28;01mNone\u001b[39;00m:\n\u001b[1;32m     16\u001b[0m     \u001b[38;5;66;03m# Throw error if no sidecar data found\u001b[39;00m\n\u001b[0;32m---> 17\u001b[0m     \u001b[38;5;28;01mraise\u001b[39;00m \u001b[38;5;167;01mException\u001b[39;00m(\u001b[38;5;124m\"\u001b[39m\u001b[38;5;124mNo signal data provided for signal with txid : \u001b[39m\u001b[38;5;124m\"\u001b[39m \u001b[38;5;241m+\u001b[39m txid)\n\u001b[1;32m     19\u001b[0m \u001b[38;5;66;03m# 3. Get SMT root from the first tx output of the signal bitcoin tx\u001b[39;00m\n\u001b[1;32m     20\u001b[0m \u001b[38;5;66;03m# Fetch txout from signal\u001b[39;00m\n\u001b[1;32m     21\u001b[0m tx_out \u001b[38;5;241m=\u001b[39m tx[\u001b[38;5;124m\"\u001b[39m\u001b[38;5;124mvout\u001b[39m\u001b[38;5;124m\"\u001b[39m][\u001b[38;5;241m0\u001b[39m]\n",
      "\u001b[0;31mException\u001b[0m: No signal data provided for signal with txid : e067ea53780be9ca587bdc76f0bf81e949bd3e2e9052d99049eaac5feffb7c58"
     ]
    }
   ],
   "source": [
    "\n",
    "\n",
    "# Run process smt beacon signals for all SMTAggregatedBTCBeacons signals in the beacon_signals_data\n",
    "# TODO: remove signals from ordered signals data as you process them.\n",
    "for signal_data in beacon_signals_data:\n",
    "    beacon_type = signal_data[\"beacon_type\"]\n",
    "    if beacon_type == \"SMTAggregatorBeacon\":\n",
    "            print(f\"Processing beacon signal of Type {beacon_type}\")\n",
    "            signal_tx = signal_data[\"tx\"]\n",
    "            process_smt_beacon_signal(signal_tx)\n",
    "            beacon_signals_data.remove(signal_data)\n",
    "    else:\n",
    "        print(\"Not Implemented: Unable to process beacon of type \" + beacon_type)\n",
    "        break\n",
    "    \n",
    "    "
   ]
  },
  {
   "cell_type": "code",
   "execution_count": 23,
   "id": "b5119c35-4399-405c-a3b2-8331c993c7f9",
   "metadata": {},
   "outputs": [
    {
     "data": {
      "text/plain": [
       "[{'beacon_id': '#smt_aggregated',\n",
       "  'beacon_type': 'SMTAggregatorBeacon',\n",
       "  'block_height': 185525,\n",
       "  'tx': {'txid': 'e067ea53780be9ca587bdc76f0bf81e949bd3e2e9052d99049eaac5feffb7c58',\n",
       "   'version': 1,\n",
       "   'locktime': 0,\n",
       "   'vin': [{'txid': '222b2223defe2b5cdb6261763753b8c755ce73a77d1bec596a6b308d8c60a2d4',\n",
       "     'vout': 1,\n",
       "     'prevout': {'scriptpubkey': '51204b664c1d86ce3aa106088ea909c5e76ec61b76b97ccb8a74db0aa615b53e9697',\n",
       "      'scriptpubkey_asm': 'OP_PUSHNUM_1 OP_PUSHBYTES_32 4b664c1d86ce3aa106088ea909c5e76ec61b76b97ccb8a74db0aa615b53e9697',\n",
       "      'scriptpubkey_type': 'v1_p2tr',\n",
       "      'scriptpubkey_address': 'tb1pfdnyc8vxeca2zpsg365sn308dmrpka4e0n9c5axmp2nptdf7j6ts7eqhr8',\n",
       "      'value': 100000},\n",
       "     'scriptsig': '',\n",
       "     'scriptsig_asm': '',\n",
       "     'witness': ['7ee0e03101593578f98f597b8052efb9b91680708da66f8230148393b2bc6d700d3d271dae5aae54301748e86e54e1e4904b623798639803b6b7ead76049b83a'],\n",
       "     'is_coinbase': False,\n",
       "     'sequence': 4294967295}],\n",
       "   'vout': [{'scriptpubkey': '6a206917251953193498c3a8330bf5300ed2c1203a35146815bdba3fb0d92195a415',\n",
       "     'scriptpubkey_asm': 'OP_RETURN OP_PUSHBYTES_32 6917251953193498c3a8330bf5300ed2c1203a35146815bdba3fb0d92195a415',\n",
       "     'scriptpubkey_type': 'op_return',\n",
       "     'value': 0},\n",
       "    {'scriptpubkey': '51204b664c1d86ce3aa106088ea909c5e76ec61b76b97ccb8a74db0aa615b53e9697',\n",
       "     'scriptpubkey_asm': 'OP_PUSHNUM_1 OP_PUSHBYTES_32 4b664c1d86ce3aa106088ea909c5e76ec61b76b97ccb8a74db0aa615b53e9697',\n",
       "     'scriptpubkey_type': 'v1_p2tr',\n",
       "     'scriptpubkey_address': 'tb1pfdnyc8vxeca2zpsg365sn308dmrpka4e0n9c5axmp2nptdf7j6ts7eqhr8',\n",
       "     'value': 99650}],\n",
       "   'size': 205,\n",
       "   'weight': 616,\n",
       "   'sigops': 0,\n",
       "   'fee': 350,\n",
       "   'status': {'confirmed': True,\n",
       "    'block_height': 185525,\n",
       "    'block_hash': '0000006d1c3ee53dfbc862e9c8c8fb631be270cb0972c5924bd0569b27579d07',\n",
       "    'block_time': 1709664681}}},\n",
       " {'beacon_id': '#smt_aggregated',\n",
       "  'beacon_type': 'SMTAggregatorBeacon',\n",
       "  'block_height': 185525,\n",
       "  'tx': {'txid': 'e067ea53780be9ca587bdc76f0bf81e949bd3e2e9052d99049eaac5feffb7c58',\n",
       "   'version': 1,\n",
       "   'locktime': 0,\n",
       "   'vin': [{'txid': '222b2223defe2b5cdb6261763753b8c755ce73a77d1bec596a6b308d8c60a2d4',\n",
       "     'vout': 1,\n",
       "     'prevout': {'scriptpubkey': '51204b664c1d86ce3aa106088ea909c5e76ec61b76b97ccb8a74db0aa615b53e9697',\n",
       "      'scriptpubkey_asm': 'OP_PUSHNUM_1 OP_PUSHBYTES_32 4b664c1d86ce3aa106088ea909c5e76ec61b76b97ccb8a74db0aa615b53e9697',\n",
       "      'scriptpubkey_type': 'v1_p2tr',\n",
       "      'scriptpubkey_address': 'tb1pfdnyc8vxeca2zpsg365sn308dmrpka4e0n9c5axmp2nptdf7j6ts7eqhr8',\n",
       "      'value': 100000},\n",
       "     'scriptsig': '',\n",
       "     'scriptsig_asm': '',\n",
       "     'witness': ['7ee0e03101593578f98f597b8052efb9b91680708da66f8230148393b2bc6d700d3d271dae5aae54301748e86e54e1e4904b623798639803b6b7ead76049b83a'],\n",
       "     'is_coinbase': False,\n",
       "     'sequence': 4294967295}],\n",
       "   'vout': [{'scriptpubkey': '6a206917251953193498c3a8330bf5300ed2c1203a35146815bdba3fb0d92195a415',\n",
       "     'scriptpubkey_asm': 'OP_RETURN OP_PUSHBYTES_32 6917251953193498c3a8330bf5300ed2c1203a35146815bdba3fb0d92195a415',\n",
       "     'scriptpubkey_type': 'op_return',\n",
       "     'value': 0},\n",
       "    {'scriptpubkey': '51204b664c1d86ce3aa106088ea909c5e76ec61b76b97ccb8a74db0aa615b53e9697',\n",
       "     'scriptpubkey_asm': 'OP_PUSHNUM_1 OP_PUSHBYTES_32 4b664c1d86ce3aa106088ea909c5e76ec61b76b97ccb8a74db0aa615b53e9697',\n",
       "     'scriptpubkey_type': 'v1_p2tr',\n",
       "     'scriptpubkey_address': 'tb1pfdnyc8vxeca2zpsg365sn308dmrpka4e0n9c5axmp2nptdf7j6ts7eqhr8',\n",
       "     'value': 99650}],\n",
       "   'size': 205,\n",
       "   'weight': 616,\n",
       "   'sigops': 0,\n",
       "   'fee': 350,\n",
       "   'status': {'confirmed': True,\n",
       "    'block_height': 185525,\n",
       "    'block_hash': '0000006d1c3ee53dfbc862e9c8c8fb631be270cb0972c5924bd0569b27579d07',\n",
       "    'block_time': 1709664681}}},\n",
       " {'beacon_id': '#smt_aggregated',\n",
       "  'beacon_type': 'SMTAggregatorBeacon',\n",
       "  'block_height': 218608,\n",
       "  'tx': {'txid': 'bb1127988db99a6fa710cec1f7514de8995b69ccc6bfeb89a6877a5424ce69c8',\n",
       "   'version': 1,\n",
       "   'locktime': 0,\n",
       "   'vin': [{'txid': 'e067ea53780be9ca587bdc76f0bf81e949bd3e2e9052d99049eaac5feffb7c58',\n",
       "     'vout': 1,\n",
       "     'prevout': {'scriptpubkey': '51204b664c1d86ce3aa106088ea909c5e76ec61b76b97ccb8a74db0aa615b53e9697',\n",
       "      'scriptpubkey_asm': 'OP_PUSHNUM_1 OP_PUSHBYTES_32 4b664c1d86ce3aa106088ea909c5e76ec61b76b97ccb8a74db0aa615b53e9697',\n",
       "      'scriptpubkey_type': 'v1_p2tr',\n",
       "      'scriptpubkey_address': 'tb1pfdnyc8vxeca2zpsg365sn308dmrpka4e0n9c5axmp2nptdf7j6ts7eqhr8',\n",
       "      'value': 99650},\n",
       "     'scriptsig': '',\n",
       "     'scriptsig_asm': '',\n",
       "     'witness': ['21f5199ab431b079f8a45fb2a2d7f44c8ecc40da05d1d2d567e6eeb80acbe845c674656896244b1ccb9cb255ce9329ed5b52b12c0e21e83b75ed11890bd0ea9d'],\n",
       "     'is_coinbase': False,\n",
       "     'sequence': 4294967295}],\n",
       "   'vout': [{'scriptpubkey': '6a208f575188a0adc6c56a946efef41b2e85193da5c0c928c4695a073df3225142bb',\n",
       "     'scriptpubkey_asm': 'OP_RETURN OP_PUSHBYTES_32 8f575188a0adc6c56a946efef41b2e85193da5c0c928c4695a073df3225142bb',\n",
       "     'scriptpubkey_type': 'op_return',\n",
       "     'value': 0},\n",
       "    {'scriptpubkey': '51204b664c1d86ce3aa106088ea909c5e76ec61b76b97ccb8a74db0aa615b53e9697',\n",
       "     'scriptpubkey_asm': 'OP_PUSHNUM_1 OP_PUSHBYTES_32 4b664c1d86ce3aa106088ea909c5e76ec61b76b97ccb8a74db0aa615b53e9697',\n",
       "     'scriptpubkey_type': 'v1_p2tr',\n",
       "     'scriptpubkey_address': 'tb1pfdnyc8vxeca2zpsg365sn308dmrpka4e0n9c5axmp2nptdf7j6ts7eqhr8',\n",
       "     'value': 99300}],\n",
       "   'size': 205,\n",
       "   'weight': 616,\n",
       "   'sigops': 0,\n",
       "   'fee': 350,\n",
       "   'status': {'confirmed': True,\n",
       "    'block_height': 218608,\n",
       "    'block_hash': '00000075d6da235c369fa56fef1ced9f6b79b56504483c10ab9899db0eced207',\n",
       "    'block_time': 1729606188}}},\n",
       " {'beacon_id': '#smt_aggregated',\n",
       "  'beacon_type': 'SMTAggregatorBeacon',\n",
       "  'block_height': 218608,\n",
       "  'tx': {'txid': 'bb1127988db99a6fa710cec1f7514de8995b69ccc6bfeb89a6877a5424ce69c8',\n",
       "   'version': 1,\n",
       "   'locktime': 0,\n",
       "   'vin': [{'txid': 'e067ea53780be9ca587bdc76f0bf81e949bd3e2e9052d99049eaac5feffb7c58',\n",
       "     'vout': 1,\n",
       "     'prevout': {'scriptpubkey': '51204b664c1d86ce3aa106088ea909c5e76ec61b76b97ccb8a74db0aa615b53e9697',\n",
       "      'scriptpubkey_asm': 'OP_PUSHNUM_1 OP_PUSHBYTES_32 4b664c1d86ce3aa106088ea909c5e76ec61b76b97ccb8a74db0aa615b53e9697',\n",
       "      'scriptpubkey_type': 'v1_p2tr',\n",
       "      'scriptpubkey_address': 'tb1pfdnyc8vxeca2zpsg365sn308dmrpka4e0n9c5axmp2nptdf7j6ts7eqhr8',\n",
       "      'value': 99650},\n",
       "     'scriptsig': '',\n",
       "     'scriptsig_asm': '',\n",
       "     'witness': ['21f5199ab431b079f8a45fb2a2d7f44c8ecc40da05d1d2d567e6eeb80acbe845c674656896244b1ccb9cb255ce9329ed5b52b12c0e21e83b75ed11890bd0ea9d'],\n",
       "     'is_coinbase': False,\n",
       "     'sequence': 4294967295}],\n",
       "   'vout': [{'scriptpubkey': '6a208f575188a0adc6c56a946efef41b2e85193da5c0c928c4695a073df3225142bb',\n",
       "     'scriptpubkey_asm': 'OP_RETURN OP_PUSHBYTES_32 8f575188a0adc6c56a946efef41b2e85193da5c0c928c4695a073df3225142bb',\n",
       "     'scriptpubkey_type': 'op_return',\n",
       "     'value': 0},\n",
       "    {'scriptpubkey': '51204b664c1d86ce3aa106088ea909c5e76ec61b76b97ccb8a74db0aa615b53e9697',\n",
       "     'scriptpubkey_asm': 'OP_PUSHNUM_1 OP_PUSHBYTES_32 4b664c1d86ce3aa106088ea909c5e76ec61b76b97ccb8a74db0aa615b53e9697',\n",
       "     'scriptpubkey_type': 'v1_p2tr',\n",
       "     'scriptpubkey_address': 'tb1pfdnyc8vxeca2zpsg365sn308dmrpka4e0n9c5axmp2nptdf7j6ts7eqhr8',\n",
       "     'value': 99300}],\n",
       "   'size': 205,\n",
       "   'weight': 616,\n",
       "   'sigops': 0,\n",
       "   'fee': 350,\n",
       "   'status': {'confirmed': True,\n",
       "    'block_height': 218608,\n",
       "    'block_hash': '00000075d6da235c369fa56fef1ced9f6b79b56504483c10ab9899db0eced207',\n",
       "    'block_time': 1729606188}}}]"
      ]
     },
     "execution_count": 23,
     "metadata": {},
     "output_type": "execute_result"
    }
   ],
   "source": [
    "beacon_signals_data"
   ]
  },
  {
   "cell_type": "markdown",
   "id": "3050a8e1-bfbd-4c43-a98b-f1f90daa42e7",
   "metadata": {},
   "source": [
    "## R6 Apply pending upates to DID document"
   ]
  },
  {
   "cell_type": "markdown",
   "id": "6a0f1462-a907-40de-b246-1009d8da64f0",
   "metadata": {},
   "source": [
    "### R6.1 If no pending updates, return to step R4 to check for additional beacon signals\n",
    "\n",
    "Applying updates to a DID document may have added additional beacons from which to fetch beacon signals to process"
   ]
  },
  {
   "cell_type": "code",
   "execution_count": 24,
   "id": "d63db1f8-3510-4281-8940-18c3db74391c",
   "metadata": {},
   "outputs": [
    {
     "name": "stdout",
     "output_type": "stream",
     "text": [
      "No pending updates to process, Return to step R4\n"
     ]
    }
   ],
   "source": [
    "if (len(pending_updates) == 0):\n",
    "    print(\"No pending updates to process, Return to step R4\")"
   ]
  },
  {
   "cell_type": "markdown",
   "id": "8beee5da-b641-4a95-b066-2b0e3b05828c",
   "metadata": {},
   "source": [
    "### R6.2 Order pending updates by version\n",
    "\n"
   ]
  },
  {
   "cell_type": "code",
   "execution_count": 25,
   "id": "039fe35a-9bc3-4a79-a39b-f9a169a5ee13",
   "metadata": {},
   "outputs": [],
   "source": [
    "pending_updates.sort(key=lambda x: x[\"version\"])"
   ]
  },
  {
   "cell_type": "markdown",
   "id": "597fcb8f-cc9c-4744-af27-5012f583d622",
   "metadata": {},
   "source": [
    "### R6.3 Get pending update from start of list"
   ]
  },
  {
   "cell_type": "code",
   "execution_count": 26,
   "id": "dbcfeabc-d7b5-4657-825f-49cc3be9be54",
   "metadata": {},
   "outputs": [
    {
     "ename": "IndexError",
     "evalue": "list index out of range",
     "output_type": "error",
     "traceback": [
      "\u001b[0;31m---------------------------------------------------------------------------\u001b[0m",
      "\u001b[0;31mIndexError\u001b[0m                                Traceback (most recent call last)",
      "Cell \u001b[0;32mIn[26], line 1\u001b[0m\n\u001b[0;32m----> 1\u001b[0m next_update \u001b[38;5;241m=\u001b[39m \u001b[43mpending_updates\u001b[49m\u001b[43m[\u001b[49m\u001b[38;5;241;43m0\u001b[39;49m\u001b[43m]\u001b[49m\n",
      "\u001b[0;31mIndexError\u001b[0m: list index out of range"
     ]
    }
   ],
   "source": [
    "next_update = pending_updates[0]"
   ]
  },
  {
   "cell_type": "markdown",
   "id": "e9e23e99-a03d-486f-acb3-bf99374711bd",
   "metadata": {},
   "source": [
    "### R6.4 Process next update\n",
    "\n",
    "- If `next_update.version` <= `current_version`:\n",
    "    - Find `process_update_invocation` of that order\n",
    "    - Check hash of `process_update_invocation` is equal to `next_update`. If not, then MUST raise a `latePublish` error.\n",
    "    - Remove update from `pending_updates`\n",
    "\n",
    "- Else if `next_update.version` == `current_version + 1`:\n",
    "    - Apply `next_update.updateTransformation` deltas to the `latestDocument`\n",
    "    - Set `current_version` to `next_update.version`\n",
    "    - Push `next_update` to `processed_updates`\n",
    "    - Remove update from `pending_updates`\n",
    "- Else:\n",
    "    - Return to step 4 to attempt to discover more updates. Need to find next one in the version\n"
   ]
  },
  {
   "cell_type": "markdown",
   "id": "dcddac5a-cf1c-4aa4-bb03-9685420cad1f",
   "metadata": {},
   "source": [
    "#### R6.4.1 Update sequence number already seen. Check update is identitcal to previously processed with same sequence number"
   ]
  },
  {
   "cell_type": "code",
   "execution_count": 29,
   "id": "85b316e4-b9f8-4396-a1f8-84d2d26911fe",
   "metadata": {},
   "outputs": [],
   "source": [
    "version = next_update[\"version\"]"
   ]
  },
  {
   "cell_type": "code",
   "execution_count": 30,
   "id": "673b92b7-0a9d-4ad5-bcd1-9052598e5c22",
   "metadata": {},
   "outputs": [
    {
     "data": {
      "text/plain": [
       "[]"
      ]
     },
     "execution_count": 30,
     "metadata": {},
     "output_type": "execute_result"
    }
   ],
   "source": [
    "processed_updates"
   ]
  },
  {
   "cell_type": "code",
   "execution_count": 31,
   "id": "22922bee-a496-4ed0-82fa-ee7b667f8aaf",
   "metadata": {},
   "outputs": [],
   "source": [
    "if version <= current_version:\n",
    "    print(\"Version already seen, checking for equivalence\")\n",
    "    # Find previous update with same version\n",
    "    prev_processed_updates = [p for p in processed_updates if p[\"version\"] == version]\n",
    "    # pending_updates.remove(next_update)\n",
    "    if (len(prev_processed_updates) != 0):\n",
    "        prev_bytes = str_to_bytes(json.dumps(prev_processed_updates[0]))\n",
    "        hash_prev = sha256(prev_bytes)\n",
    "        new_bytes = str_to_bytes(json.dumps(next_update))\n",
    "        hash_new = sha256(new_bytes)\n",
    "        if (hash_prev != hash_new):\n",
    "            raise Exception(\"Late Publish Error\")\n",
    "        else:\n",
    "            print(\"Hashes are equal, update has already been processed.\")\n",
    "            print(\"Process next update: Return to Step R6.1\")\n",
    "    else:\n",
    "        raise Exception(\"Previously processed update not found\")\n",
    "\n",
    "        "
   ]
  },
  {
   "cell_type": "markdown",
   "id": "94f14bb7-55b3-42b6-8181-73723b43096b",
   "metadata": {},
   "source": [
    "#### R6.4.2 Update is next in sequence. Process update\n",
    "\n",
    "The major TODO here is find/develop a library for applying arbitrary JSON0 transformation. See https://github.com/ottypes/json0"
   ]
  },
  {
   "cell_type": "code",
   "execution_count": 32,
   "id": "8d6e305c-15c2-46a8-ab8b-7ff52b7b3e6f",
   "metadata": {},
   "outputs": [
    {
     "name": "stdout",
     "output_type": "stream",
     "text": [
      "Applying update to latest DID document : {'p': ['service', 4], 'li': {'id': '#linked-domain', 'type': 'LinkedDomains', 'serviceEndpoint': 'https://contact-me.com'}}\n",
      "\n",
      "\n",
      "Update processed. Process next update. Return to Step R6.1\n"
     ]
    }
   ],
   "source": [
    "if version == current_version + 1:\n",
    "    # Apply didUpdateInvocation.update deltas to the latestDocument\n",
    "    update_transformation = next_update[\"updateTransformation\"]\n",
    "    print(\"Applying update to latest DID document :\", update_transformation)\n",
    "    \n",
    "    # TODO: find/implement a OT python library. \n",
    "    # This is just hardcoded for the moment.\n",
    "    latest_document[\"service\"].append(update_transformation['li'])\n",
    "\n",
    "    # Add update to list of processed updates\n",
    "    processed_updates.append(next_update)\n",
    "    # Bump version\n",
    "    current_version += 1\n",
    "    # Remove update from pending updates\n",
    "    pending_updates.remove(next_update)\n",
    "    print(\"\\n\\nUpdate processed. Process next update. Return to Step R6.1\")"
   ]
  },
  {
   "cell_type": "markdown",
   "id": "45d064c9-8b93-4b24-8760-c0dc9884d071",
   "metadata": {},
   "source": [
    "### R6.4.3 Update is higher than next in sequence. Leave in pending updates\n",
    "\n",
    "Unable to process any more updates, need to find the next update in the sequence. Return to step R4 to look for additional beacon signals"
   ]
  },
  {
   "cell_type": "code",
   "execution_count": 33,
   "id": "c18463a4-cc4f-4c44-8363-1460bfe6efa8",
   "metadata": {},
   "outputs": [],
   "source": [
    "if version >= current_version + 1:\n",
    "    print(\"Unable to process any more updates, need to find the next update in the sequence. Return to step R4 to look for additional beacon signals\")"
   ]
  },
  {
   "cell_type": "code",
   "execution_count": null,
   "id": "3aada7a2-e8c1-483b-90be-aa8709876158",
   "metadata": {},
   "outputs": [],
   "source": []
  },
  {
   "cell_type": "markdown",
   "id": "6de5b611-278b-4391-a3d6-f27e7d85ce75",
   "metadata": {},
   "source": [
    "## Resolution of a DID is complete once there are no more beacon signals to process AND all updates from beacon signals have been applied in sequential order.\n",
    "\n",
    "Resolution is complete in step R4.4."
   ]
  },
  {
   "cell_type": "code",
   "execution_count": null,
   "id": "c6c825cc-32ed-4a3b-8d50-23693ee5f204",
   "metadata": {},
   "outputs": [],
   "source": []
  }
 ],
 "metadata": {
  "kernelspec": {
   "display_name": "Python 3 (ipykernel)",
   "language": "python",
   "name": "python3"
  },
  "language_info": {
   "codemirror_mode": {
    "name": "ipython",
    "version": 3
   },
   "file_extension": ".py",
   "mimetype": "text/x-python",
   "name": "python",
   "nbconvert_exporter": "python",
   "pygments_lexer": "ipython3",
   "version": "3.12.3"
  }
 },
 "nbformat": 4,
 "nbformat_minor": 5
}
