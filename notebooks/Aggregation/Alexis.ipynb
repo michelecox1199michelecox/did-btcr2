{
 "cells": [
  {
   "cell_type": "code",
   "execution_count": null,
   "id": "2a9af046",
   "metadata": {
    "vscode": {
     "languageId": "plaintext"
    }
   },
   "outputs": [],
   "source": []
  },
  {
   "cell_type": "code",
   "execution_count": null,
   "id": "07b0418a-486d-40a3-9c75-7203673dda28",
   "metadata": {
    "vscode": {
     "languageId": "plaintext"
    }
   },
   "outputs": [],
   "source": [
    "# Alexis\n",
    "\n",
    "In this notebook Alexis will join a beacon cohort and generate an offline, sidecar did:btc1 DID that includes this beacon address in the DID document. Then Alexis will participate in the aggregation protocol of the beacon cohort, authorizing an aggregated update that does not contain an update for his DID.\n",
    "\n",
    "This notebook should be run together with the Satoshi and Aggregator notebooks, together they implement the following high level steps:\n",
    "\n",
    "The high level steps required for aggregation are as follows:\n",
    "\n",
    "- **A. Create a DID, already bound to an aggregator (Controller)**\n",
    "- B. Aggregator creates cohort (Aggregator)\n",
    "- **C. Update that DID document (Controller)**\n",
    "- D. Aggregate Updates (Aggregator)\n",
    "- R. Resolve Updated DID Document (Resolver)\n",
    "\n",
    "Steps A and B are two halves of an interactive protocol in which a DID controller joins a beacon cohort and includes the resulting beacon address in an offline DID they are creating. Similarly C and D are two halves of an interactive protocol whereby a DID controller submits an update to the Aggregator, who aggregates it along with other updates from cohort participants, requests authorization and broadcasts the aggregated update through a bitcoin spend from the beacon address.\n",
    "\n",
    "This notebook implements the DID controller halves these flows (A and C in bold). It should be run alongside the notebooks for the Aggregator and Satoshi.\n",
    "\n",
    "**The communication protocols required to facilitate interaction between an aggregator and a DID controller still need to be defined (Our initial hope is to leverage NOSTR). For these notebooks we use the Copy + Paste protocol. You the notebook runner will be told when to go to different notebooks, execute cells and copy across payloads that can be used in other notebooks.**\n",
    "\n",
    "This notebook is similar to the Satoshi notebook, except that Satoshi will be creating and submiting a DID update.\n",
    "\n"
   ]
  },
  {
   "cell_type": "code",
   "execution_count": 1,
   "id": "105fd1d7-6a0f-4d47-90d6-43a0f85da5d1",
   "metadata": {},
   "outputs": [],
   "source": [
    "import sys\n",
    "import os\n",
    "\n",
    "# Get the path to the Notebooks directory\n",
    "notebooks_path = os.path.abspath(os.path.join(os.getcwd(), '..'))\n",
    "\n",
    "# Add the Notebooks directory to the sys.path\n",
    "sys.path.append(notebooks_path)"
   ]
  },
  {
   "cell_type": "markdown",
   "id": "0aa2c54e-b3eb-4376-8cdd-791061d3c960",
   "metadata": {},
   "source": [
    "# Prerequisites\n",
    "\n",
    "DID controllers are expected to have access to a Hardware Key that can be used to generate Secp256k1 keys. Ideally this would be something along the lines of a ledger."
   ]
  },
  {
   "cell_type": "code",
   "execution_count": 2,
   "id": "32898f7c-ccac-4c49-b1f1-7d009ab82f05",
   "metadata": {},
   "outputs": [],
   "source": [
    "from buidl.mnemonic import secure_mnemonic\n",
    "from buidl.hd import HDPrivateKey"
   ]
  },
  {
   "cell_type": "code",
   "execution_count": 3,
   "id": "7e05e899-5304-4cad-af90-d12e128e5928",
   "metadata": {},
   "outputs": [
    {
     "name": "stdout",
     "output_type": "stream",
     "text": [
      "Mnemonic :  offer apple busy alarm lawsuit fence deny marriage beauty divorce essay message task believe buyer error planet energy frozen gap bronze tissue umbrella access\n"
     ]
    }
   ],
   "source": [
    "## Run this if you want a new hardware key\n",
    "mnemonic = secure_mnemonic()\n",
    "\n",
    "mnemonic = \"offer apple busy alarm lawsuit fence deny marriage beauty divorce essay message task believe buyer error planet energy frozen gap bronze tissue umbrella access\"\n",
    "root_hdpriv = HDPrivateKey.from_mnemonic(mnemonic, network=\"signet\")\n",
    "\n",
    "print(\"Mnemonic : \", mnemonic)"
   ]
  },
  {
   "cell_type": "markdown",
   "id": "90792c4b-fece-4f8c-92f5-59675f7b1704",
   "metadata": {},
   "source": [
    "# A. Create an offline DID, already bound to an aggregator\n",
    "\n",
    "This can be broken down into five steps:\n",
    "\n",
    "1. Find an aggregator\n",
    "2. Join an aggregation cohort\n",
    "3. Create DID Document\n",
    "4. Create actual DID\n",
    "5. Register DID with aggregator\n",
    "6. Use DID\n",
    "\n"
   ]
  },
  {
   "cell_type": "markdown",
   "id": "8109ef37-f35d-47ad-af64-d57cc52b77b4",
   "metadata": {},
   "source": [
    "## A1. Find an Aggregator\n",
    "\n",
    "Aggregators advertise open beacons that participants can join. The participant needs to identify a suitable advertised beacon cohort and then proceed to join that cohort.\n",
    "\n",
    "To do this there needs to be an aggregator advertising beacon cohorts. \n",
    "\n"
   ]
  },
  {
   "cell_type": "markdown",
   "id": "cfd74d76-f8ed-4aff-bac8-a897f54b9ddd",
   "metadata": {},
   "source": [
    "### A1.1. Fetch Beacon Advert\n",
    "\n",
    "**First run through steps B1. and B2. of the [Aggregator](./Aggregator.ipynb) notebook to define the beacon advert. Use the Copy+Paste protocol to announce this advert to DID controllers.**"
   ]
  },
  {
   "cell_type": "code",
   "execution_count": 4,
   "id": "53feae14-9b8b-40a7-a50c-0b236a0213a3",
   "metadata": {},
   "outputs": [],
   "source": [
    "### THIS SHOULD BE COPIED FROM THE AGGREGATOR ###\n",
    "\n",
    "beacon_advert={'id': 'SOMEBEACONID', 'type': 'SMTAggregatorBeacon', 'cohort_size': 2, 'btc_network': 'signet', 'frequency': '1 per month', 'return_address': 'SMT_Aggregator => Copy + Paste'}\n"
   ]
  },
  {
   "cell_type": "code",
   "execution_count": 5,
   "id": "5676ca1f-02d3-4a12-a9e3-b166be26b15a",
   "metadata": {},
   "outputs": [
    {
     "data": {
      "text/plain": [
       "{'id': 'SOMEBEACONID',\n",
       " 'type': 'SMTAggregatorBeacon',\n",
       " 'cohort_size': 2,\n",
       " 'btc_network': 'signet',\n",
       " 'frequency': '1 per month',\n",
       " 'return_address': 'SMT_Aggregator => Copy + Paste'}"
      ]
     },
     "execution_count": 5,
     "metadata": {},
     "output_type": "execute_result"
    }
   ],
   "source": [
    "beacon_advert"
   ]
  },
  {
   "cell_type": "markdown",
   "id": "f92412a3-9a2a-45e6-a37a-d6cdb8576424",
   "metadata": {},
   "source": [
    "## A2. Join aggregator cohort"
   ]
  },
  {
   "cell_type": "markdown",
   "id": "0ee0ea3d-5d86-4661-b60c-bc1c4fde3f1a",
   "metadata": {},
   "source": [
    "### A2.1 Create aggregation participant key\n",
    "\n",
    "A Secp256k1 key is required, this will be used by the aggregator to contruct and n-of-n p2tr address, where n is the number of cohort participant keys."
   ]
  },
  {
   "cell_type": "code",
   "execution_count": 6,
   "id": "1906a685-5eeb-42e7-9d83-34083b85c5fb",
   "metadata": {},
   "outputs": [
    {
     "name": "stdout",
     "output_type": "stream",
     "text": [
      "Secp256k1 PrivateKey 921a84cad03f30aaa88f46fd096fd9b1553c29e17881784c4702f12d2812ea23\n",
      "Secp256k1 Public Key S256Point(0242f96da7b5a849b97044a9e494ac711f14fd5189e468b84fcc8fad4b007302d6)\n"
     ]
    }
   ],
   "source": [
    "from buidl.helper import encode_base58, decode_base58, encode_base58_checksum\n",
    "\n",
    "# We could define a specific purpose (Current purposes are for different script types)\n",
    "didkey_purpose = \"11\"\n",
    "\n",
    "cohort_participation_sk = root_hdpriv.get_private_key(didkey_purpose, address_num=2)\n",
    "cohort_participation_pk = cohort_participation_sk.point\n",
    "\n",
    "print(\"Secp256k1 PrivateKey\", cohort_participation_sk.hex())\n",
    "print(\"Secp256k1 Public Key\", cohort_participation_pk.__repr__())"
   ]
  },
  {
   "cell_type": "markdown",
   "id": "28426587-1322-4df4-9dc8-3905e00cbb6c",
   "metadata": {},
   "source": [
    "### A2.2 Construct Beacon OptIn message to aggregator\n",
    "\n",
    "Includes:\n",
    "- Advert ID: Uniquely identifies the advert within the context of the aggregator\n",
    "- Cohort Participation Public Key: Hex representation of a Secp256k1 public key\n",
    "- signature: A signature from the cohort particpation public key\n",
    "- return_interact?: How the aggregator can interact with participant\n",
    "- did?\n",
    "\n",
    "**Question:** Should OptIn message be a VC?"
   ]
  },
  {
   "cell_type": "code",
   "execution_count": null,
   "id": "5042d087-4ee8-432d-8629-e9e377596880",
   "metadata": {},
   "outputs": [],
   "source": [
    "hex_pubkey = cohort_participation_pk.sec().hex()\n",
    "\n",
    "beacon_opt_in = {\n",
    "    \"advert_id\": beacon_advert[\"id\"],\n",
    "    \"participant_pubkey\": hex_pubkey,\n",
    "    # TODO: this could be a DID serviceEndpoint?\n",
    "    \"return_interact\": \"Alexis => Copy+Paste\"\n",
    "    # TODO: some authentication?\n",
    "}"
   ]
  },
  {
   "cell_type": "markdown",
   "id": "b4518aab-d107-4f71-bd42-5b6547e044e6",
   "metadata": {},
   "source": [
    "### A2.3 Sign Beacon OptIn"
   ]
  },
  {
   "cell_type": "code",
   "execution_count": 8,
   "id": "ab07864b-46be-4a5e-a44e-d30469e530bf",
   "metadata": {},
   "outputs": [],
   "source": [
    "## TODO: sign beacon opt in\n",
    "# This is an example of how we might sign\n",
    "# We really need a VC or something\n",
    "# All needs to be worked out as part of the protocol\n",
    "\n",
    "import jcs\n",
    "\n",
    "from buidl.helper import sha256\n",
    "\n",
    "data = jcs.canonicalize(beacon_opt_in)\n",
    "\n",
    "hash_data = sha256(data)\n",
    "sig = cohort_participation_sk.sign_schnorr(hash_data)"
   ]
  },
  {
   "cell_type": "code",
   "execution_count": 9,
   "id": "3689ec9d-ba7f-4c14-8847-60071b3682d6",
   "metadata": {},
   "outputs": [
    {
     "data": {
      "text/plain": [
       "b'\\x8f\\xcb\\x8c.\\x15wX\\xb2_~\\xfb\\xdd\\xd9\\x14h\\xd7\\xa9\\xb0\\x07\\x01dv\\xe4$R\\xe4\\x84\\x0f\\x0b\\x83\\xf8e\\xc2N\\xc3H\\xac>\\x1fZ>\\x94\\x0c\\xe6\\xae\\rq\\xfc\\x0fN^\"\\xcds\\x08\\xe4=\\xfc\\xc0{E\\xda\\xc4^'"
      ]
     },
     "execution_count": 9,
     "metadata": {},
     "output_type": "execute_result"
    }
   ],
   "source": [
    "sig.serialize()"
   ]
  },
  {
   "cell_type": "markdown",
   "id": "a13446b8-6e10-4c05-a659-3d02ba539158",
   "metadata": {},
   "source": [
    "### A2.4 Send Beacon OptIn payload to Aggregator\n",
    "\n",
    "Copy+Paste the output below into step B3 in the [Aggregator](./Aggregator.ipynp) notebook."
   ]
  },
  {
   "cell_type": "code",
   "execution_count": 11,
   "id": "b80783a0-4880-4a5a-ab29-beee08371c82",
   "metadata": {
    "scrolled": true
   },
   "outputs": [
    {
     "name": "stdout",
     "output_type": "stream",
     "text": [
      "Copy and Paste the below output into step B3 in the Aggregator notebook\n",
      "\n",
      "\n",
      "{'advert_id': 'SOMEBEACONID', 'participant_pubkey': '0242f96da7b5a849b97044a9e494ac711f14fd5189e468b84fcc8fad4b007302d6', 'return_interact': 'Alexis => Copy+Paste'}\n"
     ]
    }
   ],
   "source": [
    "print(\"Copy and Paste the below output into step B3 in the Aggregator notebook\\n\\n\")\n",
    "print(beacon_opt_in)"
   ]
  },
  {
   "cell_type": "markdown",
   "id": "1fcfd1ef-232f-4905-bd65-ec7425be2a1a",
   "metadata": {},
   "source": [
    "### A2.5 Get Cohort Set Payload\n",
    "\n",
    "Copy+Paste the cohort set payload output from step B5.3 of the [Aggregator](./Aggregator.ipynb) notebook"
   ]
  },
  {
   "cell_type": "code",
   "execution_count": 12,
   "id": "0ec6dd5f-e96a-49e6-9b0c-f0cd21fdb47a",
   "metadata": {},
   "outputs": [],
   "source": [
    "cohort_set_payload = {'advert_id': 'SOMEBEACONID', 'participant_pubkeys': ['0242f96da7b5a849b97044a9e494ac711f14fd5189e468b84fcc8fad4b007302d6', '02f0a96d61fd8451566b861bc78f2e2a34679b841dcd7397f2ed9af95225d8da72'], 'beacon_address': 'tb1p8fx4cmaqt0hsrnw6kprqcjtrtrhkpjvclzwra58yz8klp4r7vv4qs3hpz5'}"
   ]
  },
  {
   "cell_type": "markdown",
   "id": "58e7e557-2122-4d7b-902b-5a5a594f1a69",
   "metadata": {},
   "source": [
    "### A2.6 Check Advert ID\n",
    "\n",
    "AdvertID of cohort set payload should match the ID for the beacon advert the participant opted into."
   ]
  },
  {
   "cell_type": "code",
   "execution_count": 13,
   "id": "91154b68-7e49-4475-b45c-0303ec93369f",
   "metadata": {},
   "outputs": [],
   "source": [
    "assert(cohort_set_payload[\"advert_id\"] == beacon_advert[\"id\"])"
   ]
  },
  {
   "cell_type": "markdown",
   "id": "14c8e045-fe8a-4460-8b62-938443fa7587",
   "metadata": {},
   "source": [
    "### A2.7 Verify Signature"
   ]
  },
  {
   "cell_type": "code",
   "execution_count": 14,
   "id": "6c9c41d9-30b0-4dc3-8397-f96bb311240c",
   "metadata": {},
   "outputs": [],
   "source": [
    "# TODO: Verify Signature"
   ]
  },
  {
   "cell_type": "markdown",
   "id": "8f69be08-bc1e-405f-9faa-8e934891fb19",
   "metadata": {},
   "source": [
    "### A2.8 Verify Beacon Address"
   ]
  },
  {
   "cell_type": "code",
   "execution_count": 15,
   "id": "a5a593b3-9805-40af-b0c4-f22fbc773667",
   "metadata": {},
   "outputs": [],
   "source": [
    "from buidl.ecc import S256Point\n",
    "\n",
    "cohort_hex_pks = cohort_set_payload[\"participant_pubkeys\"]\n"
   ]
  },
  {
   "cell_type": "code",
   "execution_count": 16,
   "id": "6b35cb96-e37c-4d17-a2b0-7536704654b4",
   "metadata": {},
   "outputs": [],
   "source": [
    "\n",
    "# Check own PK in the set of cohort keys\n",
    "assert(hex_pubkey in cohort_hex_pks)\n"
   ]
  },
  {
   "cell_type": "code",
   "execution_count": 17,
   "id": "50a2207a-940e-4098-b4f3-c7102529bd2c",
   "metadata": {},
   "outputs": [],
   "source": [
    "cohort_pks = [S256Point.parse(bytes.fromhex(hex_key)) for hex_key in cohort_hex_pks]\n",
    "\n",
    "from buidl.taproot import MuSigTapScript, TapRootMultiSig, P2PKTapScript\n",
    "\n",
    "musig = MuSigTapScript(cohort_pks)"
   ]
  },
  {
   "cell_type": "markdown",
   "id": "bf938f1f-aa56-4fe2-91e5-3685eed03cd0",
   "metadata": {},
   "source": [
    "### ADDITIONAL STEP BECAUSE OF BUG IN BUIDL LIBRARY\n",
    "\n",
    "p2tr musig2 must include a tweak\n",
    "\n",
    "Note: per [BIP341](https://github.com/bitcoin/bips/blob/master/bip-0341.mediawiki) you should always include a tweak. In the case where tapscripts are not required the tweak should commit to an unspendable ScriptPath. Specifically\n",
    "\n",
    "> If the spending conditions do not require a script path, the output key should commit to an unspendable script path instead of having no script path. This can be achieved by computing the output key point as Q = P + int(hashTapTweak(bytes(P)))G. [23]\n",
    "\n",
    "I think the tweak construction that is being used in the below cell is not quite right"
   ]
  },
  {
   "cell_type": "code",
   "execution_count": 18,
   "id": "a1ab5df2-8668-49a2-a1d4-9fcf23eb7b61",
   "metadata": {},
   "outputs": [],
   "source": [
    "tr_multisig = TapRootMultiSig(cohort_pks, len(cohort_pks))\n",
    "internal_pubkey = tr_multisig.default_internal_pubkey\n",
    "branch = tr_multisig.musig_tree()\n",
    "tr_merkle_root = branch.hash()\n",
    "\n",
    "network = beacon_advert[\"btc_network\"]\n",
    "p2tr_beacon_address = internal_pubkey.p2tr_address(tr_merkle_root,network=network)\n",
    "\n"
   ]
  },
  {
   "cell_type": "code",
   "execution_count": 19,
   "id": "5dcf56f5-23f4-4d71-9e17-9b48d4e9fc35",
   "metadata": {},
   "outputs": [],
   "source": [
    "assert(cohort_set_payload[\"beacon_address\"] == p2tr_beacon_address)"
   ]
  },
  {
   "cell_type": "code",
   "execution_count": 20,
   "id": "06b5094b-2a30-4927-9c69-99d7cf41337b",
   "metadata": {},
   "outputs": [
    {
     "name": "stdout",
     "output_type": "stream",
     "text": [
      "Beacon Address Set : tb1p8fx4cmaqt0hsrnw6kprqcjtrtrhkpjvclzwra58yz8klp4r7vv4qs3hpz5\n"
     ]
    }
   ],
   "source": [
    "print(\"Beacon Address Set : \" + p2tr_beacon_address)"
   ]
  },
  {
   "cell_type": "markdown",
   "id": "45020736-5cd2-417a-b81d-b6997340c419",
   "metadata": {},
   "source": [
    "### OPTIONAL: Fund beacon address\n",
    "\n",
    "Depending on the beacon T&Cs each participant might be required to fund the beacon address. Or, as in this implementation, the aggregator may fund the address themselves"
   ]
  },
  {
   "cell_type": "markdown",
   "id": "9be040e7-2257-4f96-afb2-4d3af5f8f47c",
   "metadata": {},
   "source": [
    "## A3. Create DID Document\n",
    "\n",
    "The cohort participant creates an external DID document with arbitrary content and includes the beacon address as a service endpoint within the document."
   ]
  },
  {
   "cell_type": "markdown",
   "id": "f39d2d35-8d00-461a-8cb9-6d972185a8d2",
   "metadata": {},
   "source": [
    "### A3.1 Create arbitrary external DID document content\n",
    "\n",
    "Including:\n",
    "- Verification Methods\n",
    "- Verification Relationships\n",
    "- Service Endpoints"
   ]
  },
  {
   "cell_type": "code",
   "execution_count": 21,
   "id": "7aae8d23-04d4-4958-b498-b0c68ade6135",
   "metadata": {},
   "outputs": [],
   "source": [
    "intermediate_did_doc = {}\n"
   ]
  },
  {
   "cell_type": "markdown",
   "id": "7af96dd7-d1e9-4762-b20d-1a45c7625825",
   "metadata": {},
   "source": [
    "#### A3.1.1 Set the DID context\n",
    "\n",
    "TODO: define the context for did:btc, need to specify the beacon service types"
   ]
  },
  {
   "cell_type": "code",
   "execution_count": 22,
   "id": "9a7a20b9-ded7-4005-b1c4-7257f2600a02",
   "metadata": {},
   "outputs": [],
   "source": [
    "intermediate_did_doc[\"@context\"] = [\n",
    "    \"https://www.w3.org/ns/did/v1\",\n",
    "    # \"<didbtc_context>\"\n",
    "]"
   ]
  },
  {
   "cell_type": "markdown",
   "id": "742c0ff2-102a-42c3-aa5e-4c3cb383d3a4",
   "metadata": {},
   "source": [
    "#### A3.1.1 Create verification method\n",
    "\n",
    "TODO: potentially change the verification method into Multikey pending outcome of https://gl1.dcdpr.com/btcr/btcr/-/issues/31"
   ]
  },
  {
   "cell_type": "code",
   "execution_count": 23,
   "id": "f9e67632-91a1-4f2f-885f-d228ac2b0326",
   "metadata": {},
   "outputs": [],
   "source": [
    "initial_vm_privkey = root_hdpriv.get_private_key(didkey_purpose, address_num=4)\n",
    "initial_vm_pubkey = initial_vm_privkey.point\n",
    "initial_vm_privkey.wif(compressed=False)\n",
    "\n",
    "verificationMethod = {}\n",
    "verificationMethod[\"id\"] = '#initialKey'\n",
    "verificationMethod[\"type\"] = \"JsonWebKey\"\n",
    "x = initial_vm_pubkey.sec().hex()\n",
    "\n",
    "kty = 'EC'\n",
    "crv = 'secp256k1'\n",
    "jwkObject = {\n",
    "    \"kty\": kty,\n",
    "    \"crv\": crv,\n",
    "    \"x\": x\n",
    "}\n",
    "\n",
    "verificationMethod[\"publicKeyJwk\"] = jwkObject\n",
    "\n",
    "intermediate_did_doc[\"verificationMethod\"] = [verificationMethod]"
   ]
  },
  {
   "cell_type": "markdown",
   "id": "842f5993-a75b-4660-8d1f-9ba2decf7fc5",
   "metadata": {},
   "source": [
    "#### A3.1.2 Define Verification Relationships"
   ]
  },
  {
   "cell_type": "code",
   "execution_count": 27,
   "id": "c9eb3cb6-5696-4d13-aad6-8f0b896e4f30",
   "metadata": {},
   "outputs": [
    {
     "data": {
      "text/plain": [
       "{'id': '#initialKey',\n",
       " 'type': 'JsonWebKey',\n",
       " 'publicKeyJwk': {'kty': 'EC',\n",
       "  'crv': 'secp256k1',\n",
       "  'x': '029a182c787912e27145f6d82a062cbda960f4bb2c24ef5cd9ea4a667b5a0d101e'}}"
      ]
     },
     "execution_count": 27,
     "metadata": {},
     "output_type": "execute_result"
    }
   ],
   "source": [
    "verificationMethod"
   ]
  },
  {
   "cell_type": "code",
   "execution_count": 28,
   "id": "fa8e3634-b0de-4411-8f90-2a49a339dd77",
   "metadata": {},
   "outputs": [],
   "source": [
    "intermediate_did_doc[\"authentication\"] = [verificationMethod[\"id\"]]\n",
    "intermediate_did_doc[\"assertionMethod\"] = [verificationMethod[\"id\"]]\n",
    "intermediate_did_doc[\"capabilityInvocation\"] = [verificationMethod[\"id\"]]\n",
    "intermediate_did_doc[\"capabilityDelegation\"] = [verificationMethod[\"id\"]]"
   ]
  },
  {
   "cell_type": "markdown",
   "id": "3842e4c5-6568-4ef0-a70b-3d99cc969e07",
   "metadata": {},
   "source": [
    "#### A3.1.3 Create Service Endpoint"
   ]
  },
  {
   "cell_type": "code",
   "execution_count": 34,
   "id": "ed9103d3-36b5-48a3-a6b3-74a4df3869ef",
   "metadata": {},
   "outputs": [],
   "source": [
    "services = [];\n",
    "\n",
    "## TOOD:"
   ]
  },
  {
   "cell_type": "markdown",
   "id": "5cb46f60-7225-4623-86bf-80b1cfc81da6",
   "metadata": {},
   "source": [
    "#### A3.1.4 Create Single Update Beacon Service\n",
    "\n",
    "This is RECOMMENDED and acts as an escape hatch so that DID controllers are always able to update their DID even if the aggregated beacons they participate in fail."
   ]
  },
  {
   "cell_type": "code",
   "execution_count": 35,
   "id": "398df6ea-9a83-4f62-8683-fa753574a7b7",
   "metadata": {},
   "outputs": [],
   "source": [
    "# Create beacon keypair\n",
    "single_beacon_private_key = root_hdpriv.get_private_key(didkey_purpose, address_num=3)\n",
    "single_beacon_public_key = single_beacon_private_key.point\n",
    "\n"
   ]
  },
  {
   "cell_type": "code",
   "execution_count": 36,
   "id": "af8cea4a-0873-4778-9a9c-ffabde076c83",
   "metadata": {},
   "outputs": [],
   "source": [
    "## Create Beacon address\n",
    "# p2pkh\n",
    "p2pkh_address = single_beacon_public_key.p2pkh_script().address(network=network)\n",
    "# p2wpkh\n",
    "p2wpkh_address = single_beacon_public_key.p2wpkh_address(network=network)\n",
    "# p2tr\n",
    "p2tr_address = single_beacon_public_key.p2tr_address(network=network)"
   ]
  },
  {
   "cell_type": "markdown",
   "id": "44039e2a-e878-4f54-a87f-a219f3e6a2a8",
   "metadata": {},
   "source": [
    "## Markus: Maybe this could go in the Metadata DIDDocument"
   ]
  },
  {
   "cell_type": "code",
   "execution_count": 37,
   "id": "c411588c-da21-47e3-b66d-3f14333fc81c",
   "metadata": {},
   "outputs": [],
   "source": [
    "p2pkh_uri = 'bitcoin:' + p2pkh_address\n",
    "p2wpkh_uri = 'bitcoin:' + p2wpkh_address\n",
    "p2tr_uri = 'bitcoin:' + p2tr_address\n",
    "\n",
    "p2pkh_beacon = {\n",
    "    \"id\": \"#initial_p2pkh\",  # Can be anything\n",
    "    \"type\": \"SingletonBeacon\",\n",
    "    \"serviceEndpoint\": p2pkh_uri  \n",
    "}\n",
    "p2wpkh_beacon = {\n",
    "    \"id\": \"#initial_p2wpkh\", \n",
    "    \"type\": \"SingletonBeacon\",\n",
    "    \"serviceEndpoint\": p2wpkh_uri\n",
    "}\n",
    "\n",
    "p2tr_beacon = {\n",
    "    \"id\": \"#initial_p2tr\", \n",
    "    \"type\": \"SingletonBeacon\",\n",
    "    \"serviceEndpoint\": p2tr_uri\n",
    "}\n",
    "\n",
    "services.append(p2pkh_beacon)\n",
    "services.append(p2wpkh_beacon)\n",
    "services.append(p2tr_beacon)"
   ]
  },
  {
   "cell_type": "markdown",
   "id": "433c5746-72e9-4349-beee-b03190648dec",
   "metadata": {},
   "source": [
    "## A3.1.5 Add Aggregated Beacon Service\n",
    "\n",
    "Use the beacon address recieved from step A2."
   ]
  },
  {
   "cell_type": "code",
   "execution_count": 38,
   "id": "dcbc2b57-3d2b-4394-af49-f00f8754063e",
   "metadata": {},
   "outputs": [],
   "source": [
    "p2tr_aggregated_beacon_uri = 'bitcoin:' + p2tr_beacon_address\n",
    "beacon_type = beacon_advert[\"type\"]\n",
    "aggregated_beacon = {\n",
    "    \"id\": \"#smt_aggregated\",\n",
    "    \"type\": beacon_type,\n",
    "    \"serviceEndpoint\": p2tr_aggregated_beacon_uri\n",
    "}\n",
    "\n",
    "services.append(aggregated_beacon)"
   ]
  },
  {
   "cell_type": "code",
   "execution_count": 39,
   "id": "600306e7-ccd8-4bbe-b956-ddd953456b6b",
   "metadata": {},
   "outputs": [
    {
     "data": {
      "text/plain": [
       "[{'id': '#initial_p2pkh',\n",
       "  'type': 'SingletonBeacon',\n",
       "  'serviceEndpoint': 'bitcoin:mqzVvotMQAWcxPTHUdBs1Nq7Mn7K3iZeCG'},\n",
       " {'id': '#initial_p2wpkh',\n",
       "  'type': 'SingletonBeacon',\n",
       "  'serviceEndpoint': 'bitcoin:tb1qwtnw2v33j49jsava5ypqtcug3ndm5akavvtp43'},\n",
       " {'id': '#initial_p2tr',\n",
       "  'type': 'SingletonBeacon',\n",
       "  'serviceEndpoint': 'bitcoin:tb1pyvh0l5s4m7w293muq2u29dzfyfhhp46y4jm9lt47876h70qndm3qztafja'},\n",
       " {'id': '#smt_aggregated',\n",
       "  'type': 'SMTAggregatorBeacon',\n",
       "  'serviceEndpoint': 'bitcoin:tb1p8fx4cmaqt0hsrnw6kprqcjtrtrhkpjvclzwra58yz8klp4r7vv4qs3hpz5'}]"
      ]
     },
     "execution_count": 39,
     "metadata": {},
     "output_type": "execute_result"
    }
   ],
   "source": [
    "services"
   ]
  },
  {
   "cell_type": "code",
   "execution_count": 40,
   "id": "9d38468a-1533-4b81-a111-82ac13435b1f",
   "metadata": {},
   "outputs": [
    {
     "data": {
      "text/plain": [
       "{'id': '#smt_aggregated',\n",
       " 'type': 'SMTAggregatorBeacon',\n",
       " 'serviceEndpoint': 'bitcoin:tb1p8fx4cmaqt0hsrnw6kprqcjtrtrhkpjvclzwra58yz8klp4r7vv4qs3hpz5'}"
      ]
     },
     "execution_count": 40,
     "metadata": {},
     "output_type": "execute_result"
    }
   ],
   "source": [
    "aggregated_beacon"
   ]
  },
  {
   "cell_type": "code",
   "execution_count": 41,
   "id": "b23fe2c8-aef0-4d91-adb0-43068f20b9cd",
   "metadata": {},
   "outputs": [],
   "source": [
    "intermediate_did_doc[\"service\"] = services"
   ]
  },
  {
   "cell_type": "code",
   "execution_count": 43,
   "id": "a438463f-c58d-4abe-999d-2c2bebf8e4ab",
   "metadata": {},
   "outputs": [
    {
     "name": "stdout",
     "output_type": "stream",
     "text": [
      "Intermediate DID document\n",
      "\n",
      "{'@context': ['https://www.w3.org/ns/did/v1'], 'verificationMethod': [{'id': '#initialKey', 'type': 'JsonWebKey', 'publicKeyJwk': {'kty': 'EC', 'crv': 'secp256k1', 'x': '029a182c787912e27145f6d82a062cbda960f4bb2c24ef5cd9ea4a667b5a0d101e'}}], 'authentication': ['#initialKey'], 'assertionMethod': ['#initialKey'], 'capabilityInvocation': ['#initialKey'], 'capabilityDelegation': ['#initialKey'], 'service': [{'id': '#initial_p2pkh', 'type': 'SingletonBeacon', 'serviceEndpoint': 'bitcoin:mqzVvotMQAWcxPTHUdBs1Nq7Mn7K3iZeCG'}, {'id': '#initial_p2wpkh', 'type': 'SingletonBeacon', 'serviceEndpoint': 'bitcoin:tb1qwtnw2v33j49jsava5ypqtcug3ndm5akavvtp43'}, {'id': '#initial_p2tr', 'type': 'SingletonBeacon', 'serviceEndpoint': 'bitcoin:tb1pyvh0l5s4m7w293muq2u29dzfyfhhp46y4jm9lt47876h70qndm3qztafja'}, {'id': '#smt_aggregated', 'type': 'SMTAggregatorBeacon', 'serviceEndpoint': 'bitcoin:tb1p8fx4cmaqt0hsrnw6kprqcjtrtrhkpjvclzwra58yz8klp4r7vv4qs3hpz5'}]}\n"
     ]
    }
   ],
   "source": [
    "print(\"Intermediate DID document\\n\")\n",
    "print(intermediate_did_doc)"
   ]
  },
  {
   "cell_type": "markdown",
   "id": "6ac538ed-ef5d-46b5-b713-51a28314a781",
   "metadata": {},
   "source": [
    "## A4. Create DID"
   ]
  },
  {
   "cell_type": "markdown",
   "id": "1f9ef8bb-f688-4e53-bded-2066a447689b",
   "metadata": {},
   "source": [
    "### A4.1 Hash the ID-less DID Document\n",
    "\n",
    "TODO: Instead of a sha256 hash of the intermediate DID document, we may use the IPFS CID generation"
   ]
  },
  {
   "cell_type": "code",
   "execution_count": 44,
   "id": "8b2d056c-a437-4ad5-9885-ff30e5d8c2ac",
   "metadata": {},
   "outputs": [],
   "source": [
    "from buidl.helper import sha256, str_to_bytes, bytes_to_str, encode_base58\n",
    "import json\n",
    "from libbtc1.bech32 import encode_bech32_identifier, decode_bech32_identifier\n",
    "\n",
    "\n",
    "# TODO: canonicalization?\n",
    "data = str_to_bytes(json.dumps(intermediate_did_doc))\n",
    "\n",
    "\n",
    "hashed_initial_doc = sha256(data)\n",
    "\n",
    "\n",
    "## TODO: Move to bech32\n",
    "method_identifier = encode_bech32_identifier(\"external\", hashed_initial_doc)"
   ]
  },
  {
   "cell_type": "code",
   "execution_count": 45,
   "id": "482bb916-85e9-4a17-83e7-b7c24c445144",
   "metadata": {},
   "outputs": [
    {
     "data": {
      "text/plain": [
       "'x1heufakzu853avfuz0l4vaqssqwd5twrreau9ga5mftcwuul66jasl3ct6u'"
      ]
     },
     "execution_count": 45,
     "metadata": {},
     "output_type": "execute_result"
    }
   ],
   "source": [
    "method_identifier"
   ]
  },
  {
   "cell_type": "markdown",
   "id": "e7693ca3-bd7c-4129-952b-27eb81f9dfab",
   "metadata": {},
   "source": [
    "## IPFS Option"
   ]
  },
  {
   "cell_type": "code",
   "execution_count": 52,
   "id": "6badb192-ee87-45ac-a727-681ac02079d7",
   "metadata": {},
   "outputs": [
    {
     "name": "stdout",
     "output_type": "stream",
     "text": [
      "IPFS Method Identifier :  x1vfskv6mjv45kvdnsvdcxuutcvg6k2urvvdcxzaphx4kxs6t9v4skgarwvvehz7fkwpcxy6mgdenny6ekv3uxs6pkwa6hsmgqaa9sy\n"
     ]
    }
   ],
   "source": [
    "from ipfs_cid import cid_sha256_hash\n",
    "\n",
    "data = str_to_bytes(json.dumps(intermediate_did_doc))\n",
    "\n",
    "cid = cid_sha256_hash(data)\n",
    "cid_bytes = str_to_bytes(cid)\n",
    "\n",
    "ipfs_method_identifier = encode_bech32_identifier(\"external\", cid_bytes)\n",
    "\n",
    "print(\"IPFS Method Identifier : \", ipfs_method_identifier)"
   ]
  },
  {
   "cell_type": "code",
   "execution_count": 50,
   "id": "637f7585-4da6-4436-84b2-4b080b3d3b4f",
   "metadata": {},
   "outputs": [
    {
     "data": {
      "text/plain": [
       "'bafkreif6pcpnqxb5eplcpat75lhieeadtnc3qy6ppbkhng2k6dxhh6wuxm'"
      ]
     },
     "execution_count": 50,
     "metadata": {},
     "output_type": "execute_result"
    }
   ],
   "source": [
    "cid"
   ]
  },
  {
   "cell_type": "markdown",
   "id": "4597894a-7bef-40f5-8ece-49777a17d894",
   "metadata": {},
   "source": [
    "## Note: It is possible to go from a hash to an IPFS CID\n",
    "\n",
    "Therefore I do not believe that the bech32 encoding of the method identifier should encode the IPFS CID. It can just be the SHA256 hash, that some resolvers may translate into an IPFS CID to query the network. Although, this does bring some challenges as there are many valid IPFS CIDs for a single hash. Hmmm, perhaps it should be an IPFS CID then\n"
   ]
  },
  {
   "cell_type": "code",
   "execution_count": 35,
   "id": "e8fe5925-6eed-4f06-87da-4d35dac75a75",
   "metadata": {},
   "outputs": [],
   "source": [
    "from ipfs_cid import cid_sha256_wrap_digest\n",
    "\n",
    "cid_wrap_digest = cid_sha256_wrap_digest(hashed_initial_doc)\n",
    "\n",
    "assert(cid == cid_wrap_digest)\n"
   ]
  },
  {
   "cell_type": "markdown",
   "id": "11c22080-395f-4404-b3d4-8fcdd0c35252",
   "metadata": {},
   "source": [
    "### A4.3 Set DID as id in the DID document\n",
    "\n",
    "Do we set the controller property on the verificationMethod aswell? https://gl1.dcdpr.com/btcr/btcr/-/issues/167"
   ]
  },
  {
   "cell_type": "code",
   "execution_count": 46,
   "id": "c8fcd688-7eab-4fd0-9697-2bfe034432bd",
   "metadata": {},
   "outputs": [
    {
     "data": {
      "text/plain": [
       "'did:btc1:x1heufakzu853avfuz0l4vaqssqwd5twrreau9ga5mftcwuul66jasl3ct6u'"
      ]
     },
     "execution_count": 46,
     "metadata": {},
     "output_type": "execute_result"
    }
   ],
   "source": [
    "did_btc1 = f\"did:btc1:{method_identifier}\"\n",
    "did_btc1"
   ]
  },
  {
   "cell_type": "code",
   "execution_count": 47,
   "id": "459d8518-8d64-4833-b93a-11d6a29ba66a",
   "metadata": {},
   "outputs": [],
   "source": [
    "import copy\n",
    "\n",
    "did_document = copy.deepcopy(intermediate_did_doc)\n",
    "did_document[\"id\"] = did_btc1\n",
    "\n",
    "# TODO: What about the verificationMethod controller properties? Should this also be set as the DID?\n",
    "did_document[\"verificationMethod\"][0][\"controller\"] = did_btc1\n",
    "\n"
   ]
  },
  {
   "cell_type": "code",
   "execution_count": 48,
   "id": "4e1f7405-3bcf-4dae-b123-760ba3e9270c",
   "metadata": {},
   "outputs": [
    {
     "name": "stdout",
     "output_type": "stream",
     "text": [
      "Sidecar DID document for did:btc1:x1heufakzu853avfuz0l4vaqssqwd5twrreau9ga5mftcwuul66jasl3ct6u\n",
      "\n",
      "\n",
      "{'@context': ['https://www.w3.org/ns/did/v1'], 'verificationMethod': [{'id': '#initialKey', 'type': 'JsonWebKey', 'publicKeyJwk': {'kty': 'EC', 'crv': 'secp256k1', 'x': '029a182c787912e27145f6d82a062cbda960f4bb2c24ef5cd9ea4a667b5a0d101e'}, 'controller': 'did:btc1:x1heufakzu853avfuz0l4vaqssqwd5twrreau9ga5mftcwuul66jasl3ct6u'}], 'authentication': ['#initialKey'], 'assertionMethod': ['#initialKey'], 'capabilityInvocation': ['#initialKey'], 'capabilityDelegation': ['#initialKey'], 'service': [{'id': '#initial_p2pkh', 'type': 'SingletonBeacon', 'serviceEndpoint': 'bitcoin:mqzVvotMQAWcxPTHUdBs1Nq7Mn7K3iZeCG'}, {'id': '#initial_p2wpkh', 'type': 'SingletonBeacon', 'serviceEndpoint': 'bitcoin:tb1qwtnw2v33j49jsava5ypqtcug3ndm5akavvtp43'}, {'id': '#initial_p2tr', 'type': 'SingletonBeacon', 'serviceEndpoint': 'bitcoin:tb1pyvh0l5s4m7w293muq2u29dzfyfhhp46y4jm9lt47876h70qndm3qztafja'}, {'id': '#smt_aggregated', 'type': 'SMTAggregatorBeacon', 'serviceEndpoint': 'bitcoin:tb1p8fx4cmaqt0hsrnw6kprqcjtrtrhkpjvclzwra58yz8klp4r7vv4qs3hpz5'}], 'id': 'did:btc1:x1heufakzu853avfuz0l4vaqssqwd5twrreau9ga5mftcwuul66jasl3ct6u'}\n"
     ]
    }
   ],
   "source": [
    "print(\"Sidecar DID document for \" + did_btc1 + \"\\n\\n\")\n",
    "print(did_document)"
   ]
  },
  {
   "cell_type": "markdown",
   "id": "7cdac860-ce16-408f-a3f5-4f16eb75d87c",
   "metadata": {},
   "source": [
    "### A4.4 Store DID and initial DID document\n",
    "\n"
   ]
  },
  {
   "cell_type": "code",
   "execution_count": 49,
   "id": "47930682-1d9c-410f-b382-3115574e61d0",
   "metadata": {},
   "outputs": [],
   "source": [
    "## Notebook acts as the store in this example\n",
    "serialized_history = str_to_bytes(json.dumps(intermediate_did_doc)).hex()\n",
    "\n",
    "f = open(did_btc1, \"a\")\n",
    "f.write(serialized_history)\n",
    "f.close()\n"
   ]
  },
  {
   "cell_type": "markdown",
   "id": "44ed7337-c7e8-43f1-806c-330061d70797",
   "metadata": {},
   "source": [
    "## A5. Register DID with Aggregator\n",
    "\n",
    "Aggregator needs to know all DIDs that a cohort participant intends to use the aggregated beacon with to aggregate updates. These are the DIDs that the aggregator will generate and provide proofs of (non)inclusion for."
   ]
  },
  {
   "cell_type": "markdown",
   "id": "e2fe11f1-8567-4322-82eb-06525f1f459d",
   "metadata": {},
   "source": [
    "### A5.1 Construct DID registration payload\n",
    "\n",
    "This includes:\n",
    "\n",
    "- beacon_address: Identifies the beacon\n",
    "- participant_pk: Identifies the cohort participant in the beacon\n",
    "- did: The DID string that the cohort participant wishes to register\n",
    "\n",
    "TODO: Anything else?"
   ]
  },
  {
   "cell_type": "code",
   "execution_count": 49,
   "id": "dd0189e4-608b-462a-83c6-4b38886bb3c9",
   "metadata": {},
   "outputs": [],
   "source": [
    "did_registration_payload = {\n",
    "    \"beacon_address\": p2tr_beacon_address,\n",
    "    \"participant_pk\": hex_pubkey,\n",
    "    \"did\": did_btc1\n",
    "}"
   ]
  },
  {
   "cell_type": "markdown",
   "id": "db9dd89a-bcb2-4d7f-a8e3-2ea0bec53100",
   "metadata": {},
   "source": [
    "### A5.2 Sign the DID registration payload\n",
    "\n",
    "This is a TODO.\n",
    "\n",
    "**Question:** Sign with what? \n",
    "- Participant_pk\n",
    "- did_btc\n",
    "\n",
    "I think either participant_pk, or both."
   ]
  },
  {
   "cell_type": "code",
   "execution_count": 50,
   "id": "0d8a59a5-7006-43c9-a4d0-2c74cb291daf",
   "metadata": {},
   "outputs": [],
   "source": [
    "# TODO: Sign the payload"
   ]
  },
  {
   "cell_type": "markdown",
   "id": "84d07c09-1a97-45d4-b706-85ddff9e7f64",
   "metadata": {},
   "source": [
    "### A5.3 Send DID registration payload to the aggregator\n",
    "\n",
    "Use the Copy+Paste protocol to communicate the payload output below to section B6. of the [Aggregator](./SMT_Aggregator.ipynb) notebook."
   ]
  },
  {
   "cell_type": "code",
   "execution_count": 52,
   "id": "1ba8d82c-c774-4c43-92ad-d811ec3e0594",
   "metadata": {},
   "outputs": [
    {
     "name": "stdout",
     "output_type": "stream",
     "text": [
      "Use the Copy+Paste protocol to communicate the payload output below to section B6. of the Aggregator notebook.\n",
      "\n",
      "\n",
      "{'beacon_address': 'tb1p8fx4cmaqt0hsrnw6kprqcjtrtrhkpjvclzwra58yz8klp4r7vv4qs3hpz5', 'participant_pk': '0242f96da7b5a849b97044a9e494ac711f14fd5189e468b84fcc8fad4b007302d6', 'did': 'did:btc1:x1heufakzu853avfuz0l4vaqssqwd5twrreau9ga5mftcwuul66jasl3ct6u'}\n"
     ]
    }
   ],
   "source": [
    "print(\"Use the Copy+Paste protocol to communicate the payload output below to section B6. of the Aggregator notebook.\\n\\n\")\n",
    "print(did_registration_payload)"
   ]
  },
  {
   "cell_type": "markdown",
   "id": "39e51395-5f47-45a1-b605-d61b21a90b47",
   "metadata": {},
   "source": [
    "## A6 Use DID\n",
    "\n",
    "- Include DID document with DID\n",
    "  - As the DID Document is updated, the entire DID Document update history must be presented along with the DID. This is sidecar.\n",
    "- Verifier can verify the provided DID Document matches the hash\n"
   ]
  },
  {
   "cell_type": "code",
   "execution_count": null,
   "id": "0f1a53dd-9534-43b5-891c-5d5d5ffa9e8f",
   "metadata": {},
   "outputs": [],
   "source": []
  },
  {
   "cell_type": "markdown",
   "id": "57e7ee52-1c4f-44eb-8658-8014b9f002fc",
   "metadata": {},
   "source": [
    "## COMPLETED: A. Create a DID, already bound to an aggregator\n",
    "\n",
    "The did:btc1 created in step A is an offline, sidecar and updatable DID document. The DID controller can use an aggregator to publish updates for reduced costs and increased scalability."
   ]
  },
  {
   "cell_type": "code",
   "execution_count": null,
   "id": "b7e50141-ef3b-4d83-b87a-bcb22d3b7ae0",
   "metadata": {},
   "outputs": [],
   "source": []
  },
  {
   "cell_type": "markdown",
   "id": "9837ccfa-0803-471d-8a72-08b4464a1a99",
   "metadata": {},
   "source": [
    "# C. Update DID document\n",
    "\n",
    "To update the DID document created in step A requires the following steps:\n",
    "\n",
    "1. Create updated DID document\n",
    "2. Create update payload\n",
    "3. Create DID update invocation\n",
    "4. Publish update\n",
    "5. Store update\n",
    "6. Watch BTC to verify publication\n",
    "\n",
    "To update a DID document using the SMTAggregatedBeacon requires interaction with the Aggregator following the steps from D Aggregate Updates. Again, we will use the Copy+Paste protocol to simulate this interaction."
   ]
  },
  {
   "cell_type": "markdown",
   "id": "bd43c72e-bb00-4077-89c0-fa46855b36d3",
   "metadata": {},
   "source": [
    "## C.1 Create updated DID document\n",
    "\n",
    "- Include any additions to the DID document\n",
    "- Any deletions from the DID document\n",
    "- Can add/remove beacons from the service array"
   ]
  },
  {
   "cell_type": "code",
   "execution_count": 53,
   "id": "efd502ca-6344-4bba-b5e2-39e644ca806a",
   "metadata": {},
   "outputs": [],
   "source": [
    "import copy\n",
    "updated_diddocument = copy.deepcopy(did_document)\n",
    "\n",
    "# Adding a new service\n",
    "linked_domain = {\n",
    "    \"id\":\"#linked-domain\",\n",
    "    \"type\": \"LinkedDomains\", \n",
    "    \"serviceEndpoint\": \"https://contact-me.com\"    \n",
    "}\n",
    "\n",
    "updated_diddocument[\"service\"].append(linked_domain)"
   ]
  },
  {
   "cell_type": "code",
   "execution_count": 54,
   "id": "d1a9a530-0131-4978-9725-c61bcf57b240",
   "metadata": {},
   "outputs": [
    {
     "data": {
      "text/plain": [
       "{'@context': ['https://www.w3.org/ns/did/v1'],\n",
       " 'verificationMethod': [{'id': '#initialKey',\n",
       "   'type': 'JsonWebKey',\n",
       "   'publicKeyJwk': {'kty': 'EC',\n",
       "    'crv': 'secp256k1',\n",
       "    'x': '029a182c787912e27145f6d82a062cbda960f4bb2c24ef5cd9ea4a667b5a0d101e'},\n",
       "   'controller': 'did:btc1:x1heufakzu853avfuz0l4vaqssqwd5twrreau9ga5mftcwuul66jasl3ct6u'}],\n",
       " 'authentication': ['#initialKey'],\n",
       " 'assertionMethod': ['#initialKey'],\n",
       " 'capabilityInvocation': ['#initialKey'],\n",
       " 'capabilityDelegation': ['#initialKey'],\n",
       " 'service': [{'id': '#initial_p2pkh',\n",
       "   'type': 'SingletonBeacon',\n",
       "   'serviceEndpoint': 'bitcoin:mqzVvotMQAWcxPTHUdBs1Nq7Mn7K3iZeCG'},\n",
       "  {'id': '#initial_p2wpkh',\n",
       "   'type': 'SingletonBeacon',\n",
       "   'serviceEndpoint': 'bitcoin:tb1qwtnw2v33j49jsava5ypqtcug3ndm5akavvtp43'},\n",
       "  {'id': '#initial_p2tr',\n",
       "   'type': 'SingletonBeacon',\n",
       "   'serviceEndpoint': 'bitcoin:tb1pyvh0l5s4m7w293muq2u29dzfyfhhp46y4jm9lt47876h70qndm3qztafja'},\n",
       "  {'id': '#smt_aggregated',\n",
       "   'type': 'SMTAggregatorBeacon',\n",
       "   'serviceEndpoint': 'bitcoin:tb1p8fx4cmaqt0hsrnw6kprqcjtrtrhkpjvclzwra58yz8klp4r7vv4qs3hpz5'},\n",
       "  {'id': '#linked-domain',\n",
       "   'type': 'LinkedDomains',\n",
       "   'serviceEndpoint': 'https://contact-me.com'}],\n",
       " 'id': 'did:btc1:x1heufakzu853avfuz0l4vaqssqwd5twrreau9ga5mftcwuul66jasl3ct6u'}"
      ]
     },
     "execution_count": 54,
     "metadata": {},
     "output_type": "execute_result"
    }
   ],
   "source": [
    "updated_diddocument"
   ]
  },
  {
   "cell_type": "markdown",
   "id": "b66b656a-4422-49f8-87f4-bcb1f238c9fd",
   "metadata": {},
   "source": [
    "## C2 Create DID update payload\n",
    "\n",
    "- JSON Patch transformation from current document to new one \n",
    "- Bump version number\n",
    "\n",
    " \n",
    "**Question** would this be better to version in the payload?\n",
    "DID Document propagates to caller of resolver. That could be useful, especially for enabling resolution by version #.\n",
    "https://www.w3.org/TR/did-core/#dfn-versionid \n"
   ]
  },
  {
   "cell_type": "code",
   "execution_count": 55,
   "id": "eff2cfeb-6b54-4527-a963-dd82b8fd97f0",
   "metadata": {},
   "outputs": [
    {
     "name": "stdout",
     "output_type": "stream",
     "text": [
      "[{'op': 'add', 'path': '/service/4', 'value': {'id': '#linked-domain', 'type': 'LinkedDomains', 'serviceEndpoint': 'https://contact-me.com'}}]\n"
     ]
    }
   ],
   "source": [
    "# This is saying add linkedDomanSE to the end of the service list of a json document.\n",
    "\n",
    "service_path = f\"/service/{len(did_document[\"service\"])}\"\n",
    "\n",
    "update_patch = [{'op': 'add', 'path': service_path, 'value': linked_domain}]\n",
    "\n",
    "\n",
    "print(update_patch)"
   ]
  },
  {
   "cell_type": "code",
   "execution_count": 101,
   "id": "7afa122c-7123-4af6-b08d-a80212a7ce18",
   "metadata": {},
   "outputs": [],
   "source": [
    "# This is the first update\n",
    "# If you want to do another update you MUST bump the version\n",
    "version = 1\n",
    "\n",
    "sourceHash = sha256(str_to_bytes(json.dumps(did_document))).hex()"
   ]
  },
  {
   "cell_type": "code",
   "execution_count": 102,
   "id": "635c46b0-fc9c-46cb-a523-32a8432b114b",
   "metadata": {},
   "outputs": [
    {
     "data": {
      "text/plain": [
       "'a4782e8b3a6061e33aac0da0f2260c05967402b21da4c911d3fbb23b8b448aef'"
      ]
     },
     "execution_count": 102,
     "metadata": {},
     "output_type": "execute_result"
    }
   ],
   "source": [
    "sourceHash"
   ]
  },
  {
   "cell_type": "code",
   "execution_count": 103,
   "id": "938fe9ee-7293-454f-8ea9-c322aef0b6d7",
   "metadata": {},
   "outputs": [],
   "source": [
    "did_update_payload = {\n",
    "    '@context': [\n",
    "        'https://w3id.org/security/v2',\n",
    "        'https://w3id.org/zcap/v1',\n",
    "        'https://w3id.org/json-ld-patch/v1'\n",
    "        # TODO did:btc1 zcap context\n",
    "    ],\n",
    "    'patch': update_patch,\n",
    "    # TODO: this might not go here?\n",
    "    'sourceHash': sourceHash,\n",
    "    'versionId': version\n",
    "};"
   ]
  },
  {
   "cell_type": "markdown",
   "id": "b4815d46-d927-4230-bc52-e124d0347e91",
   "metadata": {},
   "source": [
    "## C3. Create DID Update Invocation"
   ]
  },
  {
   "cell_type": "markdown",
   "id": "604bcef7-63e2-4eb9-a0f6-b10e2c85d904",
   "metadata": {},
   "source": [
    "### C3.1 Deterministically Generate Root Capability for DID document\n",
    "\n",
    "This is a root capability for a specific did:btc1 to invoke a capability to update that did:btc's DID document"
   ]
  },
  {
   "cell_type": "code",
   "execution_count": 59,
   "id": "736299c0-0a5a-4f3d-a5fc-ee7eddc821ea",
   "metadata": {},
   "outputs": [
    {
     "data": {
      "text/plain": [
       "{'@context': 'https://w3id.org/security/v2',\n",
       " 'id': 'urn:zcap:root:did%3Abtc1%3Ax1heufakzu853avfuz0l4vaqssqwd5twrreau9ga5mftcwuul66jasl3ct6u',\n",
       " 'controller': 'did:btc1:x1heufakzu853avfuz0l4vaqssqwd5twrreau9ga5mftcwuul66jasl3ct6u',\n",
       " 'invocationTarget': 'did:btc1:x1heufakzu853avfuz0l4vaqssqwd5twrreau9ga5mftcwuul66jasl3ct6u'}"
      ]
     },
     "execution_count": 59,
     "metadata": {},
     "output_type": "execute_result"
    }
   ],
   "source": [
    "import urllib\n",
    "root_capability = {\n",
    "  \"@context\": \"https://w3id.org/security/v2\",\n",
    "  \"id\": f\"urn:zcap:root:{urllib.parse.quote(did_btc1)}\",\n",
    "  \"controller\": did_btc1,\n",
    "  \"invocationTarget\": did_btc1\n",
    "};\n",
    "root_capability"
   ]
  },
  {
   "cell_type": "markdown",
   "id": "c1909c0e-a2fc-4820-bdb7-a43476bdfefc",
   "metadata": {},
   "source": [
    "### C3.2 Invoke root capability over the DID update payload\n",
    "\n",
    "**Note:** There are no libraries for this in python. I have a separate POC that demonstrates how to achieve this using libraries for Digital Bazaar in JavaScript."
   ]
  },
  {
   "cell_type": "code",
   "execution_count": 60,
   "id": "0efba997-4fbe-4e98-9292-111af3c7360f",
   "metadata": {},
   "outputs": [],
   "source": [
    "did_update_invocation = copy.deepcopy(did_update_payload)\n",
    "\n",
    "\n",
    "## This would be generated through some signing library that uses the verification method\n",
    "did_update_invocation[\"proof\"] = {\n",
    "    'type': 'SchnorrSecp256k12024',\n",
    "    'created': '2024-01-04T17:59:51Z',\n",
    "    'verificationMethod': did_document[\"verificationMethod\"][0][\"id\"],\n",
    "    'proofPurpose': 'capabilityInvocation',\n",
    "    'capability': root_capability[\"id\"],\n",
    "    'invocationTarget': did_btc1,\n",
    "    'capabilityAction': 'write',\n",
    "    'proofValue': 'z381yXYmxU8NudZ4HXY56DfMN6zfD8syvWcRXzT9xD9uYoQToo8QsXD7ahM3gXTzuay5WJbqTswt2BKaGWYn2hHhVFKJLXaDz'\n",
    "  }\n",
    "\n"
   ]
  },
  {
   "cell_type": "code",
   "execution_count": 61,
   "id": "6e524913-305d-4e7f-a5c7-f23b86b80b41",
   "metadata": {},
   "outputs": [
    {
     "data": {
      "text/plain": [
       "{'@context': ['https://w3id.org/security/v2',\n",
       "  'https://w3id.org/zcap/v1',\n",
       "  'https://w3id.org/json-ld-patch/v1'],\n",
       " 'patch': [{'op': 'add',\n",
       "   'path': '/service/4',\n",
       "   'value': {'id': '#linked-domain',\n",
       "    'type': 'LinkedDomains',\n",
       "    'serviceEndpoint': 'https://contact-me.com'}}],\n",
       " 'version': 1,\n",
       " 'proof': {'type': 'SchnorrSecp256k12024',\n",
       "  'created': '2024-01-04T17:59:51Z',\n",
       "  'verificationMethod': '#initialKey',\n",
       "  'proofPurpose': 'capabilityInvocation',\n",
       "  'capability': 'urn:zcap:root:did%3Abtc1%3Ax1heufakzu853avfuz0l4vaqssqwd5twrreau9ga5mftcwuul66jasl3ct6u',\n",
       "  'invocationTarget': 'did:btc1:x1heufakzu853avfuz0l4vaqssqwd5twrreau9ga5mftcwuul66jasl3ct6u',\n",
       "  'capabilityAction': 'write',\n",
       "  'proofValue': 'z381yXYmxU8NudZ4HXY56DfMN6zfD8syvWcRXzT9xD9uYoQToo8QsXD7ahM3gXTzuay5WJbqTswt2BKaGWYn2hHhVFKJLXaDz'}}"
      ]
     },
     "execution_count": 61,
     "metadata": {},
     "output_type": "execute_result"
    }
   ],
   "source": [
    "did_update_invocation"
   ]
  },
  {
   "cell_type": "markdown",
   "id": "21866b9c-48cb-4aa3-ba4b-a029272c14b4",
   "metadata": {},
   "source": [
    "## C4. Publish DID update\n",
    "\n",
    "Publishing a DID update using an aggregated beacon requires coordination of a multiparty cryptographic protocol to produce a MuSig2 signature that is a valid spend from the n-of-n beacon address.\n",
    "\n",
    "From the cohort participants perspective this can can be broken down into the following substeps:\n",
    "\n",
    "1. Select beacon from current DID document with suitable cohort policy\n",
    "2. Send invocation to beacon aggregator\n",
    "3. Receive authorize beacon signal request\n",
    "4. Verify contents of pending beacon signal\n",
    "5. Generate MuSig2 aggregated nonce\n",
    "6. Generate MuSig2 signing data\n",
    "7. Authorize pending beacon signal\n",
    "8. Return partially signed bitcoin transaction\n",
    "\n",
    "BIP0327 defines the MuSig2 signing protocol in more detail - https://github.com/bitcoin/bips/blob/master/bip-0327.mediawiki"
   ]
  },
  {
   "cell_type": "markdown",
   "id": "2ecbfd7e-66be-44bc-b8b5-7e150f1f2433",
   "metadata": {},
   "source": [
    "### C4.1 Select beacon from the current DID document with a suitable cohort policy\n",
    "\n",
    "TODO: need to identify the aggregator communication endpoint from the identified beacon service. For this example we just use the Copy+Paste protocol to interact with the [Aggregator](./Aggregator.ipynb)"
   ]
  },
  {
   "cell_type": "code",
   "execution_count": 62,
   "id": "25a95fc1-acd6-4963-9518-a0076587f2a2",
   "metadata": {},
   "outputs": [
    {
     "name": "stdout",
     "output_type": "stream",
     "text": [
      "Beacon service to publish to :  {'id': '#smt_aggregated', 'type': 'SMTAggregatorBeacon', 'serviceEndpoint': 'bitcoin:tb1p8fx4cmaqt0hsrnw6kprqcjtrtrhkpjvclzwra58yz8klp4r7vv4qs3hpz5'}\n"
     ]
    }
   ],
   "source": [
    "beacon_service_id = \"#smt_aggregated\"\n",
    "beacon_service = None\n",
    "for service in did_document[\"service\"]:\n",
    "    if service[\"id\"] == beacon_service_id:\n",
    "        beacon_service = service\n",
    "\n",
    "print(\"Beacon service to publish to : \",beacon_service)"
   ]
  },
  {
   "cell_type": "markdown",
   "id": "efaf3fcc-da0d-4002-ad1c-912c29fa8d6d",
   "metadata": {},
   "source": [
    "###  C4.2 Send DID update invocation to the beacon aggregator"
   ]
  },
  {
   "cell_type": "markdown",
   "id": "b5c5e558-bf32-4f05-abc9-9e6ab7bdeff1",
   "metadata": {},
   "source": [
    "#### C4.2.1 Construct did update announcement\n",
    "\n",
    "Contains:\n",
    "\n",
    "- beacon_address: Address of the beacon\n",
    "- invocation: Signed DID update invocation\n",
    "- DID: The DID string being updated\n",
    "- participant_pk: Uniquely identifies the cohort participant\n",
    "- signature: Signature over the payload from the participant pk"
   ]
  },
  {
   "cell_type": "code",
   "execution_count": 63,
   "id": "c879bde0-4787-4f19-9a48-1ffad68d6e79",
   "metadata": {},
   "outputs": [],
   "source": [
    "did_update_announcement = {\n",
    "    \"beacon_address\": p2tr_beacon_address,\n",
    "    \"invocation\": did_update_invocation,\n",
    "    \"did\": did_btc1,\n",
    "    \"participant_pk\": hex_pubkey\n",
    "}"
   ]
  },
  {
   "cell_type": "markdown",
   "id": "6bcdf89a-bd30-4266-9eea-2089c68c3ad2",
   "metadata": {},
   "source": [
    "#### C4.2.2 Sign the DID update payload\n",
    "\n",
    "This is a TODO"
   ]
  },
  {
   "cell_type": "code",
   "execution_count": 64,
   "id": "c5d5da9a-9353-4b5f-b70d-d6341eed9e50",
   "metadata": {},
   "outputs": [],
   "source": [
    "## TODO: sign the DID update payload\n",
    "\n"
   ]
  },
  {
   "cell_type": "markdown",
   "id": "4e15d587-c938-4512-8c51-15917e15a48f",
   "metadata": {},
   "source": [
    "#### C4.2.3 Send DID update payload to beacon aggregator\n",
    "\n",
    "Copy+Paste the output below into step D1 of the [Aggregator](./Aggregator.ipynb) notebook"
   ]
  },
  {
   "cell_type": "code",
   "execution_count": 65,
   "id": "5fb34f4d-38f2-482c-b6e4-108b4b7e7eda",
   "metadata": {},
   "outputs": [],
   "source": [
    "# TODO: Sign the DID update invocation using the cohort participant key\n"
   ]
  },
  {
   "cell_type": "code",
   "execution_count": 66,
   "id": "0bc994c8-9425-4162-88c3-c5d245afad0a",
   "metadata": {},
   "outputs": [
    {
     "name": "stdout",
     "output_type": "stream",
     "text": [
      "Copy+Paste the output below into step D1 of the Aggregator notebook\n",
      "\n",
      "\n",
      "{'beacon_address': 'tb1p8fx4cmaqt0hsrnw6kprqcjtrtrhkpjvclzwra58yz8klp4r7vv4qs3hpz5', 'invocation': {'@context': ['https://w3id.org/security/v2', 'https://w3id.org/zcap/v1', 'https://w3id.org/json-ld-patch/v1'], 'patch': [{'op': 'add', 'path': '/service/4', 'value': {'id': '#linked-domain', 'type': 'LinkedDomains', 'serviceEndpoint': 'https://contact-me.com'}}], 'version': 1, 'proof': {'type': 'SchnorrSecp256k12024', 'created': '2024-01-04T17:59:51Z', 'verificationMethod': '#initialKey', 'proofPurpose': 'capabilityInvocation', 'capability': 'urn:zcap:root:did%3Abtc1%3Ax1heufakzu853avfuz0l4vaqssqwd5twrreau9ga5mftcwuul66jasl3ct6u', 'invocationTarget': 'did:btc1:x1heufakzu853avfuz0l4vaqssqwd5twrreau9ga5mftcwuul66jasl3ct6u', 'capabilityAction': 'write', 'proofValue': 'z381yXYmxU8NudZ4HXY56DfMN6zfD8syvWcRXzT9xD9uYoQToo8QsXD7ahM3gXTzuay5WJbqTswt2BKaGWYn2hHhVFKJLXaDz'}}, 'did': 'did:btc1:x1heufakzu853avfuz0l4vaqssqwd5twrreau9ga5mftcwuul66jasl3ct6u', 'participant_pk': '0242f96da7b5a849b97044a9e494ac711f14fd5189e468b84fcc8fad4b007302d6'}\n"
     ]
    }
   ],
   "source": [
    "print(\"Copy+Paste the output below into step D1 of the Aggregator notebook\\n\\n\")\n",
    "print(did_update_announcement)"
   ]
  },
  {
   "cell_type": "markdown",
   "id": "57e53be7-a108-4fff-8ffa-c9ef9948d372",
   "metadata": {},
   "source": [
    "### C4.3 Receive authorize beacon signal request\n",
    "\n",
    "Paste in the output from Step D4 in the [Aggregator](./Aggregator.ipynb) notebook."
   ]
  },
  {
   "cell_type": "code",
   "execution_count": 67,
   "id": "d21aa8d2-00ac-4718-9cac-ceecfebf800f",
   "metadata": {},
   "outputs": [],
   "source": [
    "authorize_beacon_signal = {'session_id': 'SOME SESSION ID', 'beacon_address': 'tb1p8fx4cmaqt0hsrnw6kprqcjtrtrhkpjvclzwra58yz8klp4r7vv4qs3hpz5', 'pending_beacon_signal': '010000000001017e077ab786657bcb471d7b61e36d2450a8253d6a435288a1c5c91fe442f3cb6f0100000000ffffffff020000000000000000226a201daf0196dcfc1e7c029d1113444dc0502ca288b491d2b766cbd17b22bbacdc3942850100000000002251203a4d5c6fa05bef01cddab0460c496358ef60c998f89c3ed0e411edf0d47e632a0000000000', 'proofs': {'did:btc1:x1heufakzu853avfuz0l4vaqssqwd5twrreau9ga5mftcwuul66jasl3ct6u': b'\\x80\\x04\\x95>\\x00\\x00\\x00\\x00\\x00\\x00\\x00}\\x94(\\x8c\\tsidenodes\\x94]\\x94\\x8c\\x17non_membership_leafdata\\x94N\\x8c\\x0csibling_data\\x94Nu.'}}"
   ]
  },
  {
   "cell_type": "code",
   "execution_count": 68,
   "id": "de9c8729-72ef-4c05-9a26-2483ffe3327b",
   "metadata": {},
   "outputs": [],
   "source": [
    "from buidl.tx import Tx\n",
    "session_id = authorize_beacon_signal[\"session_id\"]\n",
    "pending_beacon_signal_hex = authorize_beacon_signal[\"pending_beacon_signal\"]\n",
    "pending_beacon_signal = Tx.parse_hex(pending_beacon_signal_hex)\n"
   ]
  },
  {
   "cell_type": "code",
   "execution_count": 69,
   "id": "04d50e7a-4f62-414e-8f07-2410c2de98a0",
   "metadata": {},
   "outputs": [],
   "source": [
    "# Check request from a beacon that you are participating in\n",
    "assert(p2tr_beacon_address == authorize_beacon_signal[\"beacon_address\"])"
   ]
  },
  {
   "cell_type": "code",
   "execution_count": 70,
   "id": "6002cb96-96af-49e4-bdfb-ae8202baf234",
   "metadata": {},
   "outputs": [],
   "source": [
    "# TODO: verify signature from beacon aggregator on payload\n",
    "\n",
    "## Needs to have a signature first"
   ]
  },
  {
   "cell_type": "markdown",
   "id": "09dc484b-6e5a-45ea-9f7a-9dc6bbf870b6",
   "metadata": {},
   "source": [
    "### C4.4 Verify authorize beacon signal request"
   ]
  },
  {
   "cell_type": "markdown",
   "id": "e1a36d5f-81c6-49e8-bec5-c8e478d6aa3b",
   "metadata": {},
   "source": [
    "#### C4.4.1 Check pending beacon signal is a btc transaction with a single input that is a spend from the beacon address"
   ]
  },
  {
   "cell_type": "code",
   "execution_count": 71,
   "id": "2e92285a-0a94-498e-8cd8-e233bcaa2fbd",
   "metadata": {},
   "outputs": [],
   "source": [
    "# Check has a single tx input\n",
    "assert(len(pending_beacon_signal.tx_ins) == 1)"
   ]
  },
  {
   "cell_type": "code",
   "execution_count": 72,
   "id": "002aecd4-6a68-4a9f-b23f-dd6fc006f7d5",
   "metadata": {},
   "outputs": [],
   "source": [
    "tx_in = pending_beacon_signal.tx_ins[0]\n",
    "prev_tx = tx_in.fetch_tx(network=network)\n",
    "prev_tx_out = prev_tx.tx_outs[tx_in.prev_index]\n",
    "address_being_spent_from = prev_tx_out.script_pubkey.address(network=\"signet\")\n",
    "\n",
    "# Check tx input is a spend from the beacon address\n",
    "assert(address_being_spent_from == cohort_set_payload[\"beacon_address\"])"
   ]
  },
  {
   "cell_type": "code",
   "execution_count": 73,
   "id": "16e25495-dfd9-47da-83b7-90af76053cd9",
   "metadata": {},
   "outputs": [],
   "source": [
    "from smt.tree import SparseMerkleTree\n",
    "from smt.proof import verify_proof, SparseMerkleProof\n",
    "from smt.utils import DEFAULTVALUE"
   ]
  },
  {
   "cell_type": "code",
   "execution_count": 74,
   "id": "137e7c43-6d4b-4404-a36f-f380e36a1387",
   "metadata": {},
   "outputs": [
    {
     "name": "stdout",
     "output_type": "stream",
     "text": [
      "Sparse Merkle Tree root : 1daf0196dcfc1e7c029d1113444dc0502ca288b491d2b766cbd17b22bbacdc39\n"
     ]
    }
   ],
   "source": [
    "# Retrieve SMT root from bitcoin transaction\n",
    "\n",
    "tx_out = pending_beacon_signal.tx_outs[0]\n",
    "script = tx_out.script_pubkey\n",
    "\n",
    "assert(script.commands[0] == 0x6a)\n",
    "smt_root = script.commands[1]\n",
    "print(\"Sparse Merkle Tree root : \" + smt_root.hex())\n",
    "\n"
   ]
  },
  {
   "cell_type": "code",
   "execution_count": 75,
   "id": "880954e4-3bca-438b-834c-aee77a0c2c73",
   "metadata": {},
   "outputs": [
    {
     "name": "stdout",
     "output_type": "stream",
     "text": [
      "Proof of inclusion for did:btc1:x1heufakzu853avfuz0l4vaqssqwd5twrreau9ga5mftcwuul66jasl3ct6u Verified : True\n"
     ]
    }
   ],
   "source": [
    "import pickle\n",
    "## Loop through provided proofs\n",
    "proofs = authorize_beacon_signal[\"proofs\"]\n",
    "\n",
    "for (did, proof) in proofs.items():\n",
    "    ## check key is one of the DIDs registered with this beacon\n",
    "    ## TODO: handle multiple DIDs registered\n",
    "    assert(did == did_btc1)\n",
    "    proof_data = pickle.loads(proof)\n",
    "    smt_proof = SparseMerkleProof(sidenodes=proof_data['sidenodes'], non_membership_leafdata=proof_data[\"non_membership_leafdata\"], siblingdata=proof_data[\"sibling_data\"])\n",
    "    \n",
    "    # Key to SMT leaf\n",
    "    did_bytes = str_to_bytes(did)\n",
    "    # Data at leaf\n",
    "    did_update_invocation_bytes = str_to_bytes(json.dumps(did_update_invocation))\n",
    "    verified = verify_proof(smt_proof, smt_root, did_bytes, did_update_invocation_bytes)\n",
    "    print(f\"Proof of inclusion for {did_btc1} Verified : {verified}\")\n",
    "    if not verified:\n",
    "        raise Exception(\"Invalid SMT in beacon signal, unable to verify expected update\")"
   ]
  },
  {
   "cell_type": "markdown",
   "id": "7e09f281-2609-4259-8389-28114930f69a",
   "metadata": {},
   "source": [
    "## C4.5 Generate MuSig2 Aggregated Nonce"
   ]
  },
  {
   "cell_type": "markdown",
   "id": "eb28515f-9763-41a8-8b5b-5e313014dc2d",
   "metadata": {},
   "source": [
    "### C4.5.1 Generate nonce contribution\n",
    "\n",
    "- Nonce secrets: Required for signing, should NEVER be shared\n",
    "- Nonce points: Public nonce contribution. Should only be used for one signing session"
   ]
  },
  {
   "cell_type": "code",
   "execution_count": 76,
   "id": "86d21b81-6b76-435a-bacf-b0a9d2300caa",
   "metadata": {},
   "outputs": [],
   "source": [
    "## TOOD: Waiting for buidl library updates. Nonce generation should take in data from signing process as source of randomness\n",
    "nonce_secrets, nonce_points = musig.generate_nonces()"
   ]
  },
  {
   "cell_type": "markdown",
   "id": "e4dd144f-2633-4e0c-a147-6cb1ac1d1395",
   "metadata": {},
   "source": [
    "### C4.5.2 Send nonce contribution to the aggregator\n",
    "\n",
    "Copy+Paste the below output into Step D5.1 of the [Aggregator](.Aggregator.ipynb)\n",
    "\n",
    "Payload includes:\n",
    "\n",
    "- Beacon address: the address of the beacon\n",
    "- Session Id: Unique identifier for this signing session provided by the aggregator (C4.5)\n",
    "- Nonce points: An array of hex represented Secp256k1 points generated using the MuSig2 nonce_gen algorithm"
   ]
  },
  {
   "cell_type": "code",
   "execution_count": 77,
   "id": "707c1e1c-267d-4d53-be2d-d13349dc2d9f",
   "metadata": {},
   "outputs": [
    {
     "name": "stdout",
     "output_type": "stream",
     "text": [
      "Copy+Paste the below output into Step D5.1 of the Aggregator notebook \n",
      "\n",
      "\n",
      "{'beacon_address': 'tb1p8fx4cmaqt0hsrnw6kprqcjtrtrhkpjvclzwra58yz8klp4r7vv4qs3hpz5', 'session_id': 'SOME SESSION ID', 'nonce_points': ['03780f9572d340172d3afa6c8cbec192e64e8bb82db361177fccd290705325aa54', '0352f1298ecacb91b8bd50a76ca4981b3a4a60727534a7f920ae9cb63447698318']}\n"
     ]
    }
   ],
   "source": [
    "pubnonces  = [point.sec().hex() for point in nonce_points]\n",
    "\n",
    "nonce_contribution_payload = {\n",
    "    \"beacon_address\": p2tr_beacon_address,\n",
    "    \"session_id\": session_id,\n",
    "    \"nonce_points\": pubnonces\n",
    "}\n",
    "\n",
    "print(\"Copy+Paste the below output into Step D5.1 of the Aggregator notebook \\n\\n\")\n",
    "print(nonce_contribution_payload)\n"
   ]
  },
  {
   "cell_type": "markdown",
   "id": "3acbd3a7-bdce-4ace-be30-031e279b73e9",
   "metadata": {},
   "source": [
    "### C4.5.3 Receive aggregated nonce from the aggregator\n",
    "\n",
    "Paste the output from Step D5.4 of the [Aggregator](./Aggregator.ipynb) notebook"
   ]
  },
  {
   "cell_type": "code",
   "execution_count": 78,
   "id": "6e2b6db1-90fc-41bd-955a-f7c06ef05985",
   "metadata": {},
   "outputs": [],
   "source": [
    "aggregated_nonce_payload = {'beacon_address': 'tb1p8fx4cmaqt0hsrnw6kprqcjtrtrhkpjvclzwra58yz8klp4r7vv4qs3hpz5', 'session_id': 'SOME SESSION ID', 'agg_nonce': ['03c1f241d7703302c032bee87d48dfe458ed8bff58058153cbf8c03324279b69db', '0348c1e07d313dba2a309629b46b7ed03ca5f81b04faf2b6daa69533461684496b']}\n",
    "\n",
    "\n",
    "\n",
    "\n"
   ]
  },
  {
   "cell_type": "code",
   "execution_count": 79,
   "id": "f64bd626-129b-48de-8b56-cdcf8f480f30",
   "metadata": {},
   "outputs": [],
   "source": [
    "assert(p2tr_beacon_address == aggregated_nonce_payload[\"beacon_address\"])\n",
    "assert(session_id == aggregated_nonce_payload[\"session_id\"])"
   ]
  },
  {
   "cell_type": "code",
   "execution_count": 80,
   "id": "0de51e24-58b5-4003-ad93-05981636630f",
   "metadata": {},
   "outputs": [],
   "source": [
    "agg_nonce_hex = aggregated_nonce_payload[\"agg_nonce\"]\n",
    "agg_musig_nonce = [S256Point.parse(bytes.fromhex(hex_key)) for hex_key in agg_nonce_hex]"
   ]
  },
  {
   "cell_type": "markdown",
   "id": "a7612ebc-d8c2-4e89-a615-f444497031dd",
   "metadata": {},
   "source": [
    "### C4.6 Generate MuSig2 Signing Data\n",
    "\n",
    "See bip0327 - https://github.com/bitcoin/bips/blob/master/bip-0327.mediawiki"
   ]
  },
  {
   "cell_type": "markdown",
   "id": "74eeb746-b9d8-46c1-a8c5-8f383baae603",
   "metadata": {},
   "source": [
    "#### C4.6.1 Generate the bitcoin transaction sig hash\n",
    "\n",
    "This is the data to be signed"
   ]
  },
  {
   "cell_type": "code",
   "execution_count": 81,
   "id": "40337b8e-b425-4dc3-9c02-b72b0d9241f9",
   "metadata": {},
   "outputs": [],
   "source": [
    "from buidl.tx import Tx, SIGHASH_DEFAULT\n",
    "input_index = 0\n",
    "sig_hash = pending_beacon_signal.sig_hash(input_index, SIGHASH_DEFAULT)"
   ]
  },
  {
   "cell_type": "markdown",
   "id": "db039359-ff12-4993-9aed-51952c21dd78",
   "metadata": {},
   "source": [
    "#### C4.6.2 Generate r from aggregated nonce and Tx sig hash"
   ]
  },
  {
   "cell_type": "code",
   "execution_count": 82,
   "id": "d8bb7cd4-eb35-43e4-b2b0-a6b37640f06f",
   "metadata": {},
   "outputs": [],
   "source": [
    "r = musig.compute_r(agg_musig_nonce, sig_hash)\n"
   ]
  },
  {
   "cell_type": "markdown",
   "id": "c96a65ad-8999-4844-97ea-b252a8aea7a6",
   "metadata": {},
   "source": [
    "#### C4.6.3 Generate k from secret nonce, aggregated nonce and Tx sig hash\n"
   ]
  },
  {
   "cell_type": "code",
   "execution_count": 83,
   "id": "96b3261d-8f18-40c4-80db-b77db0c2b79b",
   "metadata": {},
   "outputs": [],
   "source": [
    "k = musig.compute_k(nonce_secrets, agg_musig_nonce, sig_hash)"
   ]
  },
  {
   "cell_type": "markdown",
   "id": "c46467c5-2aec-45ed-9ed8-66da38388bd9",
   "metadata": {},
   "source": [
    "### C4.7 Authorize pending beacon signal\n",
    "\n",
    "Sign the btc transaction"
   ]
  },
  {
   "cell_type": "code",
   "execution_count": 84,
   "id": "d70ada37-3f71-494a-bafa-7cde1d9b18c9",
   "metadata": {},
   "outputs": [],
   "source": [
    "partial_sig = musig.sign(cohort_participation_sk, k, r, sig_hash, tr_merkle_root)"
   ]
  },
  {
   "cell_type": "markdown",
   "id": "2035e682-7cff-44f2-b533-3f815d29c218",
   "metadata": {},
   "source": [
    "### C4.8 Return signal authorization payload to aggregator"
   ]
  },
  {
   "cell_type": "markdown",
   "id": "991a59c8-e779-4765-aa5c-176758f8b4bd",
   "metadata": {},
   "source": [
    "#### C4.8.1 Construct signal authroization payload"
   ]
  },
  {
   "cell_type": "code",
   "execution_count": 85,
   "id": "e97a2064-ee6b-421a-abfb-0058d5f1a6b0",
   "metadata": {},
   "outputs": [],
   "source": [
    "signal_authorization_payload = {\n",
    "    \"beacon_address\": p2tr_beacon_address,\n",
    "    \"session_id\": session_id,\n",
    "    \"sig\": partial_sig\n",
    "}"
   ]
  },
  {
   "cell_type": "markdown",
   "id": "0609bbee-0e7c-47b5-8e65-6bb90f36f0b5",
   "metadata": {},
   "source": [
    "#### C4.8.2 Send payload to aggregator\n",
    "\n",
    "Copy+Paste the below output into step D6.1 of the Aggregator notebook."
   ]
  },
  {
   "cell_type": "code",
   "execution_count": 87,
   "id": "ed6e9462-7da1-41d3-89ca-d40e5e6bd6f0",
   "metadata": {
    "scrolled": true
   },
   "outputs": [
    {
     "name": "stdout",
     "output_type": "stream",
     "text": [
      "Copy+Paste the below output into step D6.1 of the Aggregator notebook.\n",
      "\n",
      "\n",
      "{'beacon_address': 'tb1p8fx4cmaqt0hsrnw6kprqcjtrtrhkpjvclzwra58yz8klp4r7vv4qs3hpz5', 'session_id': 'SOME SESSION ID', 'sig': 65612116011741315133739254969203259343054784735065161076729301497997339492402}\n"
     ]
    }
   ],
   "source": [
    "print(\"Copy+Paste the below output into step D6.1 of the Aggregator notebook.\\n\\n\")\n",
    "print(signal_authorization_payload)"
   ]
  },
  {
   "cell_type": "markdown",
   "id": "8a7ceea9-b34e-4020-85c9-c99f28ad7944",
   "metadata": {},
   "source": [
    "## C5. Store Update Data\n",
    "\n",
    "The DID controller is required to store the following data for each beacon signal emitted by SMT aggregated beacons they have listed in their DID document:\n",
    "\n",
    "- BTC TxID: The transaction ID of the beacon signal which contains the root of a sparse merkle tree in its txoutput\n",
    "- Merkle proof path: Proves (non)inclusion against the SMT root in the beacon signal\n",
    "- Update invocation: Either a signed update invocation or null depending if the DID controller included an update in this beacon signal.\n",
    "\n",
    "DID controllers with many DIDs, each with potentially many different aggregation beacons are likely going to want to develop a data structure to manage this. Below is a rough example."
   ]
  },
  {
   "cell_type": "code",
   "execution_count": 88,
   "id": "437f7b7d-6b70-448c-9611-73ccc8ceaa10",
   "metadata": {},
   "outputs": [
    {
     "data": {
      "text/plain": [
       "'f77f233c26f635da4d6d106c81da46dcd460b6320c75b06c861363c04f107491'"
      ]
     },
     "execution_count": 88,
     "metadata": {},
     "output_type": "execute_result"
    }
   ],
   "source": [
    "beacon_signal_txid = pending_beacon_signal.id()\n",
    "beacon_signal_txid"
   ]
  },
  {
   "cell_type": "code",
   "execution_count": 89,
   "id": "a27e9639-3ffb-47a1-b9ea-efdc62853eee",
   "metadata": {},
   "outputs": [
    {
     "data": {
      "text/plain": [
       "{'did:btc1:x1heufakzu853avfuz0l4vaqssqwd5twrreau9ga5mftcwuul66jasl3ct6u': b'\\x80\\x04\\x95>\\x00\\x00\\x00\\x00\\x00\\x00\\x00}\\x94(\\x8c\\tsidenodes\\x94]\\x94\\x8c\\x17non_membership_leafdata\\x94N\\x8c\\x0csibling_data\\x94Nu.'}"
      ]
     },
     "execution_count": 89,
     "metadata": {},
     "output_type": "execute_result"
    }
   ],
   "source": [
    "proofs"
   ]
  },
  {
   "cell_type": "code",
   "execution_count": 90,
   "id": "3ce63d73-8f33-49a9-b68f-3c575f003c14",
   "metadata": {},
   "outputs": [
    {
     "data": {
      "text/plain": [
       "{'@context': ['https://w3id.org/security/v2',\n",
       "  'https://w3id.org/zcap/v1',\n",
       "  'https://w3id.org/json-ld-patch/v1'],\n",
       " 'patch': [{'op': 'add',\n",
       "   'path': '/service/4',\n",
       "   'value': {'id': '#linked-domain',\n",
       "    'type': 'LinkedDomains',\n",
       "    'serviceEndpoint': 'https://contact-me.com'}}],\n",
       " 'version': 1,\n",
       " 'proof': {'type': 'SchnorrSecp256k12024',\n",
       "  'created': '2024-01-04T17:59:51Z',\n",
       "  'verificationMethod': '#initialKey',\n",
       "  'proofPurpose': 'capabilityInvocation',\n",
       "  'capability': 'urn:zcap:root:did%3Abtc1%3Ax1heufakzu853avfuz0l4vaqssqwd5twrreau9ga5mftcwuul66jasl3ct6u',\n",
       "  'invocationTarget': 'did:btc1:x1heufakzu853avfuz0l4vaqssqwd5twrreau9ga5mftcwuul66jasl3ct6u',\n",
       "  'capabilityAction': 'write',\n",
       "  'proofValue': 'z381yXYmxU8NudZ4HXY56DfMN6zfD8syvWcRXzT9xD9uYoQToo8QsXD7ahM3gXTzuay5WJbqTswt2BKaGWYn2hHhVFKJLXaDz'}}"
      ]
     },
     "execution_count": 90,
     "metadata": {},
     "output_type": "execute_result"
    }
   ],
   "source": [
    "did_update_invocation"
   ]
  },
  {
   "cell_type": "markdown",
   "id": "a7db38cc-41c8-44bb-83d6-681de423d65c",
   "metadata": {},
   "source": [
    "### Data structure is:\n",
    "\n",
    "signal_txid -> {proof, update}\n",
    "\n",
    "Signal txid's act as keys to an object with a proof and an update associated with that beacon signal.\n"
   ]
  },
  {
   "cell_type": "markdown",
   "id": "c4a73455-fca7-438c-a489-be3a5f13b7e5",
   "metadata": {},
   "source": [
    "### Load history from file if present"
   ]
  },
  {
   "cell_type": "code",
   "execution_count": 91,
   "id": "099a5688-5838-437e-8859-0f24d22c2b29",
   "metadata": {},
   "outputs": [
    {
     "name": "stdout",
     "output_type": "stream",
     "text": [
      "No sidecar history to load for DID : did:btc1:x1heufakzu853avfuz0l4vaqssqwd5twrreau9ga5mftcwuul66jasl3ct6u\n"
     ]
    }
   ],
   "source": [
    "sidecar_history_filename = f\"{did_btc1}_sidecar_history\"\n",
    "did_sidecar_history = {\n",
    "    \"initial_document\": did_document,\n",
    "    \"signals\": {}\n",
    "}\n",
    "\n",
    "\n",
    "#open and read the file after the appending:\n",
    "try: \n",
    "    f = open(sidecar_history_filename, \"r\")\n",
    "    did_sidecar_history = json.loads(f.read())\n",
    "    print(f\"Sidecar history found for {did_btc1}\\n\\n {did_sidecar_history}\")\n",
    "except:\n",
    "    print(\"No sidecar history to load for DID : \" + did_btc1)"
   ]
  },
  {
   "cell_type": "code",
   "execution_count": 92,
   "id": "9dafb3aa-50e2-44c3-b4f2-25677f6900f6",
   "metadata": {},
   "outputs": [
    {
     "data": {
      "text/plain": [
       "{'initial_document': {'@context': ['https://www.w3.org/ns/did/v1'],\n",
       "  'verificationMethod': [{'id': '#initialKey',\n",
       "    'type': 'JsonWebKey',\n",
       "    'publicKeyJwk': {'kty': 'EC',\n",
       "     'crv': 'secp256k1',\n",
       "     'x': '029a182c787912e27145f6d82a062cbda960f4bb2c24ef5cd9ea4a667b5a0d101e'},\n",
       "    'controller': 'did:btc1:x1heufakzu853avfuz0l4vaqssqwd5twrreau9ga5mftcwuul66jasl3ct6u'}],\n",
       "  'authentication': ['#initialKey'],\n",
       "  'assertionMethod': ['#initialKey'],\n",
       "  'capabilityInvocation': ['#initialKey'],\n",
       "  'capabilityDelegation': ['#initialKey'],\n",
       "  'service': [{'id': '#initial_p2pkh',\n",
       "    'type': 'SingletonBeacon',\n",
       "    'serviceEndpoint': 'bitcoin:mqzVvotMQAWcxPTHUdBs1Nq7Mn7K3iZeCG'},\n",
       "   {'id': '#initial_p2wpkh',\n",
       "    'type': 'SingletonBeacon',\n",
       "    'serviceEndpoint': 'bitcoin:tb1qwtnw2v33j49jsava5ypqtcug3ndm5akavvtp43'},\n",
       "   {'id': '#initial_p2tr',\n",
       "    'type': 'SingletonBeacon',\n",
       "    'serviceEndpoint': 'bitcoin:tb1pyvh0l5s4m7w293muq2u29dzfyfhhp46y4jm9lt47876h70qndm3qztafja'},\n",
       "   {'id': '#smt_aggregated',\n",
       "    'type': 'SMTAggregatorBeacon',\n",
       "    'serviceEndpoint': 'bitcoin:tb1p8fx4cmaqt0hsrnw6kprqcjtrtrhkpjvclzwra58yz8klp4r7vv4qs3hpz5'}],\n",
       "  'id': 'did:btc1:x1heufakzu853avfuz0l4vaqssqwd5twrreau9ga5mftcwuul66jasl3ct6u'},\n",
       " 'signals': {'f77f233c26f635da4d6d106c81da46dcd460b6320c75b06c861363c04f107491': {'update': {'@context': ['https://w3id.org/security/v2',\n",
       "     'https://w3id.org/zcap/v1',\n",
       "     'https://w3id.org/json-ld-patch/v1'],\n",
       "    'patch': [{'op': 'add',\n",
       "      'path': '/service/4',\n",
       "      'value': {'id': '#linked-domain',\n",
       "       'type': 'LinkedDomains',\n",
       "       'serviceEndpoint': 'https://contact-me.com'}}],\n",
       "    'version': 1,\n",
       "    'proof': {'type': 'SchnorrSecp256k12024',\n",
       "     'created': '2024-01-04T17:59:51Z',\n",
       "     'verificationMethod': '#initialKey',\n",
       "     'proofPurpose': 'capabilityInvocation',\n",
       "     'capability': 'urn:zcap:root:did%3Abtc1%3Ax1heufakzu853avfuz0l4vaqssqwd5twrreau9ga5mftcwuul66jasl3ct6u',\n",
       "     'invocationTarget': 'did:btc1:x1heufakzu853avfuz0l4vaqssqwd5twrreau9ga5mftcwuul66jasl3ct6u',\n",
       "     'capabilityAction': 'write',\n",
       "     'proofValue': 'z381yXYmxU8NudZ4HXY56DfMN6zfD8syvWcRXzT9xD9uYoQToo8QsXD7ahM3gXTzuay5WJbqTswt2BKaGWYn2hHhVFKJLXaDz'}},\n",
       "   'proof': '8004953e000000000000007d94288c09736964656e6f646573945d948c176e6f6e5f6d656d626572736869705f6c65616664617461944e8c0c7369626c696e675f64617461944e752e'}}}"
      ]
     },
     "execution_count": 92,
     "metadata": {},
     "output_type": "execute_result"
    }
   ],
   "source": [
    "signals = did_sidecar_history[\"signals\"]\n",
    "\n",
    "signals[beacon_signal_txid] = {\n",
    "    \"update\": did_update_invocation,\n",
    "    \"proof\": proofs[did_btc1].hex()\n",
    "}\n",
    "\n",
    "did_sidecar_history"
   ]
  },
  {
   "cell_type": "code",
   "execution_count": 94,
   "id": "a7f570d2-b58c-4246-ae07-993a60029f68",
   "metadata": {},
   "outputs": [
    {
     "name": "stdout",
     "output_type": "stream",
     "text": [
      "Sidecar Data for did:btc1:x1heufakzu853avfuz0l4vaqssqwd5twrreau9ga5mftcwuul66jasl3ct6u\n",
      "\n",
      "Initial DID document \n",
      "\n",
      "\n",
      "{'@context': ['https://www.w3.org/ns/did/v1'], 'verificationMethod': [{'id': '#initialKey', 'type': 'JsonWebKey', 'publicKeyJwk': {'kty': 'EC', 'crv': 'secp256k1', 'x': '029a182c787912e27145f6d82a062cbda960f4bb2c24ef5cd9ea4a667b5a0d101e'}, 'controller': 'did:btc1:x1heufakzu853avfuz0l4vaqssqwd5twrreau9ga5mftcwuul66jasl3ct6u'}], 'authentication': ['#initialKey'], 'assertionMethod': ['#initialKey'], 'capabilityInvocation': ['#initialKey'], 'capabilityDelegation': ['#initialKey'], 'service': [{'id': '#initial_p2pkh', 'type': 'SingletonBeacon', 'serviceEndpoint': 'bitcoin:mqzVvotMQAWcxPTHUdBs1Nq7Mn7K3iZeCG'}, {'id': '#initial_p2wpkh', 'type': 'SingletonBeacon', 'serviceEndpoint': 'bitcoin:tb1qwtnw2v33j49jsava5ypqtcug3ndm5akavvtp43'}, {'id': '#initial_p2tr', 'type': 'SingletonBeacon', 'serviceEndpoint': 'bitcoin:tb1pyvh0l5s4m7w293muq2u29dzfyfhhp46y4jm9lt47876h70qndm3qztafja'}, {'id': '#smt_aggregated', 'type': 'SMTAggregatorBeacon', 'serviceEndpoint': 'bitcoin:tb1p8fx4cmaqt0hsrnw6kprqcjtrtrhkpjvclzwra58yz8klp4r7vv4qs3hpz5'}], 'id': 'did:btc1:x1heufakzu853avfuz0l4vaqssqwd5twrreau9ga5mftcwuul66jasl3ct6u'}\n",
      "\n",
      "Sidecar Data for beacon signal with btc txid : f77f233c26f635da4d6d106c81da46dcd460b6320c75b06c861363c04f107491\n",
      "\n",
      "DID update in signal\n",
      "\n",
      "{'@context': ['https://w3id.org/security/v2', 'https://w3id.org/zcap/v1', 'https://w3id.org/json-ld-patch/v1'], 'patch': [{'op': 'add', 'path': '/service/4', 'value': {'id': '#linked-domain', 'type': 'LinkedDomains', 'serviceEndpoint': 'https://contact-me.com'}}], 'version': 1, 'proof': {'type': 'SchnorrSecp256k12024', 'created': '2024-01-04T17:59:51Z', 'verificationMethod': '#initialKey', 'proofPurpose': 'capabilityInvocation', 'capability': 'urn:zcap:root:did%3Abtc1%3Ax1heufakzu853avfuz0l4vaqssqwd5twrreau9ga5mftcwuul66jasl3ct6u', 'invocationTarget': 'did:btc1:x1heufakzu853avfuz0l4vaqssqwd5twrreau9ga5mftcwuul66jasl3ct6u', 'capabilityAction': 'write', 'proofValue': 'z381yXYmxU8NudZ4HXY56DfMN6zfD8syvWcRXzT9xD9uYoQToo8QsXD7ahM3gXTzuay5WJbqTswt2BKaGWYn2hHhVFKJLXaDz'}}\n",
      "\n",
      "Merkle proof of update\n",
      "\n",
      "8004953e000000000000007d94288c09736964656e6f646573945d948c176e6f6e5f6d656d626572736869705f6c65616664617461944e8c0c7369626c696e675f64617461944e752e\n"
     ]
    }
   ],
   "source": [
    "print(f\"Sidecar Data for {did_btc1}\") \n",
    "print(f\"\\nInitial DID document \\n\\n\")\n",
    "print(did_sidecar_history[\"initial_document\"])\n",
    "for signal_txid, sidecar_data in did_sidecar_history[\"signals\"].items():\n",
    "    print(f\"\\nSidecar Data for beacon signal with btc txid : {signal_txid}\")\n",
    "    print(\"\\nDID update in signal\\n\")\n",
    "    print(sidecar_data[\"update\"])\n",
    "    print(\"\\nMerkle proof of update\\n\")\n",
    "    print(sidecar_data[\"proof\"])"
   ]
  },
  {
   "cell_type": "markdown",
   "id": "5e862003-039a-485a-9488-3cb9c91130d8",
   "metadata": {},
   "source": [
    "### Save history to file for persistence across notebook sessions"
   ]
  },
  {
   "cell_type": "code",
   "execution_count": 95,
   "id": "2ea5c232-f778-4f6e-87ab-1295a8e5c111",
   "metadata": {},
   "outputs": [],
   "source": [
    "serialized_history = json.dumps(did_sidecar_history)\n",
    "\n",
    "f = open(sidecar_history_filename, \"a\")\n",
    "f.write(serialized_history)\n",
    "f.close()\n"
   ]
  },
  {
   "cell_type": "markdown",
   "id": "ef8a9821-57a1-4583-a5b6-0fd9df3c4738",
   "metadata": {},
   "source": [
    "## C6. Watch the bitcoin network for the beacon signal to be broadcast\n",
    "\n",
    "**Most DID controllers would likley do this through their own nodes**\n",
    "\n",
    "For these notebooks we can visit mempool.space at the url below:"
   ]
  },
  {
   "cell_type": "code",
   "execution_count": 96,
   "id": "ce8ffc47-1f46-4aa3-ada5-6ee0479170e3",
   "metadata": {},
   "outputs": [
    {
     "name": "stdout",
     "output_type": "stream",
     "text": [
      "Mempool.Space URL: https://mempool.space/signet/tx/f77f233c26f635da4d6d106c81da46dcd460b6320c75b06c861363c04f107491\n"
     ]
    }
   ],
   "source": [
    "print(f\"Mempool.Space URL: https://mempool.space/{network}/tx/{beacon_signal_txid}\")"
   ]
  },
  {
   "cell_type": "code",
   "execution_count": null,
   "id": "4ed7cca1-7ec2-4daa-88d1-03961372a3a8",
   "metadata": {},
   "outputs": [],
   "source": []
  },
  {
   "cell_type": "markdown",
   "id": "fa2324b1-5e83-4375-8618-5b5458a11d9f",
   "metadata": {},
   "source": [
    "## Step C Update DID document Completed!\n",
    "\n",
    "You may now open the [Resolver](./Resolver.ipynb) notebook and attempt to resolve the DID created and updated in this notebook\n",
    "\n",
    "Copy+Paste the below sidecar history required for resolution into step R1. of the Resolver notebook."
   ]
  },
  {
   "cell_type": "code",
   "execution_count": 97,
   "id": "ce1a3602-ff17-4e28-9d60-6cbd14118e44",
   "metadata": {},
   "outputs": [
    {
     "name": "stdout",
     "output_type": "stream",
     "text": [
      "did_to_resolve = 'did:btc1:x1heufakzu853avfuz0l4vaqssqwd5twrreau9ga5mftcwuul66jasl3ct6u'\n",
      "sidecar_history = {'initial_document': {'@context': ['https://www.w3.org/ns/did/v1'], 'verificationMethod': [{'id': '#initialKey', 'type': 'JsonWebKey', 'publicKeyJwk': {'kty': 'EC', 'crv': 'secp256k1', 'x': '029a182c787912e27145f6d82a062cbda960f4bb2c24ef5cd9ea4a667b5a0d101e'}, 'controller': 'did:btc1:x1heufakzu853avfuz0l4vaqssqwd5twrreau9ga5mftcwuul66jasl3ct6u'}], 'authentication': ['#initialKey'], 'assertionMethod': ['#initialKey'], 'capabilityInvocation': ['#initialKey'], 'capabilityDelegation': ['#initialKey'], 'service': [{'id': '#initial_p2pkh', 'type': 'SingletonBeacon', 'serviceEndpoint': 'bitcoin:mqzVvotMQAWcxPTHUdBs1Nq7Mn7K3iZeCG'}, {'id': '#initial_p2wpkh', 'type': 'SingletonBeacon', 'serviceEndpoint': 'bitcoin:tb1qwtnw2v33j49jsava5ypqtcug3ndm5akavvtp43'}, {'id': '#initial_p2tr', 'type': 'SingletonBeacon', 'serviceEndpoint': 'bitcoin:tb1pyvh0l5s4m7w293muq2u29dzfyfhhp46y4jm9lt47876h70qndm3qztafja'}, {'id': '#smt_aggregated', 'type': 'SMTAggregatorBeacon', 'serviceEndpoint': 'bitcoin:tb1p8fx4cmaqt0hsrnw6kprqcjtrtrhkpjvclzwra58yz8klp4r7vv4qs3hpz5'}], 'id': 'did:btc1:x1heufakzu853avfuz0l4vaqssqwd5twrreau9ga5mftcwuul66jasl3ct6u'}, 'signals': {'f77f233c26f635da4d6d106c81da46dcd460b6320c75b06c861363c04f107491': {'update': {'@context': ['https://w3id.org/security/v2', 'https://w3id.org/zcap/v1', 'https://w3id.org/json-ld-patch/v1'], 'patch': [{'op': 'add', 'path': '/service/4', 'value': {'id': '#linked-domain', 'type': 'LinkedDomains', 'serviceEndpoint': 'https://contact-me.com'}}], 'version': 1, 'proof': {'type': 'SchnorrSecp256k12024', 'created': '2024-01-04T17:59:51Z', 'verificationMethod': '#initialKey', 'proofPurpose': 'capabilityInvocation', 'capability': 'urn:zcap:root:did%3Abtc1%3Ax1heufakzu853avfuz0l4vaqssqwd5twrreau9ga5mftcwuul66jasl3ct6u', 'invocationTarget': 'did:btc1:x1heufakzu853avfuz0l4vaqssqwd5twrreau9ga5mftcwuul66jasl3ct6u', 'capabilityAction': 'write', 'proofValue': 'z381yXYmxU8NudZ4HXY56DfMN6zfD8syvWcRXzT9xD9uYoQToo8QsXD7ahM3gXTzuay5WJbqTswt2BKaGWYn2hHhVFKJLXaDz'}}, 'proof': '8004953e000000000000007d94288c09736964656e6f646573945d948c176e6f6e5f6d656d626572736869705f6c65616664617461944e8c0c7369626c696e675f64617461944e752e'}}}\n"
     ]
    }
   ],
   "source": [
    "\n",
    "print(f\"did_to_resolve = '{did_btc1}'\")\n",
    "print(f\"sidecar_history = {did_sidecar_history}\")"
   ]
  },
  {
   "cell_type": "code",
   "execution_count": null,
   "id": "fa02b9d8-610b-430a-9008-49d37da2c6fd",
   "metadata": {},
   "outputs": [],
   "source": []
  }
 ],
 "metadata": {
  "kernelspec": {
   "display_name": "Python 3 (ipykernel)",
   "language": "python",
   "name": "python3"
  },
  "language_info": {
   "codemirror_mode": {
    "name": "ipython",
    "version": 3
   },
   "file_extension": ".py",
   "mimetype": "text/x-python",
   "name": "python",
   "nbconvert_exporter": "python",
   "pygments_lexer": "ipython3",
   "version": "3.12.6"
  }
 },
 "nbformat": 4,
 "nbformat_minor": 5
}
