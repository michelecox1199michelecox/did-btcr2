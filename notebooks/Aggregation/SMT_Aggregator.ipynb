{
 "cells": [
  {
   "attachments": {},
   "cell_type": "markdown",
   "id": "2832bdc6-6ce5-49a1-a172-093edcfade9a",
   "metadata": {},
   "source": [
    "# Aggregator\n",
    "\n",
    "An aggregator advertises and creates beacon cohorts our of a set of DID controllers. Then coordinates the aggregation of DID updates from their respective controllers.\n",
    "\n",
    "The high level steps required for aggregation are as follows:\n",
    "\n",
    "- A. Create a DID, already bound to an aggregator (Controller)\n",
    "- **B. Aggregator creates cohort (Aggregator)**\n",
    "- C. Update that DID document (Controller)\n",
    "- **D. Aggregate Updates (Aggregator)**\n",
    "- E. Resolve Updated DID Document (Resolver)\n",
    "\n",
    "Steps A and B are two halves of an interactive protocol in which a DID controller joins a beacon cohort and includes the resulting beacon address in an offline DID they are creating. Similarly C and D are two halves of an interactive protocol whereby a DID controller submits an update to the Aggregator, who aggregates it along with other updates from cohort participants, requests authorization and broadcasts the aggregated update through a bitcoin spend from the beacon address.\n",
    "\n",
    "**The communication protocols required to facilitate interaction between an aggregator and a DID controller still need to be defined (Our initial hope is to leverage NOSTR). For these notebooks we use the Copy + Paste protocol. You the notebook runner will be told when to go to different notebooks, execute cells and copy across payloads that can be used in other notebooks.**\n",
    "\n",
    "\n",
    "This notebook implements the aggregator halves these flows (B and D in bold). It should be run alongside the notebooks for [Alexis](./Alexis.ipynb) and [Satoshi](./Satoshi.ipynp) who will be the cohort participants of a 2-of-2 beacon cohort."
   ]
  },
  {
   "cell_type": "code",
   "execution_count": 1,
   "id": "11e4fcd0-bc4a-40b6-b708-23e3aabcd7dc",
   "metadata": {},
   "outputs": [],
   "source": [
    "from termcolor import colored\n",
    "from buidl.ecc import S256Point"
   ]
  },
  {
   "attachments": {},
   "cell_type": "markdown",
   "id": "8be5856e-9b1a-49af-b46d-fec070bead1d",
   "metadata": {},
   "source": [
    "# B. Aggregator creates cohort\n",
    "\n",
    "Creating a beacon cohort requires the following five steps:\n",
    "\n",
    "1. Define Beacon Parameters (package into advertisement)\n",
    "2. Announce/Publicize beacon advertisement\n",
    "3. Collect beacon opt-ins\n",
    "4. Create beacon address\n",
    "5. Announce beacon cohort set (to members)\n",
    "6. Collect cohort participant DIDs\n"
   ]
  },
  {
   "attachments": {},
   "cell_type": "markdown",
   "id": "11b2f5b2-175f-412f-b31d-dc97a4b800b9",
   "metadata": {},
   "source": [
    "<div id=\"define_beacon\"/>\n",
    "    \n",
    "## B1 Define Beacon Parameters\n",
    "\n",
    "The parameters of a beacon need to be specified by the aggregator. These include:\n",
    "\n",
    "- Advert ID: Uniquely identifies the advert within the context of the aggregator\n",
    "- Frequency & Latency Requirements: How often the beacon will publish updates and how fast participants are required to respond.\n",
    "- Cohort Size: Number of participants, or min or max\n",
    "- Beacon Type: Whether the beacon is going to use the CID or SparseMerkleTree method to aggegate updates\n",
    "- Financials: \n",
    "    - Subscription model\n",
    "    - Pay-per-update\n",
    "- Communication Protocols\n",
    "    - How does the aggregator reach contributors (for when/what)\n",
    "    - How do contributors reach the aggregator (for when/what)\n",
    "- How do you confirm delivery?\n",
    "- Aggregator DID: Can be used to for establish secure communications\n",
    "- Signature: Signature over beacon payload from verification method in aggregators DID\n",
    "\n",
    "\n",
    "**Question:** Should the beacon advert be a VC?"
   ]
  },
  {
   "attachments": {},
   "cell_type": "markdown",
   "id": "7cd53043-bec8-43b5-a63d-b556b45dbb0f",
   "metadata": {},
   "source": [
    "### B1.1 Define Beacon Parameters"
   ]
  },
  {
   "cell_type": "code",
   "execution_count": 2,
   "id": "3eddd91f-3d38-431c-9ad2-6f91fbfdb50d",
   "metadata": {},
   "outputs": [],
   "source": [
    "\n",
    "\n",
    "beacon_advert = {\n",
    "    \"id\": \"SOMEBEACONID\",\n",
    "    \"type\": \"SMTAggregatorBeacon\",\n",
    "    \"cohort_size\": 2,\n",
    "    \"btc_network\": \"signet\",\n",
    "    # TODO: probably better in seconds. Or maybe bitcoin blocks\n",
    "    \"frequency\": \"1 per month\",\n",
    "    # TODO: DID based return serviceEndpoint\n",
    "    \"return_address\": \"SMT_Aggregator => Copy + Paste\"\n",
    "    \n",
    "}"
   ]
  },
  {
   "attachments": {},
   "cell_type": "markdown",
   "id": "9a7204d9-c5d5-4a88-80f6-226f1221acbb",
   "metadata": {},
   "source": [
    "### B1.2 Sign Beacon Advert\n",
    "\n",
    "TODO: Aggregator needs a DID, then need to sign the beacon advert using this DID. Maybe as a VC?"
   ]
  },
  {
   "cell_type": "code",
   "execution_count": 3,
   "id": "3b4d5f80-5b59-4f48-a84e-8b6e8863fbcd",
   "metadata": {},
   "outputs": [],
   "source": [
    "## TODO: Advertisement Signing\n",
    "\n",
    "\n",
    "\n"
   ]
  },
  {
   "attachments": {},
   "cell_type": "markdown",
   "id": "bd1f0355-6ec5-4034-bf9b-0a9a4db6ebcf",
   "metadata": {},
   "source": [
    "## B2. Announce / Publicize Beacon Advert\n",
    "\n",
    "Use the Copy+Paste protocol to copy the beacon advert to all participating DID controllers. In this case [Alexis](./Alexis.ipynb) and [Satoshi](./Satoshi.ipynb).\n",
    "\n",
    "More realistic mechanisms that aggregators might use include:\n",
    "\n",
    "- Website (open to public)\n",
    "- NOSTR (to known clients)\n",
    "- Published in print\n",
    "- Newsletter (email to known recipients)\n"
   ]
  },
  {
   "cell_type": "code",
   "execution_count": 4,
   "id": "28499a6b-b89d-4ce4-9e6f-5aecc32f6ac9",
   "metadata": {},
   "outputs": [
    {
     "name": "stdout",
     "output_type": "stream",
     "text": [
      "\n",
      "Copy and paste beacon advert to all participants:\n",
      "\n",
      "beacon_advert={'id': 'SOMEBEACONID', 'type': 'SMTAggregatorBeacon', 'cohort_size': 2, 'btc_network': 'signet', 'frequency': '1 per month', 'return_address': 'SMT_Aggregator => Copy + Paste'}\n"
     ]
    }
   ],
   "source": [
    "print(\"\\nCopy and paste beacon advert to all participants:\\n\")\n",
    "print(f\"beacon_advert={beacon_advert}\")"
   ]
  },
  {
   "attachments": {},
   "cell_type": "markdown",
   "id": "6ff7c28f-9d4a-4975-a57a-bacedf3be3d5",
   "metadata": {},
   "source": [
    "## B3 Collect Beacon OptIns\n",
    "\n",
    "Beacon OptIns are payloads send from DID controllers who wish to join a beacon cohort. The aggregator recieves these payloads, verifies the signature is valid for the key in the payload and adds the key to a list of cohort participant public keys.\n",
    "\n",
    "Paste in the outputs of step A2.4 in [Alexis](./Alexis.ipynb) and [Satoshi](./Satoshi.ipynb) notebooks"
   ]
  },
  {
   "cell_type": "code",
   "execution_count": 8,
   "id": "8ab8c556-5dc3-4e5b-82ae-eed078b64ff4",
   "metadata": {},
   "outputs": [],
   "source": [
    "cohort_participants = [];"
   ]
  },
  {
   "cell_type": "code",
   "execution_count": 9,
   "id": "a3df2bb5-2f4e-49d6-9ea7-8f8bfbf96904",
   "metadata": {},
   "outputs": [],
   "source": [
    "## From Alexis notebook\n",
    "alexis_optin = {'advert_id': 'SOMEBEACONID', 'participant_pubkey': '03ec578937b7c1d975e5b05f5132673840aa6e9d3c5dc0f000f1ce432892ee77ad', 'return_interact': 'Alexis => Copy+Paste'}\n"
   ]
  },
  {
   "cell_type": "code",
   "execution_count": 10,
   "id": "e1f60dde-bf2a-45d7-8f58-37e63561781f",
   "metadata": {},
   "outputs": [],
   "source": [
    "alexis_hexkey = alexis_optin[\"participant_pubkey\"]\n",
    "alexis_sec_point = bytes.fromhex(alexis_hexkey)\n",
    "alexis_pk = S256Point.parse(alexis_sec_point)\n",
    "\n",
    "## TODO: Verify Signature - Request payload to have been signed"
   ]
  },
  {
   "cell_type": "code",
   "execution_count": 11,
   "id": "68d00376-b04f-4ea0-9f7d-1e98ce08892e",
   "metadata": {},
   "outputs": [],
   "source": [
    "alexis_participant_data = {};\n",
    "# Use hexkey as the ID?\n",
    "alexis_participant_data[\"id\"] = alexis_hexkey\n",
    "alexis_participant_data[\"pk\"] = alexis_pk\n",
    "alexis_participant_data[\"dids\"] = []\n",
    "alexis_participant_data[\"return_interact\"] = alexis_optin[\"return_interact\"]\n",
    "\n",
    "cohort_participants.append(alexis_participant_data)"
   ]
  },
  {
   "cell_type": "code",
   "execution_count": 13,
   "id": "32d46cb1-24c8-41af-8b44-95d37840d369",
   "metadata": {},
   "outputs": [],
   "source": [
    "## From Satoshi notebook\n",
    "satoshi_optin = {'advert_id': 'SOMEBEACONID', 'participant_pubkey': '03f61957cc6e6b146b52a31198fe2749f3ac50362685cf9473ec44b084a143e016', 'return_interact': 'Satoshi => Copy+Paste'}\n"
   ]
  },
  {
   "cell_type": "code",
   "execution_count": 14,
   "id": "da273fcd-2299-4d97-90b4-696e472f00f4",
   "metadata": {},
   "outputs": [],
   "source": [
    "satoshi_hexkey = satoshi_optin[\"participant_pubkey\"]\n",
    "satoshi_sec_point = bytes.fromhex(satoshi_hexkey)\n",
    "satoshi_pk = S256Point.parse(satoshi_sec_point)\n",
    "\n",
    "## TODO: Verify Signature - Request payload to have been signed"
   ]
  },
  {
   "cell_type": "code",
   "execution_count": 15,
   "id": "27c0868e-849a-43fd-8ff0-66fba1a64818",
   "metadata": {},
   "outputs": [],
   "source": [
    "satoshi_participant_data = {};\n",
    "# Use hexkey as the ID?\n",
    "satoshi_participant_data[\"id\"] = satoshi_hexkey\n",
    "satoshi_participant_data[\"pk\"] = satoshi_pk\n",
    "satoshi_participant_data[\"dids\"] = []\n",
    "satoshi_participant_data[\"return_interact\"] = satoshi_optin[\"return_interact\"]\n",
    "\n",
    "cohort_participants.append(satoshi_participant_data)"
   ]
  },
  {
   "attachments": {},
   "cell_type": "markdown",
   "id": "201e0688-e693-4ce5-93e3-526cd88cbe1e",
   "metadata": {},
   "source": [
    "## B4. Generate Beacon Address"
   ]
  },
  {
   "cell_type": "code",
   "execution_count": 16,
   "id": "543cea69-1f2c-4e16-bb1c-11dbada61626",
   "metadata": {},
   "outputs": [],
   "source": [
    "from buidl.taproot import MuSigTapScript, TapRootMultiSig, P2PKTapScript\n",
    "\n",
    "cohort_participant_pks = [participant[\"pk\"] for participant in cohort_participants]\n",
    "musig = MuSigTapScript(cohort_participant_pks)"
   ]
  },
  {
   "attachments": {},
   "cell_type": "markdown",
   "id": "2dc17dd6-11e9-4ea7-9af6-b3a06632cb34",
   "metadata": {},
   "source": [
    "### ADDITIONAL STEP BECAUSE OF BUIDL LIBRARY BUG\n",
    "\n",
    "Basically the address must have a tweak. [See issue](https://github.com/buidl-bitcoin/buidl-python/issues/155)"
   ]
  },
  {
   "cell_type": "code",
   "execution_count": 19,
   "id": "748cb54e-7603-4ed7-b84d-a12374d23182",
   "metadata": {},
   "outputs": [],
   "source": [
    "tr_multisig = TapRootMultiSig(cohort_participant_pks, len(cohort_participant_pks))\n",
    "internal_pubkey = tr_multisig.default_internal_pubkey\n",
    "branch = tr_multisig.musig_tree()\n",
    "tr_merkle_root = branch.hash()\n",
    "\n",
    "network = beacon_advert[\"btc_network\"]\n",
    "p2tr_beacon_address = internal_pubkey.p2tr_address(tr_merkle_root,network=network)"
   ]
  },
  {
   "cell_type": "code",
   "execution_count": 20,
   "id": "1058a620-15dc-43cd-adcb-0a846e69a9db",
   "metadata": {},
   "outputs": [
    {
     "name": "stdout",
     "output_type": "stream",
     "text": [
      "Beacon Address Set : tb1paq3mtqultmglkdk8sul2jmlsrx59vvnsgugwy7dekf8h5k0uk9dsvwa7uh\n"
     ]
    }
   ],
   "source": [
    "print(\"Beacon Address Set : \" + p2tr_beacon_address)"
   ]
  },
  {
   "attachments": {},
   "cell_type": "markdown",
   "id": "875c732a-a08c-4722-bb2c-787577692077",
   "metadata": {},
   "source": [
    "## B5. Announce beacon cohort set"
   ]
  },
  {
   "attachments": {},
   "cell_type": "markdown",
   "id": "969703c1-d66b-4fea-9eb5-054d1975d2c4",
   "metadata": {},
   "source": [
    "### B5.1 Construct cohort set payload\n",
    "\n",
    "Payload contains:\n",
    "\n",
    "- Advert ID\n",
    "- Participant cohort keys: List of participant public keys (as hex strings)\n",
    "- Beacon Address: n-of-n p2tr beacon address\n",
    "- Signature"
   ]
  },
  {
   "cell_type": "code",
   "execution_count": 21,
   "id": "3fbef784-6474-43c9-861c-dc5f5386c3a7",
   "metadata": {},
   "outputs": [],
   "source": [
    "hex_pks = [pk.sec().hex() for pk in cohort_participant_pks]\n",
    "\n",
    "cohort_set_payload = {\n",
    "    \"advert_id\": beacon_advert[\"id\"],\n",
    "    \"participant_pubkeys\": hex_pks,\n",
    "    \"beacon_address\": p2tr_beacon_address\n",
    "}"
   ]
  },
  {
   "attachments": {},
   "cell_type": "markdown",
   "id": "3e78542e-b547-4d1a-829d-48d139087d67",
   "metadata": {},
   "source": [
    "### B5.2 Sign cohort set payload\n",
    "\n",
    "Cohort set payload should be signed by the DID of the aggregator provided in the beacon advert.\n",
    "\n",
    "Another VC?"
   ]
  },
  {
   "cell_type": "code",
   "execution_count": 22,
   "id": "e29c891d-b985-4f6c-9ee4-7b118b7db089",
   "metadata": {},
   "outputs": [],
   "source": [
    "## TODO: signing\n",
    "\n"
   ]
  },
  {
   "attachments": {},
   "cell_type": "markdown",
   "id": "eb441230-1b47-4730-a4cb-9a068abd2d11",
   "metadata": {},
   "source": [
    "### B5.3 Send cohort set payload\n",
    "\n",
    "Copy+Paste the below output into step A2.5 of the Alexis and Satoshi notebooks."
   ]
  },
  {
   "cell_type": "code",
   "execution_count": 23,
   "id": "4cb92400-9ef0-4394-93cd-b2c2c594556e",
   "metadata": {},
   "outputs": [
    {
     "name": "stdout",
     "output_type": "stream",
     "text": [
      "Copy+Paste the below output into step A2.5 of the Alexis and Satoshi notebooks.\n",
      "\n",
      "\n",
      "{'advert_id': 'SOMEBEACONID', 'participant_pubkeys': ['03ec578937b7c1d975e5b05f5132673840aa6e9d3c5dc0f000f1ce432892ee77ad', '03f61957cc6e6b146b52a31198fe2749f3ac50362685cf9473ec44b084a143e016'], 'beacon_address': 'tb1paq3mtqultmglkdk8sul2jmlsrx59vvnsgugwy7dekf8h5k0uk9dsvwa7uh'}\n"
     ]
    }
   ],
   "source": [
    "print(\"Copy+Paste the below output into step A2.5 of the Alexis and Satoshi notebooks.\\n\\n\")\n",
    "print(cohort_set_payload)"
   ]
  },
  {
   "attachments": {},
   "cell_type": "markdown",
   "id": "59123716-ab9e-405f-ac84-1431153925bb",
   "metadata": {},
   "source": [
    "### B5.4 Fund Beacon Address\n",
    "\n",
    "The beacon address needs funds it can spend in order to broadcast beacon signals onto the network.\n",
    "\n",
    "**This must be done outside of these notebooks.**\n",
    "\n",
    "The funding transaction is https://mempool.space/signet/tx/6fcbf342e41fc9c5a18852436a3d25a850246de3617b1d47cb7b6586b77a077e"
   ]
  },
  {
   "cell_type": "code",
   "execution_count": null,
   "id": "cc8a8feb-787d-4eb3-b4c7-655085510f02",
   "metadata": {},
   "outputs": [],
   "source": []
  },
  {
   "attachments": {},
   "cell_type": "markdown",
   "id": "5abb750a-8fd4-44f2-a687-b08db21690c8",
   "metadata": {},
   "source": [
    "## B6. Collect cohort participant DIDs\n",
    "\n",
    "This is likely an ongoing process. Participants of a cohort will be able to submit DIDs for which they require proofs of (non)inclusion for every signal the beacon broadcasts. \n",
    "\n"
   ]
  },
  {
   "attachments": {},
   "cell_type": "markdown",
   "id": "cd1d8004-fd16-4543-b6ab-08de84de2482",
   "metadata": {},
   "source": [
    "### B6.1 Receive DID registration request from participants\n",
    "\n",
    "Paste in the output from step A5.3 in [Alexis](./Alexis.ipynb) and [Satoshi](./Satoshi.ipynb) notebooks."
   ]
  },
  {
   "cell_type": "code",
   "execution_count": 24,
   "id": "8d886126-6222-4fdb-83f0-fff734e60155",
   "metadata": {},
   "outputs": [],
   "source": [
    "# From Alexis notebook\n",
    "alexis_did_registration = {'beacon_address': 'tb1paq3mtqultmglkdk8sul2jmlsrx59vvnsgugwy7dekf8h5k0uk9dsvwa7uh', 'participant_pk': '03ec578937b7c1d975e5b05f5132673840aa6e9d3c5dc0f000f1ce432892ee77ad', 'did': 'did:btc1:x1n3xa88mx0e2h0n2sv70tq8f6xu8yr8afhs0ktr9gz8fsq5qzslcsuzsk0e'}"
   ]
  },
  {
   "cell_type": "code",
   "execution_count": 25,
   "id": "1a0513d3-da96-4769-9fb9-9f522a409981",
   "metadata": {},
   "outputs": [],
   "source": [
    "# From Satoshi notebook\n",
    "satoshi_did_registration = {'beacon_address': 'tb1paq3mtqultmglkdk8sul2jmlsrx59vvnsgugwy7dekf8h5k0uk9dsvwa7uh', 'participant_pk': '03f61957cc6e6b146b52a31198fe2749f3ac50362685cf9473ec44b084a143e016', 'did': 'did:btc1:x1vqvraf5jftkqfz74wyevyq38xr75vavtwcq69kpgxgwdm9aa0v4srhv6vr'}"
   ]
  },
  {
   "attachments": {},
   "cell_type": "markdown",
   "id": "93d11e35-a4cd-48ad-add9-cb0e1ba3d777",
   "metadata": {},
   "source": [
    "### B6.2 Verify DID registration request\n",
    "\n",
    "- Check beacon address matches one of the aggregators beacons\n",
    "- Check participant_pk is a participant key of the beacon\n",
    "- Verify signature (TODO)"
   ]
  },
  {
   "cell_type": "code",
   "execution_count": 26,
   "id": "e71c4915-6ccf-4f2f-96e8-64b0ee2c3aeb",
   "metadata": {},
   "outputs": [],
   "source": [
    "assert(alexis_did_registration[\"beacon_address\"] == p2tr_beacon_address)\n",
    "assert(satoshi_did_registration[\"beacon_address\"] == p2tr_beacon_address)\n"
   ]
  },
  {
   "cell_type": "code",
   "execution_count": 27,
   "id": "38c18bcc-0a3d-48ac-8fcd-7b9f4d9bae87",
   "metadata": {},
   "outputs": [],
   "source": [
    "participant_ids = [participant[\"id\"] for participant in cohort_participants]\n",
    "\n",
    "alexis_id = alexis_did_registration[\"participant_pk\"]\n",
    "satoshi_id = satoshi_did_registration[\"participant_pk\"]\n",
    "\n",
    "assert(alexis_id in participant_ids)\n",
    "assert(satoshi_id in participant_ids)"
   ]
  },
  {
   "cell_type": "code",
   "execution_count": 28,
   "id": "89a8b14c-a26c-44bc-b714-90e0368f3764",
   "metadata": {},
   "outputs": [],
   "source": [
    "## TODO: verify signatures on did registration payloads\n",
    "\n"
   ]
  },
  {
   "attachments": {},
   "cell_type": "markdown",
   "id": "2892e574-8f1f-46ae-a6c9-3d05263a6ba0",
   "metadata": {},
   "source": [
    "### B6.3 Add DID to cohort participant data\n",
    "\n",
    "This would be turned into a function"
   ]
  },
  {
   "cell_type": "code",
   "execution_count": 29,
   "id": "875d0ef9-99c7-4cf6-9861-27093c33ac76",
   "metadata": {},
   "outputs": [],
   "source": [
    "for participant in cohort_participants:\n",
    "    participant_id = participant[\"id\"]\n",
    "    if (participant_id == alexis_id):\n",
    "        alexis_did = alexis_did_registration[\"did\"]\n",
    "        participant[\"dids\"].append(alexis_did)\n",
    "    elif (participant_id == satoshi_id):\n",
    "        satoshi_did = satoshi_did_registration[\"did\"]\n",
    "        participant[\"dids\"].append(satoshi_did)\n"
   ]
  },
  {
   "cell_type": "code",
   "execution_count": 30,
   "id": "233cc331-1c24-4036-b9b7-adc3f099c7fe",
   "metadata": {},
   "outputs": [
    {
     "data": {
      "text/plain": [
       "[{'id': '03ec578937b7c1d975e5b05f5132673840aa6e9d3c5dc0f000f1ce432892ee77ad',\n",
       "  'pk': S256Point(03ec578937b7c1d975e5b05f5132673840aa6e9d3c5dc0f000f1ce432892ee77ad),\n",
       "  'dids': ['did:btc1:x1n3xa88mx0e2h0n2sv70tq8f6xu8yr8afhs0ktr9gz8fsq5qzslcsuzsk0e'],\n",
       "  'return_interact': 'Alexis => Copy+Paste'},\n",
       " {'id': '03f61957cc6e6b146b52a31198fe2749f3ac50362685cf9473ec44b084a143e016',\n",
       "  'pk': S256Point(03f61957cc6e6b146b52a31198fe2749f3ac50362685cf9473ec44b084a143e016),\n",
       "  'dids': ['did:btc1:x1vqvraf5jftkqfz74wyevyq38xr75vavtwcq69kpgxgwdm9aa0v4srhv6vr'],\n",
       "  'return_interact': 'Satoshi => Copy+Paste'}]"
      ]
     },
     "execution_count": 30,
     "metadata": {},
     "output_type": "execute_result"
    }
   ],
   "source": [
    "cohort_participants"
   ]
  },
  {
   "attachments": {},
   "cell_type": "markdown",
   "id": "b5f8816f-2962-47e4-bd7d-0fb5538b07d5",
   "metadata": {},
   "source": [
    "## Step B Aggregator Creates Beacon Cohort completed.\n",
    "\n",
    "The aggregator now awaits DID update invocation payloads from beacon participants, that it will coordinate the aggregation of."
   ]
  },
  {
   "cell_type": "code",
   "execution_count": null,
   "id": "8ead7090-47c6-48fa-800a-77b5aa928c01",
   "metadata": {},
   "outputs": [],
   "source": []
  },
  {
   "attachments": {},
   "cell_type": "markdown",
   "id": "4d2e2992-d968-4763-a355-fe4eb2bc7657",
   "metadata": {},
   "source": [
    "# D. Aggregate Updates\n",
    "\n"
   ]
  },
  {
   "attachments": {},
   "cell_type": "markdown",
   "id": "e9ba92a8-449d-413e-a155-db8fee6a85f0",
   "metadata": {},
   "source": [
    "## D1. Collect cohort participant DID update invocations\n",
    "\n",
    "\n",
    "In these notebooks we only aggregate a single update for simplicity."
   ]
  },
  {
   "attachments": {},
   "cell_type": "markdown",
   "id": "f73aa963-07e6-4f07-ab0c-5ed363bf2d69",
   "metadata": {},
   "source": [
    "### D1.1 Receive DID update payloads from cohort participants\n",
    "\n",
    "Paste the output from step C4.4 of the [Alexis](./Alexis.ipynb) notebook. \n"
   ]
  },
  {
   "cell_type": "code",
   "execution_count": 31,
   "id": "6e9b52c5-16c7-4e67-b5ab-8d0bdb78e0b2",
   "metadata": {},
   "outputs": [],
   "source": [
    "\n",
    "\n",
    "# Copy from step C4.4 of the Alexis notebook\n",
    "alexis_update_payload = {'beacon_address': 'tb1paq3mtqultmglkdk8sul2jmlsrx59vvnsgugwy7dekf8h5k0uk9dsvwa7uh', 'invocation': {'@context': ['https://w3id.org/security/v2', 'https://w3id.org/zcap/v1', 'https://w3id.org/json-ld-patch/v1'], 'patch': [{'op': 'add', 'path': '/service/4', 'value': {'id': '#linked-domain', 'type': 'LinkedDomains', 'serviceEndpoint': 'https://contact-me.com'}}], 'sourceHash': '5wBb48EzdLf6us9vGNY97SAPaHUAeVyfPb25pSL7XHTU', 'targetHash': '4yK9dCraTdummpEderam5WDmNuMQAScDy6tt5mLPoD1K', 'targetVersionId': 2, 'proof': {'type': 'SchnorrSecp256k12024', 'created': '2024-01-04T17:59:51Z', 'verificationMethod': '#initialKey', 'proofPurpose': 'capabilityInvocation', 'capability': 'urn:zcap:root:did%3Abtc1%3Ax1n3xa88mx0e2h0n2sv70tq8f6xu8yr8afhs0ktr9gz8fsq5qzslcsuzsk0e', 'invocationTarget': 'did:btc1:x1n3xa88mx0e2h0n2sv70tq8f6xu8yr8afhs0ktr9gz8fsq5qzslcsuzsk0e', 'capabilityAction': 'write', 'proofValue': 'z381yXYmxU8NudZ4HXY56DfMN6zfD8syvWcRXzT9xD9uYoQToo8QsXD7ahM3gXTzuay5WJbqTswt2BKaGWYn2hHhVFKJLXaDz'}}, 'did': 'did:btc1:x1n3xa88mx0e2h0n2sv70tq8f6xu8yr8afhs0ktr9gz8fsq5qzslcsuzsk0e', 'participant_pk': '03ec578937b7c1d975e5b05f5132673840aa6e9d3c5dc0f000f1ce432892ee77ad'}"
   ]
  },
  {
   "attachments": {},
   "cell_type": "markdown",
   "id": "93dc9f22-0596-41d0-bb1a-2efe18fcaad6",
   "metadata": {},
   "source": [
    "### D1.2 Verify DID update payload\n",
    "\n",
    "- beacon_address matches one of the aggregators beacons\n",
    "- payload is from a participant of the beacons cohort\n",
    "- signature is valid\n",
    "- DID update is for has previously been registered for participant (Does this matter, or is submitting an update for a new DID the same as registering?)"
   ]
  },
  {
   "cell_type": "code",
   "execution_count": 32,
   "id": "72285188-95f4-498b-a7c9-9165cfde1975",
   "metadata": {},
   "outputs": [],
   "source": [
    "assert(alexis_update_payload[\"beacon_address\"] == p2tr_beacon_address)"
   ]
  },
  {
   "cell_type": "code",
   "execution_count": 33,
   "id": "72b10cd1-0ce4-4760-a8fa-13b8dee2badd",
   "metadata": {},
   "outputs": [],
   "source": [
    "assert(alexis_update_payload[\"participant_pk\"] in participant_ids)"
   ]
  },
  {
   "cell_type": "code",
   "execution_count": 34,
   "id": "4c7ff36a-c097-4dee-9819-ba4874dcda75",
   "metadata": {},
   "outputs": [],
   "source": [
    "## TODO: verify the signature.\n",
    "## Need to have the signature first"
   ]
  },
  {
   "cell_type": "code",
   "execution_count": 35,
   "id": "0a79bda3-20a5-4796-a200-6712ab3257e1",
   "metadata": {},
   "outputs": [],
   "source": [
    "update_did = alexis_update_payload[\"did\"]\n",
    "for participant in cohort_participants:\n",
    "    if (participant[\"id\"] == alexis_update_payload[\"participant_pk\"]):\n",
    "        participant_dids = participant[\"dids\"]   \n",
    "        assert(update_did in participant_dids)\n",
    "        break;"
   ]
  },
  {
   "attachments": {},
   "cell_type": "markdown",
   "id": "923e40d3-9100-446c-9e22-69b97a5cfcdd",
   "metadata": {},
   "source": [
    "### D1.3 Add DID update to invocation set"
   ]
  },
  {
   "cell_type": "code",
   "execution_count": 36,
   "id": "ee9e8e3e-94d9-4580-aa65-213861b1d4bf",
   "metadata": {},
   "outputs": [],
   "source": [
    "did_update_set = {}\n",
    "update_invocation = alexis_update_payload[\"invocation\"]\n",
    "did_update_set[update_did] = update_invocation"
   ]
  },
  {
   "cell_type": "code",
   "execution_count": 37,
   "id": "a11bb3a1-04da-422e-b19e-79a0a1e2c229",
   "metadata": {},
   "outputs": [
    {
     "data": {
      "text/plain": [
       "{'did:btc1:x1n3xa88mx0e2h0n2sv70tq8f6xu8yr8afhs0ktr9gz8fsq5qzslcsuzsk0e': {'@context': ['https://w3id.org/security/v2',\n",
       "   'https://w3id.org/zcap/v1',\n",
       "   'https://w3id.org/json-ld-patch/v1'],\n",
       "  'patch': [{'op': 'add',\n",
       "    'path': '/service/4',\n",
       "    'value': {'id': '#linked-domain',\n",
       "     'type': 'LinkedDomains',\n",
       "     'serviceEndpoint': 'https://contact-me.com'}}],\n",
       "  'sourceHash': '5wBb48EzdLf6us9vGNY97SAPaHUAeVyfPb25pSL7XHTU',\n",
       "  'targetHash': '4yK9dCraTdummpEderam5WDmNuMQAScDy6tt5mLPoD1K',\n",
       "  'targetVersionId': 2,\n",
       "  'proof': {'type': 'SchnorrSecp256k12024',\n",
       "   'created': '2024-01-04T17:59:51Z',\n",
       "   'verificationMethod': '#initialKey',\n",
       "   'proofPurpose': 'capabilityInvocation',\n",
       "   'capability': 'urn:zcap:root:did%3Abtc1%3Ax1n3xa88mx0e2h0n2sv70tq8f6xu8yr8afhs0ktr9gz8fsq5qzslcsuzsk0e',\n",
       "   'invocationTarget': 'did:btc1:x1n3xa88mx0e2h0n2sv70tq8f6xu8yr8afhs0ktr9gz8fsq5qzslcsuzsk0e',\n",
       "   'capabilityAction': 'write',\n",
       "   'proofValue': 'z381yXYmxU8NudZ4HXY56DfMN6zfD8syvWcRXzT9xD9uYoQToo8QsXD7ahM3gXTzuay5WJbqTswt2BKaGWYn2hHhVFKJLXaDz'}}}"
      ]
     },
     "execution_count": 37,
     "metadata": {},
     "output_type": "execute_result"
    }
   ],
   "source": [
    "did_update_set"
   ]
  },
  {
   "attachments": {},
   "cell_type": "markdown",
   "id": "2747ace7-8abe-4ff0-a92c-fb80c6062c24",
   "metadata": {},
   "source": [
    "## D2. Construct Sparse Merkle Tree (SMT) from DID update set\n",
    "\n",
    "**Note: This step is done once Aggregator is happy that beacon update conditions met. Either certain number of updates submitted or amount of time has passed.**"
   ]
  },
  {
   "cell_type": "code",
   "execution_count": 38,
   "id": "c6e778cb-daba-4391-b669-b49321ba2d30",
   "metadata": {},
   "outputs": [],
   "source": [
    "from smt.tree import SparseMerkleTree\n",
    "from smt.proof import verify_proof, SparseMerkleProof\n",
    "from smt.utils import DEFAULTVALUE\n",
    "from buidl.helper import str_to_bytes\n",
    "import json"
   ]
  },
  {
   "attachments": {},
   "cell_type": "markdown",
   "id": "600b04fa-3820-42eb-a496-9c024c205208",
   "metadata": {},
   "source": [
    "### D2.1 Initialize empty SMT"
   ]
  },
  {
   "cell_type": "code",
   "execution_count": 39,
   "id": "881d3cf5-4167-42df-8ce6-b1598938eaaf",
   "metadata": {},
   "outputs": [],
   "source": [
    "tree = SparseMerkleTree()"
   ]
  },
  {
   "attachments": {},
   "cell_type": "markdown",
   "id": "bf345cb9-a074-4b28-b5b4-51f1a1467774",
   "metadata": {},
   "source": [
    "### D2.2 Add DID update invocations to set\n",
    "\n",
    "For each update in set add a hash of the update invocation at the SMT leaf indexed by a hash of the DID.\n",
    "\n",
    "The library sparse-merkle-tree handles the hashing, we just need to pass in byte strings to hash."
   ]
  },
  {
   "cell_type": "code",
   "execution_count": 40,
   "id": "6a0e0556-5887-4c34-8ce6-1d92884cec61",
   "metadata": {},
   "outputs": [
    {
     "name": "stdout",
     "output_type": "stream",
     "text": [
      "KEY : did:btc1:x1n3xa88mx0e2h0n2sv70tq8f6xu8yr8afhs0ktr9gz8fsq5qzslcsuzsk0e\n"
     ]
    }
   ],
   "source": [
    "for key,value in did_update_set.items():\n",
    "    did_bytes = str_to_bytes(key)\n",
    "    print(\"KEY : \" + key)\n",
    "    update_string = json.dumps(value)\n",
    "    did_update_bytes = str_to_bytes(update_string)\n",
    "    tree.update(did_bytes, did_update_bytes)\n",
    "    "
   ]
  },
  {
   "attachments": {},
   "cell_type": "markdown",
   "id": "b3dabe0b-d7ae-4b1d-8ee1-c2e286cc79c6",
   "metadata": {},
   "source": [
    "### D2.3 Calculate SMT root"
   ]
  },
  {
   "cell_type": "code",
   "execution_count": 41,
   "id": "ec892b3f-4329-4335-8b74-bbe7a46c32db",
   "metadata": {},
   "outputs": [
    {
     "data": {
      "text/plain": [
       "'0xd62e03e77d876ec16d775a4a4b31dbb3e785d439472c9b99d798d7eb7a9f0db1'"
      ]
     },
     "execution_count": 41,
     "metadata": {},
     "output_type": "execute_result"
    }
   ],
   "source": [
    "smt_hex_root = tree.root_as_hex()\n",
    "smt_hex_root"
   ]
  },
  {
   "attachments": {},
   "cell_type": "markdown",
   "id": "097445fc-23e4-44fd-b75e-31d42427485e",
   "metadata": {},
   "source": [
    "### D2.4 Create (non)inclusion proofs for each DID registered by cohort participants"
   ]
  },
  {
   "cell_type": "code",
   "execution_count": 42,
   "id": "e3319206-79ae-4871-928e-386ffab10b9b",
   "metadata": {},
   "outputs": [
    {
     "name": "stdout",
     "output_type": "stream",
     "text": [
      "\n",
      "Proof for did:btc1:x1n3xa88mx0e2h0n2sv70tq8f6xu8yr8afhs0ktr9gz8fsq5qzslcsuzsk0e : \n",
      "{'did:btc1:x1n3xa88mx0e2h0n2sv70tq8f6xu8yr8afhs0ktr9gz8fsq5qzslcsuzsk0e': b'\\x80\\x04\\x95>\\x00\\x00\\x00\\x00\\x00\\x00\\x00}\\x94(\\x8c\\tsidenodes\\x94]\\x94\\x8c\\x17non_membership_leafdata\\x94N\\x8c\\x0csibling_data\\x94Nu.'}\n",
      "\n",
      "\n",
      "Proof for did:btc1:x1vqvraf5jftkqfz74wyevyq38xr75vavtwcq69kpgxgwdm9aa0v4srhv6vr : \n",
      "{'did:btc1:x1vqvraf5jftkqfz74wyevyq38xr75vavtwcq69kpgxgwdm9aa0v4srhv6vr': b'\\x80\\x04\\x95\\x81\\x00\\x00\\x00\\x00\\x00\\x00\\x00}\\x94(\\x8c\\tsidenodes\\x94]\\x94\\x8c\\x17non_membership_leafdata\\x94CA\\x00+\\xa1d;Q\\xc1\\xa2\\x18\\x1ea\\x9a1\\x08\\xfc\\xe1H\\xea\\x16\\x9e4\\x13[\\xf0\\x944\\x93\\xb2\\xdc4~l)\\xc5W\\xa0\\xf2\\xb1\\x88\\x17P6V\\x9e;B\\xfe\\x12\\xc4\\x06\\xcd^\\x05M\\x02c\\xed\\xfee\\xe8t\\xb5\\n\\xe2\\x14\\x94\\x8c\\x0csibling_data\\x94Nu.'}\n",
      "\n"
     ]
    }
   ],
   "source": [
    "import pickle\n",
    "from smt.proof import verify_proof, SparseMerkleProof\n",
    "\n",
    "for participant in cohort_participants:\n",
    "    proofs = {}\n",
    "    smt_root = tree.root_as_bytes()\n",
    "    # return_interact = participant[\"return_interact\"]\n",
    "    dids = participant[\"dids\"]\n",
    "    for did in dids:\n",
    "        did_bytes = str_to_bytes(did)\n",
    "        proof = tree.prove(did_bytes)\n",
    "        proof_bytes = pickle.dumps(proof.__dict__)\n",
    "\n",
    "        proofs[did] = proof_bytes\n",
    "    # TODO: should this be here or in a separate data structure\n",
    "    participant[\"proofs\"] = proofs\n",
    "    print(f\"\\nProof for {did} : \\n{proofs}\\n\")\n",
    "    "
   ]
  },
  {
   "attachments": {},
   "cell_type": "markdown",
   "id": "92dab980-0f59-40d4-806b-895f4008452d",
   "metadata": {},
   "source": [
    "## D3. Construct pending beacon signal\n",
    "\n",
    "A pending beacon signal is an unsigned bitcoin transaction that spends from the beacon address and has a tx output at index 0 containing of the following format [OP_RETURN, smt_root]"
   ]
  },
  {
   "attachments": {},
   "cell_type": "markdown",
   "id": "20bb9628-ebd4-42ee-9cb1-b1040ecc6535",
   "metadata": {},
   "source": [
    "### D3.1 Construct a transaction input (TxIn) that spends an output controlled by the beacon address\n",
    "\n",
    "Funding transaction and associated ID were produced outside of the scope of these noteobooks. It can be seen on MemPool here - https://mempool.space/signet/tx/222b2223defe2b5cdb6261763753b8c755ce73a77d1bec596a6b308d8c60a2d4.\n",
    "\n",
    "If these notebooks have been used to generate a different beacon address, a new funding transaction will have to be created."
   ]
  },
  {
   "cell_type": "code",
   "execution_count": 43,
   "id": "d4cf2d7c-e052-472e-a300-b6993d7fe0ef",
   "metadata": {},
   "outputs": [
    {
     "name": "stdout",
     "output_type": "stream",
     "text": [
      "Tx Input satoshis:  10000\n"
     ]
    }
   ],
   "source": [
    "from buidl.tx import Tx, TxIn, TxOut, SIGHASH_DEFAULT\n",
    "\n",
    "# Transaction ID for transaction that sent funds to the beacon address\n",
    "funding_tx_id = \"b33dabe7c6ccbbfe27487692d1c9318fe4c478d68347acc6e1714f5066f97f36\"\n",
    "\n",
    "# TODO: Need to fund a beacon address\n",
    "prev_tx = bytes.fromhex(funding_tx_id)  # Identifying funding tx\n",
    "prev_index = 1 # Identify funding output index\n",
    "\n",
    "\n",
    "tx_in = TxIn(prev_tx=prev_tx, prev_index=prev_index)\n",
    "\n",
    "print(\"Tx Input satoshis: \",tx_in.value(network=\"signet\"))"
   ]
  },
  {
   "attachments": {},
   "cell_type": "markdown",
   "id": "4918e3c5-bbf6-4afc-af54-f4bd5918e744",
   "metadata": {},
   "source": [
    "### D3.2 Construct a transaction output with 0 value and a ScriptPubKey of [OP_RETURN, smt_hash]\n",
    "\n",
    "Note: OP_RETURN denoted as 0x6a hex value in bitcoin"
   ]
  },
  {
   "cell_type": "code",
   "execution_count": 44,
   "id": "53975b6e-08ef-4087-ab15-0b3b61c929dd",
   "metadata": {},
   "outputs": [],
   "source": [
    "smt_root_bytes = tree.root_as_bytes()"
   ]
  },
  {
   "cell_type": "code",
   "execution_count": 45,
   "id": "5764be85-ba8d-4bc1-aa67-cf3908e0a30b",
   "metadata": {},
   "outputs": [],
   "source": [
    "from buidl.script import ScriptPubKey\n",
    "\n",
    "\n",
    "\n",
    "script_pubkey = ScriptPubKey([0x6a, smt_root_bytes])\n",
    "\n",
    "beacon_signal_txout = TxOut(0, script_pubkey)"
   ]
  },
  {
   "attachments": {},
   "cell_type": "markdown",
   "id": "4ed0b6f8-a61c-4bde-a968-2f2dea7012f7",
   "metadata": {},
   "source": [
    "### D3.3 Construct a refunding transaction\n",
    "\n",
    "This prevents all funds from the TxIn being sent to miners."
   ]
  },
  {
   "cell_type": "code",
   "execution_count": 46,
   "id": "72f05be6-c2c7-4bfa-ad41-f5819885d531",
   "metadata": {},
   "outputs": [],
   "source": [
    "\n",
    "tx_fee = 350\n",
    "refund_amount = tx_in.value(network=\"signet\") - tx_fee\n",
    "refund_out = TxOut.to_address(p2tr_beacon_address, refund_amount)"
   ]
  },
  {
   "attachments": {},
   "cell_type": "markdown",
   "id": "ce8f355d-2976-47e0-9e6b-25d7fe846bac",
   "metadata": {},
   "source": [
    "### D3.4 Construct the unsigned bitcoin transaction \n",
    "\n",
    "Transaction has a single input locked by the beacon address and two outputs.\n",
    "\n",
    "**Note:** In the final protocol we will most likely use the partially signed bitcoin transaction (PSBT) data structure."
   ]
  },
  {
   "cell_type": "code",
   "execution_count": 48,
   "id": "296b6639-1f0d-4805-8f9e-b10710149285",
   "metadata": {},
   "outputs": [
    {
     "name": "stdout",
     "output_type": "stream",
     "text": [
      "010000000001010a785a1316ccebd9362d1c297e56ebdfc8e584fb3e32c851fb0ad9f574a708210100000000ffffffff020000000000000000226a20d62e03e77d876ec16d775a4a4b31dbb3e785d439472c9b99d798d7eb7a9f0db1b225000000000000225120e823b5839f5ed1fb36c7873ea96ff019a85632704710e279b9b24f7a59fcb15b0000000000\n"
     ]
    }
   ],
   "source": [
    "tx_ins = [tx_in]\n",
    "\n",
    "tx_outs = [beacon_signal_txout,refund_out]\n",
    "\n",
    "pending_beacon_signal = Tx(version=1, tx_ins=tx_ins, tx_outs=tx_outs, network=network,segwit=True)\n",
    "\n",
    "\n",
    "print(pending_beacon_signal.serialize().hex())"
   ]
  },
  {
   "attachments": {},
   "cell_type": "markdown",
   "id": "63fe15dd-c923-4d6e-b6aa-c7ee0af22b86",
   "metadata": {},
   "source": [
    "## D4. Send authorize beacon signal request to respective cohort participants."
   ]
  },
  {
   "attachments": {},
   "cell_type": "markdown",
   "id": "3116d820-a427-45ab-8bd5-db63daf9e5c3",
   "metadata": {},
   "source": [
    "Payload contains:\n",
    "\n",
    "- Session ID: Unique identifier for this signing session, so that the payloads can be bound to the same signing session across the required communicaiton rounds.\n",
    "- Beacon Address: Unique identifier for the beacon that is emmitting the signal\n",
    "- Pending Beacon Signal: The PSBT that cohort participants are being asked to authorize. (**Note**: This is just a regular unsigned bitcoin transaction for the moment)\n",
    "- Proofs: A data structure containing proofs of (non)inclusion respective to the dids each cohort participant has registered"
   ]
  },
  {
   "cell_type": "code",
   "execution_count": 49,
   "id": "6dfe102e-9a39-41a9-b92b-c54e48b184ec",
   "metadata": {},
   "outputs": [
    {
     "name": "stdout",
     "output_type": "stream",
     "text": [
      "Communicate the authorize beacon signal request to the cohort participant using the specified return interact\n",
      "\n",
      "Alexis => Copy+Paste\n",
      "\n",
      "\n",
      "\n",
      "{'session_id': 'SOME SESSION ID', 'beacon_address': 'tb1paq3mtqultmglkdk8sul2jmlsrx59vvnsgugwy7dekf8h5k0uk9dsvwa7uh', 'pending_beacon_signal': '010000000001010a785a1316ccebd9362d1c297e56ebdfc8e584fb3e32c851fb0ad9f574a708210100000000ffffffff020000000000000000226a20d62e03e77d876ec16d775a4a4b31dbb3e785d439472c9b99d798d7eb7a9f0db1b225000000000000225120e823b5839f5ed1fb36c7873ea96ff019a85632704710e279b9b24f7a59fcb15b0000000000', 'proofs': {'did:btc1:x1n3xa88mx0e2h0n2sv70tq8f6xu8yr8afhs0ktr9gz8fsq5qzslcsuzsk0e': b'\\x80\\x04\\x95>\\x00\\x00\\x00\\x00\\x00\\x00\\x00}\\x94(\\x8c\\tsidenodes\\x94]\\x94\\x8c\\x17non_membership_leafdata\\x94N\\x8c\\x0csibling_data\\x94Nu.'}}\n",
      "\n",
      "\n",
      "\n",
      "Communicate the authorize beacon signal request to the cohort participant using the specified return interact\n",
      "\n",
      "Satoshi => Copy+Paste\n",
      "\n",
      "\n",
      "\n",
      "{'session_id': 'SOME SESSION ID', 'beacon_address': 'tb1paq3mtqultmglkdk8sul2jmlsrx59vvnsgugwy7dekf8h5k0uk9dsvwa7uh', 'pending_beacon_signal': '010000000001010a785a1316ccebd9362d1c297e56ebdfc8e584fb3e32c851fb0ad9f574a708210100000000ffffffff020000000000000000226a20d62e03e77d876ec16d775a4a4b31dbb3e785d439472c9b99d798d7eb7a9f0db1b225000000000000225120e823b5839f5ed1fb36c7873ea96ff019a85632704710e279b9b24f7a59fcb15b0000000000', 'proofs': {'did:btc1:x1vqvraf5jftkqfz74wyevyq38xr75vavtwcq69kpgxgwdm9aa0v4srhv6vr': b'\\x80\\x04\\x95\\x81\\x00\\x00\\x00\\x00\\x00\\x00\\x00}\\x94(\\x8c\\tsidenodes\\x94]\\x94\\x8c\\x17non_membership_leafdata\\x94CA\\x00+\\xa1d;Q\\xc1\\xa2\\x18\\x1ea\\x9a1\\x08\\xfc\\xe1H\\xea\\x16\\x9e4\\x13[\\xf0\\x944\\x93\\xb2\\xdc4~l)\\xc5W\\xa0\\xf2\\xb1\\x88\\x17P6V\\x9e;B\\xfe\\x12\\xc4\\x06\\xcd^\\x05M\\x02c\\xed\\xfee\\xe8t\\xb5\\n\\xe2\\x14\\x94\\x8c\\x0csibling_data\\x94Nu.'}}\n",
      "\n",
      "\n",
      "\n"
     ]
    }
   ],
   "source": [
    "# TODO: secure random generator?\n",
    "session_id = \"SOME SESSION ID\"\n",
    "\n",
    "## COMMON TO ALL PARTICIPANTS\n",
    "authorize_beacon_signal_request = {\n",
    "    \"session_id\": session_id,\n",
    "    \"beacon_address\": p2tr_beacon_address,\n",
    "    \"pending_beacon_signal\": pending_beacon_signal.serialize().hex(),\n",
    "}\n",
    "\n",
    "for participant in cohort_participants:\n",
    "    authorize_beacon_signal_request[\"proofs\"] = participant[\"proofs\"]\n",
    "\n",
    "    print(\"Communicate the authorize beacon signal request to the cohort participant using the specified return interact\\n\")\n",
    "    print(participant[\"return_interact\"])\n",
    "    print(\"\\n\\n\")\n",
    "    print(authorize_beacon_signal_request)\n",
    "    print(\"\\n\\n\")\n",
    "    "
   ]
  },
  {
   "attachments": {},
   "cell_type": "markdown",
   "id": "4063ed34-af9b-406d-ba31-4b0270904fac",
   "metadata": {},
   "source": [
    "## D5. Aggregate MuSig2 Nonce"
   ]
  },
  {
   "attachments": {},
   "cell_type": "markdown",
   "id": "45aeab87-b28c-4639-965e-9ebfdd5ec9ac",
   "metadata": {},
   "source": [
    "### D5.1 Collected public nonce points from cohort participants\n",
    "\n",
    "**Must get fresh nonce points from each participant.**\n",
    "\n",
    "Paste in nonce payloads for each participant from Step C4.5.2 of their respective notebooks."
   ]
  },
  {
   "cell_type": "code",
   "execution_count": 51,
   "id": "c6c696e4-4d1d-47a9-81b9-8b803f421c11",
   "metadata": {},
   "outputs": [],
   "source": [
    "alexis_nonce_payload = {'beacon_address': 'tb1paq3mtqultmglkdk8sul2jmlsrx59vvnsgugwy7dekf8h5k0uk9dsvwa7uh', 'session_id': 'SOME SESSION ID', 'nonce_points': ['025ff91f189127e3cbd8c5af15c33b0b51c2b0c835d56d89702b8d9e2bf7a205d8', '035bdf06226b9fbdb945fdca9050cab0faee7bedf8b5f1057759ab675df03be9a7']}"
   ]
  },
  {
   "cell_type": "code",
   "execution_count": 52,
   "id": "f4e31df4-2c1f-49df-a55b-7823e9092871",
   "metadata": {},
   "outputs": [],
   "source": [
    "satoshi_nonce_payload = {'beacon_address': 'tb1paq3mtqultmglkdk8sul2jmlsrx59vvnsgugwy7dekf8h5k0uk9dsvwa7uh', 'session_id': 'SOME SESSION ID', 'nonce_points': ['0223bd55fe9e867f8429a6781f9d15aa46091983b431ef170d871e20e7ad972689', '023bb299b97e43397305578beef2ff01595818d763fab6dd9f8892f3c0382a3a2c']}"
   ]
  },
  {
   "attachments": {},
   "cell_type": "markdown",
   "id": "8768d996-0e59-4e66-8ef1-453e106f0ed5",
   "metadata": {},
   "source": [
    "### D5.2 Verify nonce payloads"
   ]
  },
  {
   "cell_type": "code",
   "execution_count": 53,
   "id": "1a954db7-be8d-4d05-b59c-322053061473",
   "metadata": {},
   "outputs": [],
   "source": [
    "assert(p2tr_beacon_address == alexis_nonce_payload[\"beacon_address\"])\n",
    "assert(p2tr_beacon_address == satoshi_nonce_payload[\"beacon_address\"])\n"
   ]
  },
  {
   "cell_type": "code",
   "execution_count": 54,
   "id": "5064b3f8-0c83-4f75-b7e7-71171a19cb70",
   "metadata": {},
   "outputs": [],
   "source": [
    "assert(session_id == alexis_nonce_payload[\"session_id\"])\n",
    "assert(session_id == satoshi_nonce_payload[\"session_id\"])\n"
   ]
  },
  {
   "cell_type": "code",
   "execution_count": 55,
   "id": "dac03ddd-4ed5-430f-b8d7-a226c7569429",
   "metadata": {},
   "outputs": [],
   "source": [
    "## TODO: Add and verify signatures over these payloads"
   ]
  },
  {
   "attachments": {},
   "cell_type": "markdown",
   "id": "b966c70b-5c58-4e5d-8b9e-1ee5f009f31a",
   "metadata": {},
   "source": [
    "### D5.3 Aggregate nonce points to create MuSig2 aggregated nonce"
   ]
  },
  {
   "cell_type": "code",
   "execution_count": 56,
   "id": "789c722c-0c65-4c46-9476-df0c23f412f1",
   "metadata": {},
   "outputs": [],
   "source": [
    "alexis_nonce_points =  [S256Point.parse(bytes.fromhex(hex_key)) for hex_key in alexis_nonce_payload['nonce_points']]"
   ]
  },
  {
   "cell_type": "code",
   "execution_count": 57,
   "id": "7139783d-9d70-4f41-b65d-10e60553f98a",
   "metadata": {},
   "outputs": [],
   "source": [
    "satoshi_nonce_points =  [S256Point.parse(bytes.fromhex(hex_key)) for hex_key in satoshi_nonce_payload['nonce_points']]"
   ]
  },
  {
   "cell_type": "code",
   "execution_count": 58,
   "id": "c08db818-34e3-4688-9ecc-258f546c8d72",
   "metadata": {},
   "outputs": [],
   "source": [
    "nonce_points = [alexis_nonce_points, satoshi_nonce_points]\n",
    "\n",
    "nonce_sums = musig.nonce_sums(nonce_points)"
   ]
  },
  {
   "cell_type": "code",
   "execution_count": 59,
   "id": "b85bfcc1-3aa0-41ee-a46d-71cf1a750f22",
   "metadata": {},
   "outputs": [
    {
     "data": {
      "text/plain": [
       "(S256Point(03f1846cc5047272ccca0827e0097d6a27bca46f53dcdc173c85b87caac92975b6),\n",
       " S256Point(02a88fc71c0dff088bb5cbc2c4dec2538a15a7c0f7a31e314ac3a0986bc253b4f6))"
      ]
     },
     "execution_count": 59,
     "metadata": {},
     "output_type": "execute_result"
    }
   ],
   "source": [
    "nonce_sums"
   ]
  },
  {
   "attachments": {},
   "cell_type": "markdown",
   "id": "8705bd21-3a3b-4869-b0a7-abf4554c9e2f",
   "metadata": {},
   "source": [
    "### D5.4 Send aggregated nonce points to all cohort participants"
   ]
  },
  {
   "cell_type": "code",
   "execution_count": 60,
   "id": "4ab05475-7f13-4584-abaf-f51d79be0f75",
   "metadata": {},
   "outputs": [],
   "source": [
    "agg_nonce_hex = [nonce_point.sec().hex() for nonce_point in nonce_sums]\n",
    "aggregated_nonce_payload = {\n",
    "    \"beacon_address\": p2tr_beacon_address,\n",
    "    \"session_id\": session_id,\n",
    "    \"agg_nonce\": agg_nonce_hex\n",
    "}"
   ]
  },
  {
   "cell_type": "code",
   "execution_count": 61,
   "id": "2b2742fe-b7da-4f96-ad6a-795c1ceddbf4",
   "metadata": {},
   "outputs": [
    {
     "name": "stdout",
     "output_type": "stream",
     "text": [
      "Copy+Paste the below output into step C4.5.3 of Alexis and Satoshi notebooks\n",
      "\n",
      "\n",
      "{'beacon_address': 'tb1paq3mtqultmglkdk8sul2jmlsrx59vvnsgugwy7dekf8h5k0uk9dsvwa7uh', 'session_id': 'SOME SESSION ID', 'agg_nonce': ['03f1846cc5047272ccca0827e0097d6a27bca46f53dcdc173c85b87caac92975b6', '02a88fc71c0dff088bb5cbc2c4dec2538a15a7c0f7a31e314ac3a0986bc253b4f6']}\n"
     ]
    }
   ],
   "source": [
    "print(\"Copy+Paste the below output into step C4.5.3 of Alexis and Satoshi notebooks\\n\\n\")\n",
    "print(aggregated_nonce_payload)"
   ]
  },
  {
   "attachments": {},
   "cell_type": "markdown",
   "id": "90b656f6-a5fb-4c40-87b4-05fe7f357664",
   "metadata": {},
   "source": [
    "## D6. Aggregate signatures and broadcast beacon signal"
   ]
  },
  {
   "attachments": {},
   "cell_type": "markdown",
   "id": "cef52bc8-8f81-4cd2-b49e-6838889bac6b",
   "metadata": {},
   "source": [
    "### D6.1 Collect signal authorizations from cohort participants\n",
    "\n",
    "Paste output from step C4.8.2 of Alexis and Satoshi notebooks"
   ]
  },
  {
   "cell_type": "code",
   "execution_count": 62,
   "id": "943e8dc4-b830-4c6a-b8de-2dcf29f82fd8",
   "metadata": {},
   "outputs": [],
   "source": [
    "partial_sigs = []"
   ]
  },
  {
   "cell_type": "code",
   "execution_count": 63,
   "id": "f4d42a25-cb20-42da-88fe-5de87c0a7f56",
   "metadata": {},
   "outputs": [],
   "source": [
    "alexis_signal_authorization = {'beacon_address': 'tb1paq3mtqultmglkdk8sul2jmlsrx59vvnsgugwy7dekf8h5k0uk9dsvwa7uh', 'session_id': 'SOME SESSION ID', 'sig': 95548648078513855539470960323709747029731451725895585066518514894188892167143}"
   ]
  },
  {
   "cell_type": "code",
   "execution_count": 64,
   "id": "ab5b2c87-22cc-40ab-afa4-84e7a6151e97",
   "metadata": {},
   "outputs": [],
   "source": [
    "assert(p2tr_beacon_address == alexis_signal_authorization[\"beacon_address\"])\n",
    "assert(session_id == alexis_signal_authorization[\"session_id\"])"
   ]
  },
  {
   "cell_type": "code",
   "execution_count": 65,
   "id": "b31b6f7f-bdc4-4196-b4a2-3751781e0f4b",
   "metadata": {},
   "outputs": [],
   "source": [
    "partial_sigs.append(alexis_signal_authorization[\"sig\"])"
   ]
  },
  {
   "cell_type": "code",
   "execution_count": 66,
   "id": "ec6488cd-fe76-48bb-9c3f-ea160fc008f9",
   "metadata": {},
   "outputs": [],
   "source": [
    "satoshi_signal_authorization = {'beacon_address': 'tb1paq3mtqultmglkdk8sul2jmlsrx59vvnsgugwy7dekf8h5k0uk9dsvwa7uh', 'session_id': 'SOME SESSION ID', 'sig': 89735577659157098147155861602191867711227124426401672005718564010100147502759}"
   ]
  },
  {
   "cell_type": "code",
   "execution_count": 67,
   "id": "a090d725-5e5e-4c98-bd45-89475b0db0cd",
   "metadata": {},
   "outputs": [],
   "source": [
    "assert(p2tr_beacon_address == satoshi_signal_authorization[\"beacon_address\"])\n",
    "assert(session_id == satoshi_signal_authorization[\"session_id\"])"
   ]
  },
  {
   "cell_type": "code",
   "execution_count": 68,
   "id": "6f1e6a99-bb4a-476b-abd2-98a295291395",
   "metadata": {},
   "outputs": [],
   "source": [
    "partial_sigs.append(satoshi_signal_authorization[\"sig\"])"
   ]
  },
  {
   "cell_type": "code",
   "execution_count": 69,
   "id": "765b8e62-2921-46af-8b79-3b5b632ee7aa",
   "metadata": {},
   "outputs": [
    {
     "data": {
      "text/plain": [
       "[95548648078513855539470960323709747029731451725895585066518514894188892167143,\n",
       " 89735577659157098147155861602191867711227124426401672005718564010100147502759]"
      ]
     },
     "execution_count": 69,
     "metadata": {},
     "output_type": "execute_result"
    }
   ],
   "source": [
    "partial_sigs"
   ]
  },
  {
   "attachments": {},
   "cell_type": "markdown",
   "id": "c78f54b1-0556-459b-bbfd-0f3be9972048",
   "metadata": {},
   "source": [
    "### D6.2 Aggregate partial signatures"
   ]
  },
  {
   "cell_type": "code",
   "execution_count": 70,
   "id": "8f89624e-0038-4ee0-9c2d-b4c4d35cbff1",
   "metadata": {},
   "outputs": [],
   "source": [
    "## Check have recieved a partial sig from each participant\n",
    "assert(len(partial_sigs) == len(cohort_participants))"
   ]
  },
  {
   "cell_type": "code",
   "execution_count": 71,
   "id": "daf1eb0c-6208-41a1-8aed-121fee3353b3",
   "metadata": {},
   "outputs": [],
   "source": [
    "sig_sum = 0;\n",
    "for partial_sig in partial_sigs:\n",
    "    sig_sum += partial_sig"
   ]
  },
  {
   "attachments": {},
   "cell_type": "markdown",
   "id": "4471bfdd-869d-483d-a43d-8def35dbcf0f",
   "metadata": {},
   "source": [
    "### D6.3 Generate MuSig2 r value from aggregated nonce and btc tx sig hash\n",
    "\n",
    "This r value is the same one generated by cohort participants in step C4.6.2"
   ]
  },
  {
   "cell_type": "code",
   "execution_count": 72,
   "id": "4ea892ae-d362-45be-a631-5642d6b86ad2",
   "metadata": {},
   "outputs": [],
   "source": [
    "input_index = 0\n",
    "sig_hash = pending_beacon_signal.sig_hash(input_index, SIGHASH_DEFAULT)"
   ]
  },
  {
   "cell_type": "code",
   "execution_count": 73,
   "id": "bfe5d8ae-6c3d-46a0-8fcb-3ee5bedade07",
   "metadata": {},
   "outputs": [],
   "source": [
    "r = musig.compute_r(nonce_sums, sig_hash)"
   ]
  },
  {
   "attachments": {},
   "cell_type": "markdown",
   "id": "ae28ed3d-04d2-4a7c-a428-aad00df0ddeb",
   "metadata": {},
   "source": [
    "### D6.4 Finalize btc transaction"
   ]
  },
  {
   "cell_type": "code",
   "execution_count": 74,
   "id": "5aa546f3-ea75-4751-ad90-22ab5b82ae74",
   "metadata": {},
   "outputs": [],
   "source": [
    "schnorr = musig.get_signature(sig_sum, r, sig_hash, tr_merkle_root)"
   ]
  },
  {
   "cell_type": "code",
   "execution_count": 75,
   "id": "675b0e84-b2c2-4f65-9c0f-55365bb6a520",
   "metadata": {},
   "outputs": [],
   "source": [
    "tx_in_to_finalize = pending_beacon_signal.tx_ins[0]\n",
    "tx_in_to_finalize.finalize_p2tr_keypath(schnorr.serialize())"
   ]
  },
  {
   "cell_type": "code",
   "execution_count": 76,
   "id": "49de4661-48b8-4315-a7d1-39bb453c60e3",
   "metadata": {},
   "outputs": [
    {
     "data": {
      "text/plain": [
       "True"
      ]
     },
     "execution_count": 76,
     "metadata": {},
     "output_type": "execute_result"
    }
   ],
   "source": [
    "pending_beacon_signal.verify_input(0)"
   ]
  },
  {
   "attachments": {},
   "cell_type": "markdown",
   "id": "e991cd2d-df36-458d-97d8-6edc4bfcef5d",
   "metadata": {},
   "source": [
    "### D6.5 Broadcast btc transaction\n",
    "\n",
    "In this example we will just past the output below into mempool.space at the url https://mempool.space/signet/tx/push.\n",
    "\n",
    "Generally, it is recommended that aggregators run their own bitcoin nodes from which they will be able to broadcast btc transactions."
   ]
  },
  {
   "cell_type": "code",
   "execution_count": 78,
   "id": "3f13c8f4-cae9-41ec-a283-b9ca3491b3ff",
   "metadata": {},
   "outputs": [
    {
     "name": "stdout",
     "output_type": "stream",
     "text": [
      "010000000001010a785a1316ccebd9362d1c297e56ebdfc8e584fb3e32c851fb0ad9f574a708210100000000ffffffff020000000000000000226a20d62e03e77d876ec16d775a4a4b31dbb3e785d439472c9b99d798d7eb7a9f0db1b225000000000000225120e823b5839f5ed1fb36c7873ea96ff019a85632704710e279b9b24f7a59fcb15b0140c6ce4125813f8a6cc8e2b4bd8abf24d5a40a8ab05a9c2c3e2c44f31afaf51ff6888210da0d68425d3b39283f7fcb97925252b91f8545bb15130e4e24a2fa300800000000\n"
     ]
    }
   ],
   "source": [
    "print(pending_beacon_signal.serialize().hex())"
   ]
  },
  {
   "cell_type": "code",
   "execution_count": null,
   "id": "ec6f5d37-5d7e-4eda-8bd2-28420a6c619c",
   "metadata": {},
   "outputs": [],
   "source": []
  },
  {
   "attachments": {},
   "cell_type": "markdown",
   "id": "e29b1e87-9c7b-4937-aff0-da4c5ab49a7f",
   "metadata": {},
   "source": [
    "# Step D Aggregate Updates Complete!!\n",
    "\n",
    "\n",
    "\n",
    "Note: the transaction ID will change every time you run through these notebooks. "
   ]
  },
  {
   "cell_type": "code",
   "execution_count": 79,
   "id": "969d0002-a6ca-41b9-baf2-6b6b39ec2d2e",
   "metadata": {},
   "outputs": [
    {
     "name": "stdout",
     "output_type": "stream",
     "text": [
      "The broadcast beacon signal can be found at: https://mempool.space/signet/tx/b33dabe7c6ccbbfe27487692d1c9318fe4c478d68347acc6e1714f5066f97f36\n"
     ]
    }
   ],
   "source": [
    "print(f\"The broadcast beacon signal can be found at: https://mempool.space/{network}/tx/{pending_beacon_signal.id()}\")"
   ]
  },
  {
   "cell_type": "code",
   "execution_count": null,
   "id": "009fc58f-b802-4354-b489-5555859e217c",
   "metadata": {},
   "outputs": [],
   "source": []
  }
 ],
 "metadata": {
  "kernelspec": {
   "display_name": "Python 3 (ipykernel)",
   "language": "python",
   "name": "python3"
  },
  "language_info": {
   "codemirror_mode": {
    "name": "ipython",
    "version": 3
   },
   "file_extension": ".py",
   "mimetype": "text/x-python",
   "name": "python",
   "nbconvert_exporter": "python",
   "pygments_lexer": "ipython3",
   "version": "3.12.6"
  }
 },
 "nbformat": 4,
 "nbformat_minor": 5
}
