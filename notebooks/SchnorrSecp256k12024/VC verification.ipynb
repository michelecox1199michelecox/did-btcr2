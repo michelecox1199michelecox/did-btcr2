{
 "cells": [
  {
   "cell_type": "markdown",
   "id": "c18feb60-32d7-42d7-b477-3b6400f28aa3",
   "metadata": {},
   "source": [
    "# VC Verification\n",
    "\n",
    "This notebook walks through verifying a Data Integrity proof on a secured document according to the TBD schnorr-secp256k1-jcs-2024 cryptosuite"
   ]
  },
  {
   "cell_type": "markdown",
   "id": "334ff844-26db-4e19-b0bc-a372d2441adf",
   "metadata": {},
   "source": [
    "# Verify Proof (schnorr-secp256k1-jcs-2024 cryptosuite)\n",
    "The following algorithm specifies how to verify a data integrity proof given an secured data document. Required inputs are an secured data document (map securedDocument). This algorithm returns a verification result, which is a struct whose items are:\n",
    "\n",
    "- verified (true or false)\n",
    "- verifiedDocument (if verified is true, an unsecured data document; otherwise Null)\n",
    "\n",
    "1. Let unsecuredDocument be a copy of securedDocument with the proof value removed.\n",
    "2. Let proofOptions be the result of a copy of securedDocument.proof with proofValue removed.\n",
    "3. Let proofBytes be the Multibase decoded base58-btc value in securedDocument.proof.proofValue.\n",
    "4. If proofOptions.@context exists:\n",
    "    - Check that the securedDocument.@context starts with all values contained in the proofOptions.@context in the same order. Otherwise, set verified to false and skip to the last step.\n",
    "    - Set unsecuredDocument.@context equal to proofOptions.@context.\n",
    "5. Let transformedData be the result of running the algorithm in Section XXX Transformation (schnorr-secp256k1-jcs-2024) with unsecuredDocument and proofOptions passed as parameters.\n",
    "6. Let proofConfig be the result of running the algorithm in Section XXX Proof Configuration (schnorr-secp256k1-jcs-2024) with proofOptions passed as the parameter.\n",
    "7. Let hashData be the result of running the algorithm in Section XXX Hashing (schnorr-secp256k1-jcs-2024) with transformedData and proofConfig passed as a parameters.\n",
    "8. Let verified be the result of running the algorithm in Section XXX Proof Verification (schnorr-secp256k1-jcs-2024) on hashData, proofBytes, and proofConfig.\n",
    "9. Return a verification result with items:\n",
    "- verified\n",
    "- verifiedDocument (if verified is true, unsecuredDocument; otherwise, Null)"
   ]
  },
  {
   "cell_type": "markdown",
   "id": "b548c54a-1fdc-4def-a606-e1c0bf6fb4ee",
   "metadata": {},
   "source": [
    "## 0.1. Add libbtc1 python library to path"
   ]
  },
  {
   "cell_type": "code",
   "execution_count": 37,
   "id": "6c583867-7cc4-4acc-bfb5-67d17c7220f5",
   "metadata": {},
   "outputs": [],
   "source": [
    "import sys\n",
    "import os\n",
    "\n",
    "notebooks_path = os.path.abspath(os.path.join(os.getcwd(), '..'))\n",
    "\n",
    "# Add the Notebooks directory to the sys.path\n",
    "sys.path.append(notebooks_path)"
   ]
  },
  {
   "cell_type": "markdown",
   "id": "471f821c-4f8c-440a-a73f-cbc253b9b2da",
   "metadata": {},
   "source": [
    "## 0.2 Get secured document input\n",
    "\n",
    "**You can create your own secured VC and copy it across in the VC Signing notebook**"
   ]
  },
  {
   "cell_type": "code",
   "execution_count": 2,
   "id": "2714140d-44fb-49c7-8f7c-044d2e73ec7b",
   "metadata": {},
   "outputs": [],
   "source": [
    "secured_vc = {'@context': ['https://www.w3.org/ns/credentials/v2', 'https://www.w3.org/ns/credentials/examples/v2'], 'id': 'http://university.example/credentials/58473', 'type': ['VerifiableCredential', 'ExampleAlumniCredential'], 'validFrom': '2020-01-01T00:00:00Z', 'credentialSubject': {'id': 'did:example:ebfeb1f712ebc6f1c276e12ec21', 'alumniOf': {'id': 'did:example:c276e12ec21ebfeb1f712ebc6f1', 'name': 'Example University'}}, 'issuer': 'did:btc1:k1q2ddta4gt5n7u6d3xwhdyua57t6awrk55ut82qvurfm0qnrxx5nw7vnsy65', 'proof': {'type': 'DataIntegrityProof', 'cryptosuite': 'schnorr-secp256k1-jcs-2024', 'verificationMethod': 'did:btc1:k1q2ddta4gt5n7u6d3xwhdyua57t6awrk55ut82qvurfm0qnrxx5nw7vnsy65#initialKey', 'proofPurpose': 'assertionMethod', '@context': ['https://www.w3.org/ns/credentials/v2', 'https://www.w3.org/ns/credentials/examples/v2'], 'proofValue': 'zsxM9je5iKynKyN6rRPi9QjTWpG6inJ1umwGfnCo4fiu4MqYf46PLd4TE2wVZvdZegDuC6xL6n3Kj8S1PbC8tmTm'}}"
   ]
  },
  {
   "cell_type": "code",
   "execution_count": 3,
   "id": "841b4e21-65ff-40b3-9e59-6bbe46fca373",
   "metadata": {},
   "outputs": [
    {
     "name": "stdout",
     "output_type": "stream",
     "text": [
      "{\n",
      "  \"@context\": [\n",
      "    \"https://www.w3.org/ns/credentials/v2\",\n",
      "    \"https://www.w3.org/ns/credentials/examples/v2\"\n",
      "  ],\n",
      "  \"id\": \"http://university.example/credentials/58473\",\n",
      "  \"type\": [\n",
      "    \"VerifiableCredential\",\n",
      "    \"ExampleAlumniCredential\"\n",
      "  ],\n",
      "  \"validFrom\": \"2020-01-01T00:00:00Z\",\n",
      "  \"credentialSubject\": {\n",
      "    \"id\": \"did:example:ebfeb1f712ebc6f1c276e12ec21\",\n",
      "    \"alumniOf\": {\n",
      "      \"id\": \"did:example:c276e12ec21ebfeb1f712ebc6f1\",\n",
      "      \"name\": \"Example University\"\n",
      "    }\n",
      "  },\n",
      "  \"issuer\": \"did:btc1:k1q2ddta4gt5n7u6d3xwhdyua57t6awrk55ut82qvurfm0qnrxx5nw7vnsy65\",\n",
      "  \"proof\": {\n",
      "    \"type\": \"DataIntegrityProof\",\n",
      "    \"cryptosuite\": \"schnorr-secp256k1-jcs-2024\",\n",
      "    \"verificationMethod\": \"did:btc1:k1q2ddta4gt5n7u6d3xwhdyua57t6awrk55ut82qvurfm0qnrxx5nw7vnsy65#initialKey\",\n",
      "    \"proofPurpose\": \"assertionMethod\",\n",
      "    \"@context\": [\n",
      "      \"https://www.w3.org/ns/credentials/v2\",\n",
      "      \"https://www.w3.org/ns/credentials/examples/v2\"\n",
      "    ],\n",
      "    \"proofValue\": \"zsxM9je5iKynKyN6rRPi9QjTWpG6inJ1umwGfnCo4fiu4MqYf46PLd4TE2wVZvdZegDuC6xL6n3Kj8S1PbC8tmTm\"\n",
      "  }\n",
      "}\n"
     ]
    }
   ],
   "source": [
    "import json\n",
    "print(json.dumps(secured_vc, indent=2))"
   ]
  },
  {
   "cell_type": "markdown",
   "id": "1b17f8d8-d1f3-4889-814a-eb7a619107ba",
   "metadata": {},
   "source": [
    "## 1. Let unsecuredDocument be a copy of securedDocument with the proof value removed."
   ]
  },
  {
   "cell_type": "code",
   "execution_count": 4,
   "id": "eb46e36d-f0e5-4cf9-a17f-4ac23221162b",
   "metadata": {},
   "outputs": [],
   "source": [
    "import copy\n",
    "unsecured_document = copy.deepcopy(secured_vc)"
   ]
  },
  {
   "cell_type": "code",
   "execution_count": 5,
   "id": "c95ce1a8-6a53-4e3a-8b65-bde76f0804d2",
   "metadata": {},
   "outputs": [],
   "source": [
    "del unsecured_document[\"proof\"]"
   ]
  },
  {
   "cell_type": "code",
   "execution_count": 6,
   "id": "29922f13-a96e-417c-a5be-8a7b9c05f90e",
   "metadata": {},
   "outputs": [
    {
     "name": "stdout",
     "output_type": "stream",
     "text": [
      "Unsecured Document :  {\n",
      "  \"@context\": [\n",
      "    \"https://www.w3.org/ns/credentials/v2\",\n",
      "    \"https://www.w3.org/ns/credentials/examples/v2\"\n",
      "  ],\n",
      "  \"id\": \"http://university.example/credentials/58473\",\n",
      "  \"type\": [\n",
      "    \"VerifiableCredential\",\n",
      "    \"ExampleAlumniCredential\"\n",
      "  ],\n",
      "  \"validFrom\": \"2020-01-01T00:00:00Z\",\n",
      "  \"credentialSubject\": {\n",
      "    \"id\": \"did:example:ebfeb1f712ebc6f1c276e12ec21\",\n",
      "    \"alumniOf\": {\n",
      "      \"id\": \"did:example:c276e12ec21ebfeb1f712ebc6f1\",\n",
      "      \"name\": \"Example University\"\n",
      "    }\n",
      "  },\n",
      "  \"issuer\": \"did:btc1:k1q2ddta4gt5n7u6d3xwhdyua57t6awrk55ut82qvurfm0qnrxx5nw7vnsy65\"\n",
      "}\n"
     ]
    }
   ],
   "source": [
    "print(\"Unsecured Document : \", json.dumps(unsecured_document, indent=2))"
   ]
  },
  {
   "cell_type": "markdown",
   "id": "5432020c-acc2-4728-b590-6c8b2c364637",
   "metadata": {},
   "source": [
    "## 2. Let proofOptions be the result of a copy of securedDocument.proof with proofValue removed.\n"
   ]
  },
  {
   "cell_type": "code",
   "execution_count": 7,
   "id": "33b40206-a462-495e-a4ca-c16e69facf06",
   "metadata": {},
   "outputs": [
    {
     "name": "stdout",
     "output_type": "stream",
     "text": [
      "Proof Options : \n",
      " {\n",
      "  \"type\": \"DataIntegrityProof\",\n",
      "  \"cryptosuite\": \"schnorr-secp256k1-jcs-2024\",\n",
      "  \"verificationMethod\": \"did:btc1:k1q2ddta4gt5n7u6d3xwhdyua57t6awrk55ut82qvurfm0qnrxx5nw7vnsy65#initialKey\",\n",
      "  \"proofPurpose\": \"assertionMethod\",\n",
      "  \"@context\": [\n",
      "    \"https://www.w3.org/ns/credentials/v2\",\n",
      "    \"https://www.w3.org/ns/credentials/examples/v2\"\n",
      "  ]\n",
      "}\n"
     ]
    }
   ],
   "source": [
    "proof_options = copy.deepcopy(secured_vc[\"proof\"])\n",
    "del proof_options[\"proofValue\"]\n",
    "\n",
    "print(\"Proof Options : \\n\", json.dumps(proof_options,indent=2))"
   ]
  },
  {
   "cell_type": "markdown",
   "id": "b6b53525-6236-47b2-b5d3-d766b8b7dfe8",
   "metadata": {},
   "source": [
    "## 3. Let proofBytes be the Multibase decoded base58-btc value in securedDocument.proof.proofValue.\n"
   ]
  },
  {
   "cell_type": "code",
   "execution_count": 8,
   "id": "c03bbee2-ad65-4faa-9538-4f4f78d76eb6",
   "metadata": {},
   "outputs": [
    {
     "name": "stdout",
     "output_type": "stream",
     "text": [
      "Proof Bytes :  b\"+\\xf0\\xe6\\xff\\xe7\\x95\\xee\\xbbb\\x14\\xf8\\r\\xa9\\x88\\x81\\x82\\x02@[\\xb3\\x98#j\\xba\\x7f\\xf0Z\\x9f&\\x12\\x01\\xa3L\\xd2\\xc6\\x92 L\\x19G\\x8d\\xfb\\xba\\xc5\\xa7\\xfd\\x8b\\xbe\\x16'n\\xb9\\t\\xa1\\xad,f+R\\x1c\\x96X\\xf9\\x08\"\n"
     ]
    }
   ],
   "source": [
    "from multiformats import multibase\n",
    "proof_value = secured_vc[\"proof\"][\"proofValue\"]\n",
    "proof_bytes = multibase.decode(proof_value)\n",
    "\n",
    "print(\"Proof Bytes : \", proof_bytes)"
   ]
  },
  {
   "cell_type": "markdown",
   "id": "d1d4ec21-f9c0-4a62-844f-8e6336e0a7ca",
   "metadata": {},
   "source": [
    "## 4. If proofOptions.@context exists:\n",
    "    - Check that the securedDocument.@context starts with all values contained in the proofOptions.@context in the same order. Otherwise, set verified to false and skip to the last step.\n",
    "    - Set unsecuredDocument.@context equal to proofOptions.@context."
   ]
  },
  {
   "cell_type": "code",
   "execution_count": 9,
   "id": "88b54c74-4731-4547-b7f4-6a646e77ad7e",
   "metadata": {},
   "outputs": [],
   "source": [
    "if  \"@context\" in proof_options:\n",
    "    for i in range(len(proof_options[\"@context\"])):\n",
    "        assert proof_options[\"@context\"][i] == secured_vc[\"@context\"][i]\n",
    "    unsecured_document[\"@context\"] = proof_options[\"@context\"]\n",
    "else: \n",
    "    print(\"No @context in proofOptions\")"
   ]
  },
  {
   "cell_type": "markdown",
   "id": "df8de088-0fd9-4139-988f-a7dcf6cce0e1",
   "metadata": {},
   "source": [
    "## 5. Let transformedData be the result of running the algorithm in Section XXX Transformation (schnorr-secp256k1-jcs-2024) with unsecuredDocument and proofOptions passed as parameters.\n"
   ]
  },
  {
   "cell_type": "markdown",
   "id": "9895bf2c-9786-442c-b390-f568d758d1fe",
   "metadata": {},
   "source": [
    "### Spec Text\n",
    "\n",
    "The following algorithm specifies how to transform an unsecured input document into a transformed document that is ready to be provided as input to the hashing algorithm in Section XXX Hashing (schnorr-secp256k1-jcs-2024).\n",
    "\n",
    "Required inputs to this algorithm are an unsecured data document (unsecuredDocument) and transformation options (options). The transformation options MUST contain a type identifier for the cryptographic suite (type) and a cryptosuite identifier (cryptosuite). A transformed data document is produced as output. Whenever this algorithm encodes strings, it MUST use UTF-8 encoding.\n",
    "\n",
    "1. If options.type is not set to the string DataIntegrityProof and options.cryptosuite is not set to the string schnorr-secp256k1-jcs-2024, an error MUST be raised that SHOULD convey an error type of PROOF_VERIFICATION_ERROR.\n",
    "2. Let canonicalDocument be the result of applying the JSON Canonicalization Scheme [RFC8785] to a JSON serialization of the unsecuredDocument.\n",
    "3. Return canonicalDocument as the transformed data document."
   ]
  },
  {
   "cell_type": "code",
   "execution_count": 10,
   "id": "c6a66408-d3c3-4404-88b6-f3f56e3e1e85",
   "metadata": {},
   "outputs": [],
   "source": [
    "## This would be passed into the algorithm.\n",
    "options = proof_options\n",
    "\n",
    "assert options[\"type\"] == \"DataIntegrityProof\"\n",
    "assert options[\"cryptosuite\"] == \"schnorr-secp256k1-jcs-2024\""
   ]
  },
  {
   "cell_type": "code",
   "execution_count": 11,
   "id": "e9520505-2cf1-432b-9f48-d8a0e82a8ae0",
   "metadata": {},
   "outputs": [],
   "source": [
    "import jcs\n",
    "canonical_document = jcs.canonicalize(unsecured_document)"
   ]
  },
  {
   "cell_type": "code",
   "execution_count": 12,
   "id": "edf02e20-eb30-4f55-8ae7-1dfc4c615035",
   "metadata": {},
   "outputs": [
    {
     "name": "stdout",
     "output_type": "stream",
     "text": [
      "Returning canonical document :  b'{\"@context\":[\"https://www.w3.org/ns/credentials/v2\",\"https://www.w3.org/ns/credentials/examples/v2\"],\"credentialSubject\":{\"alumniOf\":{\"id\":\"did:example:c276e12ec21ebfeb1f712ebc6f1\",\"name\":\"Example University\"},\"id\":\"did:example:ebfeb1f712ebc6f1c276e12ec21\"},\"id\":\"http://university.example/credentials/58473\",\"issuer\":\"did:btc1:k1q2ddta4gt5n7u6d3xwhdyua57t6awrk55ut82qvurfm0qnrxx5nw7vnsy65\",\"type\":[\"VerifiableCredential\",\"ExampleAlumniCredential\"],\"validFrom\":\"2020-01-01T00:00:00Z\"}'\n"
     ]
    }
   ],
   "source": [
    "print(\"Returning canonical document : \", canonical_document)\n",
    "transformed_document= canonical_document"
   ]
  },
  {
   "cell_type": "markdown",
   "id": "e5c30970-fb0d-499a-8dbd-9ac0a114a8c5",
   "metadata": {},
   "source": [
    "## 6. Let proofConfig be the result of running the algorithm in Section XXX Proof Configuration (schnorr-secp256k1-jcs-2024) with proofOptions passed as the parameter.\n",
    "\n",
    "\n",
    "The following algorithm specifies how to generate a proof configuration from a set of proof options that is used as input to the proof hashing algorithm.\n",
    "\n",
    "The required inputs to this algorithm are proof options (options). The proof options MUST contain a type identifier for the cryptographic suite (type) and MUST contain a cryptosuite identifier (cryptosuite). A proof configuration object is produced as output.\n",
    "\n",
    "1. Let proofConfig be a clone of the options object.\n",
    "2. If proofConfig.type is not set to DataIntegrityProof or proofConfig.cryptosuite is not set to schnorr-secp256k1-jcs-2024, an error MUST be raised that SHOULD convey an error type of PROOF_GENERATION_ERROR.\n",
    "3. If proofConfig.created is set to a value that is not a valid [XMLSCHEMA11-2] datetime, an error MUST be raised and SHOULD convey an error type of PROOF_GENERATION_ERROR.\n",
    "4. Let canonicalProofConfig be the result of applying the JSON Canonicalization Scheme [RFC8785] to the proofConfig.\n",
    "Return canonicalProofConfig."
   ]
  },
  {
   "cell_type": "code",
   "execution_count": 13,
   "id": "d4e2b9bc-cd3e-4b11-8b60-3c1e4478db1e",
   "metadata": {},
   "outputs": [],
   "source": [
    "# Passed in \n",
    "options = copy.deepcopy(proof_options)"
   ]
  },
  {
   "cell_type": "markdown",
   "id": "299d8948-861f-405c-a22b-9891373be921",
   "metadata": {},
   "source": [
    "### 6.1 Let proofConfig be a clone of the options object."
   ]
  },
  {
   "cell_type": "code",
   "execution_count": 14,
   "id": "edae5fbb-7daf-4a43-9321-9e9183c931ed",
   "metadata": {},
   "outputs": [],
   "source": [
    "proofConfig = copy.deepcopy(options)"
   ]
  },
  {
   "cell_type": "markdown",
   "id": "ec4c32ee-3a39-4d53-802e-4962c7e16367",
   "metadata": {},
   "source": [
    "### 6.2. If proofConfig.type is not set to DataIntegrityProof or proofConfig.cryptosuite is not set to schnorr-secp256k1-jcs-2024, an error MUST be raised that SHOULD convey an error type of PROOF_GENERATION_ERROR."
   ]
  },
  {
   "cell_type": "code",
   "execution_count": 15,
   "id": "e39366e6-590d-4436-8188-6698db145421",
   "metadata": {},
   "outputs": [],
   "source": [
    "assert proofConfig[\"type\"] == \"DataIntegrityProof\"\n",
    "assert proofConfig[\"cryptosuite\"] == \"schnorr-secp256k1-jcs-2024\""
   ]
  },
  {
   "cell_type": "markdown",
   "id": "4e6ff9d5-3bea-4ebb-a265-f4bfc520bf46",
   "metadata": {},
   "source": [
    "### 6.3. If proofConfig.created is set to a value that is not a valid [XMLSCHEMA11-2] datetime, an error MUST be raised and SHOULD convey an error type of PROOF_GENERATION_ERROR.\n"
   ]
  },
  {
   "cell_type": "code",
   "execution_count": 16,
   "id": "eee0278e-91bc-4bdc-8bb7-340e6b9195e6",
   "metadata": {},
   "outputs": [
    {
     "name": "stdout",
     "output_type": "stream",
     "text": [
      "TODO: Check datetime if created set\n"
     ]
    }
   ],
   "source": [
    "print(\"TODO: Check datetime if created set\")"
   ]
  },
  {
   "cell_type": "markdown",
   "id": "2432c3e9-a946-4a0d-8c5e-47c522b72e5b",
   "metadata": {},
   "source": [
    "### 6.4. Let canonicalProofConfig be the result of applying the JSON Canonicalization Scheme [RFC8785] to the proofConfig.\n"
   ]
  },
  {
   "cell_type": "code",
   "execution_count": 17,
   "id": "ce7381db-af48-48e7-92b2-0ac3b6362b6e",
   "metadata": {},
   "outputs": [],
   "source": [
    "import jcs\n",
    "canonicalProofConfig = jcs.canonicalize(proofConfig)"
   ]
  },
  {
   "cell_type": "markdown",
   "id": "a324354e-1bc6-47a2-9ea0-1af6010b97e6",
   "metadata": {},
   "source": [
    "### 6.5 Return canonicalProofConfig"
   ]
  },
  {
   "cell_type": "code",
   "execution_count": 18,
   "id": "38b8f5d1-db15-428e-9bb6-787e786c2bb7",
   "metadata": {},
   "outputs": [
    {
     "name": "stdout",
     "output_type": "stream",
     "text": [
      "Return canonicalProofConfig :  b'{\"@context\":[\"https://www.w3.org/ns/credentials/v2\",\"https://www.w3.org/ns/credentials/examples/v2\"],\"cryptosuite\":\"schnorr-secp256k1-jcs-2024\",\"proofPurpose\":\"assertionMethod\",\"type\":\"DataIntegrityProof\",\"verificationMethod\":\"did:btc1:k1q2ddta4gt5n7u6d3xwhdyua57t6awrk55ut82qvurfm0qnrxx5nw7vnsy65#initialKey\"}'\n"
     ]
    }
   ],
   "source": [
    "proof_config = canonicalProofConfig\n",
    "print(\"Return canonicalProofConfig : \", canonicalProofConfig)"
   ]
  },
  {
   "cell_type": "markdown",
   "id": "690dc37b-5d14-40a1-a773-11a074647781",
   "metadata": {},
   "source": [
    "## 7. Let hashData be the result of running the algorithm in Section XXX Hashing (schnorr-secp256k1-jcs-2024) with transformedData and proofConfig passed as a parameters.\n"
   ]
  },
  {
   "cell_type": "code",
   "execution_count": 19,
   "id": "2e9e3e96-5766-48a9-9791-67038582d46f",
   "metadata": {},
   "outputs": [
    {
     "name": "stdout",
     "output_type": "stream",
     "text": [
      "Return hashData b'\\xc9X<\\xf9p\\xb1C\\xba\\x84\\x18 \\x0fr$<U\\xe9\\\\R\\x13\\xc1\\xb1\\xcf\\x04\\xe0L\\xbf\\x01\\x06\\xa9\\xa4\\t'\n"
     ]
    }
   ],
   "source": [
    "from buidl.helper import sha256\n",
    "data_to_hash = proof_config + transformed_document\n",
    "hash_data = sha256(data_to_hash)\n",
    "print(\"Return hashData\", hash_data)"
   ]
  },
  {
   "cell_type": "markdown",
   "id": "6a04b8d2-372f-40df-b2d1-85cf8aa6390d",
   "metadata": {},
   "source": [
    "## 8. Let verified be the result of running the algorithm in Section XXX Proof Verification (schnorr-secp256k1-jcs-2024) on hashData, proofBytes, and proofConfig.\n"
   ]
  },
  {
   "cell_type": "markdown",
   "id": "e2b8ebc9-502c-40c7-9ceb-f31bdb9d080f",
   "metadata": {},
   "source": [
    "### Spec Text\n",
    "\n",
    "The following algorithm specifies how to verify a digital signature from a set of cryptographic hash data. This algorithm is designed to be used in conjunction with the algorithms defined in the Data Integrity [VC-DATA-INTEGRITY] specification, Section 4: Algorithms. Required inputs are cryptographic hash data (hashData), a digital signature (proofBytes) and proof options (options). A verification result represented as a boolean value is produced as output.\n",
    "\n",
    "1. Let publicKeyBytes be the result of retrieving the public key bytes associated with the options.verificationMethod value as described in the Data Integrity [VC-DATA-INTEGRITY] specification, Section 4: Retrieving Cryptographic Material.\n",
    "2. Let verificationResult be the result of applying the verification algorithm for the Schnorr Alogrithm [BIP340], using the Secp256k1 variant, with hashData as the data to be verified against the proofBytes using the public key specified by publicKeyBytes.\n",
    "3. Return verificationResult as the verification result.\n"
   ]
  },
  {
   "cell_type": "markdown",
   "id": "c321410a-44bb-4d04-9acd-ec1aa63cfdb9",
   "metadata": {},
   "source": [
    "### 8.1 Let publicKeyBytes be the result of retrieving the public key bytes associated with the options.verificationMethod value as described in the Data Integrity [VC-DATA-INTEGRITY] specification, Section 4: Retrieving Cryptographic Material.\n",
    "\n",
    "Need to dereference the verificationMethod. "
   ]
  },
  {
   "cell_type": "code",
   "execution_count": 20,
   "id": "5f9f4610-7f9d-4f9f-9560-89897fdf62a2",
   "metadata": {},
   "outputs": [
    {
     "data": {
      "text/plain": [
       "'did:btc1:k1q2ddta4gt5n7u6d3xwhdyua57t6awrk55ut82qvurfm0qnrxx5nw7vnsy65#initialKey'"
      ]
     },
     "execution_count": 20,
     "metadata": {},
     "output_type": "execute_result"
    }
   ],
   "source": [
    "verification_method_id = options[\"verificationMethod\"]\n",
    "verification_method_id\n",
    "\n",
    "\n"
   ]
  },
  {
   "cell_type": "code",
   "execution_count": 21,
   "id": "c50eb859-b3a7-4d86-b0bb-1f19d41e228b",
   "metadata": {},
   "outputs": [],
   "source": [
    "from urllib import parse\n",
    "did_url = parse.urlparse(verification_method_id)\n",
    "\n",
    "did_btc1 = f\"did:{did_url.path}\"\n",
    "fragment = did_url.fragment"
   ]
  },
  {
   "cell_type": "code",
   "execution_count": 22,
   "id": "83be285c-e380-4cab-b8d4-22ce0411b6a6",
   "metadata": {},
   "outputs": [
    {
     "name": "stdout",
     "output_type": "stream",
     "text": [
      "Relative URL\n",
      "Verification Method Found\n",
      "{\n",
      "  \"id\": \"#initialKey\",\n",
      "  \"type\": \"Multikey\",\n",
      "  \"controller\": \"did:btc1:k1q2ddta4gt5n7u6d3xwhdyua57t6awrk55ut82qvurfm0qnrxx5nw7vnsy65\",\n",
      "  \"publicKeyMultibase\": \"z66PwJnYvwJLhGrVc8vcuUkKs99sKCzYRM2HQ2gDCGTAStHk\"\n",
      "}\n"
     ]
    }
   ],
   "source": [
    "from libbtc1.did import resolve\n",
    "\n",
    "did_document = resolve(did_btc1)\n",
    "\n",
    "verification_method = None\n",
    "for vm in did_document[\"verificationMethod\"]:\n",
    "    vm_id = vm[\"id\"]\n",
    "    if vm_id[0] == '#':\n",
    "        print(\"Relative URL\")\n",
    "        vm_id = did_btc1 + vm_id\n",
    "    if vm_id == verification_method_id:\n",
    "        print(\"Verification Method Found\")\n",
    "        verification_method = vm\n",
    "        break\n",
    "\n",
    "if verification_method == None:\n",
    "    raise Exception(\"No verification method found\")\n",
    "else:\n",
    "    print(json.dumps(verification_method, indent=2))"
   ]
  },
  {
   "cell_type": "code",
   "execution_count": 29,
   "id": "1047fd55-8316-44cb-a002-b86d3d277851",
   "metadata": {},
   "outputs": [
    {
     "name": "stdout",
     "output_type": "stream",
     "text": [
      "Public key bytes :  b\"\\x02\\x9a\\xd5\\xf6\\xa8]'\\xeei\\xb13\\xae\\xd2s\\xb4\\xf2\\xf5\\xd7\\x0e\\xd4\\xa7\\x16u\\x01\\x9c\\x1av\\xf0Lf5&\\xef\"\n"
     ]
    }
   ],
   "source": [
    "from libbtc1.verificationMethod import get_key_for_verification_method\n",
    "\n",
    "public_key = get_key_for_verification_method(verification_method)\n",
    "\n",
    "print(\"Public key bytes : \", public_key.sec())"
   ]
  },
  {
   "cell_type": "markdown",
   "id": "b236c146-eba2-4ec4-a188-ee184cc0361e",
   "metadata": {},
   "source": [
    "### 8.2. Let verificationResult be the result of applying the verification algorithm for the Schnorr Alogrithm [BIP340], using the Secp256k1 variant, with hashData as the data to be verified against the proofBytes using the public key specified by publicKeyBytes."
   ]
  },
  {
   "cell_type": "code",
   "execution_count": 32,
   "id": "dab25934-7374-4ce0-91fe-b43191d3fa90",
   "metadata": {},
   "outputs": [],
   "source": [
    "from buidl.ecc import SchnorrSignature\n",
    "\n",
    "sig = SchnorrSignature.parse(proof_bytes)\n",
    "verification_result = public_key.verify_schnorr(hash_data,sig)"
   ]
  },
  {
   "cell_type": "code",
   "execution_count": 33,
   "id": "e8367d2a-5ae0-4442-97de-d39974775004",
   "metadata": {},
   "outputs": [
    {
     "data": {
      "text/plain": [
       "True"
      ]
     },
     "execution_count": 33,
     "metadata": {},
     "output_type": "execute_result"
    }
   ],
   "source": [
    "verification_result"
   ]
  },
  {
   "cell_type": "markdown",
   "id": "24f35800-2f1a-4a71-a6fe-e25c82fa9fa0",
   "metadata": {},
   "source": [
    "### 8.3. Return verificationResult as the verification result."
   ]
  },
  {
   "cell_type": "code",
   "execution_count": 34,
   "id": "acb19af4-bebc-4f57-a68b-5c51d5872286",
   "metadata": {},
   "outputs": [
    {
     "name": "stdout",
     "output_type": "stream",
     "text": [
      "Return verificationResult :  True\n"
     ]
    }
   ],
   "source": [
    "print(\"Return verificationResult : \", verification_result)"
   ]
  },
  {
   "cell_type": "markdown",
   "id": "35bd1abf-4b44-4c08-b827-7c1528acf59a",
   "metadata": {},
   "source": [
    "## 9. Return a verification result with items:\n",
    "- verified\n",
    "- verifiedDocument (if verified is true, unsecuredDocument; otherwise, Null)"
   ]
  },
  {
   "cell_type": "code",
   "execution_count": 35,
   "id": "e5cbd896-7737-4a44-bbf5-b9b105805464",
   "metadata": {},
   "outputs": [],
   "source": [
    "proof_verification_result = {}\n",
    "\n",
    "proof_verification_result[\"verified\"] = verification_result\n",
    "if verification_result:\n",
    "    proof_verification_result[\"verifiedDocument\"] = unsecured_document\n",
    "else:\n",
    "    proof_verification_result[\"verifiedDocument\"] = None\n",
    "\n"
   ]
  },
  {
   "cell_type": "code",
   "execution_count": 36,
   "id": "6010e2a3-7f6c-48ff-b920-fcf0fa5bcd3c",
   "metadata": {},
   "outputs": [
    {
     "name": "stdout",
     "output_type": "stream",
     "text": [
      "Proof Verification Result \n",
      " {\n",
      "  \"verified\": true,\n",
      "  \"verifiedDocument\": {\n",
      "    \"@context\": [\n",
      "      \"https://www.w3.org/ns/credentials/v2\",\n",
      "      \"https://www.w3.org/ns/credentials/examples/v2\"\n",
      "    ],\n",
      "    \"id\": \"http://university.example/credentials/58473\",\n",
      "    \"type\": [\n",
      "      \"VerifiableCredential\",\n",
      "      \"ExampleAlumniCredential\"\n",
      "    ],\n",
      "    \"validFrom\": \"2020-01-01T00:00:00Z\",\n",
      "    \"credentialSubject\": {\n",
      "      \"id\": \"did:example:ebfeb1f712ebc6f1c276e12ec21\",\n",
      "      \"alumniOf\": {\n",
      "        \"id\": \"did:example:c276e12ec21ebfeb1f712ebc6f1\",\n",
      "        \"name\": \"Example University\"\n",
      "      }\n",
      "    },\n",
      "    \"issuer\": \"did:btc1:k1q2ddta4gt5n7u6d3xwhdyua57t6awrk55ut82qvurfm0qnrxx5nw7vnsy65\"\n",
      "  }\n",
      "}\n"
     ]
    }
   ],
   "source": [
    "print(\"Proof Verification Result \\n\", json.dumps(proof_verification_result,indent=2))"
   ]
  },
  {
   "cell_type": "code",
   "execution_count": null,
   "id": "310753ea-235f-4934-b80f-af5673eb9b8f",
   "metadata": {},
   "outputs": [],
   "source": []
  }
 ],
 "metadata": {
  "kernelspec": {
   "display_name": "Python 3 (ipykernel)",
   "language": "python",
   "name": "python3"
  },
  "language_info": {
   "codemirror_mode": {
    "name": "ipython",
    "version": 3
   },
   "file_extension": ".py",
   "mimetype": "text/x-python",
   "name": "python",
   "nbconvert_exporter": "python",
   "pygments_lexer": "ipython3",
   "version": "3.12.6"
  }
 },
 "nbformat": 4,
 "nbformat_minor": 5
}
