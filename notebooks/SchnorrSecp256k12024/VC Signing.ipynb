{
 "cells": [
  {
   "cell_type": "markdown",
   "id": "3953e0a0-41ab-4e76-b226-1bddee10f226",
   "metadata": {},
   "source": [
    "# VC Signing\n",
    "\n",
    "The notebook demonstrates signing a VC using the TO BE DEFINED SchnorrSecp256k1 Crypto Suite.\n"
   ]
  },
  {
   "cell_type": "markdown",
   "id": "0dcc8adb-b837-4128-a530-4f4cee73230e",
   "metadata": {},
   "source": [
    "# CryptoSuite Requirements (https://w3c.github.io/vc-data-integrity/#cryptographic-suites)\n",
    "\n",
    "An example of a data integrity cryptosuite can be found here : https://www.w3.org/TR/vc-di-eddsa/\n",
    "\n",
    "**The requirements for all data integrity cryptographic suite specifications are as follows:**\n",
    "\n",
    "1. The specification MUST be published as a human-readable document at a URL.\n",
    "\n",
    "We need to publish a specification detailing our cryptosuite. I suggest we try to get it into either DIF or the CCG, but we could also just host it ourselves.\n",
    "\n",
    "2. The specification MUST identify a cryptographic suite type and any parameters that can be used with the suite.\n",
    "\n",
    "Proposed cryptosuite type: `schnorr-secp256k1-2024`\n",
    "\n",
    "Note: We may want to define two cryptosuites in a single spec which would vary according to the transformation algorithm used. JSON Canonicalization (jcs) or RDF Canonicalization (rdfc). We could define two cryptosite types: `schnorr-secp256k1-jcs-2024` and `schnorr-secp256k1-rdfc-2024`. This is a common pattern, see https://www.w3.org/TR/vc-di-eddsa/#instantiate-cryptosuite\n",
    "\n",
    "We need to review what is meant by the parameters used with the suite. I believe it is about how we instantiate the cryptosuite.\n",
    " \n",
    "3. The specification MUST detail the transformation algorithms (if any), parameters, and other necessary details, used to modify input data into the data to be protected.\n",
    "\n",
    "This is typically the canonicialization step. It might vary if we have multiple canoncalization schemes e.g. (jcs and rdfc). Step 4 in this notebook details the transformation algorithm using the JSON Canonicalization scheme.\n",
    "\n",
    "4. The specification MUST detail the hashing algorithms parameters, and other necessary details used to perform cryptographic hashing to the data to be protected.\n",
    "\n",
    "I believe we just have to pick a preffered hashing algorithm. I suggest SHA256. See an example in Step 5 of this notebook.\n",
    "\n",
    "5. The specification MUST detail the proof serialization algorithms, parameters, and other necessary details used to perform cryptographic protection of the data.\n",
    "\n",
    "This is about how we will generate the proof bytes: Propose a Schnorr signature following BIP340\n",
    "\n",
    "6. The specification MUST detail the proof verification algorithms, parameters, and other necessary details used to perform cryptographic verification of the data.\n",
    "\n",
    "\n",
    "7. The specification MUST define a data integrity cryptographic suite instantiation algorithm that accepts a set of options (map options) and returns a cryptosuite instance (struct cryptosuite). This algorithm SHOULD be listed in the Verifiable Credential Extensions document. A data integrity cryptographic suite instance struct has the following items.\n",
    "\n",
    "\n",
    "This is an implementation TODO.\n",
    "\n",
    "**createProof**\n",
    "- An algorithm that takes an input document (map inputDocument) and proof options (map options) as input, and produces a data integrity proof (map) or an error.\n",
    "\n",
    "**verifyProof**\n",
    "- An algorithm that takes a secured data document (map securedDocument) as input, and produces a cryptosuite verification result or an error. The cryptosuite verification result is a struct that contains the following items:\n",
    "verified\n",
    "- A boolean that is true if the verification succeeded, or false otherwise.\n",
    "verifiedDocument\n",
    "- A map that represents the secured data document with the verified proofs removed if verified is true, or null otherwise.\n",
    "- The structure MAY contain other implementation-specific information that is useful for developers, such as debugging information. If an error is produced, the verification process failed to complete. An error, such as a network error, does not mean that a future attempt at verification would fail.\n",
    "\n",
    "8. The specification MUST detail any known resource starvation attack that can occur in an algorithm and provide testable mitigations against each attack.\n",
    "\n",
    "Not sure.\n",
    "\n",
    "9. The specification MUST contain a Security Considerations section detailing security considerations specific to the cryptographic suite.\n",
    "\n",
    "Spec writing TODO\n",
    "\n",
    "10. The specification MUST contain a Privacy Considerations section detailing privacy considerations specific to the cryptographic suite.\n",
    "\n",
    "Spec writing TODO\n",
    "\n",
    "11. The JSON-LD context associated with the cryptographic suite MUST have its terms protected from unsafe redefinition, by use of the @protected keyword.\n",
    "\n",
    "I actually don't think we need a new context here. We are just using the context terms from Data Integrity"
   ]
  },
  {
   "cell_type": "markdown",
   "id": "b5fa59b3-c642-4b8b-b584-95f1d90d16ec",
   "metadata": {},
   "source": [
    "# 0. Initial Setup\n",
    "\n",
    "We do some initial setup to create a DID and an unsecuredDocument to be signed"
   ]
  },
  {
   "cell_type": "markdown",
   "id": "cbd9aeb0-b6ee-4895-ad87-b5aa64d1ce84",
   "metadata": {},
   "source": [
    "## 0.1. Add libbtc1 python library to path"
   ]
  },
  {
   "cell_type": "code",
   "execution_count": 44,
   "id": "6c583867-7cc4-4acc-bfb5-67d17c7220f5",
   "metadata": {},
   "outputs": [],
   "source": [
    "import sys\n",
    "import os\n",
    "\n",
    "notebooks_path = os.path.abspath(os.path.join(os.getcwd(), '..'))\n",
    "\n",
    "# Add the Notebooks directory to the sys.path\n",
    "sys.path.append(notebooks_path)"
   ]
  },
  {
   "cell_type": "markdown",
   "id": "654e7e43-4e49-482e-8e6d-2c661cce8c20",
   "metadata": {},
   "source": [
    "## 0.2. Create key pair"
   ]
  },
  {
   "cell_type": "code",
   "execution_count": 45,
   "id": "7f0a4e15-7c2f-440e-81bd-f6d9f4603fb1",
   "metadata": {},
   "outputs": [],
   "source": [
    "from buidl.mnemonic import secure_mnemonic\n",
    "from buidl.hd import HDPrivateKey\n"
   ]
  },
  {
   "cell_type": "code",
   "execution_count": 46,
   "id": "31c94982-94da-412a-8c5c-00fb0df743d9",
   "metadata": {},
   "outputs": [
    {
     "name": "stdout",
     "output_type": "stream",
     "text": [
      "Mnemonic :  prosper can dial lumber write coconut express imitate husband isolate inside release brush media please kind comic pill science repeat basic also endorse bronze\n"
     ]
    }
   ],
   "source": [
    "## Run this if you want a new hardware key\n",
    "# mnemonic = secure_mnemonic()\n",
    "\n",
    "mnemonic = \"prosper can dial lumber write coconut express imitate husband isolate inside release brush media please kind comic pill science repeat basic also endorse bronze\"\n",
    "root_hdpriv = HDPrivateKey.from_mnemonic(mnemonic, network=\"signet\")\n",
    "print(\"Mnemonic : \", mnemonic)"
   ]
  },
  {
   "cell_type": "code",
   "execution_count": 47,
   "id": "d48d7e68-e774-47c7-a64b-a2660e963bec",
   "metadata": {},
   "outputs": [
    {
     "name": "stdout",
     "output_type": "stream",
     "text": [
      "Secp256k1 PrivateKey 73fddc12fc9342bb29ae9b5ed476323bdc693a116e36512455aee830fe8a25a2\n",
      "Secp256k1 Public Key S256Point(029ad5f6a85d27ee69b133aed273b4f2f5d70ed4a71675019c1a76f04c663526ef)\n"
     ]
    }
   ],
   "source": [
    "didkey_purpose = \"11\"\n",
    "\n",
    "initial_sk = root_hdpriv.get_private_key(didkey_purpose, address_num=2)\n",
    "initial_pk = initial_sk.point\n",
    "\n",
    "print(\"Secp256k1 PrivateKey\", initial_sk.hex())\n",
    "print(\"Secp256k1 Public Key\", initial_pk.__repr__())"
   ]
  },
  {
   "cell_type": "markdown",
   "id": "a25b46cf-7791-4c49-87cf-57c936a055c1",
   "metadata": {},
   "source": [
    "## 0.3. Deterministically Create DID BTC1 "
   ]
  },
  {
   "cell_type": "code",
   "execution_count": 48,
   "id": "e6680369-f759-451c-be63-b3ad74a292cf",
   "metadata": {},
   "outputs": [],
   "source": [
    "from libbtc1.did import create_deterministic\n",
    "\n",
    "did_btc1, did_document = create_deterministic(initial_pk)"
   ]
  },
  {
   "cell_type": "code",
   "execution_count": 49,
   "id": "30636517-09cd-4c1d-93ab-478a8eb678c7",
   "metadata": {},
   "outputs": [
    {
     "data": {
      "text/plain": [
       "'did:btc1:k1q2ddta4gt5n7u6d3xwhdyua57t6awrk55ut82qvurfm0qnrxx5nw7vnsy65'"
      ]
     },
     "execution_count": 49,
     "metadata": {},
     "output_type": "execute_result"
    }
   ],
   "source": [
    "did_btc1"
   ]
  },
  {
   "cell_type": "code",
   "execution_count": 51,
   "id": "db5ac8d6-bb26-41d0-b990-85f128604aa8",
   "metadata": {
    "scrolled": true
   },
   "outputs": [
    {
     "name": "stdout",
     "output_type": "stream",
     "text": [
      "{\n",
      "  \"id\": \"did:btc1:k1q2ddta4gt5n7u6d3xwhdyua57t6awrk55ut82qvurfm0qnrxx5nw7vnsy65\",\n",
      "  \"@context\": [\n",
      "    \"https://www.w3.org/ns/did/v1\",\n",
      "    \"https://did-btc1/TBD/context\"\n",
      "  ],\n",
      "  \"verificationMethod\": [\n",
      "    {\n",
      "      \"id\": \"#initialKey\",\n",
      "      \"type\": \"Multikey\",\n",
      "      \"controller\": \"did:btc1:k1q2ddta4gt5n7u6d3xwhdyua57t6awrk55ut82qvurfm0qnrxx5nw7vnsy65\",\n",
      "      \"publicKeyMultibase\": \"z66PwJnYvwJLhGrVc8vcuUkKs99sKCzYRM2HQ2gDCGTAStHk\"\n",
      "    }\n",
      "  ],\n",
      "  \"authentication\": [\n",
      "    \"#initialKey\"\n",
      "  ],\n",
      "  \"assertionMethod\": [\n",
      "    \"#initialKey\"\n",
      "  ],\n",
      "  \"capabilityInvocation\": [\n",
      "    \"#initialKey\"\n",
      "  ],\n",
      "  \"capabilityDelegation\": [\n",
      "    \"#initialKey\"\n",
      "  ],\n",
      "  \"service\": [\n",
      "    {\n",
      "      \"id\": \"#initial_p2pkh\",\n",
      "      \"type\": \"SingletonBeacon\",\n",
      "      \"serviceEndpoint\": \"bitcoin:1CYzZ6DpweJ5cmhsaFPGqcDmmpAjmnp2eT\"\n",
      "    },\n",
      "    {\n",
      "      \"id\": \"#initial_p2wpkh\",\n",
      "      \"type\": \"SingletonBeacon\",\n",
      "      \"serviceEndpoint\": \"bitcoin:bc1q06m9yn2kxgxg2mara55667958d0a6s2kcz60ph\"\n",
      "    },\n",
      "    {\n",
      "      \"id\": \"#initial_p2tr\",\n",
      "      \"type\": \"SingletonBeacon\",\n",
      "      \"serviceEndpoint\": \"bitcoin:bc1psajngvjme0fkzv83m2ys80dhmya3nghph4h478ad2z5q564049jsxdzeua\"\n",
      "    }\n",
      "  ]\n",
      "}\n"
     ]
    }
   ],
   "source": [
    "import json\n",
    "print(json.dumps(did_document, indent=2))"
   ]
  },
  {
   "cell_type": "markdown",
   "id": "cfdf0bb1-a88b-4f14-9f8e-78990e5d691c",
   "metadata": {},
   "source": [
    "## 0.4. Access Verification Method and Retrive Associated PrivateKey\n",
    "\n",
    " Note: a verificationMethod in a DID document provides the public key. A system wishing to create signatures using a verification method according to a cryptosuite MUST be able to retrieve the associated privatekey for the verification method they wish to use. Likely we would want some cryptographic metadata that maps verification methods to derivation paths for a hardware wallet."
   ]
  },
  {
   "cell_type": "code",
   "execution_count": 53,
   "id": "159e6ab1-95cb-4f4a-b408-40efea441b30",
   "metadata": {},
   "outputs": [
    {
     "name": "stdout",
     "output_type": "stream",
     "text": [
      "{\n",
      "  \"id\": \"#initialKey\",\n",
      "  \"type\": \"Multikey\",\n",
      "  \"controller\": \"did:btc1:k1q2ddta4gt5n7u6d3xwhdyua57t6awrk55ut82qvurfm0qnrxx5nw7vnsy65\",\n",
      "  \"publicKeyMultibase\": \"z66PwJnYvwJLhGrVc8vcuUkKs99sKCzYRM2HQ2gDCGTAStHk\"\n",
      "}\n",
      "Associated PrivateKey :  cRUB4N3UngnZterPLwe2gVexRXojCYJ5a3KrB16efwZ11CSwBRPt\n"
     ]
    }
   ],
   "source": [
    "verificationMethod = did_document[\"verificationMethod\"][0]\n",
    "\n",
    "print(json.dumps(verificationMethod, indent=2))\n",
    "\n",
    "print(\"Associated PrivateKey : \", initial_sk.wif())"
   ]
  },
  {
   "cell_type": "markdown",
   "id": "65007964-9348-494d-97ca-817e92aed1da",
   "metadata": {},
   "source": [
    "## 0.5. Define VC to be signed\n",
    "\n",
    "The VC should include an issuer property referencing the did:btc1 identifier that controls the verificationMethod used for signing"
   ]
  },
  {
   "cell_type": "code",
   "execution_count": 54,
   "id": "63066894-fdf7-4d7d-84b6-08054d46e6a5",
   "metadata": {},
   "outputs": [],
   "source": [
    "example_vc = {\n",
    "  \"@context\": [\n",
    "    \"https://www.w3.org/ns/credentials/v2\",\n",
    "    \"https://www.w3.org/ns/credentials/examples/v2\"\n",
    "  ],\n",
    "  \"id\": \"http://university.example/credentials/58473\",\n",
    "  \"type\": [\"VerifiableCredential\", \"ExampleAlumniCredential\"],\n",
    "  \"validFrom\": \"2020-01-01T00:00:00Z\",\n",
    "  \"credentialSubject\": {\n",
    "    \"id\": \"did:example:ebfeb1f712ebc6f1c276e12ec21\",\n",
    "    \"alumniOf\": {\n",
    "      \"id\": \"did:example:c276e12ec21ebfeb1f712ebc6f1\",\n",
    "      \"name\": \"Example University\"\n",
    "    }\n",
    "  }\n",
    "}"
   ]
  },
  {
   "cell_type": "code",
   "execution_count": 55,
   "id": "d0b5337c-1467-4221-a817-ee189092b036",
   "metadata": {},
   "outputs": [],
   "source": [
    "example_vc[\"issuer\"] = did_btc1"
   ]
  },
  {
   "cell_type": "code",
   "execution_count": 56,
   "id": "606947df-0900-4e62-8603-7697923ff307",
   "metadata": {},
   "outputs": [],
   "source": [
    "unsecured_document = example_vc"
   ]
  },
  {
   "cell_type": "markdown",
   "id": "cb68cbe6-620a-4994-8303-e8f2d0dea1e4",
   "metadata": {},
   "source": [
    "# Add Proof (Data Integrity)\n",
    "\n",
    "https://w3c.github.io/vc-data-integrity/#add-proof\n",
    "\n",
    "The following algorithm specifies how a digital proof can be added to an input document, and can then be used to verify the output document's authenticity and integrity. Required inputs are an input document (map inputDocument), a cryptosuite instance (struct cryptosuite), and a set of options (map options). Output is a secured data document (map) or an error. Whenever this algorithm encodes strings, it MUST use UTF-8 encoding.\n",
    "\n",
    "1. Let proof be the result of calling the createProof algorithm specified in cryptosuite.createProof with inputDocument and options passed as a parameters. If the algorithm produces an error, the error MUST be propagated and SHOULD convey the error type.\n",
    "2. If one or more of the proof.type, proof.verificationMethod, and proof.proofPurpose values is not set, an error MUST be raised and SHOULD convey an error type of PROOF_GENERATION_ERROR.\n",
    "3. If options has a non-null domain item, it MUST be equal to proof.domain or an error MUST be raised and SHOULD convey an error type of PROOF_GENERATION_ERROR.\n",
    "4. If options has a non-null challenge item, it MUST be equal to proof.challenge or an error MUST be raised and SHOULD convey an error type of PROOF_GENERATION_ERROR.\n",
    "5. Let securedDataDocument be a copy of inputDocument.\n",
    "6. Set securedDataDocument.proof to the value of proof.\n",
    "8. Return securedDataDocument as the secured data document.\n"
   ]
  },
  {
   "cell_type": "markdown",
   "id": "efe95504-3b7e-45a6-b207-caa3c3d92c14",
   "metadata": {},
   "source": [
    "# Create Proof (schnorr-secp256k1-jcs-2024)\n",
    "\n",
    "The following algorithm specifies how to create a data integrity proof given an unsecured data document. Required inputs are an unsecured data document (map unsecuredDocument), and a set of proof options (map options). A data integrity proof (map), or an error, is produced as output.\n",
    "\n",
    "1. Let proof be a clone of the proof options, options.\n",
    "2. If unsecuredDocument.@context is present, set proof.@context to unsecuredDocument.@context.\n",
    "3. Let proofConfig be the result of running the algorithm in Section XXX Proof Configuration (schnorr-secp256k1-jcs-2024) with proof passed as the proof options parameter.\n",
    "4. Let transformedData be the result of running the algorithm in Section XXX Transformation (schnorr-secp256k1-jcs-2024) with unsecuredDocument and options passed as parameters.\n",
    "5. Let hashData be the result of running the algorithm in Section XXX Hashing (schnorr-secp256k1-jcs-2024) with transformedData and proofConfig passed as a parameters.\n",
    "6. Let proofBytes be the result of running the algorithm in Section XXX Proof Serialization (schnorr-secp256k1-jcs-2024) with hashData and options passed as parameters.\n",
    "7. Let proof.proofValue be a base58-btc-encoded Multibase value of the proofBytes.\n",
    "Return proof as the data integrity proof."
   ]
  },
  {
   "cell_type": "markdown",
   "id": "1ea7d729-906f-41c4-af64-9569e2b61ce2",
   "metadata": {},
   "source": [
    "## 1. Let proof be a clone of the proof options, options.\n",
    "\n"
   ]
  },
  {
   "cell_type": "code",
   "execution_count": 58,
   "id": "e9b42629-6f59-4cdd-9ae7-c19c8e3d9f1a",
   "metadata": {},
   "outputs": [],
   "source": [
    "import copy\n",
    "# Input to the createProof algorithm\n",
    "options = {\n",
    "    \"type\": \"DataIntegrityProof\",\n",
    "    \"cryptosuite\": \"schnorr-secp256k1-jcs-2024\",\n",
    "    \"verificationMethod\": f\"{did_btc1}{did_document[\"verificationMethod\"][0][\"id\"]}\",\n",
    "    \"proofPurpose\": \"assertionMethod\"\n",
    "}"
   ]
  },
  {
   "cell_type": "code",
   "execution_count": 59,
   "id": "c9e19230-3bdb-4f72-8372-54ca0eaca296",
   "metadata": {},
   "outputs": [],
   "source": [
    "proof = copy.deepcopy(options)"
   ]
  },
  {
   "cell_type": "markdown",
   "id": "0dcfdb30-e0bf-4c0c-a5c7-644b8dd09631",
   "metadata": {},
   "source": [
    "## 2. If unsecuredDocument.@context is present, set proof.@context to unsecuredDocument.@context.\n"
   ]
  },
  {
   "cell_type": "code",
   "execution_count": 61,
   "id": "386c8625-9add-4182-aec4-c7c81400a332",
   "metadata": {},
   "outputs": [],
   "source": [
    "if unsecured_document[\"@context\"]:\n",
    "    proof[\"@context\"] = unsecured_document[\"@context\"]"
   ]
  },
  {
   "cell_type": "markdown",
   "id": "315fd0b1-f78d-443a-974c-2f3cf2299a70",
   "metadata": {},
   "source": [
    "## 3. Let proofConfig be the result of running the algorithm in Section XXX Proof Configuration (schnorr-secp256k1-jcs-2024) with proof passed as the proof options parameter.\n",
    "\n",
    "\n",
    "The following algorithm specifies how to generate a proof configuration from a set of proof options that is used as input to the proof hashing algorithm.\n",
    "\n",
    "The required inputs to this algorithm are proof options (options). The proof options MUST contain a type identifier for the cryptographic suite (type) and MUST contain a cryptosuite identifier (cryptosuite). A proof configuration object is produced as output.\n",
    "\n",
    "1. Let proofConfig be a clone of the options object.\n",
    "2. If proofConfig.type is not set to DataIntegrityProof or proofConfig.cryptosuite is not set to schnorr-secp256k1-jcs-2024, an error MUST be raised that SHOULD convey an error type of PROOF_GENERATION_ERROR.\n",
    "3. If proofConfig.created is set to a value that is not a valid [XMLSCHEMA11-2] datetime, an error MUST be raised and SHOULD convey an error type of PROOF_GENERATION_ERROR.\n",
    "4. Let canonicalProofConfig be the result of applying the JSON Canonicalization Scheme [RFC8785] to the proofConfig.\n",
    "Return canonicalProofConfig."
   ]
  },
  {
   "cell_type": "code",
   "execution_count": 63,
   "id": "2642232d-322d-481d-a97c-9a15f1367d7d",
   "metadata": {},
   "outputs": [],
   "source": [
    "# Input  to the proof configuration algorithm\n",
    "proofConfigOptions = copy.deepcopy(proof)"
   ]
  },
  {
   "cell_type": "markdown",
   "id": "dc39639d-009b-4042-8a43-0b274b15718b",
   "metadata": {},
   "source": [
    "### 3.1 Let proofConfig be a clone of the options object."
   ]
  },
  {
   "cell_type": "code",
   "execution_count": 64,
   "id": "edae5fbb-7daf-4a43-9321-9e9183c931ed",
   "metadata": {},
   "outputs": [],
   "source": [
    "import copy\n",
    "proofConfig = copy.deepcopy(proofConfigOptions)"
   ]
  },
  {
   "cell_type": "markdown",
   "id": "081edda8-2dd8-43d0-90ae-faa41d1b0d1e",
   "metadata": {},
   "source": [
    "### 3.2. If proofConfig.type is not set to DataIntegrityProof or proofConfig.cryptosuite is not set to schnorr-secp256k1-jcs-2024, an error MUST be raised that SHOULD convey an error type of PROOF_GENERATION_ERROR."
   ]
  },
  {
   "cell_type": "code",
   "execution_count": 65,
   "id": "e39366e6-590d-4436-8188-6698db145421",
   "metadata": {},
   "outputs": [],
   "source": [
    "assert proofConfig[\"type\"] == \"DataIntegrityProof\"\n",
    "assert proofConfig[\"cryptosuite\"] == \"schnorr-secp256k1-jcs-2024\""
   ]
  },
  {
   "cell_type": "markdown",
   "id": "03841a62-7e26-41f2-8c21-a236987146c7",
   "metadata": {},
   "source": [
    "### 3.3. If proofConfig.created is set to a value that is not a valid [XMLSCHEMA11-2] datetime, an error MUST be raised and SHOULD convey an error type of PROOF_GENERATION_ERROR.\n"
   ]
  },
  {
   "cell_type": "code",
   "execution_count": 66,
   "id": "eee0278e-91bc-4bdc-8bb7-340e6b9195e6",
   "metadata": {},
   "outputs": [
    {
     "name": "stdout",
     "output_type": "stream",
     "text": [
      "TODO: Check datetime if created set\n"
     ]
    }
   ],
   "source": [
    "print(\"TODO: Check datetime if created set\")"
   ]
  },
  {
   "cell_type": "markdown",
   "id": "b6f09cda-7ab4-4b3a-bc8c-c3cb841124ac",
   "metadata": {},
   "source": [
    "### 3.4. Let canonicalProofConfig be the result of applying the JSON Canonicalization Scheme [RFC8785] to the proofConfig.\n"
   ]
  },
  {
   "cell_type": "code",
   "execution_count": 67,
   "id": "ce7381db-af48-48e7-92b2-0ac3b6362b6e",
   "metadata": {},
   "outputs": [],
   "source": [
    "import jcs\n",
    "canonicalProofConfig = jcs.canonicalize(proofConfig)"
   ]
  },
  {
   "cell_type": "markdown",
   "id": "816c258f-61ce-4cbf-bae5-bf02fbe81f97",
   "metadata": {},
   "source": [
    "### 3.5 Return canonicalProofConfig"
   ]
  },
  {
   "cell_type": "code",
   "execution_count": 68,
   "id": "38b8f5d1-db15-428e-9bb6-787e786c2bb7",
   "metadata": {
    "jupyter": {
     "source_hidden": true
    }
   },
   "outputs": [
    {
     "name": "stdout",
     "output_type": "stream",
     "text": [
      "Return canonicalProofConfig :  b'{\"@context\":[\"https://www.w3.org/ns/credentials/v2\",\"https://www.w3.org/ns/credentials/examples/v2\"],\"cryptosuite\":\"schnorr-secp256k1-jcs-2024\",\"proofPurpose\":\"assertionMethod\",\"type\":\"DataIntegrityProof\",\"verificationMethod\":\"did:btc1:k1q2ddta4gt5n7u6d3xwhdyua57t6awrk55ut82qvurfm0qnrxx5nw7vnsy65#initialKey\"}'\n"
     ]
    }
   ],
   "source": [
    "proof_config = canonicalProofConfig\n",
    "print(\"Return canonicalProofConfig : \", canonicalProofConfig)"
   ]
  },
  {
   "cell_type": "markdown",
   "id": "91cfbc60-e3df-4ba9-950c-2ebc4a1eb8a2",
   "metadata": {},
   "source": [
    "## 4. Let transformedData be the result of running the algorithm in Section XXX Transformation (schnorr-secp256k1-jcs-2024) with unsecuredDocument and options passed as parameters.\n",
    "\n",
    "Currently this uses the Json Canonicalization Scheme. We intend to shift this to use RDF canonicalization once we have ported Dan's library.\n",
    "\n",
    "Example spec text: https://www.w3.org/TR/vc-di-eddsa/#transformation-eddsa-jcs-2022\n"
   ]
  },
  {
   "cell_type": "markdown",
   "id": "77283e51-cdaa-493b-b6a4-d65f7fa48de0",
   "metadata": {},
   "source": [
    "### Spec Text\n",
    "\n",
    "The following algorithm specifies how to transform an unsecured input document into a transformed document that is ready to be provided as input to the hashing algorithm in Section XXX Hashing (schnorr-secp256k1-jcs-2024).\n",
    "\n",
    "Required inputs to this algorithm are an unsecured data document (unsecuredDocument) and transformation options (options). The transformation options MUST contain a type identifier for the cryptographic suite (type) and a cryptosuite identifier (cryptosuite). A transformed data document is produced as output. Whenever this algorithm encodes strings, it MUST use UTF-8 encoding.\n",
    "\n",
    "1. If options.type is not set to the string DataIntegrityProof and options.cryptosuite is not set to the string schnorr-secp256k1-jcs-2024, an error MUST be raised that SHOULD convey an error type of PROOF_VERIFICATION_ERROR.\n",
    "2. Let canonicalDocument be the result of applying the JSON Canonicalization Scheme [RFC8785] to a JSON serialization of the unsecuredDocument.\n",
    "3. Return canonicalDocument as the transformed data document."
   ]
  },
  {
   "cell_type": "code",
   "execution_count": 71,
   "id": "2651f09a-b635-4269-b9e6-922f39de9d69",
   "metadata": {},
   "outputs": [],
   "source": [
    "## This would be passed into the algorithm.\n",
    "assert options[\"type\"] == \"DataIntegrityProof\"\n",
    "assert options[\"cryptosuite\"] == \"schnorr-secp256k1-jcs-2024\""
   ]
  },
  {
   "cell_type": "code",
   "execution_count": 72,
   "id": "2088c0f3-1583-4e1e-b80e-af0bd5b899c2",
   "metadata": {},
   "outputs": [],
   "source": [
    "import jcs"
   ]
  },
  {
   "cell_type": "code",
   "execution_count": 73,
   "id": "2a5fa36e-5650-434c-848b-7e2e4187200e",
   "metadata": {},
   "outputs": [],
   "source": [
    "canonical_document = jcs.canonicalize(unsecured_document)"
   ]
  },
  {
   "cell_type": "code",
   "execution_count": 74,
   "id": "f7c6c527-934a-43e3-b821-b02805e550c3",
   "metadata": {},
   "outputs": [
    {
     "name": "stdout",
     "output_type": "stream",
     "text": [
      "Returning canonical document :  b'{\"@context\":[\"https://www.w3.org/ns/credentials/v2\",\"https://www.w3.org/ns/credentials/examples/v2\"],\"credentialSubject\":{\"alumniOf\":{\"id\":\"did:example:c276e12ec21ebfeb1f712ebc6f1\",\"name\":\"Example University\"},\"id\":\"did:example:ebfeb1f712ebc6f1c276e12ec21\"},\"id\":\"http://university.example/credentials/58473\",\"issuer\":\"did:btc1:k1q2ddta4gt5n7u6d3xwhdyua57t6awrk55ut82qvurfm0qnrxx5nw7vnsy65\",\"type\":[\"VerifiableCredential\",\"ExampleAlumniCredential\"],\"validFrom\":\"2020-01-01T00:00:00Z\"}'\n"
     ]
    }
   ],
   "source": [
    "print(\"Returning canonical document : \", canonical_document)\n",
    "transformed_document= canonical_document"
   ]
  },
  {
   "cell_type": "markdown",
   "id": "de7769bb-3d27-423b-9b06-fbd5d02d5092",
   "metadata": {},
   "source": [
    "## 5. Let hashData be the result of running the algorithm in Section XXX Hashing (schnorr-secp256k1-jcs-2024) with transformedData and proofConfig passed as a parameters.\n",
    "\n",
    "\n",
    "Example Spec text: https://www.w3.org/TR/vc-di-eddsa/#hashing-eddsa-jcs-2022\n",
    "\n"
   ]
  },
  {
   "cell_type": "markdown",
   "id": "234ad298-1db3-431d-acc3-66785756ea6e",
   "metadata": {},
   "source": [
    "### Spec Text\n",
    "\n",
    "The following algorithm specifies how to cryptographically hash a transformed data document and proof configuration into cryptographic hash data that is ready to be provided as input to the algorithms in Section XXX Proof Serialization (schnorr-secp256k1-jcs-2024) or Section xxx Proof Verification (schnorr-secp256k1-jcs-2024).\n",
    "\n",
    "The required inputs to this algorithm are a transformed data document (transformedDocument) and canonical proof configuration (canonicalProofConfig). A single hash data value represented as series of bytes is produced as output.\n",
    "\n",
    "1. Let transformedDocumentHash be the result of applying the SHA-256 (SHA-2 with 256-bit output) cryptographic hashing algorithm [RFC6234] to the transformedDocument. transformedDocumentHash will be exactly 32 bytes in size.\n",
    "2. Let proofConfigHash be the result of applying the SHA-256 (SHA-2 with 256-bit output) cryptographic hashing algorithm [RFC6234] to the canonicalProofConfig. proofConfigHash will be exactly 32 bytes in size.\n",
    "3. Let hashData be the result of joining proofConfigHash (the first hash) with transformedDocumentHash (the second hash).\n",
    "4. Return hashData as the hash data."
   ]
  },
  {
   "cell_type": "markdown",
   "id": "fb8a9f98-d911-4bc7-a951-447e6eb20673",
   "metadata": {},
   "source": [
    "# Difference from EdDSA! We may have to concat the bytes of proofConfig and transformedDocument then hash the result\n",
    "\n",
    "Or we could combine the hashes then hash the result. I believe with Schnorr as defined in BIP340 we need to have an input of 32 bytes.\n",
    "\n",
    "## Also, this might just be a limitation of the library I am using."
   ]
  },
  {
   "cell_type": "markdown",
   "id": "f0011090-5d64-4f58-a508-9a9196524ca0",
   "metadata": {},
   "source": [
    "### 5.1 Let transformedDocumentHash be the result of applying the SHA-256 (SHA-2 with 256-bit output) cryptographic hashing algorithm [RFC6234] to the transformedDocument. transformedDocumentHash will be exactly 32 bytes in size."
   ]
  },
  {
   "cell_type": "code",
   "execution_count": 75,
   "id": "c0c8f836-8fae-4f57-9334-d899d11240a9",
   "metadata": {},
   "outputs": [],
   "source": [
    "from buidl.helper import sha256"
   ]
  },
  {
   "cell_type": "code",
   "execution_count": 76,
   "id": "9892dc2a-e5f4-44e7-b69c-c6b88f66f3a2",
   "metadata": {},
   "outputs": [],
   "source": [
    "\n",
    "#transformed_document_hash = sha256(transformed_document)"
   ]
  },
  {
   "cell_type": "code",
   "execution_count": 77,
   "id": "e82a8a29-de78-4aad-8fd1-83d5127c8b46",
   "metadata": {},
   "outputs": [],
   "source": [
    "#assert(len(transformed_document_hash) == 32)"
   ]
  },
  {
   "cell_type": "markdown",
   "id": "59797c70-1649-4b25-a84d-d03fe13d3de5",
   "metadata": {},
   "source": [
    "### 5.2. Let proofConfigHash be the result of applying the SHA-256 (SHA-2 with 256-bit output) cryptographic hashing algorithm [RFC6234] to the canonicalProofConfig. proofConfigHash will be exactly 32 bytes in size.\n"
   ]
  },
  {
   "cell_type": "code",
   "execution_count": 78,
   "id": "f4e99f1a-144b-44bb-9e6a-228d1fd7c321",
   "metadata": {},
   "outputs": [],
   "source": [
    "#proof_config_hash = sha256(proof_config)\n",
    "#assert(len(proof_config_hash) == 32)"
   ]
  },
  {
   "cell_type": "code",
   "execution_count": 79,
   "id": "adf02217-fb69-45ce-ad37-8fe4e064d46a",
   "metadata": {},
   "outputs": [],
   "source": [
    "#proof_config_hash"
   ]
  },
  {
   "cell_type": "markdown",
   "id": "d5a54ebc-1416-402c-9d0e-f9eaea925ccb",
   "metadata": {},
   "source": [
    "### 5.3. Let hashData be the result of joining proofConfigHash (the first hash) with transformedDocumentHash (the second hash).\n"
   ]
  },
  {
   "cell_type": "code",
   "execution_count": 80,
   "id": "7da79442-105f-4a31-87de-bc3429708e02",
   "metadata": {},
   "outputs": [],
   "source": [
    "# hash_data = proof_config_hash + transformed_document_hash"
   ]
  },
  {
   "cell_type": "markdown",
   "id": "bbe9dff8-c8c0-44a4-a041-60ca872e145c",
   "metadata": {},
   "source": [
    "## Possible Updated Hash Impl"
   ]
  },
  {
   "cell_type": "code",
   "execution_count": 81,
   "id": "7010a5ec-b544-4fd3-b754-97ca3757110e",
   "metadata": {},
   "outputs": [],
   "source": [
    "data_to_hash = proof_config + transformed_document\n",
    "hash_data = sha256(data_to_hash)"
   ]
  },
  {
   "cell_type": "markdown",
   "id": "cb4d5ef2-631e-499d-83f7-05fd536993fe",
   "metadata": {},
   "source": [
    "### 5.4. Return hashData as the hash data."
   ]
  },
  {
   "cell_type": "code",
   "execution_count": 82,
   "id": "218b5335-8ada-4c59-95e2-789b723d2969",
   "metadata": {},
   "outputs": [
    {
     "name": "stdout",
     "output_type": "stream",
     "text": [
      "Return hashData b'\\xc9X<\\xf9p\\xb1C\\xba\\x84\\x18 \\x0fr$<U\\xe9\\\\R\\x13\\xc1\\xb1\\xcf\\x04\\xe0L\\xbf\\x01\\x06\\xa9\\xa4\\t'\n"
     ]
    }
   ],
   "source": [
    "print(\"Return hashData\", hash_data)"
   ]
  },
  {
   "cell_type": "markdown",
   "id": "aef4d68b-46d5-4f3d-87fb-d2c06fb91b22",
   "metadata": {},
   "source": [
    "## 6. Let proofBytes be the result of running the algorithm in Section XXX Proof Serialization (schnorr-secp256k1-jcs-2024) with hashData and options passed as parameters.\n",
    "\n",
    "\n"
   ]
  },
  {
   "cell_type": "markdown",
   "id": "9ad034e4-64e5-475e-9994-c4af392e5667",
   "metadata": {},
   "source": [
    "### Spec Text\n",
    "\n",
    "The following algorithm specifies how to serialize a digital signature from a set of cryptographic hash data. This algorithm is designed to be used in conjunction with the algorithms defined in the Data Integrity [VC-DATA-INTEGRITY] specification, Section 4: Algorithms. Required inputs are cryptographic hash data (hashData) and proof options (options). The proof options MUST contain a type identifier for the cryptographic suite (type) and MAY contain a cryptosuite identifier (cryptosuite). A single digital proof value represented as series of bytes is produced as output.\n",
    "\n",
    "1. Let privateKeyBytes be the result of retrieving the private key bytes associated with the options.verificationMethod value as described in the Data Integrity [VC-DATA-INTEGRITY] specification, Section 4.1: Processing Model.\n",
    "2. Let proofBytes be the result of applying the Schnorr Signature Alogirthm [BIP340], using the Secp256k1 variant, with hashData as the data to be signed using the private key specified by privateKeyBytes. proofBytes will be exactly 64 bytes in size.\n",
    "3. Return proofBytes as the digital proof.\n"
   ]
  },
  {
   "cell_type": "markdown",
   "id": "4133bc47-12e6-47b7-acc4-e1aec0124cbb",
   "metadata": {},
   "source": [
    "### 6.1 Let privateKeyBytes be the result of retrieving the private key bytes associated with the options.verificationMethod value as described in the Data Integrity [VC-DATA-INTEGRITY] specification, Section 4.1: Processing Model.\n",
    "\n",
    "Note: Not fully certain about this step. Partly because in these notebooks I already have the private key in an object. I think likely it is something like as follows below."
   ]
  },
  {
   "cell_type": "code",
   "execution_count": 83,
   "id": "597387fb-72ea-44c2-8d19-d87308714b5e",
   "metadata": {},
   "outputs": [],
   "source": [
    "from buidl.helper import int_to_big_endian"
   ]
  },
  {
   "cell_type": "code",
   "execution_count": 84,
   "id": "90fe3264-fea2-4eb0-b5c1-34a9fa4551d8",
   "metadata": {},
   "outputs": [],
   "source": [
    "privateKeyBytes = int_to_big_endian(initial_sk.secret, 32)"
   ]
  },
  {
   "cell_type": "code",
   "execution_count": 85,
   "id": "cb26d2a0-edb7-48dc-9037-81c1ad251d4a",
   "metadata": {},
   "outputs": [
    {
     "data": {
      "text/plain": [
       "b's\\xfd\\xdc\\x12\\xfc\\x93B\\xbb)\\xae\\x9b^\\xd4v2;\\xdci:\\x11n6Q$U\\xae\\xe80\\xfe\\x8a%\\xa2'"
      ]
     },
     "execution_count": 85,
     "metadata": {},
     "output_type": "execute_result"
    }
   ],
   "source": [
    "privateKeyBytes"
   ]
  },
  {
   "cell_type": "markdown",
   "id": "d259a4d8-7a63-47b4-893d-de87550680e8",
   "metadata": {},
   "source": [
    "### 6.2. Let proofBytes be the result of applying the Schnorr Signature Alogirthm [BIP340], using the Secp256k1 variant, with hashData as the data to be signed using the private key specified by privateKeyBytes. proofBytes will be exactly 64 bytes in size."
   ]
  },
  {
   "cell_type": "code",
   "execution_count": 86,
   "id": "d1e89168-9e29-44ab-ad14-b5b4f0544db0",
   "metadata": {},
   "outputs": [],
   "source": [
    "# TODO: We probably want to specify how aux data should be generated\n",
    "# From BIP340 The auxiliary random data should be set to fresh randomness generated at signing time, resulting in what is called a synthetic nonce. Using 32 bytes of randomness is optimal.\n",
    "aux=b\"\\x00\" * 32\n",
    "\n",
    "schnorr_sig = initial_sk.sign_schnorr(hash_data, aux)\n",
    "\n",
    "proof_bytes = schnorr_sig.serialize()"
   ]
  },
  {
   "cell_type": "markdown",
   "id": "0becf770-5c7f-42e0-bb30-4908532e7edb",
   "metadata": {},
   "source": [
    "### 6.3. Return proofBytes as the digital proof."
   ]
  },
  {
   "cell_type": "code",
   "execution_count": 87,
   "id": "944a972b-a184-4650-991c-864d43b34487",
   "metadata": {},
   "outputs": [
    {
     "name": "stdout",
     "output_type": "stream",
     "text": [
      "Return Proof Bytes :  b\"+\\xf0\\xe6\\xff\\xe7\\x95\\xee\\xbbb\\x14\\xf8\\r\\xa9\\x88\\x81\\x82\\x02@[\\xb3\\x98#j\\xba\\x7f\\xf0Z\\x9f&\\x12\\x01\\xa3L\\xd2\\xc6\\x92 L\\x19G\\x8d\\xfb\\xba\\xc5\\xa7\\xfd\\x8b\\xbe\\x16'n\\xb9\\t\\xa1\\xad,f+R\\x1c\\x96X\\xf9\\x08\"\n"
     ]
    }
   ],
   "source": [
    "print(\"Return Proof Bytes : \", proof_bytes)"
   ]
  },
  {
   "cell_type": "markdown",
   "id": "70e61bfc-e93d-4b76-918a-d0f9f6f54d2c",
   "metadata": {},
   "source": [
    "## 7. Let proof.proofValue be a base58-btc-encoded Multibase value of the proofBytes.\n",
    "\n",
    "THIS IS A QUESTION. DO WE WANT TO USE base58btc. We do not want to use base58, this if for the stuff you are showing to other people and talk about it on the phone.\n",
    "\n",
    "What is the most efficient representation for how this is passed around in computers.\n",
    "\n",
    "Probably the best is base64 here.\n"
   ]
  },
  {
   "cell_type": "code",
   "execution_count": 90,
   "id": "9fd40d6d-5652-4635-b984-4e40677da4ba",
   "metadata": {},
   "outputs": [],
   "source": [
    "from multiformats import multibase\n",
    "\n",
    "proof_value = multibase.encode(proof_bytes, \"base58btc\")\n",
    "\n",
    "proof[\"proofValue\"] = proof_value"
   ]
  },
  {
   "cell_type": "code",
   "execution_count": 91,
   "id": "a545aee8-ed1b-4f58-b4ec-0d1322498079",
   "metadata": {},
   "outputs": [
    {
     "name": "stdout",
     "output_type": "stream",
     "text": [
      "Return proof {\n",
      "  \"type\": \"DataIntegrityProof\",\n",
      "  \"cryptosuite\": \"schnorr-secp256k1-jcs-2024\",\n",
      "  \"verificationMethod\": \"did:btc1:k1q2ddta4gt5n7u6d3xwhdyua57t6awrk55ut82qvurfm0qnrxx5nw7vnsy65#initialKey\",\n",
      "  \"proofPurpose\": \"assertionMethod\",\n",
      "  \"@context\": [\n",
      "    \"https://www.w3.org/ns/credentials/v2\",\n",
      "    \"https://www.w3.org/ns/credentials/examples/v2\"\n",
      "  ],\n",
      "  \"proofValue\": \"zsxM9je5iKynKyN6rRPi9QjTWpG6inJ1umwGfnCo4fiu4MqYf46PLd4TE2wVZvdZegDuC6xL6n3Kj8S1PbC8tmTm\"\n",
      "}\n"
     ]
    }
   ],
   "source": [
    "print(\"Return proof\", json.dumps(proof, indent=2))"
   ]
  },
  {
   "cell_type": "markdown",
   "id": "c3101e30-fc60-4dc9-96a6-4fcf4a3e3cb7",
   "metadata": {},
   "source": [
    "## 8. Let securedDataDocument be a copy of inputDocument. (Add Proof)"
   ]
  },
  {
   "cell_type": "code",
   "execution_count": 92,
   "id": "45ea2a63-dd38-459d-8bb5-a9ddddfe679d",
   "metadata": {},
   "outputs": [],
   "source": [
    "secured_data_document = copy.deepcopy(unsecured_document)"
   ]
  },
  {
   "cell_type": "markdown",
   "id": "7b6beef8-f3c1-4007-9214-aa607f4069b4",
   "metadata": {},
   "source": [
    "## 9. Set securedDataDocument.proof to the value of proof. (Add Proof)\n"
   ]
  },
  {
   "cell_type": "code",
   "execution_count": 93,
   "id": "3dac467c-5235-4d42-a483-bca52c01a705",
   "metadata": {},
   "outputs": [],
   "source": [
    "secured_data_document[\"proof\"] = proof"
   ]
  },
  {
   "cell_type": "markdown",
   "id": "d56f61af-176a-418e-82f2-f3a938603008",
   "metadata": {},
   "source": [
    "## 10. Return securedDataDocument as the secured data document."
   ]
  },
  {
   "cell_type": "code",
   "execution_count": 95,
   "id": "3d0b8860-1a95-45d6-9eaf-bc1eaa63f449",
   "metadata": {},
   "outputs": [
    {
     "name": "stdout",
     "output_type": "stream",
     "text": [
      "Return securedDataDocument\n",
      "{\n",
      "  \"@context\": [\n",
      "    \"https://www.w3.org/ns/credentials/v2\",\n",
      "    \"https://www.w3.org/ns/credentials/examples/v2\"\n",
      "  ],\n",
      "  \"id\": \"http://university.example/credentials/58473\",\n",
      "  \"type\": [\n",
      "    \"VerifiableCredential\",\n",
      "    \"ExampleAlumniCredential\"\n",
      "  ],\n",
      "  \"validFrom\": \"2020-01-01T00:00:00Z\",\n",
      "  \"credentialSubject\": {\n",
      "    \"id\": \"did:example:ebfeb1f712ebc6f1c276e12ec21\",\n",
      "    \"alumniOf\": {\n",
      "      \"id\": \"did:example:c276e12ec21ebfeb1f712ebc6f1\",\n",
      "      \"name\": \"Example University\"\n",
      "    }\n",
      "  },\n",
      "  \"issuer\": \"did:btc1:k1q2ddta4gt5n7u6d3xwhdyua57t6awrk55ut82qvurfm0qnrxx5nw7vnsy65\",\n",
      "  \"proof\": {\n",
      "    \"type\": \"DataIntegrityProof\",\n",
      "    \"cryptosuite\": \"schnorr-secp256k1-jcs-2024\",\n",
      "    \"verificationMethod\": \"did:btc1:k1q2ddta4gt5n7u6d3xwhdyua57t6awrk55ut82qvurfm0qnrxx5nw7vnsy65#initialKey\",\n",
      "    \"proofPurpose\": \"assertionMethod\",\n",
      "    \"@context\": [\n",
      "      \"https://www.w3.org/ns/credentials/v2\",\n",
      "      \"https://www.w3.org/ns/credentials/examples/v2\"\n",
      "    ],\n",
      "    \"proofValue\": \"zsxM9je5iKynKyN6rRPi9QjTWpG6inJ1umwGfnCo4fiu4MqYf46PLd4TE2wVZvdZegDuC6xL6n3Kj8S1PbC8tmTm\"\n",
      "  }\n",
      "}\n"
     ]
    }
   ],
   "source": [
    "print(\"Return securedDataDocument\")\n",
    "print(json.dumps(secured_data_document, indent=2))"
   ]
  },
  {
   "cell_type": "markdown",
   "id": "605190a4-b915-482f-89a2-cb4ba3df340d",
   "metadata": {},
   "source": [
    "## Copy the Secured VC into the VC verification notebook to verify it\n"
   ]
  },
  {
   "cell_type": "code",
   "execution_count": 96,
   "id": "abd84dc9-7504-42d9-85ab-99b9896a79ed",
   "metadata": {},
   "outputs": [
    {
     "name": "stdout",
     "output_type": "stream",
     "text": [
      "secured_vc = {'@context': ['https://www.w3.org/ns/credentials/v2', 'https://www.w3.org/ns/credentials/examples/v2'], 'id': 'http://university.example/credentials/58473', 'type': ['VerifiableCredential', 'ExampleAlumniCredential'], 'validFrom': '2020-01-01T00:00:00Z', 'credentialSubject': {'id': 'did:example:ebfeb1f712ebc6f1c276e12ec21', 'alumniOf': {'id': 'did:example:c276e12ec21ebfeb1f712ebc6f1', 'name': 'Example University'}}, 'issuer': 'did:btc1:k1q2ddta4gt5n7u6d3xwhdyua57t6awrk55ut82qvurfm0qnrxx5nw7vnsy65', 'proof': {'type': 'DataIntegrityProof', 'cryptosuite': 'schnorr-secp256k1-jcs-2024', 'verificationMethod': 'did:btc1:k1q2ddta4gt5n7u6d3xwhdyua57t6awrk55ut82qvurfm0qnrxx5nw7vnsy65#initialKey', 'proofPurpose': 'assertionMethod', '@context': ['https://www.w3.org/ns/credentials/v2', 'https://www.w3.org/ns/credentials/examples/v2'], 'proofValue': 'zsxM9je5iKynKyN6rRPi9QjTWpG6inJ1umwGfnCo4fiu4MqYf46PLd4TE2wVZvdZegDuC6xL6n3Kj8S1PbC8tmTm'}}\n"
     ]
    }
   ],
   "source": [
    "print(f\"secured_vc = {secured_data_document}\")"
   ]
  },
  {
   "cell_type": "code",
   "execution_count": null,
   "id": "f2dcb334-f1af-4ed7-8b35-6ac7d7950f0e",
   "metadata": {},
   "outputs": [],
   "source": []
  },
  {
   "cell_type": "code",
   "execution_count": null,
   "id": "5fa2806d-9c1e-4146-a306-2e51f089e28d",
   "metadata": {},
   "outputs": [],
   "source": []
  },
  {
   "cell_type": "code",
   "execution_count": null,
   "id": "7e1c22e1-e29b-46de-b42b-91b83bb3d114",
   "metadata": {},
   "outputs": [],
   "source": []
  },
  {
   "cell_type": "code",
   "execution_count": null,
   "id": "686fe4be-37d7-4d31-9d46-e922cf51f61a",
   "metadata": {},
   "outputs": [],
   "source": []
  },
  {
   "cell_type": "code",
   "execution_count": null,
   "id": "ef0ba60d-e0d2-4b04-b4c9-09a83b678520",
   "metadata": {},
   "outputs": [],
   "source": []
  },
  {
   "cell_type": "code",
   "execution_count": null,
   "id": "364ba640-6db9-450e-878d-c8803a1dc044",
   "metadata": {},
   "outputs": [],
   "source": []
  },
  {
   "cell_type": "code",
   "execution_count": null,
   "id": "197ee4f0-9d1f-4c47-8658-bbefc0909d47",
   "metadata": {},
   "outputs": [],
   "source": []
  },
  {
   "cell_type": "code",
   "execution_count": null,
   "id": "ba8b997c-6bcf-4794-aff6-a8b1af22d9a4",
   "metadata": {},
   "outputs": [],
   "source": []
  },
  {
   "cell_type": "code",
   "execution_count": null,
   "id": "98077011-0b82-4db1-84ab-d838e6a00efb",
   "metadata": {},
   "outputs": [],
   "source": []
  },
  {
   "cell_type": "code",
   "execution_count": null,
   "id": "7a291c67-5168-40f8-b44f-9db4ef535986",
   "metadata": {},
   "outputs": [],
   "source": []
  },
  {
   "cell_type": "code",
   "execution_count": null,
   "id": "216e3bf8-345a-4024-8847-15d8a13619c9",
   "metadata": {},
   "outputs": [],
   "source": []
  },
  {
   "cell_type": "code",
   "execution_count": null,
   "id": "a3548ac4-0147-4b08-89a9-5df0a50b5402",
   "metadata": {},
   "outputs": [],
   "source": []
  },
  {
   "cell_type": "code",
   "execution_count": null,
   "id": "fc2cf37d-f7bf-4a7a-a1e6-15986a8ba017",
   "metadata": {},
   "outputs": [],
   "source": []
  },
  {
   "cell_type": "code",
   "execution_count": null,
   "id": "47d8b41d-4b3a-4b55-a0f9-ec868b7754b6",
   "metadata": {},
   "outputs": [],
   "source": []
  }
 ],
 "metadata": {
  "kernelspec": {
   "display_name": "Python 3 (ipykernel)",
   "language": "python",
   "name": "python3"
  },
  "language_info": {
   "codemirror_mode": {
    "name": "ipython",
    "version": 3
   },
   "file_extension": ".py",
   "mimetype": "text/x-python",
   "name": "python",
   "nbconvert_exporter": "python",
   "pygments_lexer": "ipython3",
   "version": "3.12.3"
  }
 },
 "nbformat": 4,
 "nbformat_minor": 5
}
