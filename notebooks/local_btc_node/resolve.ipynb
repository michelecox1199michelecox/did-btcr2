{
 "cells": [
  {
   "cell_type": "markdown",
   "id": "ed9e6bb3-7b87-41b8-961c-8a5c6d6e8062",
   "metadata": {},
   "source": [
    "# Resolve did:btc1 from local Bitcoin node in regtest"
   ]
  },
  {
   "cell_type": "code",
   "execution_count": 1,
   "id": "b3105fcf-38cf-4ed0-8220-6058ded98991",
   "metadata": {},
   "outputs": [],
   "source": [
    "import sys\n",
    "import os\n",
    "\n",
    "notebooks_path = os.path.abspath(os.path.join(os.getcwd(), '..'))\n",
    "\n",
    "# Add the Notebooks directory to the sys.path\n",
    "sys.path.append(notebooks_path)"
   ]
  },
  {
   "cell_type": "code",
   "execution_count": 2,
   "id": "8270e724-04b2-49a1-84b6-1582972d1080",
   "metadata": {},
   "outputs": [],
   "source": [
    "did_to_resolve = \"did:btc1:regtest:k1qvadgpl5qfuz6emq7c8sqw28z0r0gzvyra3je3pp2cuk83uqnnyvckvw8cf\"\n",
    "\n",
    "# Signal Meta\n",
    "# - id\n",
    "# - updatePayload\n",
    "\n",
    "sidecar_data = {\n",
    "  \"did\": \"did:btc1:regtest:k1qvadgpl5qfuz6emq7c8sqw28z0r0gzvyra3je3pp2cuk83uqnnyvckvw8cf\",\n",
    "  \"signalsMetadata\": {\n",
    "    \"f23ff93716c1190b384769cb45eea3efedc9b762b3a65b32547faba311ab5bfa\": {\n",
    "      \"updatePayload\": {\n",
    "        \"@context\": [\n",
    "          \"https://w3id.org/security/v2\",\n",
    "          \"https://w3id.org/zcap/v1\",\n",
    "          \"https://w3id.org/json-ld-patch/v1\"\n",
    "        ],\n",
    "        \"patch\": [\n",
    "          {\n",
    "            \"op\": \"add\",\n",
    "            \"path\": \"/service/3\",\n",
    "            \"value\": {\n",
    "              \"id\": \"#linked-domain\",\n",
    "              \"type\": \"LinkedDomains\",\n",
    "              \"serviceEndpoint\": \"https://contact-me.com\"\n",
    "            }\n",
    "          }\n",
    "        ],\n",
    "        \"sourceHash\": \"9EUnJwoNB1DZF4yUmb8iFsBjXkUkSg9Hjq2P1NS96AX7\",\n",
    "        \"targetHash\": \"BZ4n8wiDWFRBV4Zu6aDV4WFsRPn3Jmu2Nb4xW9ebW8fj\",\n",
    "        \"targetVersionId\": 2,\n",
    "        \"proof\": {\n",
    "          \"type\": \"DataIntegrityProof\",\n",
    "          \"cryptosuite\": \"schnorr-secp256k1-jcs-2025\",\n",
    "          \"verificationMethod\": \"did:btc1:regtest:k1qvadgpl5qfuz6emq7c8sqw28z0r0gzvyra3je3pp2cuk83uqnnyvckvw8cf#initialKey\",\n",
    "          \"proofPurpose\": \"capabilityInvocation\",\n",
    "          \"capability\": \"urn:zcap:root:did%3Abtc1%3Aregtest%3Ak1qvadgpl5qfuz6emq7c8sqw28z0r0gzvyra3je3pp2cuk83uqnnyvckvw8cf\",\n",
    "          \"capabilityAction\": \"Write\",\n",
    "          \"@context\": [\n",
    "            \"https://w3id.org/security/v2\",\n",
    "            \"https://w3id.org/zcap/v1\",\n",
    "            \"https://w3id.org/json-ld-patch/v1\"\n",
    "          ],\n",
    "          \"proofValue\": \"z5xYgTCPgBW7ZAYywGkhznBXKKtjMX4cudM3Zc29GdHWe1QvV4hLmzuL2vYcb3gzc5ZyAm1KezfbYXHU6TuDaChCm\"\n",
    "        }\n",
    "      }\n",
    "    }\n",
    "  }\n",
    "}\n"
   ]
  },
  {
   "cell_type": "code",
   "execution_count": 3,
   "id": "749be095-d2a1-432b-9c54-5e09a9b338e7",
   "metadata": {},
   "outputs": [],
   "source": [
    "\n",
    "resolutionOptions = {\"sidecarData\": sidecar_data}"
   ]
  },
  {
   "cell_type": "markdown",
   "id": "64c3e5e7-6be7-419b-91f7-50cff9714e01",
   "metadata": {},
   "source": [
    "## Parse did:btc1 identifier"
   ]
  },
  {
   "cell_type": "code",
   "execution_count": 4,
   "id": "b16876e3-3e8c-40ab-9f0e-5109d5974fef",
   "metadata": {},
   "outputs": [
    {
     "data": {
      "text/plain": [
       "(None,\n",
       " 'regtest',\n",
       " 'k1qvadgpl5qfuz6emq7c8sqw28z0r0gzvyra3je3pp2cuk83uqnnyvckvw8cf',\n",
       " 'k1')"
      ]
     },
     "execution_count": 4,
     "metadata": {},
     "output_type": "execute_result"
    }
   ],
   "source": [
    "import re\n",
    "match = re.search(r\"^did:btc1:(?:(\\d+):)?(?:(mainnet|signet|testnet|regtest):)?((k1|x1)[023456789acdefghjklmnpqrstuvwxyz]*)$\", did_to_resolve)\n",
    "groups = match.groups()\n",
    "groups"
   ]
  },
  {
   "cell_type": "code",
   "execution_count": 5,
   "id": "362b3b1c-a969-4d7d-ac5f-26a7b5115e9e",
   "metadata": {},
   "outputs": [],
   "source": [
    "identifierComponents = {}\n",
    "\n",
    "identifierComponents[\"version\"] = groups[0] or 1\n",
    "identifierComponents[\"network\"] = groups[1] or \"mainnet\"\n",
    "\n",
    "\n"
   ]
  },
  {
   "cell_type": "code",
   "execution_count": 6,
   "id": "0060407d-0d59-4c63-8025-6ec1d0b23f0f",
   "metadata": {},
   "outputs": [],
   "source": [
    "from libbtc1.bech32 import decode_bech32_identifier\n",
    "\n",
    "bech32_encoding = groups[2]\n",
    "hrp, genesisBytes = decode_bech32_identifier(bech32_encoding)"
   ]
  },
  {
   "cell_type": "code",
   "execution_count": 7,
   "id": "3970600a-9935-42ac-a5cb-1d2c885a3abf",
   "metadata": {},
   "outputs": [],
   "source": [
    "identifierComponents[\"hrp\"] = hrp\n",
    "identifierComponents[\"genesisBytes\"] = genesisBytes"
   ]
  },
  {
   "cell_type": "code",
   "execution_count": 8,
   "id": "ab1f3f2e-1532-4535-bcb1-da16138b4926",
   "metadata": {},
   "outputs": [
    {
     "data": {
      "text/plain": [
       "{'version': 1,\n",
       " 'network': 'regtest',\n",
       " 'hrp': 'k',\n",
       " 'genesisBytes': b'\\x03:\\xd4\\x07\\xf4\\x02x-g`\\xf6\\x0f\\x009G\\x13\\xc6\\xf4\\t\\x84\\x1fc,\\xc4!V9c\\xc7\\x80\\x9c\\xc8\\xcc'}"
      ]
     },
     "execution_count": 8,
     "metadata": {},
     "output_type": "execute_result"
    }
   ],
   "source": [
    "identifierComponents"
   ]
  },
  {
   "cell_type": "code",
   "execution_count": null,
   "id": "4acb7379-9a77-49ec-a3c2-1c160e5ef0af",
   "metadata": {},
   "outputs": [],
   "source": []
  },
  {
   "cell_type": "markdown",
   "id": "6a5e9abe-7e7a-4ad8-a1ae-1a8d7c56d4cc",
   "metadata": {},
   "source": [
    "## Resolve Initial Document\n",
    "\n",
    "This algorithm specifies how to resolve an initial DID document and validate\n",
    "it against the `identifier` for a specific **did:btc1**. The algorithm takes as\n",
    "inputs a **did:btc1** `identifier`, `identifierComponents` object and a\n",
    "`resolutionsOptions` object. This algorithm returns a valid `initialDocument`\n",
    "for that identifier."
   ]
  },
  {
   "cell_type": "code",
   "execution_count": 9,
   "id": "62f7e547-cba7-4ce2-a87a-a51cfa2eb071",
   "metadata": {},
   "outputs": [
    {
     "name": "stdout",
     "output_type": "stream",
     "text": [
      "k\n",
      "Deterministically Generate Initial DID Document\n"
     ]
    }
   ],
   "source": [
    "print(identifierComponents[\"hrp\"])\n",
    "if identifierComponents[\"hrp\"] == \"k\":\n",
    "    print(\"Deterministically Generate Initial DID Document\")\n",
    "elif identifierComponents[\"hrp\"] == \"x\":\n",
    "    raise \"Not Implemented\""
   ]
  },
  {
   "cell_type": "code",
   "execution_count": 10,
   "id": "bc6a6cce-ec6c-482b-9bf7-e0263da49a7d",
   "metadata": {},
   "outputs": [],
   "source": [
    "from libbtc1.did import resolve_deterministic\n",
    "\n",
    "initial_document = resolve_deterministic(did_to_resolve, identifierComponents)"
   ]
  },
  {
   "cell_type": "code",
   "execution_count": 11,
   "id": "e5ee455c-5021-4f4c-9234-f738fc411128",
   "metadata": {},
   "outputs": [
    {
     "name": "stdout",
     "output_type": "stream",
     "text": [
      "{\n",
      "  \"id\": \"did:btc1:regtest:k1qvadgpl5qfuz6emq7c8sqw28z0r0gzvyra3je3pp2cuk83uqnnyvckvw8cf\",\n",
      "  \"@context\": [\n",
      "    \"https://www.w3.org/ns/did/v1\",\n",
      "    \"https://did-btc1/TBD/context\"\n",
      "  ],\n",
      "  \"verificationMethod\": [\n",
      "    {\n",
      "      \"id\": \"#initialKey\",\n",
      "      \"type\": \"Multikey\",\n",
      "      \"controller\": \"did:btc1:regtest:k1qvadgpl5qfuz6emq7c8sqw28z0r0gzvyra3je3pp2cuk83uqnnyvckvw8cf\",\n",
      "      \"publicKeyMultibase\": \"z66Ppr1hk7fkH6Corq9M62V4uT31tv4j4AZwCxrCUKC5Vofy\"\n",
      "    }\n",
      "  ],\n",
      "  \"authentication\": [\n",
      "    \"#initialKey\"\n",
      "  ],\n",
      "  \"assertionMethod\": [\n",
      "    \"#initialKey\"\n",
      "  ],\n",
      "  \"capabilityInvocation\": [\n",
      "    \"#initialKey\"\n",
      "  ],\n",
      "  \"capabilityDelegation\": [\n",
      "    \"#initialKey\"\n",
      "  ],\n",
      "  \"service\": [\n",
      "    {\n",
      "      \"id\": \"#initial_p2pkh\",\n",
      "      \"type\": \"SingletonBeacon\",\n",
      "      \"serviceEndpoint\": \"bitcoin:muRxiMKmqP5HeA4njajdmuL7tQfrKjcNgb\"\n",
      "    },\n",
      "    {\n",
      "      \"id\": \"#initial_p2wpkh\",\n",
      "      \"type\": \"SingletonBeacon\",\n",
      "      \"serviceEndpoint\": \"bitcoin:bcrt1qnzsq0ejh4jkuqdslqn7vxdu589pxe45gkyfmhx\"\n",
      "    },\n",
      "    {\n",
      "      \"id\": \"#initial_p2tr\",\n",
      "      \"type\": \"SingletonBeacon\",\n",
      "      \"serviceEndpoint\": \"bitcoin:bcrt1pez6hwgel8rn7hykyzkxl4xxtna6clsvev5pgwquqn3ulqkkz7v7skh4md6\"\n",
      "    }\n",
      "  ]\n",
      "}\n"
     ]
    }
   ],
   "source": [
    "import json\n",
    "print(json.dumps(initial_document, indent=2))"
   ]
  },
  {
   "cell_type": "markdown",
   "id": "9ec9e2ae-7b06-4f9e-b762-d59740e5eaf4",
   "metadata": {},
   "source": [
    "## Resolve Target Document\n",
    "\n",
    "This algorithm resolves a DID document from an initial document by walking the\n",
    "Bitcoin blockchain to identify Beacon Signals that announce DID Update Payloads\n",
    "applicable to the **did:btc1** identifier being resolved. The algorithm takes\n",
    "in an `initialDocument` and a set of `resolutionOptions`. The algorithm returns\n",
    "a valid `targetDocument` or throws an error.\n",
    "\n",
    "1. If `resolutionOptions.versionId` is not null, set `targetVersionId` to\n",
    "   `resolutionOptions.versionId`.\n",
    "1. Else if `resolutionOptions.versionTime` is not null, set `targetTime` to\n",
    "   `resolutionOptions.versionTime`.\n",
    "1. Set `targetBlockheight` to the result of passing `targetTime` to the algorithm\n",
    "   [Determine Target Blockheight].\n",
    "1. Set `sidecarData` to `resolutionOptions.sidecarData`.\n",
    "1. Set `currentVersionId` to 1.\n",
    "1. If `currentVersionId` equals `targetVersionId` return `initialDocument`.\n",
    "1. Set `updateHashHistory` to an empty array.\n",
    "1. Set `contemporaryBlockheight` to 0.\n",
    "1. Set `contemporaryDIDDocument` to the `initialDocument`.\n",
    "1. Set `targetDocument` to the result of calling the [Traverse Blockchain History]\n",
    "   algorithm passing in `contemporaryDIDDocument`, `contemporaryBlockheight`,\n",
    "   `currentVersionId`, `targetVersionId`, `targetBlockheight`, `updateHashHistory`, \n",
    "   and `sidecarData`.\n",
    "1. Return `targetDocument`."
   ]
  },
  {
   "cell_type": "markdown",
   "id": "bd3cdae7-7623-4a6f-a83b-d4dace97a6db",
   "metadata": {},
   "source": [
    "### 1. If resolutionOptions.versionId is not null, set targetVersionId to resolutionOptions.versionId.\n",
    "### 2. Else if `resolutionOptions.versionTime` is not null, set `targetTime` to `resolutionOptions.versionTime`."
   ]
  },
  {
   "cell_type": "code",
   "execution_count": 12,
   "id": "6e49c2b2-cc79-468d-98a5-09336732c331",
   "metadata": {},
   "outputs": [],
   "source": [
    "versionId = resolutionOptions.get(\"versionId\")\n",
    "versionTime = resolutionOptions.get(\"versionTime\")\n",
    "targetTime = None\n",
    "requestVersionId = None\n",
    "if versionId:\n",
    "    requestVersionId = versionId\n",
    "elif versionTime:\n",
    "    targetTime = versionTime"
   ]
  },
  {
   "cell_type": "markdown",
   "id": "e7d22af5-3c1f-400a-ab52-566f3e8bed30",
   "metadata": {},
   "source": [
    "### 3. Set targetBlockheight to the result of passing targetTime to the algorithm [Determine Target Blockheight]."
   ]
  },
  {
   "cell_type": "markdown",
   "id": "ebcea191-513c-4a5f-a28e-a8ce813b98ba",
   "metadata": {},
   "source": [
    "## Determine Target Blockheight\n",
    "\n",
    "This algorithm takes in an OPTIONAL Unix `targetTime` and returns a Bitcoin\n",
    "`blockheight`."
   ]
  },
  {
   "cell_type": "code",
   "execution_count": 13,
   "id": "fee93f2f-7c98-440c-86e0-a1bde2bb3adc",
   "metadata": {},
   "outputs": [
    {
     "name": "stdout",
     "output_type": "stream",
     "text": [
      "find latest block with at least 6 confimations\n"
     ]
    }
   ],
   "source": [
    "required_confirmations = 6\n",
    "if targetTime:\n",
    "    raise \"NotImplemented\"\n",
    "else:\n",
    "    print(f\"find latest block with at least {required_confirmations} confimations\")\n",
    "\n"
   ]
  },
  {
   "cell_type": "code",
   "execution_count": 14,
   "id": "862936d9-0343-48aa-a887-e82f0615ad4c",
   "metadata": {},
   "outputs": [
    {
     "data": {
      "text/plain": [
       "0"
      ]
     },
     "execution_count": 14,
     "metadata": {},
     "output_type": "execute_result"
    }
   ],
   "source": [
    "from bitcoinrpc import BitcoinRPC\n",
    "rpc = BitcoinRPC.from_config(\"http://localhost:18443\", (\"polaruser\", \"polarpass\"))\n",
    "await rpc.getconnectioncount()"
   ]
  },
  {
   "cell_type": "code",
   "execution_count": 15,
   "id": "8fcf1a97-6909-4081-ba1c-997a87baea07",
   "metadata": {},
   "outputs": [],
   "source": [
    "best_blockhash = await rpc.acall(\"getbestblockhash\", {})\n",
    "bestblock = await rpc.acall(\"getblock\", {\"blockhash\": best_blockhash})"
   ]
  },
  {
   "cell_type": "code",
   "execution_count": 16,
   "id": "e3f187df-d267-4291-9e04-aa17401fac2b",
   "metadata": {},
   "outputs": [],
   "source": [
    "confirmations = bestblock[\"confirmations\"]\n",
    "bestblock_height = bestblock[\"height\"]"
   ]
  },
  {
   "cell_type": "code",
   "execution_count": 17,
   "id": "8414e6fa-cc14-424d-aa3c-d3a2711294c1",
   "metadata": {},
   "outputs": [
    {
     "data": {
      "text/plain": [
       "1"
      ]
     },
     "execution_count": 17,
     "metadata": {},
     "output_type": "execute_result"
    }
   ],
   "source": [
    "confirmations"
   ]
  },
  {
   "cell_type": "code",
   "execution_count": 18,
   "id": "d508e36c-dfe8-45a2-8bcd-6a9a0e351c47",
   "metadata": {},
   "outputs": [],
   "source": [
    "targetblockheight = bestblock_height + (confirmations - required_confirmations)"
   ]
  },
  {
   "cell_type": "code",
   "execution_count": 19,
   "id": "1da3f2ab-df94-4465-9af9-14e928f130dd",
   "metadata": {},
   "outputs": [
    {
     "data": {
      "text/plain": [
       "158"
      ]
     },
     "execution_count": 19,
     "metadata": {},
     "output_type": "execute_result"
    }
   ],
   "source": [
    "targetblockheight"
   ]
  },
  {
   "cell_type": "markdown",
   "id": "de88a87f-4340-452c-8e98-fcf86e257f88",
   "metadata": {},
   "source": [
    "### 4. Set `sidecarData` to `resolutionOptions.sidecarData`."
   ]
  },
  {
   "cell_type": "code",
   "execution_count": 20,
   "id": "59624a67-2cab-49cf-97bc-1d2fa19d94e6",
   "metadata": {},
   "outputs": [],
   "source": [
    "sidecarData = resolutionOptions[\"sidecarData\"]"
   ]
  },
  {
   "cell_type": "markdown",
   "id": "e07cd42f-b072-423b-bd94-614fdfc2f316",
   "metadata": {},
   "source": [
    "### 5. Set `currentVersionId` to 1.\n"
   ]
  },
  {
   "cell_type": "code",
   "execution_count": 21,
   "id": "65c1d6b2-1765-4a2c-87d2-f36b224c1fd9",
   "metadata": {},
   "outputs": [],
   "source": [
    "currentVersionId = 1"
   ]
  },
  {
   "cell_type": "markdown",
   "id": "750f2f7f-ce4a-476e-bdef-b671c6b37b91",
   "metadata": {},
   "source": [
    "### 6. If `currentVersionId` equals `targetVersionId` return `initialDocument`."
   ]
  },
  {
   "cell_type": "code",
   "execution_count": 22,
   "id": "d0697189-ee88-44da-b433-9ea1f040dc0f",
   "metadata": {},
   "outputs": [],
   "source": [
    "if currentVersionId == targetVersionId:\n",
    "    print(\"returning\", initial_document)"
   ]
  },
  {
   "cell_type": "markdown",
   "id": "99b6366c-8a6d-4007-8d71-5749e786864d",
   "metadata": {},
   "source": [
    "### 7. Set `updateHashHistory` to an empty array."
   ]
  },
  {
   "cell_type": "code",
   "execution_count": 23,
   "id": "315c5b0a-7cd8-49df-9e92-9f5dcb19c9b8",
   "metadata": {},
   "outputs": [],
   "source": [
    "updateHashHistory = []"
   ]
  },
  {
   "cell_type": "markdown",
   "id": "f5d55780-08b6-4796-9224-e85f125ca741",
   "metadata": {},
   "source": [
    "### 8. Set `contemporaryBlockheight` to 0.\n",
    "\n",
    "Not sure if this should be 0 or 1."
   ]
  },
  {
   "cell_type": "code",
   "execution_count": 24,
   "id": "b7bfab86-c243-4c8e-bbed-91a6237cdf61",
   "metadata": {},
   "outputs": [],
   "source": [
    "contemporaryBlockheight = 1"
   ]
  },
  {
   "cell_type": "markdown",
   "id": "cb400ffb-25ab-4284-814e-d767276ed264",
   "metadata": {},
   "source": [
    "### 9. Set contemporaryDIDDocument to initialDocument"
   ]
  },
  {
   "cell_type": "code",
   "execution_count": 74,
   "id": "4cd6cc89-7bca-4fd1-8d47-195c9e4fd785",
   "metadata": {},
   "outputs": [],
   "source": [
    "import copy\n",
    "contemporaryDidDocument = copy.deepcopy(initial_document)"
   ]
  },
  {
   "cell_type": "markdown",
   "id": "3c02e49a-b77e-4df8-bcb7-193ca1199451",
   "metadata": {},
   "source": [
    "### 10. Set `targetDocument` to the result of calling the [Traverse Blockchain History] algorithm passing in `contemporaryDIDDocument`, `contemporaryBlockheight`,  `currentVersionId`, `targetVersionId`, `targetBlockheight`, `updateHashHistory`, and `sidecarData`."
   ]
  },
  {
   "cell_type": "markdown",
   "id": "8e082308-052d-4576-bb7a-5d0403f01aea",
   "metadata": {},
   "source": [
    "# Traverse Blockchain History"
   ]
  },
  {
   "cell_type": "markdown",
   "id": "ebdd4759-a199-4501-88f8-1454015e6430",
   "metadata": {},
   "source": [
    "### 1. Set `contemporaryHash` to the result of passing `contemporaryDIDDocument` into the [JSON Canonicalization and Hash] algorithm."
   ]
  },
  {
   "cell_type": "code",
   "execution_count": 89,
   "id": "e2bf549b-0a34-438f-802c-713650265329",
   "metadata": {},
   "outputs": [
    {
     "name": "stdout",
     "output_type": "stream",
     "text": [
      "b'\\x9c\\xcb\\xba*\\x15\\xbe\\xda`\\xa2\\x08\\xa5\\xc2>\\xdd\\xd0\\x00\\xbd\\x12\\xc4\\xc2\\x12L\\xc5\\xbf\\x93\\xfd]\\xf4\"\\xfa\\x1f\\n'\n"
     ]
    }
   ],
   "source": [
    "import jcs\n",
    "from buidl.helper import sha256\n",
    "canonicalDocument = jcs.canonicalize(contemporaryDidDocument)\n",
    "\n",
    "contemporaryHash = sha256(canonicalDocument)\n",
    "\n",
    "print(contemporaryHash)"
   ]
  },
  {
   "cell_type": "markdown",
   "id": "50b55477-b6ec-4ab0-a7f3-9030e8cc5e4b",
   "metadata": {},
   "source": [
    "### 2. Find all `beacons` in `contemporaryDIDDocument`: All `service` in `contemporaryDIDDocument.services` where `service.type` equals one of `SingletonBeacon`, `CIDAggregateBeacon` and `SMTAggregateBeacon` Beacon."
   ]
  },
  {
   "cell_type": "code",
   "execution_count": 90,
   "id": "20ba6326-6383-41a5-9366-7483f33f4ca6",
   "metadata": {},
   "outputs": [
    {
     "name": "stdout",
     "output_type": "stream",
     "text": [
      "[{'id': '#initial_p2pkh', 'type': 'SingletonBeacon', 'serviceEndpoint': 'bitcoin:muRxiMKmqP5HeA4njajdmuL7tQfrKjcNgb'}, {'id': '#initial_p2wpkh', 'type': 'SingletonBeacon', 'serviceEndpoint': 'bitcoin:bcrt1qnzsq0ejh4jkuqdslqn7vxdu589pxe45gkyfmhx'}, {'id': '#initial_p2tr', 'type': 'SingletonBeacon', 'serviceEndpoint': 'bitcoin:bcrt1pez6hwgel8rn7hykyzkxl4xxtna6clsvev5pgwquqn3ulqkkz7v7skh4md6'}]\n"
     ]
    }
   ],
   "source": [
    "import copy\n",
    "beacons = []\n",
    "\n",
    "for service in contemporaryDidDocument[\"service\"]:\n",
    "    serviceType = service[\"type\"]\n",
    "    if serviceType == \"SingletonBeacon\" or serviceType == \"CIDAggregateBeacon\" or serviceType == \"SMTAggregateBeacon\":\n",
    "        beacons.append(copy.deepcopy(service))\n",
    "\n",
    "\n",
    "print(beacons)"
   ]
  },
  {
   "cell_type": "markdown",
   "id": "ffc1dc24-7251-4b4e-8201-bb70e91575c1",
   "metadata": {},
   "source": [
    "### 3. For each `beacon` in `beacons` convert the `beacon.serviceEndpoint` to a Bitcoin address following **[BIP21](https://github.com/bitcoin/bips/blob/master/bip-0021.mediawiki)**. Set `beacon.address` to the Bitcoin address."
   ]
  },
  {
   "cell_type": "code",
   "execution_count": 91,
   "id": "45426f1b-19bb-4907-a295-506318ac1c2a",
   "metadata": {},
   "outputs": [
    {
     "name": "stdout",
     "output_type": "stream",
     "text": [
      "[{'id': '#initial_p2pkh', 'type': 'SingletonBeacon', 'serviceEndpoint': 'bitcoin:muRxiMKmqP5HeA4njajdmuL7tQfrKjcNgb', 'address': 'muRxiMKmqP5HeA4njajdmuL7tQfrKjcNgb'}, {'id': '#initial_p2wpkh', 'type': 'SingletonBeacon', 'serviceEndpoint': 'bitcoin:bcrt1qnzsq0ejh4jkuqdslqn7vxdu589pxe45gkyfmhx', 'address': 'bcrt1qnzsq0ejh4jkuqdslqn7vxdu589pxe45gkyfmhx'}, {'id': '#initial_p2tr', 'type': 'SingletonBeacon', 'serviceEndpoint': 'bitcoin:bcrt1pez6hwgel8rn7hykyzkxl4xxtna6clsvev5pgwquqn3ulqkkz7v7skh4md6', 'address': 'bcrt1pez6hwgel8rn7hykyzkxl4xxtna6clsvev5pgwquqn3ulqkkz7v7skh4md6'}]\n"
     ]
    }
   ],
   "source": [
    "for beacon in beacons:\n",
    "    serviceEndpoint = beacon[\"serviceEndpoint\"]\n",
    "    beacon[\"address\"] = serviceEndpoint.replace(\"bitcoin:\", \"\")\n",
    "\n",
    "print(beacons)"
   ]
  },
  {
   "cell_type": "markdown",
   "id": "e1a890db-9d2b-4abc-a09a-5d5d80ffcd83",
   "metadata": {},
   "source": [
    "### 4. Set `nextSignals` to the result of calling algorithm Find Next Signals passing in `contemporaryBlockheight` and `beacons`.\n"
   ]
  },
  {
   "cell_type": "markdown",
   "id": "73a0e0c3-e1c2-4d78-a641-58d4d8f8ae50",
   "metadata": {},
   "source": [
    "# Find Next Signals\n",
    "\n",
    "This algorithm takes in a `contemporaryBlockheight` and a set of `beacons` and\n",
    "finds the next Bitcoin block containing Beacon Signals from one or more of the\n",
    "`beacons`."
   ]
  },
  {
   "cell_type": "code",
   "execution_count": 92,
   "id": "1c2196b4-4580-4bdb-aba4-50ca99cdb48b",
   "metadata": {},
   "outputs": [],
   "source": [
    "from buidl.tx import Tx, TxIn\n",
    "\n",
    "async def find_next_signals(contemporaryBlockheight, targetBlockheight, beacons):\n",
    "    # 1. Get Bitcoin block at contemporaryBlockheight\n",
    "    blockhash = await rpc.acall(\"getblockhash\", {\"height\": contemporaryBlockheight})\n",
    "    block = await rpc.acall(\"getblock\", {\"blockhash\": blockhash})\n",
    "    \n",
    "    # 2. Set `beaconSignals` to an empty array.\n",
    "    beaconSignals = {\n",
    "        \"signals\": [],\n",
    "        \"blockheight\": contemporaryBlockheight\n",
    "    }\n",
    "    \n",
    "    # 3.For each `txid` in `block.tx`: \n",
    "    # check to see if any transaction inputs are spends from one of the Beacon addresses.\n",
    "    # If they are, create a `signal` object containing the following fields and push\n",
    "    # `signal` to `beaconSignals`:\n",
    "    for txid in block[\"tx\"]:\n",
    "        # print(txid)\n",
    "        #  Skip coinbase and genesis coinbase 4a5...\n",
    "        if txid != \"4a5e1e4baab89f3a32518a88c31bc87f618f76673e2cc77ab2127b7afdeda33b\" or txid != \"0000000000000000000000000000000000000000000000000000000000000000\":\n",
    "            # 1. Fetch transaction for txid\n",
    "            tx_hex = await rpc.acall(\"getrawtransaction\", {\"txid\": txid})\n",
    "            tx = Tx.parse_hex(tx_hex)\n",
    "            \n",
    "            \n",
    "            # For each tx input in transaction\n",
    "            for tx_in in tx.tx_ins:    \n",
    "                prev_txid = tx_in.prev_tx.hex()\n",
    "                # If tx_in is NOT a coinbase transaction. Coinbase can never be a beacon signal\n",
    "                if prev_txid != \"0000000000000000000000000000000000000000000000000000000000000000\":\n",
    "                    # Fetch previous tx\n",
    "                    prev_tx_hex = await rpc.acall(\"getrawtransaction\", {\"txid\": prev_txid})\n",
    "                    prev_tx = Tx.parse_hex(prev_tx_hex)\n",
    "                    # Get spent output\n",
    "                    spent_tx_output = prev_tx.tx_outs[tx_in.prev_index]\n",
    "                    print(\"Bitcoin block at height : \", contemporaryBlockheight)\n",
    "                    print(spent_tx_output.script_pubkey.address(network=\"regtest\"))\n",
    "                    # Get address for the spent output \n",
    "                    spent_tx_output_address = spent_tx_output.script_pubkey.address(network=\"regtest\")\n",
    "                    from_beacon = None\n",
    "                    # Check if address is a beacon address\n",
    "                    for beacon in beacons:\n",
    "                        if beacon[\"address\"] == spent_tx_output_address:\n",
    "                            from_beacon = {\n",
    "                                \"beaconId\": beacon[\"id\"],\n",
    "                                \"beaconType\": beacon[\"type\"],\n",
    "                                \"tx\": tx\n",
    "                            }\n",
    "                            beaconSignals[\"signals\"].append(from_beacon)\n",
    "                            print(\"Found Beacon Signal\", tx)\n",
    "                            break\n",
    "                    # If found beacon, no need to check other inputs\n",
    "                    # Is that true?\n",
    "                    if from_beacon:\n",
    "                        break\n",
    "\n",
    "    if contemporaryBlockheight == targetBlockheight:\n",
    "        return beaconSignals\n",
    "\n",
    "    \n",
    "    if len(beaconSignals[\"signals\"]) == 0:\n",
    "        next_blockheight = contemporaryBlockheight + 1\n",
    "        beaconSignals = await find_next_signals(next_blockheight, targetBlockheight, beacons)\n",
    "\n",
    "    return beaconSignals\n",
    "                    \n"
   ]
  },
  {
   "cell_type": "code",
   "execution_count": 98,
   "id": "d1ed2eb5-fba9-41d5-96a3-74f501510d75",
   "metadata": {},
   "outputs": [],
   "source": [
    "\n",
    "nextSignals = await find_next_signals(contemporaryBlockheight, targetblockheight, beacons)"
   ]
  },
  {
   "cell_type": "markdown",
   "id": "8df25df2-ea69-44a9-bb6d-11b1761d6bb5",
   "metadata": {},
   "source": [
    "## 5. Set `contemporaryBlockheight` to `nextSignals.contemporaryBlockheight`.\n"
   ]
  },
  {
   "cell_type": "code",
   "execution_count": 99,
   "id": "0efa13e7-39c3-42e3-875a-04b46521dfbc",
   "metadata": {},
   "outputs": [],
   "source": [
    "contemporaryBlockheight = nextSignals[\"blockheight\"]"
   ]
  },
  {
   "cell_type": "markdown",
   "id": "1d0255cb-bb4d-4b98-8c06-5ff6997f7d32",
   "metadata": {},
   "source": [
    "### 5. Set `signals` to `nextSignals.signals`.\n"
   ]
  },
  {
   "cell_type": "code",
   "execution_count": 100,
   "id": "0b1af47f-c982-4c7f-b28a-3a584ae31abb",
   "metadata": {},
   "outputs": [],
   "source": [
    "signals = nextSignals[\"signals\"]"
   ]
  },
  {
   "cell_type": "markdown",
   "id": "25895b05-66f1-4c92-adad-6c32414e72fa",
   "metadata": {},
   "source": [
    "### 6. Set `updates` to the result of calling algorithm [Process Beacon Signals] passing in `signals` and `sidecarData`."
   ]
  },
  {
   "cell_type": "code",
   "execution_count": 101,
   "id": "08be47b4-58dd-4c1d-a451-6cf16bd85fc6",
   "metadata": {},
   "outputs": [
    {
     "data": {
      "text/plain": [
       "[]"
      ]
     },
     "execution_count": 101,
     "metadata": {},
     "output_type": "execute_result"
    }
   ],
   "source": [
    "signals"
   ]
  },
  {
   "cell_type": "markdown",
   "id": "332846ca-82af-4599-93d4-b6506024ce65",
   "metadata": {},
   "source": [
    "# Process Beacon Signals\n",
    "\n",
    "This algorithm takes in an array of struct `beaconSignals` and attempts\n",
    "to process these signals according the type of the Beacon they were produced by.\n",
    "Each `beaconSignal` struct contains the properties `beaconId`, `beaconType`, and\n",
    "a `tx`. Additionally, this algorithm takes in `sidecarData` passed into the\n",
    "resolver through the `resolutionOptions`. If `sidecarData` is present it is used\n",
    "to process the Beacon Signals."
   ]
  },
  {
   "cell_type": "code",
   "execution_count": 33,
   "id": "39e4178c-16fd-4ac2-bd28-a9a8d4416e8b",
   "metadata": {},
   "outputs": [
    {
     "name": "stdout",
     "output_type": "stream",
     "text": [
      "\n",
      "tx: f23ff93716c1190b384769cb45eea3efedc9b762b3a65b32547faba311ab5bfa\n",
      "version: 1\n",
      "locktime: 0\n",
      "tx_ins:\n",
      "954b04bbb82302efc822598cb551d44a1e803426c9045c1a028d207d64244832:1\n",
      "tx_outs:\n",
      "0:OP_RETURN 639e62897aad2e08a7f52d4e4eb1601eb3fcc5e6346d5c42c08f794322a649f4 \n",
      "19999650:OP_0 98a007e657acadc0361f04fcc3379439426cd688 \n",
      "\n",
      "{\n",
      "  \"did\": \"did:btc1:regtest:k1qvadgpl5qfuz6emq7c8sqw28z0r0gzvyra3je3pp2cuk83uqnnyvckvw8cf\",\n",
      "  \"signalsMetadata\": {\n",
      "    \"f23ff93716c1190b384769cb45eea3efedc9b762b3a65b32547faba311ab5bfa\": {\n",
      "      \"updatePayload\": {\n",
      "        \"@context\": [\n",
      "          \"https://w3id.org/security/v2\",\n",
      "          \"https://w3id.org/zcap/v1\",\n",
      "          \"https://w3id.org/json-ld-patch/v1\"\n",
      "        ],\n",
      "        \"patch\": [\n",
      "          {\n",
      "            \"op\": \"add\",\n",
      "            \"path\": \"/service/3\",\n",
      "            \"value\": {\n",
      "              \"id\": \"#linked-domain\",\n",
      "              \"type\": \"LinkedDomains\",\n",
      "              \"serviceEndpoint\": \"https://contact-me.com\"\n",
      "            }\n",
      "          }\n",
      "        ],\n",
      "        \"sourceHash\": \"9EUnJwoNB1DZF4yUmb8iFsBjXkUkSg9Hjq2P1NS96AX7\",\n",
      "        \"targetHash\": \"BZ4n8wiDWFRBV4Zu6aDV4WFsRPn3Jmu2Nb4xW9ebW8fj\",\n",
      "        \"targetVersionId\": 2,\n",
      "        \"proof\": {\n",
      "          \"type\": \"DataIntegrityProof\",\n",
      "          \"cryptosuite\": \"schnorr-secp256k1-jcs-2025\",\n",
      "          \"verificationMethod\": \"did:btc1:regtest:k1qvadgpl5qfuz6emq7c8sqw28z0r0gzvyra3je3pp2cuk83uqnnyvckvw8cf#initialKey\",\n",
      "          \"proofPurpose\": \"capabilityInvocation\",\n",
      "          \"capability\": \"urn:zcap:root:did%3Abtc1%3Aregtest%3Ak1qvadgpl5qfuz6emq7c8sqw28z0r0gzvyra3je3pp2cuk83uqnnyvckvw8cf\",\n",
      "          \"capabilityAction\": \"Write\",\n",
      "          \"@context\": [\n",
      "            \"https://w3id.org/security/v2\",\n",
      "            \"https://w3id.org/zcap/v1\",\n",
      "            \"https://w3id.org/json-ld-patch/v1\"\n",
      "          ],\n",
      "          \"proofValue\": \"z5xYgTCPgBW7ZAYywGkhznBXKKtjMX4cudM3Zc29GdHWe1QvV4hLmzuL2vYcb3gzc5ZyAm1KezfbYXHU6TuDaChCm\"\n",
      "        }\n",
      "      }\n",
      "    }\n",
      "  }\n",
      "}\n"
     ]
    }
   ],
   "source": [
    "print(signals[0][\"tx\"])\n",
    "print(json.dumps(sidecarData, indent=2))"
   ]
  },
  {
   "cell_type": "code",
   "execution_count": 35,
   "id": "c445693a-7bd5-4ef8-962d-8eadf88c6216",
   "metadata": {},
   "outputs": [],
   "source": [
    "def process_beacon_signals(beaconSignals, sidecarData):\n",
    "    # 1. Set `updates` to an empty array.\n",
    "    updates = []\n",
    "    # 2. For `beaconSignal` in `beaconSignals`:\n",
    "    for beaconSignal in beaconSignals:\n",
    "        beaconType = beaconSignal[\"beaconType\"]\n",
    "        signalTx = beaconSignal[\"tx\"]\n",
    "        signalId = signalTx.id()\n",
    "        signalSidecarData = sidecarData[\"signalsMetadata\"].get(signalId)\n",
    "        didUpdatePayload = None\n",
    "        if beaconType == \"SingletonBeacon\":\n",
    "            didUpdatePayload = process_singleton_beacon_signal(signalTx, signalSidecarData)\n",
    "        # Handle other cases\n",
    "        else:\n",
    "            raise \"NotImplemented\"\n",
    "\n",
    "        if didUpdatePayload:\n",
    "            updates.append(didUpdatePayload)\n",
    "    return updates"
   ]
  },
  {
   "cell_type": "markdown",
   "id": "65f8f3aa-eac2-48fd-9213-afa345073e81",
   "metadata": {},
   "source": [
    "# Process Singleton Beacon Signal\n",
    "\n",
    "This algorithm is called by the [Process Beacon Signals] algorithm as part of the\n",
    "[Read] operation. It takes as inputs a Bitcoin transaction, `tx`, representing a ::Beacon Signal::\n",
    "and a optional object, `signalSidecarData`, containing any sidecar data provided to the \n",
    "resolver for the ::Beacon Signal:: identified by the Bitcoin transaction identifier.\n",
    "\n",
    "The algorithm returns the ::DID Update payload:: announced by the ::Beacon Signal:: or throws\n",
    "an error.\n",
    "\n",
    "1. Initialize a `txOut` variable to the 0th transaction output of the `tx`.\n",
    "1. Set `didUpdatePayload` to null.\n",
    "1. Check `txOut` is of the format `[OP_RETURN, OP_PUSH32, <32bytes>]`, if not,\n",
    "   then return `didUpdatePayload`. The Bitcoin transaction is not a ::Beacon Signal::.\n",
    "1. Set `hashBytes` to the 32 bytes in the `txOut`.\n",
    "1. If `signalSidecarData`:\n",
    "   1. Set `didUpdatePayload` to `signalSidecarData.updatePayload`\n",
    "   1. Set `updateHashBytes` to the result of passing `didUpdatePayload` to the \n",
    "      [JSON Canonicalization and Hash] algorithm.\n",
    "   1. If `updateHashBytes` does not equal `hashBytes`, MUST throw an `invalidSidecarData` error.\n",
    "   1. Return `didUpdatePayload`\n",
    "1. Else:\n",
    "   1. Set `didUpdatePayload` to the result of passing `hashBytes` into the \n",
    "      [Fetch Content from Addressable Storage] algorithm.\n",
    "   1. If `didUpdatePayload` is null, MUST raise a `latePublishingError`. May identify Beacon Signal\n",
    "      to resolver and request additional ::Sidecar data:: be provided.\n",
    "1. Return `didUpdatePayload`."
   ]
  },
  {
   "cell_type": "code",
   "execution_count": 39,
   "id": "ba96fed6-7a7c-4f03-9a40-f33cc3a427d4",
   "metadata": {},
   "outputs": [],
   "source": [
    "from ipfs_cid import cid_sha256_wrap_digest\n",
    "\n",
    "\n",
    "def process_singleton_beacon_signal(tx, signalSidecarData):\n",
    "    \n",
    "    txOut = tx.tx_outs[0]\n",
    "    didUpdatePayload = None\n",
    "    # Note: No OP_PUSH32. It is implied by the length of the bytes.\n",
    "    if (txOut.script_pubkey.commands[0] != 106 and len(txOut.script_pubkey.commands[1]) != 32):\n",
    "        print(\"Not a beacon signal\")\n",
    "        return didUpdatePayload\n",
    "    hashBytes = txOut.script_pubkey.commands[1]\n",
    "    if signalSidecarData:\n",
    "        didUpdatePayload = signalSidecarData[\"updatePayload\"]\n",
    "        updateHashBytes = sha256(jcs.canonicalize(didUpdatePayload))\n",
    "        \n",
    "\n",
    "        if updateHashBytes != hashBytes:\n",
    "            raise Exception(\"Invalid Sidecar Data\")\n",
    "        print(\"DID Update verified\", json.dumps(didUpdatePayload, indent=2))\n",
    "        return didUpdatePayload\n",
    "    else:\n",
    "        payload_cid = cid_sha256_wrap_digest(hashBytes)\n",
    "        print(\"TODO: Fetch CID from CAS\", payload_cid)\n",
    "        \n",
    "        "
   ]
  },
  {
   "cell_type": "code",
   "execution_count": null,
   "id": "40dc4439-dc73-4a18-b75c-e2b625c3f684",
   "metadata": {},
   "outputs": [],
   "source": []
  },
  {
   "cell_type": "code",
   "execution_count": 102,
   "id": "e8974e8b-703d-4324-ae32-c1070079900d",
   "metadata": {},
   "outputs": [],
   "source": [
    "updates = process_beacon_signals(signals, sidecarData)"
   ]
  },
  {
   "cell_type": "code",
   "execution_count": 106,
   "id": "0eef2d88-9e06-490b-a509-e3a8888bea73",
   "metadata": {},
   "outputs": [
    {
     "data": {
      "text/plain": [
       "[]"
      ]
     },
     "execution_count": 106,
     "metadata": {},
     "output_type": "execute_result"
    }
   ],
   "source": [
    "updates"
   ]
  },
  {
   "cell_type": "markdown",
   "id": "4a0c63c1-fa77-4d30-ad08-143ecac5c50e",
   "metadata": {},
   "source": [
    "### 7. Set `orderedUpdates` to the list of `updates` ordered by the `targetVersionId` property."
   ]
  },
  {
   "cell_type": "code",
   "execution_count": 42,
   "id": "8026a6be-6ae9-43a7-85d4-3a3f09a8134a",
   "metadata": {},
   "outputs": [],
   "source": [
    "updates.sort(key=lambda update: update[\"targetVersionId\"])"
   ]
  },
  {
   "cell_type": "markdown",
   "id": "38d9deba-56f4-4fa0-a7a5-440a2299373e",
   "metadata": {},
   "source": [
    "### 8. For `update` in `orderedUpdates`:\n",
    "1. If `update.targetVersionId` is less than or equal to `currentVersionId`,\n",
    "   run Algorithm [Confirm Duplicate Update] passing in `update`,\n",
    "   `documentHistory`, and `contemporaryHash`.\n",
    "1. If `update.targetVersionId` equals `currentVersionId + 1`:\n",
    "    1.  Check that `update.sourceHash` equals `contemporaryHash`, else MUST\n",
    "        raise LatePublishing error.\n",
    "    1.  Set `contemporaryDIDDocument` to the result of calling [Apply DID Update]\n",
    "        algorithm passing in `contemporaryDIDDocument`, `update`.\n",
    "    1.  Increment `currentVersionId`\n",
    "    1.  If `currentVersionId` equals `targetVersionId` return\n",
    "        `contemporaryDIDDocument`.\n",
    "    1.  Set `updateHash` to the sha256 hash of the `update`.\n",
    "    1.  Push `updateHash` onto `updateHashHistory`.\n",
    "    1.  Set `contemporaryHash` to the SHA256 hash of the\n",
    "        `contemporaryDIDDocument`.\n",
    "1.  If `update.targetVersionId` is greater than `currentVersionId + 1`, MUST\n",
    "    throw a LatePublishing error."
   ]
  },
  {
   "cell_type": "code",
   "execution_count": 86,
   "id": "236c7dc1-c451-4265-adfb-2caea46ee2ec",
   "metadata": {},
   "outputs": [
    {
     "name": "stdout",
     "output_type": "stream",
     "text": [
      "{'@context': ['https://w3id.org/security/v2', 'https://w3id.org/zcap/v1', 'https://w3id.org/json-ld-patch/v1'], 'patch': [{'op': 'add', 'path': '/service/3', 'value': {'id': '#linked-domain', 'type': 'LinkedDomains', 'serviceEndpoint': 'https://contact-me.com'}}], 'sourceHash': '9EUnJwoNB1DZF4yUmb8iFsBjXkUkSg9Hjq2P1NS96AX7', 'targetHash': 'BZ4n8wiDWFRBV4Zu6aDV4WFsRPn3Jmu2Nb4xW9ebW8fj', 'targetVersionId': 2, 'proof': {'type': 'DataIntegrityProof', 'cryptosuite': 'schnorr-secp256k1-jcs-2025', 'verificationMethod': 'did:btc1:regtest:k1qvadgpl5qfuz6emq7c8sqw28z0r0gzvyra3je3pp2cuk83uqnnyvckvw8cf#initialKey', 'proofPurpose': 'capabilityInvocation', 'capability': 'urn:zcap:root:did%3Abtc1%3Aregtest%3Ak1qvadgpl5qfuz6emq7c8sqw28z0r0gzvyra3je3pp2cuk83uqnnyvckvw8cf', 'capabilityAction': 'Write', '@context': ['https://w3id.org/security/v2', 'https://w3id.org/zcap/v1', 'https://w3id.org/json-ld-patch/v1'], 'proofValue': 'z5xYgTCPgBW7ZAYywGkhznBXKKtjMX4cudM3Zc29GdHWe1QvV4hLmzuL2vYcb3gzc5ZyAm1KezfbYXHU6TuDaChCm'}}\n"
     ]
    }
   ],
   "source": [
    "import base58\n",
    "[u2,u4]\n",
    "for update in updates:\n",
    "    print(update)\n",
    "    targetVersionId = update[\"targetVersionId\"]\n",
    "    if targetVersionId <= currentVersionId:\n",
    "        confirm_duplicate_update(update, updateHashHistory)\n",
    "    if targetVersionId == currentVersionId + 1:\n",
    "        if base58.b58decode(update[\"sourceHash\"]) != contemporaryHash:\n",
    "            raise Exception(\"Late Publishing\")\n",
    "        contemporaryDidDocument = apply_did_update(contemporaryDidDocument, update)\n",
    "        currentVersionId +=1\n",
    "        if currentVersionId == targetVersionId:\n",
    "            print(\"Found document for target version\", contemporaryDidDocument)\n",
    "        updateHash = sha256(jcs.canonicalize(update))\n",
    "        updateHashHistory.append(updateHash)\n",
    "        contemporaryHash = sha256(jcs.canonicalize(contemporaryDidDocument))\n",
    "    if targetVersionId > currentVersionId + 1:\n",
    "        raise Exception(\"Late publishing\")\n",
    "        "
   ]
  },
  {
   "cell_type": "code",
   "execution_count": 88,
   "id": "687da436-d39e-40df-afed-c5e6ab751f31",
   "metadata": {},
   "outputs": [],
   "source": []
  },
  {
   "cell_type": "markdown",
   "id": "95642444-49b8-475f-b696-8d0a1fd53bf3",
   "metadata": {},
   "source": [
    "# Confirm Duplicate Update\n",
    "\n",
    "This algorithm takes in a DID Update Payload and verifies that the update is a\n",
    "duplicate against the hash history of previously applied updates.\n",
    "The algorithm takes in an `update` and an array of hashes, `updateHashHistory`.\n",
    "It throws an error if the `update` is not a duplicate, otherwise it returns.\n",
    "TODO: does this algorithm need  `contemporaryHash` passed in?"
   ]
  },
  {
   "cell_type": "code",
   "execution_count": 79,
   "id": "77cc0858-f101-4514-ada2-715acbe3cd01",
   "metadata": {},
   "outputs": [],
   "source": [
    "def confirm_duplicate_update(update, updateHashHistory):\n",
    "\n",
    "    updateHash = sha256(jcs.canonicalize(update))\n",
    "    # Note: version starts at 1, index starts at 0\n",
    "    updateHashIndex = update[\"targetVersionId\"] - 2\n",
    "    historicalUpdateHash = updateHashHistory[updateHashIndex]\n",
    "    if (historicalUpdateHash != updateHash):\n",
    "        raise Exception(\"Late Publishing Error\")\n",
    "    return    "
   ]
  },
  {
   "cell_type": "code",
   "execution_count": null,
   "id": "e2218983-577a-42d0-be1e-a4f142bd8610",
   "metadata": {},
   "outputs": [],
   "source": []
  },
  {
   "cell_type": "markdown",
   "id": "521b1759-31b2-4d33-a202-8fd75f6a94d3",
   "metadata": {},
   "source": [
    "# Apply DID Update\n",
    "\n",
    "This algorithm attempts to apply a DID Update to a DID document, it first\n",
    "verifies the proof on the update is a valid capabilityInvocation of the root\n",
    "authority over the DID being resolved. Then it applies the JSON patch\n",
    "transformation to the DID document, checks the transformed DID document\n",
    "matches the targetHash specified by the update and validates it is a conformant\n",
    "DID document before returning it. This algorithm takes inputs\n",
    "`contemporaryDIDDocument` and an `update`.\n",
    "\n",
    "1. Instantiate a `schnorr-secp256k1-2025` `cryptosuite` instance.\n",
    "1. Set `expectedProofPurpose` to `capabilityInvocation`.\n",
    "1. Set `mediaType` to ???? TODO\n",
    "1. Set `documentBytes` to the bytes representation of `update`.\n",
    "1. Set `verificationResult` to the result of passing `mediaType`, `documentBytes`,\n",
    "   `cryptosuite`, and `expectedProofPurpose` into the\n",
    "   [Verify Proof algorithm](https://w3c.github.io/vc-data-integrity/#verify-proof)\n",
    "   defined in the VC Data Integrity specification.\n",
    "1. TODO: HOW DO WE ENSURE THAT THE PROOF IS A VALID INVOCATION OF THE ROOT\n",
    "   CAPABILITY derived using [Derive Root Capability from **did:btc1** Identifier]\n",
    "   algorithm\n",
    "1. Set `targetDIDDocument` to a copy of `contemporaryDIDDocument`.\n",
    "1. Use JSON Patch to apply the `update.patch` to the `targetDIDDOcument`.\n",
    "1. Verify that `targetDIDDocument` is conformant with the data model specified\n",
    "   by the DID Core specification.\n",
    "1. Set `targetHash` to the SHA256 hash of `targetDIDDocument`.\n",
    "1. Check that `targetHash` equals `update.targetHash`, else raise InvalidDIDUpdate\n",
    "   error.\n",
    "1. Return `targetDIDDocument`."
   ]
  },
  {
   "cell_type": "code",
   "execution_count": 55,
   "id": "f08abeea-5efc-4f1f-8b15-3bbf35c04f70",
   "metadata": {},
   "outputs": [],
   "source": [
    "from di_schnorr_secp256k1.multikey import SchnorrSecp256k1Multikey\n",
    "from di_schnorr_secp256k1.data_integrity_proof import DataIntegrityProof\n",
    "from di_schnorr_secp256k1.cryptosuite import SchnorrSecp256k1JcsCryptoSuite\n",
    "from libbtc1.verificationMethod import get_key_for_verification_method\n",
    "import urllib\n",
    "import jsonpatch\n",
    "\n",
    "def dereference_root_capability(capability_id):\n",
    "    \n",
    "    components = capability_id.split(\":\")\n",
    "    assert(len(components) == 4)\n",
    "    assert(components[0] == \"urn\")\n",
    "    assert(components[1] == \"zcap\")\n",
    "    assert(components[2] == \"root\")\n",
    "    uri_encoded_id = components[3]\n",
    "    btc1Identifier = urllib.parse.unquote(uri_encoded_id)\n",
    "    root_capability = {\n",
    "        \"@context\": \"https://w3id.org/zcap/v1\",\n",
    "        \"id\": capability_id,\n",
    "        \"controller\": btc1Identifier,\n",
    "        \"invocationTarget\": btc1Identifier\n",
    "    }\n",
    "    return root_capability\n",
    "\n",
    "\n",
    "def apply_did_update(contemporaryDIDDocument, update):\n",
    "    # Retrieve the verification method used to secure the proof from the contemporary DID document\n",
    "    capability_id = update[\"proof\"][\"capability\"]\n",
    "\n",
    "    root_capability = dereference_root_capability(capability_id)\n",
    "    \n",
    "    proof_vm_id = update[\"proof\"][\"verificationMethod\"]\n",
    "    btc1_identifier = contemporaryDIDDocument[\"id\"]\n",
    "    verification_method = None\n",
    "    for vm in contemporaryDIDDocument[\"verificationMethod\"]:\n",
    "        vm_id = vm[\"id\"]\n",
    "        if vm_id[0] == \"#\":\n",
    "            vm_id = f\"{btc1_identifier}{vm_id}\"\n",
    "        if vm_id == proof_vm_id:\n",
    "            print(\"Verification Method found\", vm)\n",
    "            verification_method = vm\n",
    "    if verification_method == None:\n",
    "        raise Exception(\"Invalid Proof on Update Payload\")\n",
    "    multikey = SchnorrSecp256k1Multikey.from_verification_method(verification_method)\n",
    "\n",
    "    # Instantiate a schnorr-secp256k1-2025 cryptosuite instance.\n",
    "    cryptosuite = SchnorrSecp256k1JcsCryptoSuite(multikey)\n",
    "    di_proof = DataIntegrityProof(cryptosuite=cryptosuite)\n",
    "\n",
    "    mediaType = \"application/json\"\n",
    "\n",
    "    expected_proof_purpose = \"capabilityInvocation\"\n",
    "\n",
    "    update_bytes = json.dumps(update)\n",
    "\n",
    "    verificationResult = di_proof.verify_proof(mediaType, update_bytes, expected_proof_purpose, None, None)\n",
    "\n",
    "    if not verificationResult[\"verified\"]:\n",
    "        raise Exception(\"invalidUpdateProof\")\n",
    "\n",
    "    target_did_document = copy.deepcopy(contemporaryDIDDocument)\n",
    "\n",
    "    \n",
    "    update_patch = update[\"patch\"]\n",
    "\n",
    "\n",
    "    patch = jsonpatch.JsonPatch(update_patch)\n",
    "    \n",
    "    target_did_document = patch.apply(target_did_document)\n",
    "\n",
    "    target_hash = sha256(jcs.canonicalize(target_did_document))\n",
    "\n",
    "    update_target_hash = base58.b58decode(update[\"targetHash\"])\n",
    "    assert(target_hash == update_target_hash)\n",
    "\n",
    "    return target_did_document\n",
    "\n",
    "    "
   ]
  },
  {
   "cell_type": "code",
   "execution_count": 38,
   "id": "2e6db6d4-b1bd-44af-9977-017f400231bf",
   "metadata": {},
   "outputs": [],
   "source": [
    "update_to_apply = updates[0]"
   ]
  },
  {
   "cell_type": "markdown",
   "id": "beae33de-5e73-4d53-b036-cda602d2cc4c",
   "metadata": {},
   "source": [
    "## 10. If `contemporaryBlockheight` equals `targetBlockheight`, return `contemporaryDIDDocument`\n"
   ]
  },
  {
   "cell_type": "code",
   "execution_count": 104,
   "id": "27b7086d-45a2-4f16-a801-e0977657b4be",
   "metadata": {},
   "outputs": [
    {
     "name": "stdout",
     "output_type": "stream",
     "text": [
      "Resolution Complete\n",
      "{\n",
      "  \"id\": \"did:btc1:regtest:k1qvadgpl5qfuz6emq7c8sqw28z0r0gzvyra3je3pp2cuk83uqnnyvckvw8cf\",\n",
      "  \"@context\": [\n",
      "    \"https://www.w3.org/ns/did/v1\",\n",
      "    \"https://did-btc1/TBD/context\"\n",
      "  ],\n",
      "  \"verificationMethod\": [\n",
      "    {\n",
      "      \"id\": \"#initialKey\",\n",
      "      \"type\": \"Multikey\",\n",
      "      \"controller\": \"did:btc1:regtest:k1qvadgpl5qfuz6emq7c8sqw28z0r0gzvyra3je3pp2cuk83uqnnyvckvw8cf\",\n",
      "      \"publicKeyMultibase\": \"z66Ppr1hk7fkH6Corq9M62V4uT31tv4j4AZwCxrCUKC5Vofy\"\n",
      "    }\n",
      "  ],\n",
      "  \"authentication\": [\n",
      "    \"#initialKey\"\n",
      "  ],\n",
      "  \"assertionMethod\": [\n",
      "    \"#initialKey\"\n",
      "  ],\n",
      "  \"capabilityInvocation\": [\n",
      "    \"#initialKey\"\n",
      "  ],\n",
      "  \"capabilityDelegation\": [\n",
      "    \"#initialKey\"\n",
      "  ],\n",
      "  \"service\": [\n",
      "    {\n",
      "      \"id\": \"#initial_p2pkh\",\n",
      "      \"type\": \"SingletonBeacon\",\n",
      "      \"serviceEndpoint\": \"bitcoin:muRxiMKmqP5HeA4njajdmuL7tQfrKjcNgb\"\n",
      "    },\n",
      "    {\n",
      "      \"id\": \"#initial_p2wpkh\",\n",
      "      \"type\": \"SingletonBeacon\",\n",
      "      \"serviceEndpoint\": \"bitcoin:bcrt1qnzsq0ejh4jkuqdslqn7vxdu589pxe45gkyfmhx\"\n",
      "    },\n",
      "    {\n",
      "      \"id\": \"#initial_p2tr\",\n",
      "      \"type\": \"SingletonBeacon\",\n",
      "      \"serviceEndpoint\": \"bitcoin:bcrt1pez6hwgel8rn7hykyzkxl4xxtna6clsvev5pgwquqn3ulqkkz7v7skh4md6\"\n",
      "    },\n",
      "    {\n",
      "      \"id\": \"#linked-domain\",\n",
      "      \"type\": \"LinkedDomains\",\n",
      "      \"serviceEndpoint\": \"https://contact-me.com\"\n",
      "    }\n",
      "  ]\n",
      "}\n"
     ]
    }
   ],
   "source": [
    "if contemporaryBlockheight == targetblockheight:\n",
    "    print(\"Resolution Complete\")\n",
    "    print(json.dumps(contemporaryDidDocument, indent=2))"
   ]
  },
  {
   "cell_type": "markdown",
   "id": "750769f5-64bd-4e4a-94a2-c1535734b3ad",
   "metadata": {},
   "source": [
    "## 11. Increment contemporaryBlockheight"
   ]
  },
  {
   "cell_type": "code",
   "execution_count": 105,
   "id": "ff64db56-4396-4aaf-aa79-754b386d7b20",
   "metadata": {},
   "outputs": [],
   "source": [
    "contemporaryBlockheight+= 1"
   ]
  },
  {
   "cell_type": "markdown",
   "id": "9d1877e9-51d5-4a2b-9445-5c51ba291b19",
   "metadata": {},
   "source": [
    "## 12. Set `targetDocument` to the result of calling the [Traverse Blockchain History] algorithm passing in `contemporaryDIDDocument`, `contemporaryBlockheight`, `currentVersionId`, `targetVersionId`, `targetBlockheight`, `documentHistory`, and `sidecarData`.\n",
    "\n",
    "This recursively calls itself"
   ]
  },
  {
   "cell_type": "code",
   "execution_count": null,
   "id": "9b60ef47-e11c-48ff-9bf9-4b98a86efe14",
   "metadata": {},
   "outputs": [],
   "source": []
  }
 ],
 "metadata": {
  "kernelspec": {
   "display_name": "Python 3 (ipykernel)",
   "language": "python",
   "name": "python3"
  },
  "language_info": {
   "codemirror_mode": {
    "name": "ipython",
    "version": 3
   },
   "file_extension": ".py",
   "mimetype": "text/x-python",
   "name": "python",
   "nbconvert_exporter": "python",
   "pygments_lexer": "ipython3",
   "version": "3.12.3"
  }
 },
 "nbformat": 4,
 "nbformat_minor": 5
}
