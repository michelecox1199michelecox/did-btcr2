{
 "cells": [
  {
   "cell_type": "markdown",
   "id": "ed9e6bb3-7b87-41b8-961c-8a5c6d6e8062",
   "metadata": {},
   "source": [
    "# Resolve did:btc1 from local Bitcoin node in regtest"
   ]
  },
  {
   "cell_type": "code",
   "execution_count": 1,
   "id": "b3105fcf-38cf-4ed0-8220-6058ded98991",
   "metadata": {},
   "outputs": [],
   "source": [
    "import sys\n",
    "import os\n",
    "\n",
    "notebooks_path = os.path.abspath(os.path.join(os.getcwd(), '..'))\n",
    "\n",
    "# Add the Notebooks directory to the sys.path\n",
    "sys.path.append(notebooks_path)"
   ]
  },
  {
   "cell_type": "code",
   "execution_count": 2,
   "id": "8270e724-04b2-49a1-84b6-1582972d1080",
   "metadata": {},
   "outputs": [],
   "source": [
    "did_to_resolve = \"did:btc1:regtest:k1q00gn89qec0t6j0rpavgfgrphh7tmu9p0yz5zpnwwref5n85a28kvnu9laf\"\n",
    "\n",
    "\n",
    "sidecar_data = {\n",
    "  \"did\": \"did:btc1:regtest:k1q00gn89qec0t6j0rpavgfgrphh7tmu9p0yz5zpnwwref5n85a28kvnu9laf\",\n",
    "  \"signalsMetadata\": {\n",
    "    \"f6ca3433fe6b015fabaf41412aa6857b7466969078a464fcd0a9605c0d38996b\": {\n",
    "      \"updatePayload\": {\n",
    "        \"@context\": [\n",
    "          \"https://w3id.org/security/v2\",\n",
    "          \"https://w3id.org/zcap/v1\",\n",
    "          \"https://w3id.org/json-ld-patch/v1\"\n",
    "        ],\n",
    "        \"patch\": [\n",
    "          {\n",
    "            \"op\": \"add\",\n",
    "            \"path\": \"/service/3\",\n",
    "            \"value\": {\n",
    "              \"id\": \"#linked-domain\",\n",
    "              \"type\": \"LinkedDomains\",\n",
    "              \"serviceEndpoint\": \"https://contact-me.com\"\n",
    "            }\n",
    "          }\n",
    "        ],\n",
    "        \"sourceHash\": \"5XcoqeTqmXAYu89hKCNcoWE2R5wQjqze8QrG9HtMmAdC\",\n",
    "        \"targetHash\": \"J9igy4rwejytESdSvqEvFpa8ZvaT8tVwBodyjDrr1KiQ\",\n",
    "        \"targetVersionId\": 2,\n",
    "        \"proof\": {\n",
    "          \"type\": \"DataIntegrityProof\",\n",
    "          \"cryptosuite\": \"schnorr-secp256k1-jcs-2025\",\n",
    "          \"verificationMethod\": \"did:btc1:regtest:k1q00gn89qec0t6j0rpavgfgrphh7tmu9p0yz5zpnwwref5n85a28kvnu9laf#initialKey\",\n",
    "          \"proofPurpose\": \"capabilityInvocation\",\n",
    "          \"@context\": [\n",
    "            \"https://w3id.org/security/v2\",\n",
    "            \"https://w3id.org/zcap/v1\",\n",
    "            \"https://w3id.org/json-ld-patch/v1\"\n",
    "          ],\n",
    "          \"proofValue\": \"z5pz3vvVjHp1Eaip4AwTeurhKPpozkQxD9xpShcZ8DQ8Ez28VyZyaiUQjtb5W7ugmsJ8BzeomYNpJQfXA4j7hMfaX\"\n",
    "        }\n",
    "      }\n",
    "    }\n",
    "  }\n",
    "}"
   ]
  },
  {
   "cell_type": "code",
   "execution_count": 3,
   "id": "749be095-d2a1-432b-9c54-5e09a9b338e7",
   "metadata": {},
   "outputs": [],
   "source": [
    "\n",
    "resolutionOptions = {\"sidecarData\": sidecar_data}"
   ]
  },
  {
   "cell_type": "markdown",
   "id": "64c3e5e7-6be7-419b-91f7-50cff9714e01",
   "metadata": {},
   "source": [
    "## Parse did:btc1 identifier"
   ]
  },
  {
   "cell_type": "code",
   "execution_count": 4,
   "id": "b16876e3-3e8c-40ab-9f0e-5109d5974fef",
   "metadata": {},
   "outputs": [
    {
     "data": {
      "text/plain": [
       "(None,\n",
       " 'regtest',\n",
       " 'k1q00gn89qec0t6j0rpavgfgrphh7tmu9p0yz5zpnwwref5n85a28kvnu9laf',\n",
       " 'k1')"
      ]
     },
     "execution_count": 4,
     "metadata": {},
     "output_type": "execute_result"
    }
   ],
   "source": [
    "import re\n",
    "match = re.search(r\"^did:btc1:(?:(\\d+):)?(?:(mainnet|signet|testnet|regtest):)?((k1|x1)[023456789acdefghjklmnpqrstuvwxyz]*)$\", did_to_resolve)\n",
    "groups = match.groups()\n",
    "groups"
   ]
  },
  {
   "cell_type": "code",
   "execution_count": 5,
   "id": "362b3b1c-a969-4d7d-ac5f-26a7b5115e9e",
   "metadata": {},
   "outputs": [],
   "source": [
    "identifierComponents = {}\n",
    "\n",
    "identifierComponents[\"version\"] = groups[0] or 1\n",
    "identifierComponents[\"network\"] = groups[1] or \"mainnet\"\n",
    "\n",
    "\n"
   ]
  },
  {
   "cell_type": "code",
   "execution_count": 6,
   "id": "0060407d-0d59-4c63-8025-6ec1d0b23f0f",
   "metadata": {},
   "outputs": [],
   "source": [
    "from libbtc1.bech32 import decode_bech32_identifier\n",
    "\n",
    "bech32_encoding = groups[2]\n",
    "hrp, genesisBytes = decode_bech32_identifier(bech32_encoding)"
   ]
  },
  {
   "cell_type": "code",
   "execution_count": 7,
   "id": "3970600a-9935-42ac-a5cb-1d2c885a3abf",
   "metadata": {},
   "outputs": [],
   "source": [
    "identifierComponents[\"hrp\"] = hrp\n",
    "identifierComponents[\"genesisBytes\"] = genesisBytes"
   ]
  },
  {
   "cell_type": "code",
   "execution_count": 8,
   "id": "ab1f3f2e-1532-4535-bcb1-da16138b4926",
   "metadata": {},
   "outputs": [
    {
     "data": {
      "text/plain": [
       "{'version': 1,\n",
       " 'network': 'regtest',\n",
       " 'hrp': 'k',\n",
       " 'genesisBytes': b'\\x03\\xde\\x89\\x9c\\xa0\\xce\\x1e\\xbdI\\xe3\\x0fX\\x84\\xa0a\\xbd\\xfc\\xbd\\xf0\\xa1y\\x05A\\x06np\\xf2\\x9aL\\xf4\\xea\\x8ff'}"
      ]
     },
     "execution_count": 8,
     "metadata": {},
     "output_type": "execute_result"
    }
   ],
   "source": [
    "identifierComponents"
   ]
  },
  {
   "cell_type": "code",
   "execution_count": null,
   "id": "4acb7379-9a77-49ec-a3c2-1c160e5ef0af",
   "metadata": {},
   "outputs": [],
   "source": []
  },
  {
   "cell_type": "markdown",
   "id": "6a5e9abe-7e7a-4ad8-a1ae-1a8d7c56d4cc",
   "metadata": {},
   "source": [
    "## Resolve Initial Document\n",
    "\n",
    "This algorithm specifies how to resolve an initial DID document and validate\n",
    "it against the `identifier` for a specific **did:btc1**. The algorithm takes as\n",
    "inputs a **did:btc1** `identifier`, `identifierComponents` object and a\n",
    "`resolutionsOptions` object. This algorithm returns a valid `initialDocument`\n",
    "for that identifier."
   ]
  },
  {
   "cell_type": "code",
   "execution_count": 9,
   "id": "62f7e547-cba7-4ce2-a87a-a51cfa2eb071",
   "metadata": {},
   "outputs": [
    {
     "name": "stdout",
     "output_type": "stream",
     "text": [
      "k\n",
      "Deterministically Generate Initial DID Document\n"
     ]
    }
   ],
   "source": [
    "print(identifierComponents[\"hrp\"])\n",
    "if identifierComponents[\"hrp\"] == \"k\":\n",
    "    print(\"Deterministically Generate Initial DID Document\")"
   ]
  },
  {
   "cell_type": "code",
   "execution_count": 10,
   "id": "bc6a6cce-ec6c-482b-9bf7-e0263da49a7d",
   "metadata": {},
   "outputs": [],
   "source": [
    "from libbtc1.did import resolve_deterministic\n",
    "\n",
    "initial_document = resolve_deterministic(did_to_resolve, identifierComponents)"
   ]
  },
  {
   "cell_type": "code",
   "execution_count": 11,
   "id": "e5ee455c-5021-4f4c-9234-f738fc411128",
   "metadata": {},
   "outputs": [
    {
     "name": "stdout",
     "output_type": "stream",
     "text": [
      "{\n",
      "  \"id\": \"did:btc1:regtest:k1q00gn89qec0t6j0rpavgfgrphh7tmu9p0yz5zpnwwref5n85a28kvnu9laf\",\n",
      "  \"@context\": [\n",
      "    \"https://www.w3.org/ns/did/v1\",\n",
      "    \"https://did-btc1/TBD/context\"\n",
      "  ],\n",
      "  \"verificationMethod\": [\n",
      "    {\n",
      "      \"id\": \"#initialKey\",\n",
      "      \"type\": \"Multikey\",\n",
      "      \"controller\": \"did:btc1:regtest:k1q00gn89qec0t6j0rpavgfgrphh7tmu9p0yz5zpnwwref5n85a28kvnu9laf\",\n",
      "      \"publicKeyMultibase\": \"z66Q1s4kPncjiPQrssyHkcbTFdHC6vi3nf3B1Hsxg8qFwuoT\"\n",
      "    }\n",
      "  ],\n",
      "  \"authentication\": [\n",
      "    \"#initialKey\"\n",
      "  ],\n",
      "  \"assertionMethod\": [\n",
      "    \"#initialKey\"\n",
      "  ],\n",
      "  \"capabilityInvocation\": [\n",
      "    \"#initialKey\"\n",
      "  ],\n",
      "  \"capabilityDelegation\": [\n",
      "    \"#initialKey\"\n",
      "  ],\n",
      "  \"service\": [\n",
      "    {\n",
      "      \"id\": \"#initial_p2pkh\",\n",
      "      \"type\": \"SingletonBeacon\",\n",
      "      \"serviceEndpoint\": \"bitcoin:n3UVZvtnA64AGQBaMcnM9Bohts9tsbudVm\"\n",
      "    },\n",
      "    {\n",
      "      \"id\": \"#initial_p2wpkh\",\n",
      "      \"type\": \"SingletonBeacon\",\n",
      "      \"serviceEndpoint\": \"bitcoin:bcrt1q7rd6q9kf9tl4r5tv8sc9sm046yhry8g94crxqc\"\n",
      "    },\n",
      "    {\n",
      "      \"id\": \"#initial_p2tr\",\n",
      "      \"type\": \"SingletonBeacon\",\n",
      "      \"serviceEndpoint\": \"bitcoin:bcrt1pn5pc3em9vw9vw3l3g28tg2nfa2h09efrlq3x3cgmsz6qw2lxuv2sdypydk\"\n",
      "    }\n",
      "  ]\n",
      "}\n"
     ]
    }
   ],
   "source": [
    "import json\n",
    "print(json.dumps(initial_document, indent=2))"
   ]
  },
  {
   "cell_type": "markdown",
   "id": "9ec9e2ae-7b06-4f9e-b762-d59740e5eaf4",
   "metadata": {},
   "source": [
    "## Resolve Target Document\n",
    "\n",
    "This algorithm resolves a DID document from an initial document by walking the\n",
    "Bitcoin blockchain to identify Beacon Signals that announce DID Update Payloads\n",
    "applicable to the **did:btc1** identifier being resolved. The algorithm takes\n",
    "in an `initialDocument` and a set of `resolutionOptions`. The algorithm returns\n",
    "a valid `targetDocument` or throws an error.\n",
    "\n",
    "1. If `resolutionOptions.versionId` is not null, set `targetVersionId` to\n",
    "   `resolutionOptions.versionId`.\n",
    "1. Else if `resolutionOptions.versionTime` is not null, set `targetTime` to\n",
    "   `resolutionOptions.versionTime`.\n",
    "1. Set `targetBlockheight` to the result of passing `targetTime` to the algorithm\n",
    "   [Determine Target Blockheight].\n",
    "1. Set `sidecarData` to `resolutionOptions.sidecarData`.\n",
    "1. Set `currentVersionId` to 1.\n",
    "1. If `currentVersionId` equals `targetVersionId` return `initialDocument`.\n",
    "1. Set `updateHashHistory` to an empty array.\n",
    "1. Set `contemporaryBlockheight` to 0.\n",
    "1. Set `contemporaryDIDDocument` to the `initialDocument`.\n",
    "1. Set `targetDocument` to the result of calling the [Traverse Blockchain History]\n",
    "   algorithm passing in `contemporaryDIDDocument`, `contemporaryBlockheight`,\n",
    "   `currentVersionId`, `targetVersionId`, `targetBlockheight`, `updateHashHistory`, \n",
    "   and `sidecarData`.\n",
    "1. Return `targetDocument`."
   ]
  },
  {
   "cell_type": "markdown",
   "id": "bd3cdae7-7623-4a6f-a83b-d4dace97a6db",
   "metadata": {},
   "source": [
    "### 1. If resolutionOptions.versionId is not null, set targetVersionId to resolutionOptions.versionId.\n",
    "### 2. Else if `resolutionOptions.versionTime` is not null, set `targetTime` to `resolutionOptions.versionTime`."
   ]
  },
  {
   "cell_type": "code",
   "execution_count": 12,
   "id": "6e49c2b2-cc79-468d-98a5-09336732c331",
   "metadata": {},
   "outputs": [],
   "source": [
    "versionId = resolutionOptions.get(\"versionId\")\n",
    "versionTime = resolutionOptions.get(\"versionTime\")\n",
    "targetTime = None\n",
    "targetVersionId = None\n",
    "if versionId:\n",
    "    targetVersionId = versionId\n",
    "elif versionTime:\n",
    "    targetTime = versionTime"
   ]
  },
  {
   "cell_type": "markdown",
   "id": "e7d22af5-3c1f-400a-ab52-566f3e8bed30",
   "metadata": {},
   "source": [
    "### 3. Set targetBlockheight to the result of passing targetTime to the algorithm [Determine Target Blockheight]."
   ]
  },
  {
   "cell_type": "markdown",
   "id": "ebcea191-513c-4a5f-a28e-a8ce813b98ba",
   "metadata": {},
   "source": [
    "## Determine Target Blockheight\n",
    "\n",
    "This algorithm takes in an OPTIONAL Unix `targetTime` and returns a Bitcoin\n",
    "`blockheight`."
   ]
  },
  {
   "cell_type": "code",
   "execution_count": 13,
   "id": "fee93f2f-7c98-440c-86e0-a1bde2bb3adc",
   "metadata": {},
   "outputs": [
    {
     "name": "stdout",
     "output_type": "stream",
     "text": [
      "find latest block with at least x confimations\n"
     ]
    }
   ],
   "source": [
    "required_confirmations = 6\n",
    "if targetTime:\n",
    "    raise \"NotImplemented\"\n",
    "else:\n",
    "    print(\"find latest block with at least x confimations\")\n",
    "\n"
   ]
  },
  {
   "cell_type": "code",
   "execution_count": 14,
   "id": "862936d9-0343-48aa-a887-e82f0615ad4c",
   "metadata": {},
   "outputs": [
    {
     "data": {
      "text/plain": [
       "0"
      ]
     },
     "execution_count": 14,
     "metadata": {},
     "output_type": "execute_result"
    }
   ],
   "source": [
    "from bitcoinrpc import BitcoinRPC\n",
    "rpc = BitcoinRPC.from_config(\"http://localhost:18443\", (\"polaruser\", \"polarpass\"))\n",
    "await rpc.getconnectioncount()"
   ]
  },
  {
   "cell_type": "code",
   "execution_count": 15,
   "id": "8fcf1a97-6909-4081-ba1c-997a87baea07",
   "metadata": {},
   "outputs": [],
   "source": [
    "best_blockhash = await rpc.acall(\"getbestblockhash\", {})\n",
    "bestblock = await rpc.acall(\"getblock\", {\"blockhash\": best_blockhash})"
   ]
  },
  {
   "cell_type": "code",
   "execution_count": 16,
   "id": "e3f187df-d267-4291-9e04-aa17401fac2b",
   "metadata": {},
   "outputs": [],
   "source": [
    "confirmations = bestblock[\"confirmations\"]\n",
    "bestblock_height = bestblock[\"height\"]"
   ]
  },
  {
   "cell_type": "code",
   "execution_count": 17,
   "id": "d508e36c-dfe8-45a2-8bcd-6a9a0e351c47",
   "metadata": {},
   "outputs": [],
   "source": [
    "targetblockheight = bestblock_height + (confirmations - required_confirmations)"
   ]
  },
  {
   "cell_type": "code",
   "execution_count": 18,
   "id": "1da3f2ab-df94-4465-9af9-14e928f130dd",
   "metadata": {},
   "outputs": [
    {
     "data": {
      "text/plain": [
       "141"
      ]
     },
     "execution_count": 18,
     "metadata": {},
     "output_type": "execute_result"
    }
   ],
   "source": [
    "targetblockheight"
   ]
  },
  {
   "cell_type": "markdown",
   "id": "de88a87f-4340-452c-8e98-fcf86e257f88",
   "metadata": {},
   "source": [
    "### 4. Set `sidecarData` to `resolutionOptions.sidecarData`."
   ]
  },
  {
   "cell_type": "code",
   "execution_count": 19,
   "id": "59624a67-2cab-49cf-97bc-1d2fa19d94e6",
   "metadata": {},
   "outputs": [],
   "source": [
    "sidecarData = resolutionOptions[\"sidecarData\"]"
   ]
  },
  {
   "cell_type": "markdown",
   "id": "e07cd42f-b072-423b-bd94-614fdfc2f316",
   "metadata": {},
   "source": [
    "### 5. Set `currentVersionId` to 1.\n"
   ]
  },
  {
   "cell_type": "code",
   "execution_count": 20,
   "id": "65c1d6b2-1765-4a2c-87d2-f36b224c1fd9",
   "metadata": {},
   "outputs": [],
   "source": [
    "currentVersionId = 1"
   ]
  },
  {
   "cell_type": "markdown",
   "id": "750f2f7f-ce4a-476e-bdef-b671c6b37b91",
   "metadata": {},
   "source": [
    "### 6. If `currentVersionId` equals `targetVersionId` return `initialDocument`."
   ]
  },
  {
   "cell_type": "code",
   "execution_count": 21,
   "id": "d0697189-ee88-44da-b433-9ea1f040dc0f",
   "metadata": {},
   "outputs": [],
   "source": [
    "if currentVersionId == targetVersionId:\n",
    "    print(\"returning\", initial_document)"
   ]
  },
  {
   "cell_type": "markdown",
   "id": "99b6366c-8a6d-4007-8d71-5749e786864d",
   "metadata": {},
   "source": [
    "### 7. Set `updateHashHistory` to an empty array."
   ]
  },
  {
   "cell_type": "code",
   "execution_count": 22,
   "id": "315c5b0a-7cd8-49df-9e92-9f5dcb19c9b8",
   "metadata": {},
   "outputs": [],
   "source": [
    "updateHashHistory = []"
   ]
  },
  {
   "cell_type": "markdown",
   "id": "f5d55780-08b6-4796-9224-e85f125ca741",
   "metadata": {},
   "source": [
    "### 8. Set `contemporaryBlockheight` to 1."
   ]
  },
  {
   "cell_type": "code",
   "execution_count": 23,
   "id": "b7bfab86-c243-4c8e-bbed-91a6237cdf61",
   "metadata": {},
   "outputs": [],
   "source": [
    "contemporaryBlockheight = 0"
   ]
  },
  {
   "cell_type": "markdown",
   "id": "cb400ffb-25ab-4284-814e-d767276ed264",
   "metadata": {},
   "source": [
    "### 9. Set contemporaryDIDDocument to initialDocument"
   ]
  },
  {
   "cell_type": "code",
   "execution_count": 24,
   "id": "4cd6cc89-7bca-4fd1-8d47-195c9e4fd785",
   "metadata": {},
   "outputs": [],
   "source": [
    "import copy\n",
    "contemporaryDidDocument = copy.deepcopy(initial_document)"
   ]
  },
  {
   "cell_type": "markdown",
   "id": "3c02e49a-b77e-4df8-bcb7-193ca1199451",
   "metadata": {},
   "source": [
    "### 10. Set `targetDocument` to the result of calling the [Traverse Blockchain History] algorithm passing in `contemporaryDIDDocument`, `contemporaryBlockheight`,  `currentVersionId`, `targetVersionId`, `targetBlockheight`, `updateHashHistory`, and `sidecarData`."
   ]
  },
  {
   "cell_type": "markdown",
   "id": "8e082308-052d-4576-bb7a-5d0403f01aea",
   "metadata": {},
   "source": [
    "# Traverse Blockchain History"
   ]
  },
  {
   "cell_type": "markdown",
   "id": "ebdd4759-a199-4501-88f8-1454015e6430",
   "metadata": {},
   "source": [
    "### 1. Set `contemporaryHash` to the result of passing `contemporaryDIDDocument` into the [JSON Canonicalization and Hash] algorithm."
   ]
  },
  {
   "cell_type": "code",
   "execution_count": 25,
   "id": "e2bf549b-0a34-438f-802c-713650265329",
   "metadata": {},
   "outputs": [
    {
     "name": "stdout",
     "output_type": "stream",
     "text": [
      "b'CF\\xa8\\xe3a\\x8a\\x02\\x7f\\x16-\\r\\xe6J\\xaez\\x05L8o\\xeb/T\\x8d\\xdck\\xae1\\x17W\\xc6\\xf6w'\n"
     ]
    }
   ],
   "source": [
    "import jcs\n",
    "from buidl.helper import sha256\n",
    "canonicalDocument = jcs.canonicalize(contemporaryDidDocument)\n",
    "\n",
    "contemporaryHash = sha256(canonicalDocument)\n",
    "\n",
    "print(contemporaryHash)"
   ]
  },
  {
   "cell_type": "markdown",
   "id": "50b55477-b6ec-4ab0-a7f3-9030e8cc5e4b",
   "metadata": {},
   "source": [
    "### 2. Find all `beacons` in `contemporaryDIDDocument`: All `service` in `contemporaryDIDDocument.services` where `service.type` equals one of `SingletonBeacon`, `CIDAggregateBeacon` and `SMTAggregateBeacon` Beacon."
   ]
  },
  {
   "cell_type": "code",
   "execution_count": 26,
   "id": "20ba6326-6383-41a5-9366-7483f33f4ca6",
   "metadata": {},
   "outputs": [
    {
     "name": "stdout",
     "output_type": "stream",
     "text": [
      "[{'id': '#initial_p2pkh', 'type': 'SingletonBeacon', 'serviceEndpoint': 'bitcoin:n3UVZvtnA64AGQBaMcnM9Bohts9tsbudVm'}, {'id': '#initial_p2wpkh', 'type': 'SingletonBeacon', 'serviceEndpoint': 'bitcoin:bcrt1q7rd6q9kf9tl4r5tv8sc9sm046yhry8g94crxqc'}, {'id': '#initial_p2tr', 'type': 'SingletonBeacon', 'serviceEndpoint': 'bitcoin:bcrt1pn5pc3em9vw9vw3l3g28tg2nfa2h09efrlq3x3cgmsz6qw2lxuv2sdypydk'}]\n"
     ]
    }
   ],
   "source": [
    "beacons = []\n",
    "\n",
    "for service in contemporaryDidDocument[\"service\"]:\n",
    "    serviceType = service[\"type\"]\n",
    "    if serviceType == \"SingletonBeacon\" or serviceType == \"CIDAggregateBeacon\" or serviceType == \"SMTAggregateBeacon\":\n",
    "        beacons.append(service)\n",
    "\n",
    "\n",
    "print(beacons)"
   ]
  },
  {
   "cell_type": "markdown",
   "id": "ffc1dc24-7251-4b4e-8201-bb70e91575c1",
   "metadata": {},
   "source": [
    "### 3. For each `beacon` in `beacons` convert the `beacon.serviceEndpoint` to a Bitcoin address following **[BIP21](https://github.com/bitcoin/bips/blob/master/bip-0021.mediawiki)**. Set `beacon.address` to the Bitcoin address."
   ]
  },
  {
   "cell_type": "code",
   "execution_count": 27,
   "id": "45426f1b-19bb-4907-a295-506318ac1c2a",
   "metadata": {},
   "outputs": [
    {
     "name": "stdout",
     "output_type": "stream",
     "text": [
      "[{'id': '#initial_p2pkh', 'type': 'SingletonBeacon', 'serviceEndpoint': 'bitcoin:n3UVZvtnA64AGQBaMcnM9Bohts9tsbudVm', 'address': 'n3UVZvtnA64AGQBaMcnM9Bohts9tsbudVm'}, {'id': '#initial_p2wpkh', 'type': 'SingletonBeacon', 'serviceEndpoint': 'bitcoin:bcrt1q7rd6q9kf9tl4r5tv8sc9sm046yhry8g94crxqc', 'address': 'bcrt1q7rd6q9kf9tl4r5tv8sc9sm046yhry8g94crxqc'}, {'id': '#initial_p2tr', 'type': 'SingletonBeacon', 'serviceEndpoint': 'bitcoin:bcrt1pn5pc3em9vw9vw3l3g28tg2nfa2h09efrlq3x3cgmsz6qw2lxuv2sdypydk', 'address': 'bcrt1pn5pc3em9vw9vw3l3g28tg2nfa2h09efrlq3x3cgmsz6qw2lxuv2sdypydk'}]\n"
     ]
    }
   ],
   "source": [
    "for beacon in beacons:\n",
    "    serviceEndpoint = beacon[\"serviceEndpoint\"]\n",
    "    beacon[\"address\"] = serviceEndpoint[8:]\n",
    "\n",
    "print(beacons)"
   ]
  },
  {
   "cell_type": "markdown",
   "id": "e1a890db-9d2b-4abc-a09a-5d5d80ffcd83",
   "metadata": {},
   "source": [
    "### 4. Set `nextSignals` to the result of calling algorithm Find Next Signals passing in `contemporaryBlockheight` and `beacons`.\n"
   ]
  },
  {
   "cell_type": "markdown",
   "id": "73a0e0c3-e1c2-4d78-a641-58d4d8f8ae50",
   "metadata": {},
   "source": [
    "# Find Next Signals\n",
    "\n",
    "This algorithm takes in a `contemporaryBlockheight` and a set of `beacons` and\n",
    "finds the next Bitcoin block containing Beacon Signals from one or more of the\n",
    "`beacons`."
   ]
  },
  {
   "cell_type": "code",
   "execution_count": 32,
   "id": "1c2196b4-4580-4bdb-aba4-50ca99cdb48b",
   "metadata": {},
   "outputs": [],
   "source": [
    "from buidl.tx import Tx, TxIn\n",
    "\n",
    "async def find_next_signals(contemporaryBlockheight, targetBlockheight, beacons):\n",
    "    # 1. Get Bitcoin block at contemporaryBlockheight\n",
    "    blockhash = await rpc.acall(\"getblockhash\", {\"height\": contemporaryBlockheight})\n",
    "    block = await rpc.acall(\"getblock\", {\"blockhash\": blockhash})\n",
    "    \n",
    "    # 2. Set `beaconSignals` to an empty array.\n",
    "    beaconSignals = {\n",
    "        \"signals\": [],\n",
    "        \"blockheight\": contemporaryBlockheight\n",
    "    }\n",
    "    \n",
    "    # 3.For each `txid` in `block.tx`: \n",
    "    # check to see if any transaction inputs are spends from one of the Beacon addresses.\n",
    "    # If they are, create a `signal` object containing the following fields and push\n",
    "    # `signal` to `beaconSignals`:\n",
    "    for txid in block[\"tx\"]:\n",
    "\n",
    "        #  Skip coinbase\n",
    "        \n",
    "        # 1. Fetch transaction for txid\n",
    "        tx_hex = await rpc.acall(\"getrawtransaction\", {\"txid\": txid})\n",
    "        tx = Tx.parse_hex(tx_hex)\n",
    "        \n",
    "        \n",
    "        # For each tx input in transaction\n",
    "        for tx_in in tx.tx_ins:    \n",
    "            # If tx_in is NOT a coinbase transaction\n",
    "            prev_txid = tx_in.prev_tx.hex()\n",
    "            if prev_txid != \"0000000000000000000000000000000000000000000000000000000000000000\":\n",
    "                # Fetch previous tx\n",
    "                prev_tx_hex = await rpc.acall(\"getrawtransaction\", {\"txid\": prev_txid})\n",
    "                prev_tx = Tx.parse_hex(prev_tx_hex)\n",
    "                # Get spent output\n",
    "                spent_tx_output = prev_tx.tx_outs[tx_in.prev_index]\n",
    "                print(\"Bitcoin block at height : \", contemporaryBlockheight)\n",
    "                print(spent_tx_output.script_pubkey.address(network=\"regtest\"))\n",
    "                # Get address for the spent output \n",
    "                spent_tx_output_address = spent_tx_output.script_pubkey.address(network=\"regtest\")\n",
    "                from_beacon = None\n",
    "                # Check if address is a beacon address\n",
    "                for beacon in beacons:\n",
    "                    if beacon[\"address\"] == spent_tx_output_address:\n",
    "                        signal = {\n",
    "                            \"beaconId\": beacon[\"id\"],\n",
    "                            \"beaconType\": beacon[\"type\"],\n",
    "                            \"tx\": tx\n",
    "                        }\n",
    "                        beaconSignals[\"signals\"].append(signal)\n",
    "                        print(\"Found Beacon Signal\", tx)\n",
    "                        break\n",
    "                # If found beacon, no need to check other inputs\n",
    "                # Is that true?\n",
    "                if from_beacon:\n",
    "                    break\n",
    "\n",
    "    if contemporaryBlockheight == targetBlockheight:\n",
    "        return beaconSignals\n",
    "\n",
    "    \n",
    "    if len(beaconSignals[\"signals\"]) == 0:\n",
    "        next_blockheight = contemporaryBlockheight + 1\n",
    "        beaconSignals = await find_next_signals(next_blockheight, targetBlockheight, beacons)\n",
    "\n",
    "    return beaconSignals\n",
    "                    \n"
   ]
  },
  {
   "cell_type": "code",
   "execution_count": 33,
   "id": "d1ed2eb5-fba9-41d5-96a3-74f501510d75",
   "metadata": {},
   "outputs": [
    {
     "name": "stdout",
     "output_type": "stream",
     "text": [
      "Bitcoin block at height :  102\n",
      "bcrt1quszy492dyjwq4asuryr8f72pndteuyea6ea589\n",
      "Bitcoin block at height :  109\n",
      "bcrt1qtux996xmz6xgv0kp5d9t4xmxnmgdw2rdkz70nm\n",
      "Bitcoin block at height :  115\n",
      "bcrt1q06m9yn2kxgxg2mara55667958d0a6s2ksdc3dd\n",
      "Bitcoin block at height :  123\n",
      "bcrt1qdj6g6jcjyt9u9akcuwtgm6kxl9mss3068cd6jh\n",
      "Bitcoin block at height :  129\n",
      "bcrt1ql7q9485kxz4330hxtknqkkq6ym6jtc8snpyg5x\n",
      "Bitcoin block at height :  129\n",
      "bcrt1q7w7f5yqqdem9fvp6dm9d2pnmevp556fwkm4ehf\n",
      "Bitcoin block at height :  129\n",
      "bcrt1q3gfs3vk7jz6uj4luqmq74lswawf2wg96vpplgl\n",
      "Bitcoin block at height :  135\n",
      "bcrt1qjy7hmknygpgq4343zk7vknw2y4fp0wsdnhqyzm\n",
      "Bitcoin block at height :  135\n",
      "bcrt1q7rd6q9kf9tl4r5tv8sc9sm046yhry8g94crxqc\n",
      "Found Beacon Signal \n",
      "tx: f6ca3433fe6b015fabaf41412aa6857b7466969078a464fcd0a9605c0d38996b\n",
      "version: 1\n",
      "locktime: 0\n",
      "tx_ins:\n",
      "3c2dfc65402e52f3e449f163349748c695eb17c4db31fdde9b0727cf8137740a:1\n",
      "tx_outs:\n",
      "0:OP_RETURN fa4f9cc77516ac5c1a201f87fcdc18017b80ed0d8cee81e2a7f21037cff4330a \n",
      "19999650:OP_0 f0dba016c92aff51d16c3c30586df5d12e321d05 \n",
      "\n"
     ]
    }
   ],
   "source": [
    "\n",
    "nextSignals = await find_next_signals(1, targetblockheight, beacons)"
   ]
  },
  {
   "cell_type": "markdown",
   "id": "1d0255cb-bb4d-4b98-8c06-5ff6997f7d32",
   "metadata": {},
   "source": [
    "### 5. Set `signals` to `nextSignals.signals`.\n"
   ]
  },
  {
   "cell_type": "code",
   "execution_count": 34,
   "id": "0b1af47f-c982-4c7f-b28a-3a584ae31abb",
   "metadata": {},
   "outputs": [],
   "source": [
    "signals = nextSignals[\"signals\"]"
   ]
  },
  {
   "cell_type": "markdown",
   "id": "25895b05-66f1-4c92-adad-6c32414e72fa",
   "metadata": {},
   "source": [
    "### 6. Set `updates` to the result of calling algorithm [Process Beacon Signals] passing in `signals` and `sidecarData`."
   ]
  },
  {
   "cell_type": "markdown",
   "id": "332846ca-82af-4599-93d4-b6506024ce65",
   "metadata": {},
   "source": [
    "# Process Beacon Signals\n",
    "\n",
    "This algorithm takes in an array of struct `beaconSignals` and attempts\n",
    "to process these signals according the type of the Beacon they were produced by.\n",
    "Each `beaconSignal` struct contains the properties `beaconId`, `beaconType`, and\n",
    "a `tx`. Additionally, this algorithm takes in `sidecarData` passed into the\n",
    "resolver through the `resolutionOptions`. If `sidecarData` is present it is used\n",
    "to process the Beacon Signals."
   ]
  },
  {
   "cell_type": "code",
   "execution_count": 35,
   "id": "39e4178c-16fd-4ac2-bd28-a9a8d4416e8b",
   "metadata": {},
   "outputs": [
    {
     "name": "stdout",
     "output_type": "stream",
     "text": [
      "\n",
      "tx: f6ca3433fe6b015fabaf41412aa6857b7466969078a464fcd0a9605c0d38996b\n",
      "version: 1\n",
      "locktime: 0\n",
      "tx_ins:\n",
      "3c2dfc65402e52f3e449f163349748c695eb17c4db31fdde9b0727cf8137740a:1\n",
      "tx_outs:\n",
      "0:OP_RETURN fa4f9cc77516ac5c1a201f87fcdc18017b80ed0d8cee81e2a7f21037cff4330a \n",
      "19999650:OP_0 f0dba016c92aff51d16c3c30586df5d12e321d05 \n",
      "\n",
      "{'did': 'did:btc1:regtest:k1q00gn89qec0t6j0rpavgfgrphh7tmu9p0yz5zpnwwref5n85a28kvnu9laf', 'signalsMetadata': {'f6ca3433fe6b015fabaf41412aa6857b7466969078a464fcd0a9605c0d38996b': {'updatePayload': {'@context': ['https://w3id.org/security/v2', 'https://w3id.org/zcap/v1', 'https://w3id.org/json-ld-patch/v1'], 'patch': [{'op': 'add', 'path': '/service/3', 'value': {'id': '#linked-domain', 'type': 'LinkedDomains', 'serviceEndpoint': 'https://contact-me.com'}}], 'sourceHash': '5XcoqeTqmXAYu89hKCNcoWE2R5wQjqze8QrG9HtMmAdC', 'targetHash': 'J9igy4rwejytESdSvqEvFpa8ZvaT8tVwBodyjDrr1KiQ', 'targetVersionId': 2, 'proof': {'type': 'DataIntegrityProof', 'cryptosuite': 'schnorr-secp256k1-jcs-2025', 'verificationMethod': 'did:btc1:regtest:k1q00gn89qec0t6j0rpavgfgrphh7tmu9p0yz5zpnwwref5n85a28kvnu9laf#initialKey', 'proofPurpose': 'capabilityInvocation', '@context': ['https://w3id.org/security/v2', 'https://w3id.org/zcap/v1', 'https://w3id.org/json-ld-patch/v1'], 'proofValue': 'z5pz3vvVjHp1Eaip4AwTeurhKPpozkQxD9xpShcZ8DQ8Ez28VyZyaiUQjtb5W7ugmsJ8BzeomYNpJQfXA4j7hMfaX'}}}}}\n"
     ]
    }
   ],
   "source": [
    "print(signals[0][\"tx\"])\n",
    "print(sidecarData)"
   ]
  },
  {
   "cell_type": "code",
   "execution_count": 51,
   "id": "c445693a-7bd5-4ef8-962d-8eadf88c6216",
   "metadata": {},
   "outputs": [],
   "source": [
    "def process_beacon_signals(beaconSignals, sidecarData):\n",
    "    # 1. Set `updates` to an empty array.\n",
    "    updates = []\n",
    "    # 2. For `beaconSignal` in `beaconSignals`:\n",
    "    for beaconSignal in beaconSignals:\n",
    "        beaconType = beaconSignal[\"beaconType\"]\n",
    "        signalTx = beaconSignal[\"tx\"]\n",
    "        signalId = signalTx.id()\n",
    "        signalSidecarData = sidecarData[\"signalsMetadata\"].get(signalId)\n",
    "        didUpdatePayload = None\n",
    "        if beaconType == \"SingletonBeacon\":\n",
    "            didUpdatePayload = process_singleton_beacon_signal(signalTx, signalSidecarData)\n",
    "        # Handle other cases\n",
    "\n",
    "        if didUpdatePayload:\n",
    "            updates.append(didUpdatePayload)\n",
    "    return updates"
   ]
  },
  {
   "cell_type": "markdown",
   "id": "65f8f3aa-eac2-48fd-9213-afa345073e81",
   "metadata": {},
   "source": [
    "# Process Singleton Beacon Signal\n",
    "\n",
    "This algorithm is called by the [Process Beacon Signals] algorithm as part of the\n",
    "[Read] operation. It takes as inputs a Bitcoin transaction, `tx`, representing a ::Beacon Signal::\n",
    "and a optional object, `signalSidecarData`, containing any sidecar data provided to the \n",
    "resolver for the ::Beacon Signal:: identified by the Bitcoin transaction identifier.\n",
    "\n",
    "The algorithm returns the ::DID Update payload:: announced by the ::Beacon Signal:: or throws\n",
    "an error.\n",
    "\n",
    "1. Initialize a `txOut` variable to the 0th transaction output of the `tx`.\n",
    "1. Set `didUpdatePayload` to null.\n",
    "1. Check `txOut` is of the format `[OP_RETURN, OP_PUSH32, <32bytes>]`, if not,\n",
    "   then return `didUpdatePayload`. The Bitcoin transaction is not a ::Beacon Signal::.\n",
    "1. Set `hashBytes` to the 32 bytes in the `txOut`.\n",
    "1. If `signalSidecarData`:\n",
    "   1. Set `didUpdatePayload` to `signalSidecarData.updatePayload`\n",
    "   1. Set `updateHashBytes` to the result of passing `didUpdatePayload` to the \n",
    "      [JSON Canonicalization and Hash] algorithm.\n",
    "   1. If `updateHashBytes` does not equal `hashBytes`, MUST throw an `invalidSidecarData` error.\n",
    "   1. Return `didUpdatePayload`\n",
    "1. Else:\n",
    "   1. Set `didUpdatePayload` to the result of passing `hashBytes` into the \n",
    "      [Fetch Content from Addressable Storage] algorithm.\n",
    "   1. If `didUpdatePayload` is null, MUST raise a `latePublishingError`. May identify Beacon Signal\n",
    "      to resolver and request additional ::Sidecar data:: be provided.\n",
    "1. Return `didUpdatePayload`."
   ]
  },
  {
   "cell_type": "code",
   "execution_count": 52,
   "id": "ba96fed6-7a7c-4f03-9a40-f33cc3a427d4",
   "metadata": {},
   "outputs": [],
   "source": [
    "from ipfs_cid import cid_sha256_wrap_digest\n",
    "\n",
    "\n",
    "def process_singleton_beacon_signal(tx, signalSidecarData):\n",
    "    txOut = tx.tx_outs[0]\n",
    "    didUpdatePayload = None\n",
    "    # Note: No OP_PUSH32. It is implied by the length of the bytes.\n",
    "    if (txOut.script_pubkey.commands[0] != 106 and len(txOut.script_pubkey.commands[1]) != 32):\n",
    "        print(\"Not a beacon signal\")\n",
    "        return didUpdatePayload\n",
    "    hashBytes = txOut.script_pubkey.commands[1]\n",
    "    if signalSidecarData:\n",
    "        didUpdatePayload = signalSidecarData[\"updatePayload\"]\n",
    "        updateHashBytes = sha256(jcs.canonicalize(didUpdatePayload))\n",
    "        \n",
    "        print(updateHashBytes)\n",
    "        print(hashBytes)\n",
    "        if updateHashBytes != hashBytes:\n",
    "            raise Exception(\"Invalid Sidecar Data\")\n",
    "        return didUpdatePayload\n",
    "    else:\n",
    "        payload_cid = cid_sha256_wrap_digest(hashBytes)\n",
    "        print(\"TODO: Fetch CID from CAS\", payload_cid)\n",
    "        \n",
    "        "
   ]
  },
  {
   "cell_type": "code",
   "execution_count": 53,
   "id": "e0f481f8-99ab-4a7f-b294-04cf56b9e493",
   "metadata": {},
   "outputs": [
    {
     "name": "stdout",
     "output_type": "stream",
     "text": [
      "True\n",
      "b'\\xfaO\\x9c\\xc7u\\x16\\xac\\\\\\x1a \\x1f\\x87\\xfc\\xdc\\x18\\x01{\\x80\\xed\\r\\x8c\\xee\\x81\\xe2\\xa7\\xf2\\x107\\xcf\\xf43\\n'\n",
      "b'\\xfaO\\x9c\\xc7u\\x16\\xac\\\\\\x1a \\x1f\\x87\\xfc\\xdc\\x18\\x01{\\x80\\xed\\r\\x8c\\xee\\x81\\xe2\\xa7\\xf2\\x107\\xcf\\xf43\\n'\n"
     ]
    },
    {
     "data": {
      "text/plain": [
       "{'@context': ['https://w3id.org/security/v2',\n",
       "  'https://w3id.org/zcap/v1',\n",
       "  'https://w3id.org/json-ld-patch/v1'],\n",
       " 'patch': [{'op': 'add',\n",
       "   'path': '/service/3',\n",
       "   'value': {'id': '#linked-domain',\n",
       "    'type': 'LinkedDomains',\n",
       "    'serviceEndpoint': 'https://contact-me.com'}}],\n",
       " 'sourceHash': '5XcoqeTqmXAYu89hKCNcoWE2R5wQjqze8QrG9HtMmAdC',\n",
       " 'targetHash': 'J9igy4rwejytESdSvqEvFpa8ZvaT8tVwBodyjDrr1KiQ',\n",
       " 'targetVersionId': 2,\n",
       " 'proof': {'type': 'DataIntegrityProof',\n",
       "  'cryptosuite': 'schnorr-secp256k1-jcs-2025',\n",
       "  'verificationMethod': 'did:btc1:regtest:k1q00gn89qec0t6j0rpavgfgrphh7tmu9p0yz5zpnwwref5n85a28kvnu9laf#initialKey',\n",
       "  'proofPurpose': 'capabilityInvocation',\n",
       "  '@context': ['https://w3id.org/security/v2',\n",
       "   'https://w3id.org/zcap/v1',\n",
       "   'https://w3id.org/json-ld-patch/v1'],\n",
       "  'proofValue': 'z5pz3vvVjHp1Eaip4AwTeurhKPpozkQxD9xpShcZ8DQ8Ez28VyZyaiUQjtb5W7ugmsJ8BzeomYNpJQfXA4j7hMfaX'}}"
      ]
     },
     "execution_count": 53,
     "metadata": {},
     "output_type": "execute_result"
    }
   ],
   "source": [
    "tx = signals[0][\"tx\"]\n",
    "txOut = tx.tx_outs[0]\n",
    "didUpdatePayload = None\n",
    "print(txOut.script_pubkey.commands[0] == 106)\n",
    "process_singleton_beacon_signal(tx, sidecarData[\"signalsMetadata\"][tx.id()])"
   ]
  },
  {
   "cell_type": "code",
   "execution_count": null,
   "id": "40dc4439-dc73-4a18-b75c-e2b625c3f684",
   "metadata": {},
   "outputs": [],
   "source": []
  },
  {
   "cell_type": "code",
   "execution_count": 54,
   "id": "e8974e8b-703d-4324-ae32-c1070079900d",
   "metadata": {},
   "outputs": [
    {
     "name": "stdout",
     "output_type": "stream",
     "text": [
      "b'\\xfaO\\x9c\\xc7u\\x16\\xac\\\\\\x1a \\x1f\\x87\\xfc\\xdc\\x18\\x01{\\x80\\xed\\r\\x8c\\xee\\x81\\xe2\\xa7\\xf2\\x107\\xcf\\xf43\\n'\n",
      "b'\\xfaO\\x9c\\xc7u\\x16\\xac\\\\\\x1a \\x1f\\x87\\xfc\\xdc\\x18\\x01{\\x80\\xed\\r\\x8c\\xee\\x81\\xe2\\xa7\\xf2\\x107\\xcf\\xf43\\n'\n"
     ]
    }
   ],
   "source": [
    "updates = process_beacon_signals(signals, sidecarData)"
   ]
  },
  {
   "cell_type": "code",
   "execution_count": 55,
   "id": "0eef2d88-9e06-490b-a509-e3a8888bea73",
   "metadata": {},
   "outputs": [
    {
     "data": {
      "text/plain": [
       "[{'@context': ['https://w3id.org/security/v2',\n",
       "   'https://w3id.org/zcap/v1',\n",
       "   'https://w3id.org/json-ld-patch/v1'],\n",
       "  'patch': [{'op': 'add',\n",
       "    'path': '/service/3',\n",
       "    'value': {'id': '#linked-domain',\n",
       "     'type': 'LinkedDomains',\n",
       "     'serviceEndpoint': 'https://contact-me.com'}}],\n",
       "  'sourceHash': '5XcoqeTqmXAYu89hKCNcoWE2R5wQjqze8QrG9HtMmAdC',\n",
       "  'targetHash': 'J9igy4rwejytESdSvqEvFpa8ZvaT8tVwBodyjDrr1KiQ',\n",
       "  'targetVersionId': 2,\n",
       "  'proof': {'type': 'DataIntegrityProof',\n",
       "   'cryptosuite': 'schnorr-secp256k1-jcs-2025',\n",
       "   'verificationMethod': 'did:btc1:regtest:k1q00gn89qec0t6j0rpavgfgrphh7tmu9p0yz5zpnwwref5n85a28kvnu9laf#initialKey',\n",
       "   'proofPurpose': 'capabilityInvocation',\n",
       "   '@context': ['https://w3id.org/security/v2',\n",
       "    'https://w3id.org/zcap/v1',\n",
       "    'https://w3id.org/json-ld-patch/v1'],\n",
       "   'proofValue': 'z5pz3vvVjHp1Eaip4AwTeurhKPpozkQxD9xpShcZ8DQ8Ez28VyZyaiUQjtb5W7ugmsJ8BzeomYNpJQfXA4j7hMfaX'}}]"
      ]
     },
     "execution_count": 55,
     "metadata": {},
     "output_type": "execute_result"
    }
   ],
   "source": [
    "updates"
   ]
  },
  {
   "cell_type": "markdown",
   "id": "4a0c63c1-fa77-4d30-ad08-143ecac5c50e",
   "metadata": {},
   "source": [
    "### 7. Set `orderedUpdates` to the list of `updates` ordered by the `targetVersionId` property."
   ]
  },
  {
   "cell_type": "code",
   "execution_count": 58,
   "id": "8026a6be-6ae9-43a7-85d4-3a3f09a8134a",
   "metadata": {},
   "outputs": [],
   "source": [
    "updates.sort(key=lambda update: update[\"targetVersionId\"])"
   ]
  },
  {
   "cell_type": "markdown",
   "id": "38d9deba-56f4-4fa0-a7a5-440a2299373e",
   "metadata": {},
   "source": [
    "### 8. For `update` in `orderedUpdates`:\n",
    "1. If `update.targetVersionId` is less than or equal to `currentVersionId`,\n",
    "   run Algorithm [Confirm Duplicate Update] passing in `update`,\n",
    "   `documentHistory`, and `contemporaryHash`.\n",
    "1. If `update.targetVersionId` equals `currentVersionId + 1`:\n",
    "    1.  Check that `update.sourceHash` equals `contemporaryHash`, else MUST\n",
    "        raise LatePublishing error.\n",
    "    1.  Set `contemporaryDIDDocument` to the result of calling [Apply DID Update]\n",
    "        algorithm passing in `contemporaryDIDDocument`, `update`.\n",
    "    1.  Increment `currentVersionId`\n",
    "    1.  If `currentVersionId` equals `targetVersionId` return\n",
    "        `contemporaryDIDDocument`.\n",
    "    1.  Set `updateHash` to the sha256 hash of the `update`.\n",
    "    1.  Push `updateHash` onto `updateHashHistory`.\n",
    "    1.  Set `contemporaryHash` to the SHA256 hash of the\n",
    "        `contemporaryDIDDocument`.\n",
    "1.  If `update.targetVersionId` is greater than `currentVersionId + 1`, MUST\n",
    "    throw a LatePublishing error."
   ]
  },
  {
   "cell_type": "code",
   "execution_count": 66,
   "id": "236c7dc1-c451-4265-adfb-2caea46ee2ec",
   "metadata": {},
   "outputs": [
    {
     "name": "stderr",
     "output_type": "stream",
     "text": [
      "<>:6: SyntaxWarning: assertion is always true, perhaps remove parentheses?\n",
      "<>:6: SyntaxWarning: assertion is always true, perhaps remove parentheses?\n",
      "/tmp/ipykernel_13616/3163534492.py:6: SyntaxWarning: assertion is always true, perhaps remove parentheses?\n",
      "  assert(update[\"sourceHash\"] == contemporaryHash, \"Late Publishing\")\n"
     ]
    },
    {
     "ename": "NameError",
     "evalue": "name 'apply_did_update' is not defined",
     "output_type": "error",
     "traceback": [
      "\u001b[0;31m---------------------------------------------------------------------------\u001b[0m",
      "\u001b[0;31mNameError\u001b[0m                                 Traceback (most recent call last)",
      "Cell \u001b[0;32mIn[66], line 7\u001b[0m\n\u001b[1;32m      5\u001b[0m \u001b[38;5;28;01mif\u001b[39;00m targetVersionId \u001b[38;5;241m==\u001b[39m currentVersionId \u001b[38;5;241m+\u001b[39m \u001b[38;5;241m1\u001b[39m:\n\u001b[1;32m      6\u001b[0m     \u001b[38;5;28;01massert\u001b[39;00m(update[\u001b[38;5;124m\"\u001b[39m\u001b[38;5;124msourceHash\u001b[39m\u001b[38;5;124m\"\u001b[39m] \u001b[38;5;241m==\u001b[39m contemporaryHash, \u001b[38;5;124m\"\u001b[39m\u001b[38;5;124mLate Publishing\u001b[39m\u001b[38;5;124m\"\u001b[39m)\n\u001b[0;32m----> 7\u001b[0m     contemporaryDidDocument \u001b[38;5;241m=\u001b[39m \u001b[43mapply_did_update\u001b[49m(contemporaryDidDocument, update)\n\u001b[1;32m      8\u001b[0m     currentVersionId \u001b[38;5;241m+\u001b[39m\u001b[38;5;241m=\u001b[39m\u001b[38;5;241m1\u001b[39m\n\u001b[1;32m      9\u001b[0m     \u001b[38;5;28;01mif\u001b[39;00m currentVersionId \u001b[38;5;241m==\u001b[39m targetVersionId:\n",
      "\u001b[0;31mNameError\u001b[0m: name 'apply_did_update' is not defined"
     ]
    }
   ],
   "source": [
    "for update in updates:\n",
    "    targetVersionId = update[\"targetVersionId\"]\n",
    "    if targetVersionId == currentVersionId:\n",
    "        confirm_duplicate_update(update, documentHistory, contemporaryHash)\n",
    "    if targetVersionId == currentVersionId + 1:\n",
    "        assert(update[\"sourceHash\"] == contemporaryHash, \"Late Publishing\")\n",
    "        contemporaryDidDocument = apply_did_update(contemporaryDidDocument, update)\n",
    "        currentVersionId +=1\n",
    "        if currentVersionId == targetVersionId:\n",
    "            print(\"Found document for target version\", contemporaryDidDocument)\n",
    "        updateHash = sha256(jcs.canonicalize(update))\n",
    "        contemporaryHash = sha256(jcs.canonicalize(contemporaryDidDocument))\n",
    "    if targetVersionId > currentVersionId + 1:\n",
    "        raise Exception(\"Late publishing\")\n",
    "        "
   ]
  },
  {
   "cell_type": "code",
   "execution_count": null,
   "id": "8c8f945e-346e-411c-8750-9ad8c9d7917a",
   "metadata": {},
   "outputs": [],
   "source": []
  },
  {
   "cell_type": "markdown",
   "id": "95642444-49b8-475f-b696-8d0a1fd53bf3",
   "metadata": {},
   "source": [
    "# Confirm Duplicate Update\n",
    "\n",
    "This algorithm takes in a DID Update Payload and verifies that the update is a\n",
    "duplicate against the hash history of previously applied updates.\n",
    "The algorithm takes in an `update` and an array of hashes, `updateHashHistory`.\n",
    "It throws an error if the `update` is not a duplicate, otherwise it returns.\n",
    "TODO: does this algorithm need  `contemporaryHash` passed in?"
   ]
  },
  {
   "cell_type": "code",
   "execution_count": 68,
   "id": "77cc0858-f101-4514-ada2-715acbe3cd01",
   "metadata": {},
   "outputs": [],
   "source": [
    "def confirm_duplicate_update(update, updateHashHistory):\n",
    "\n",
    "    updateHash = sha256(jcs.canonicalize(update))\n",
    "    # Note: version starts at 1, index starts at 0\n",
    "    updateHashIndex = update[\"sourceVersionId\"] - 1\n",
    "    historicalUpdateHash = updateHashHistory[updateHashIndex]\n",
    "    if (historicalUpdateHash != updateHash):\n",
    "        raise Exception(\"Late Publishing Error\")\n",
    "    return    "
   ]
  },
  {
   "cell_type": "code",
   "execution_count": null,
   "id": "e2218983-577a-42d0-be1e-a4f142bd8610",
   "metadata": {},
   "outputs": [],
   "source": []
  },
  {
   "cell_type": "markdown",
   "id": "521b1759-31b2-4d33-a202-8fd75f6a94d3",
   "metadata": {},
   "source": [
    "# Apply DID Update\n",
    "\n",
    "This algorithm attempts to apply a DID Update to a DID document, it first\n",
    "verifies the proof on the update is a valid capabilityInvocation of the root\n",
    "authority over the DID being resolved. Then it applies the JSON patch\n",
    "transformation to the DID document, checks the transformed DID document\n",
    "matches the targetHash specified by the update and validates it is a conformant\n",
    "DID document before returning it. This algorithm takes inputs\n",
    "`contemporaryDIDDocument` and an `update`."
   ]
  },
  {
   "cell_type": "code",
   "execution_count": null,
   "id": "2e6db6d4-b1bd-44af-9977-017f400231bf",
   "metadata": {},
   "outputs": [],
   "source": []
  },
  {
   "cell_type": "code",
   "execution_count": null,
   "id": "915b04d9-9903-45b2-a50e-58cd70576d9a",
   "metadata": {},
   "outputs": [],
   "source": []
  },
  {
   "cell_type": "code",
   "execution_count": 76,
   "id": "7b4d067a-f705-4890-872d-5b59d6dff079",
   "metadata": {},
   "outputs": [
    {
     "name": "stdout",
     "output_type": "stream",
     "text": [
      "Bitcoin block at height :  1\n",
      "bcrt1q7rd6q9kf9tl4r5tv8sc9sm046yhry8g94crxqc\n",
      "Bitcoin block at height :  1\n",
      "bcrt1q7rd6q9kf9tl4r5tv8sc9sm046yhry8g94crxqc\n",
      "Bitcoin block at height :  1\n",
      "bcrt1q7rd6q9kf9tl4r5tv8sc9sm046yhry8g94crxqc\n",
      "Bitcoin block at height :  1\n",
      "bcrt1q7rd6q9kf9tl4r5tv8sc9sm046yhry8g94crxqc\n"
     ]
    }
   ],
   "source": [
    "for txid in block[\"tx\"]:\n",
    "    # 1. Fetch transaction for txid\n",
    "    tx_hex = await rpc.acall(\"getrawtransaction\", {\"txid\": \"f6ca3433fe6b015fabaf41412aa6857b7466969078a464fcd0a9605c0d38996b\"})\n",
    "    tx = Tx.parse_hex(tx_hex)\n",
    "    for tx_in in tx.tx_ins:    \n",
    "        # If tx_in is NOT a coinbase transaction\n",
    "        prev_txid = tx_in.prev_tx.hex()\n",
    "        if prev_txid != \"0000000000000000000000000000000000000000000000000000000000000000\":\n",
    "            prev_tx_hex = await rpc.acall(\"getrawtransaction\", {\"txid\": prev_txid})\n",
    "            prev_tx = Tx.parse_hex(prev_tx_hex)\n",
    "            spent_tx_output = prev_tx.tx_outs[tx_in.prev_index]\n",
    "            print(\"Bitcoin block at height : \", contemporaryBlockheight)\n",
    "            print(spent_tx_output.script_pubkey.address(network=\"regtest\"))"
   ]
  },
  {
   "cell_type": "code",
   "execution_count": null,
   "id": "d90057ae-245b-4881-8d93-3dc6ef87cb60",
   "metadata": {},
   "outputs": [],
   "source": []
  }
 ],
 "metadata": {
  "kernelspec": {
   "display_name": "Python 3 (ipykernel)",
   "language": "python",
   "name": "python3"
  },
  "language_info": {
   "codemirror_mode": {
    "name": "ipython",
    "version": 3
   },
   "file_extension": ".py",
   "mimetype": "text/x-python",
   "name": "python",
   "nbconvert_exporter": "python",
   "pygments_lexer": "ipython3",
   "version": "3.12.3"
  }
 },
 "nbformat": 4,
 "nbformat_minor": 5
}
