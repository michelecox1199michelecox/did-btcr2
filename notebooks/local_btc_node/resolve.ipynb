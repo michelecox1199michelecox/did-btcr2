{
 "cells": [
  {
   "cell_type": "markdown",
   "id": "ed9e6bb3-7b87-41b8-961c-8a5c6d6e8062",
   "metadata": {},
   "source": [
    "# Resolve did:btc1 from local Bitcoin node in regtest"
   ]
  },
  {
   "cell_type": "code",
   "execution_count": 1,
   "id": "b3105fcf-38cf-4ed0-8220-6058ded98991",
   "metadata": {},
   "outputs": [],
   "source": [
    "import sys\n",
    "import os\n",
    "\n",
    "notebooks_path = os.path.abspath(os.path.join(os.getcwd(), '..'))\n",
    "\n",
    "# Add the Notebooks directory to the sys.path\n",
    "sys.path.append(notebooks_path)"
   ]
  },
  {
   "cell_type": "code",
   "execution_count": 2,
   "id": "8270e724-04b2-49a1-84b6-1582972d1080",
   "metadata": {},
   "outputs": [],
   "source": [
    "sidecar_data = {'did': 'did:btc1:regtest:k1q2aehd6fnzu2p334mm5r38sfw70cpyklwg88yr9ct3u25wfdj3rkgf8sc6r',\n",
    " 'signals': {'082a88274939c2701a33dc6dc27b8af063bc26f749cad83cb760384c0bf1a4d2': {'updatePayload': {'@context': ['https://w3id.org/security/v2',\n",
    "     'https://w3id.org/zcap/v1',\n",
    "     'https://w3id.org/json-ld-patch/v1'],\n",
    "    'patch': [{'op': 'add',\n",
    "      'path': '/service/3',\n",
    "      'value': {'id': '#linked-domain',\n",
    "       'type': 'LinkedDomains',\n",
    "       'serviceEndpoint': 'https://contact-me.com'}}],\n",
    "    'sourceHash': '3PSk7NgH5jutsWjinEDJv1FpvgMoYNZCbQdnb8HqBLMX',\n",
    "    'targetHash': '9HjW9vPH4FApyEEqhjCV5L7jdJeKhbP9VJDWW7xFRmtr',\n",
    "    'targetVersionId': 2,\n",
    "    'proof': {'type': 'DataIntegrityProof',\n",
    "     'cryptosuite': 'schnorr-secp256k1-jcs-2025',\n",
    "     'verificationMethod': 'did:btc1:regtest:k1q2aehd6fnzu2p334mm5r38sfw70cpyklwg88yr9ct3u25wfdj3rkgf8sc6r#initialKey',\n",
    "     'proofPurpose': 'capabilityInvocation',\n",
    "     '@context': ['https://w3id.org/security/v2',\n",
    "      'https://w3id.org/zcap/v1',\n",
    "      'https://w3id.org/json-ld-patch/v1'],\n",
    "     'proofValue': 'z4S5nEKh4Aq7abZZVBnYbHy5mTWbBXDavCXmKHGH8EjhkGtv8BcuCfbHYwLxMEja9DzSXWCntn3V3nNZTzaMmn1US'}}}}}"
   ]
  },
  {
   "cell_type": "code",
   "execution_count": 3,
   "id": "749be095-d2a1-432b-9c54-5e09a9b338e7",
   "metadata": {},
   "outputs": [],
   "source": [
    "did_to_resolve = \"did:btc1:regtest:k1q2ddta4gt5n7u6d3xwhdyua57t6awrk55ut82qvurfm0qnrxx5nw7vnsy65\"\n",
    "\n",
    "resolutionOptions = {\"sidecarData\": sidecar_data}"
   ]
  },
  {
   "cell_type": "markdown",
   "id": "64c3e5e7-6be7-419b-91f7-50cff9714e01",
   "metadata": {},
   "source": [
    "## Parse did:btc1 identifier"
   ]
  },
  {
   "cell_type": "code",
   "execution_count": 4,
   "id": "b16876e3-3e8c-40ab-9f0e-5109d5974fef",
   "metadata": {},
   "outputs": [
    {
     "data": {
      "text/plain": [
       "(None,\n",
       " 'regtest',\n",
       " 'k1q2ddta4gt5n7u6d3xwhdyua57t6awrk55ut82qvurfm0qnrxx5nw7vnsy65',\n",
       " 'k1')"
      ]
     },
     "execution_count": 4,
     "metadata": {},
     "output_type": "execute_result"
    }
   ],
   "source": [
    "import re\n",
    "match = re.search(r\"^did:btc1:(?:(\\d+):)?(?:(mainnet|signet|testnet|regtest):)?((k1|x1)[023456789acdefghjklmnpqrstuvwxyz]*)$\", did_to_resolve)\n",
    "groups = match.groups()\n",
    "groups"
   ]
  },
  {
   "cell_type": "code",
   "execution_count": 5,
   "id": "362b3b1c-a969-4d7d-ac5f-26a7b5115e9e",
   "metadata": {},
   "outputs": [],
   "source": [
    "identifierComponents = {}\n",
    "\n",
    "identifierComponents[\"version\"] = groups[0] or 1\n",
    "identifierComponents[\"network\"] = groups[1] or \"mainnet\"\n",
    "\n",
    "\n"
   ]
  },
  {
   "cell_type": "code",
   "execution_count": 6,
   "id": "0060407d-0d59-4c63-8025-6ec1d0b23f0f",
   "metadata": {},
   "outputs": [],
   "source": [
    "from libbtc1.bech32 import decode_bech32_identifier\n",
    "\n",
    "bech32_encoding = groups[2]\n",
    "hrp, genesisBytes = decode_bech32_identifier(bech32_encoding)"
   ]
  },
  {
   "cell_type": "code",
   "execution_count": 7,
   "id": "3970600a-9935-42ac-a5cb-1d2c885a3abf",
   "metadata": {},
   "outputs": [],
   "source": [
    "identifierComponents[\"hrp\"] = hrp\n",
    "identifierComponents[\"genesisBytes\"] = genesisBytes"
   ]
  },
  {
   "cell_type": "code",
   "execution_count": 8,
   "id": "ab1f3f2e-1532-4535-bcb1-da16138b4926",
   "metadata": {},
   "outputs": [
    {
     "data": {
      "text/plain": [
       "{'version': 1,\n",
       " 'network': 'regtest',\n",
       " 'hrp': 'k',\n",
       " 'genesisBytes': b\"\\x02\\x9a\\xd5\\xf6\\xa8]'\\xeei\\xb13\\xae\\xd2s\\xb4\\xf2\\xf5\\xd7\\x0e\\xd4\\xa7\\x16u\\x01\\x9c\\x1av\\xf0Lf5&\\xef\"}"
      ]
     },
     "execution_count": 8,
     "metadata": {},
     "output_type": "execute_result"
    }
   ],
   "source": [
    "identifierComponents"
   ]
  },
  {
   "cell_type": "code",
   "execution_count": null,
   "id": "4acb7379-9a77-49ec-a3c2-1c160e5ef0af",
   "metadata": {},
   "outputs": [],
   "source": []
  },
  {
   "cell_type": "markdown",
   "id": "6a5e9abe-7e7a-4ad8-a1ae-1a8d7c56d4cc",
   "metadata": {},
   "source": [
    "## Resolve Initial Document\n",
    "\n",
    "This algorithm specifies how to resolve an initial DID document and validate\n",
    "it against the `identifier` for a specific **did:btc1**. The algorithm takes as\n",
    "inputs a **did:btc1** `identifier`, `identifierComponents` object and a\n",
    "`resolutionsOptions` object. This algorithm returns a valid `initialDocument`\n",
    "for that identifier."
   ]
  },
  {
   "cell_type": "code",
   "execution_count": 9,
   "id": "62f7e547-cba7-4ce2-a87a-a51cfa2eb071",
   "metadata": {},
   "outputs": [
    {
     "name": "stdout",
     "output_type": "stream",
     "text": [
      "k\n",
      "Deterministically Generate Initial DID Document\n"
     ]
    }
   ],
   "source": [
    "print(identifierComponents[\"hrp\"])\n",
    "if identifierComponents[\"hrp\"] == \"k\":\n",
    "    print(\"Deterministically Generate Initial DID Document\")"
   ]
  },
  {
   "cell_type": "code",
   "execution_count": 10,
   "id": "bc6a6cce-ec6c-482b-9bf7-e0263da49a7d",
   "metadata": {},
   "outputs": [],
   "source": [
    "from libbtc1.did import resolve_deterministic\n",
    "\n",
    "initial_document = resolve_deterministic(did_to_resolve, identifierComponents)"
   ]
  },
  {
   "cell_type": "code",
   "execution_count": 12,
   "id": "e5ee455c-5021-4f4c-9234-f738fc411128",
   "metadata": {},
   "outputs": [
    {
     "data": {
      "text/plain": [
       "{'id': 'did:btc1:regtest:k1q2ddta4gt5n7u6d3xwhdyua57t6awrk55ut82qvurfm0qnrxx5nw7vnsy65',\n",
       " '@context': ['https://www.w3.org/ns/did/v1', 'https://did-btc1/TBD/context'],\n",
       " 'verificationMethod': [{'id': '#initialKey',\n",
       "   'type': 'Multikey',\n",
       "   'controller': 'did:btc1:regtest:k1q2ddta4gt5n7u6d3xwhdyua57t6awrk55ut82qvurfm0qnrxx5nw7vnsy65',\n",
       "   'publicKeyMultibase': 'z66PwJnYvwJLhGrVc8vcuUkKs99sKCzYRM2HQ2gDCGTAStHk'}],\n",
       " 'authentication': ['#initialKey'],\n",
       " 'assertionMethod': ['#initialKey'],\n",
       " 'capabilityInvocation': ['#initialKey'],\n",
       " 'capabilityDelegation': ['#initialKey'],\n",
       " 'service': [{'id': '#initial_p2pkh',\n",
       "   'type': 'SingletonBeacon',\n",
       "   'serviceEndpoint': 'bitcoin:ms4wr9JokfjLPtBVHpMefXS6domSgEdHXf'},\n",
       "  {'id': '#initial_p2wpkh',\n",
       "   'type': 'SingletonBeacon',\n",
       "   'serviceEndpoint': 'bitcoin:bcrt1q06m9yn2kxgxg2mara55667958d0a6s2ksdc3dd'},\n",
       "  {'id': '#initial_p2tr',\n",
       "   'type': 'SingletonBeacon',\n",
       "   'serviceEndpoint': 'bitcoin:bcrt1psajngvjme0fkzv83m2ys80dhmya3nghph4h478ad2z5q564049jsuu7sng'}]}"
      ]
     },
     "execution_count": 12,
     "metadata": {},
     "output_type": "execute_result"
    }
   ],
   "source": [
    "initial_document"
   ]
  },
  {
   "cell_type": "markdown",
   "id": "9ec9e2ae-7b06-4f9e-b762-d59740e5eaf4",
   "metadata": {},
   "source": [
    "## Resolve Target Document\n",
    "\n",
    "This algorithm resolves a DID document from an initial document by walking the\n",
    "Bitcoin blockchain to identify Beacon Signals that announce DID Update Payloads\n",
    "applicable to the **did:btc1** identifier being resolved. The algorithm takes\n",
    "in an `initialDocument` and a set of `resolutionOptions`. The algorithm returns\n",
    "a valid `targetDocument` or throws an error.\n",
    "\n",
    "1. If `resolutionOptions.versionId` is not null, set `targetVersionId` to\n",
    "   `resolutionOptions.versionId`.\n",
    "1. Else if `resolutionOptions.versionTime` is not null, set `targetTime` to\n",
    "   `resolutionOptions.versionTime`.\n",
    "1. Set `targetBlockheight` to the result of passing `targetTime` to the algorithm\n",
    "   [Determine Target Blockheight].\n",
    "1. Set `sidecarData` to `resolutionOptions.sidecarData`.\n",
    "1. Set `currentVersionId` to 1.\n",
    "1. If `currentVersionId` equals `targetVersionId` return `initialDocument`.\n",
    "1. Set `updateHashHistory` to an empty array.\n",
    "1. Set `contemporaryBlockheight` to 0.\n",
    "1. Set `contemporaryDIDDocument` to the `initialDocument`.\n",
    "1. Set `targetDocument` to the result of calling the [Traverse Blockchain History]\n",
    "   algorithm passing in `contemporaryDIDDocument`, `contemporaryBlockheight`,\n",
    "   `currentVersionId`, `targetVersionId`, `targetBlockheight`, `updateHashHistory`, \n",
    "   and `sidecarData`.\n",
    "1. Return `targetDocument`."
   ]
  },
  {
   "cell_type": "markdown",
   "id": "bd3cdae7-7623-4a6f-a83b-d4dace97a6db",
   "metadata": {},
   "source": [
    "### 1. If resolutionOptions.versionId is not null, set targetVersionId to resolutionOptions.versionId.\n",
    "### 2. Else if `resolutionOptions.versionTime` is not null, set `targetTime` to `resolutionOptions.versionTime`."
   ]
  },
  {
   "cell_type": "code",
   "execution_count": 18,
   "id": "6e49c2b2-cc79-468d-98a5-09336732c331",
   "metadata": {},
   "outputs": [],
   "source": [
    "versionId = resolutionOptions.get(\"versionId\")\n",
    "versionTime = resolutionOptions.get(\"versionTime\")\n",
    "targetTime = None\n",
    "targetVersionId = None\n",
    "if versionId:\n",
    "    targetVersionId = versionId\n",
    "elif versionTime:\n",
    "    targetTime = versionTime"
   ]
  },
  {
   "cell_type": "markdown",
   "id": "e7d22af5-3c1f-400a-ab52-566f3e8bed30",
   "metadata": {},
   "source": [
    "### 3. Set targetBlockheight to the result of passing targetTime to the algorithm [Determine Target Blockheight]."
   ]
  },
  {
   "cell_type": "markdown",
   "id": "ebcea191-513c-4a5f-a28e-a8ce813b98ba",
   "metadata": {},
   "source": [
    "## Determine Target Blockheight\n",
    "\n",
    "This algorithm takes in an OPTIONAL Unix `targetTime` and returns a Bitcoin\n",
    "`blockheight`."
   ]
  },
  {
   "cell_type": "code",
   "execution_count": 27,
   "id": "fee93f2f-7c98-440c-86e0-a1bde2bb3adc",
   "metadata": {},
   "outputs": [
    {
     "name": "stdout",
     "output_type": "stream",
     "text": [
      "find latest block with at least x confimations\n"
     ]
    }
   ],
   "source": [
    "required_confirmations = 6\n",
    "if targetTime:\n",
    "    raise \"NotImplemented\"\n",
    "else:\n",
    "    print(\"find latest block with at least x confimations\")\n",
    "\n"
   ]
  },
  {
   "cell_type": "code",
   "execution_count": 28,
   "id": "862936d9-0343-48aa-a887-e82f0615ad4c",
   "metadata": {},
   "outputs": [
    {
     "data": {
      "text/plain": [
       "0"
      ]
     },
     "execution_count": 28,
     "metadata": {},
     "output_type": "execute_result"
    }
   ],
   "source": [
    "from bitcoinrpc import BitcoinRPC\n",
    "rpc = BitcoinRPC.from_config(\"http://localhost:18443\", (\"polaruser\", \"polarpass\"))\n",
    "await rpc.getconnectioncount()"
   ]
  },
  {
   "cell_type": "code",
   "execution_count": 34,
   "id": "8fcf1a97-6909-4081-ba1c-997a87baea07",
   "metadata": {},
   "outputs": [],
   "source": [
    "best_blockhash = await rpc.acall(\"getbestblockhash\", {})\n",
    "bestblock = await rpc.acall(\"getblock\", {\"blockhash\": best_blockhash})"
   ]
  },
  {
   "cell_type": "code",
   "execution_count": 35,
   "id": "e3f187df-d267-4291-9e04-aa17401fac2b",
   "metadata": {},
   "outputs": [],
   "source": [
    "confirmations = bestblock[\"confirmations\"]\n",
    "bestblock_height = bestblock[\"height\"]"
   ]
  },
  {
   "cell_type": "code",
   "execution_count": 36,
   "id": "d508e36c-dfe8-45a2-8bcd-6a9a0e351c47",
   "metadata": {},
   "outputs": [],
   "source": [
    "targetblockheight = bestblock_height + (confirmations - required_confirmations)"
   ]
  },
  {
   "cell_type": "code",
   "execution_count": 37,
   "id": "1da3f2ab-df94-4465-9af9-14e928f130dd",
   "metadata": {},
   "outputs": [
    {
     "data": {
      "text/plain": [
       "128"
      ]
     },
     "execution_count": 37,
     "metadata": {},
     "output_type": "execute_result"
    }
   ],
   "source": [
    "targetblockheight"
   ]
  },
  {
   "cell_type": "markdown",
   "id": "de88a87f-4340-452c-8e98-fcf86e257f88",
   "metadata": {},
   "source": [
    "### 4. Set `sidecarData` to `resolutionOptions.sidecarData`."
   ]
  },
  {
   "cell_type": "code",
   "execution_count": 39,
   "id": "59624a67-2cab-49cf-97bc-1d2fa19d94e6",
   "metadata": {},
   "outputs": [],
   "source": [
    "sidecarData = resolutionOptions[\"sidecarData\"]"
   ]
  },
  {
   "cell_type": "markdown",
   "id": "e07cd42f-b072-423b-bd94-614fdfc2f316",
   "metadata": {},
   "source": [
    "### 5. Set `currentVersionId` to 1.\n"
   ]
  },
  {
   "cell_type": "code",
   "execution_count": 40,
   "id": "65c1d6b2-1765-4a2c-87d2-f36b224c1fd9",
   "metadata": {},
   "outputs": [],
   "source": [
    "currentVersionId = 1"
   ]
  },
  {
   "cell_type": "markdown",
   "id": "750f2f7f-ce4a-476e-bdef-b671c6b37b91",
   "metadata": {},
   "source": [
    "### 6. If `currentVersionId` equals `targetVersionId` return `initialDocument`."
   ]
  },
  {
   "cell_type": "code",
   "execution_count": 41,
   "id": "d0697189-ee88-44da-b433-9ea1f040dc0f",
   "metadata": {},
   "outputs": [],
   "source": [
    "if currentVersionId == targetVersionId:\n",
    "    print(\"returning\", initial_document)"
   ]
  },
  {
   "cell_type": "markdown",
   "id": "99b6366c-8a6d-4007-8d71-5749e786864d",
   "metadata": {},
   "source": [
    "### 7. Set `updateHashHistory` to an empty array."
   ]
  },
  {
   "cell_type": "code",
   "execution_count": 42,
   "id": "315c5b0a-7cd8-49df-9e92-9f5dcb19c9b8",
   "metadata": {},
   "outputs": [],
   "source": [
    "updateHashHistory = []"
   ]
  },
  {
   "cell_type": "markdown",
   "id": "f5d55780-08b6-4796-9224-e85f125ca741",
   "metadata": {},
   "source": [
    "### 8. Set `contemporaryBlockheight` to 0."
   ]
  },
  {
   "cell_type": "code",
   "execution_count": null,
   "id": "b7bfab86-c243-4c8e-bbed-91a6237cdf61",
   "metadata": {},
   "outputs": [],
   "source": []
  }
 ],
 "metadata": {
  "kernelspec": {
   "display_name": "Python 3 (ipykernel)",
   "language": "python",
   "name": "python3"
  },
  "language_info": {
   "codemirror_mode": {
    "name": "ipython",
    "version": 3
   },
   "file_extension": ".py",
   "mimetype": "text/x-python",
   "name": "python",
   "nbconvert_exporter": "python",
   "pygments_lexer": "ipython3",
   "version": "3.12.3"
  }
 },
 "nbformat": 4,
 "nbformat_minor": 5
}
