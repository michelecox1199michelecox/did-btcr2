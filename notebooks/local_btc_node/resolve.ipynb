{
 "cells": [
  {
   "cell_type": "markdown",
   "id": "ed9e6bb3-7b87-41b8-961c-8a5c6d6e8062",
   "metadata": {},
   "source": [
    "# Resolve did:btc1 from local Bitcoin node in regtest"
   ]
  },
  {
   "cell_type": "code",
   "execution_count": 3,
   "id": "749be095-d2a1-432b-9c54-5e09a9b338e7",
   "metadata": {},
   "outputs": [],
   "source": [
    "did_to_resolve = \"did:btc1:regtest:k1q2ddta4gt5n7u6d3xwhdyua57t6awrk55ut82qvurfm0qnrxx5nw7vnsy65\""
   ]
  },
  {
   "cell_type": "markdown",
   "id": "64c3e5e7-6be7-419b-91f7-50cff9714e01",
   "metadata": {},
   "source": [
    "## Parse did:btc1 identifier"
   ]
  },
  {
   "cell_type": "code",
   "execution_count": 10,
   "id": "b16876e3-3e8c-40ab-9f0e-5109d5974fef",
   "metadata": {},
   "outputs": [],
   "source": [
    "import re\n",
    "match = re.search(r\"^did:btc1:(?:(\\d+):)?(?:(mainnet|signet|testnet|regtest):)?((k1|x1)[023456789acdefghjklmnpqrstuvwxyz]*)$\", did_to_resolve)\n"
   ]
  },
  {
   "cell_type": "code",
   "execution_count": 15,
   "id": "362b3b1c-a969-4d7d-ac5f-26a7b5115e9e",
   "metadata": {},
   "outputs": [
    {
     "data": {
      "text/plain": [
       "'k1'"
      ]
     },
     "execution_count": 15,
     "metadata": {},
     "output_type": "execute_result"
    }
   ],
   "source": [
    "match.groups()[3]"
   ]
  },
  {
   "cell_type": "markdown",
   "id": "6a5e9abe-7e7a-4ad8-a1ae-1a8d7c56d4cc",
   "metadata": {},
   "source": [
    "## Resolve Initial Document"
   ]
  },
  {
   "cell_type": "code",
   "execution_count": null,
   "id": "62f7e547-cba7-4ce2-a87a-a51cfa2eb071",
   "metadata": {},
   "outputs": [],
   "source": []
  },
  {
   "cell_type": "markdown",
   "id": "9ec9e2ae-7b06-4f9e-b762-d59740e5eaf4",
   "metadata": {},
   "source": [
    "## Resolve Target Document"
   ]
  },
  {
   "cell_type": "code",
   "execution_count": null,
   "id": "debf3a37-172f-4a8e-8d6e-e455b69ee88c",
   "metadata": {},
   "outputs": [],
   "source": []
  },
  {
   "cell_type": "code",
   "execution_count": 62,
   "id": "fee93f2f-7c98-440c-86e0-a1bde2bb3adc",
   "metadata": {},
   "outputs": [],
   "source": [
    "import asyncio\n",
    "\n",
    "from bitcoinrpc import BitcoinRPC"
   ]
  },
  {
   "cell_type": "code",
   "execution_count": 63,
   "id": "862936d9-0343-48aa-a887-e82f0615ad4c",
   "metadata": {},
   "outputs": [
    {
     "data": {
      "text/plain": [
       "0"
      ]
     },
     "execution_count": 63,
     "metadata": {},
     "output_type": "execute_result"
    }
   ],
   "source": [
    "rpc = BitcoinRPC.from_config(\"http://localhost:18443\", (\"polaruser\", \"polarpass\"))\n",
    "await rpc.getconnectioncount()"
   ]
  }
 ],
 "metadata": {
  "kernelspec": {
   "display_name": "Python 3 (ipykernel)",
   "language": "python",
   "name": "python3"
  },
  "language_info": {
   "codemirror_mode": {
    "name": "ipython",
    "version": 3
   },
   "file_extension": ".py",
   "mimetype": "text/x-python",
   "name": "python",
   "nbconvert_exporter": "python",
   "pygments_lexer": "ipython3",
   "version": "3.12.3"
  }
 },
 "nbformat": 4,
 "nbformat_minor": 5
}
