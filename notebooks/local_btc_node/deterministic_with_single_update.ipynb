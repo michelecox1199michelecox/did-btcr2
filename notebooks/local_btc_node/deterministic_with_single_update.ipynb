{
 "cells": [
  {
   "cell_type": "markdown",
   "id": "c076915f-5567-4aa7-a30f-3584903b9ad4",
   "metadata": {},
   "source": [
    "# Deterministic did:btc with a Update to a Singleton Beacon\n",
    "\n",
    "This notebook works through a basic example of creating a deterministic did:btc and then updating it by publishing an update to a singleton beacon. The example uses the regtest network and interfaces with a local bitcoin node over an RPC endpoint.\n",
    "\n",
    "It is recommended you run a local Bitcoin regtest network using the [Lightning Polar](https://lightningpolar.com/) application which provides a friendly GUI for interfacing with the network."
   ]
  },
  {
   "cell_type": "markdown",
   "id": "f4b30b14-a101-46f3-97ae-33b8739a6b5f",
   "metadata": {},
   "source": [
    "# 0. Initial Setup\n",
    "\n",
    "We do some initial setup to create a DID and an unsecuredDocument to be signed"
   ]
  },
  {
   "cell_type": "markdown",
   "id": "ec5945cc-7575-4e31-81e9-1883c73b39cf",
   "metadata": {},
   "source": [
    "## 0.1. Add libbtc1 python library to path"
   ]
  },
  {
   "cell_type": "code",
   "execution_count": 1,
   "id": "8b7f14f3-6bcc-4091-ba8c-76b7f6eeaf09",
   "metadata": {},
   "outputs": [],
   "source": [
    "import sys\n",
    "import os\n",
    "\n",
    "notebooks_path = os.path.abspath(os.path.join(os.getcwd(), '..'))\n",
    "\n",
    "# Add the Notebooks directory to the sys.path\n",
    "sys.path.append(notebooks_path)"
   ]
  },
  {
   "cell_type": "markdown",
   "id": "ded78a4e-d8e7-41a1-abd6-9b530d577f55",
   "metadata": {},
   "source": [
    "## 0.2. Create key pair"
   ]
  },
  {
   "cell_type": "code",
   "execution_count": 2,
   "id": "5a90a2d0-5b77-400b-8615-051e65d4265a",
   "metadata": {},
   "outputs": [],
   "source": [
    "from buidl.mnemonic import secure_mnemonic\n",
    "from buidl.hd import HDPrivateKey\n"
   ]
  },
  {
   "cell_type": "code",
   "execution_count": 3,
   "id": "a3a2642d-b210-4607-9be4-0e669fd0c3e4",
   "metadata": {},
   "outputs": [
    {
     "name": "stdout",
     "output_type": "stream",
     "text": [
      "Mnemonic :  game torch tell section ketchup ivory lawn guitar burden thought height raven volume diary charge borrow custom purity opera section hope senior chef sea\n"
     ]
    }
   ],
   "source": [
    "## Run this if you want a new hardware key\n",
    "mnemonic = secure_mnemonic()\n",
    "\n",
    "# mnemonic = \"prosper can dial lumber write coconut express imitate husband isolate inside release brush media please kind comic pill science repeat basic also endorse bronze\"\n",
    "root_hdpriv = HDPrivateKey.from_mnemonic(mnemonic, network=\"signet\")\n",
    "print(\"Mnemonic : \", mnemonic)"
   ]
  },
  {
   "cell_type": "code",
   "execution_count": 4,
   "id": "e29df6ae-654f-42c6-ac49-f63b24d01fe7",
   "metadata": {},
   "outputs": [
    {
     "name": "stdout",
     "output_type": "stream",
     "text": [
      "Secp256k1 PrivateKey 011620400ad8008eae2fe54ce94345a6f80b6845705ffb941d719c2e12951f8f\n",
      "Secp256k1 Public Key S256Point(036eaca63d04f3a8c1b701d63f60e2617e4fd0c4afff23f1d1cc932a1a1cbe3b89)\n"
     ]
    }
   ],
   "source": [
    "didkey_purpose = \"11\"\n",
    "\n",
    "initial_sk = root_hdpriv.get_private_key(didkey_purpose, address_num=2)\n",
    "initial_pk = initial_sk.point\n",
    "\n",
    "print(\"Secp256k1 PrivateKey\", initial_sk.hex())\n",
    "print(\"Secp256k1 Public Key\", initial_pk.__repr__())"
   ]
  },
  {
   "cell_type": "markdown",
   "id": "abddd0f4-cdf9-48ac-9a6a-0e8bcf15785d",
   "metadata": {},
   "source": [
    "## 1. Deterministically Create DID BTC1 "
   ]
  },
  {
   "cell_type": "code",
   "execution_count": 5,
   "id": "c79cc16f-1f6a-4098-a550-1f218daeb1b9",
   "metadata": {},
   "outputs": [],
   "source": [
    "from libbtc1.did import create_deterministic\n",
    "\n",
    "did_btc1, did_document = create_deterministic(initial_pk, network=\"regtest\")"
   ]
  },
  {
   "cell_type": "code",
   "execution_count": 6,
   "id": "cc4c4d7c-2514-4588-913e-549abf6eb5b2",
   "metadata": {},
   "outputs": [
    {
     "data": {
      "text/plain": [
       "'did:btc1:regtest:k1qdh2ef3aqne63sdhq8tr7c8zv9lyl5xy4llj8uw3ejfj5xsuhcacjq98ccc'"
      ]
     },
     "execution_count": 6,
     "metadata": {},
     "output_type": "execute_result"
    }
   ],
   "source": [
    "did_btc1"
   ]
  },
  {
   "cell_type": "code",
   "execution_count": 7,
   "id": "9ece4657-bbd1-48c0-9b96-fb2203bc1aa4",
   "metadata": {
    "scrolled": true
   },
   "outputs": [
    {
     "name": "stdout",
     "output_type": "stream",
     "text": [
      "{\n",
      "  \"id\": \"did:btc1:regtest:k1qdh2ef3aqne63sdhq8tr7c8zv9lyl5xy4llj8uw3ejfj5xsuhcacjq98ccc\",\n",
      "  \"@context\": [\n",
      "    \"https://www.w3.org/ns/did/v1\",\n",
      "    \"https://did-btc1/TBD/context\"\n",
      "  ],\n",
      "  \"verificationMethod\": [\n",
      "    {\n",
      "      \"id\": \"#initialKey\",\n",
      "      \"type\": \"Multikey\",\n",
      "      \"controller\": \"did:btc1:regtest:k1qdh2ef3aqne63sdhq8tr7c8zv9lyl5xy4llj8uw3ejfj5xsuhcacjq98ccc\",\n",
      "      \"publicKeyMultibase\": \"zQ3shn68faoXE2EqCTtefQXNLgaTa7ZohG2ftZjgXphStJsGc\"\n",
      "    }\n",
      "  ],\n",
      "  \"authentication\": [\n",
      "    \"#initialKey\"\n",
      "  ],\n",
      "  \"assertionMethod\": [\n",
      "    \"#initialKey\"\n",
      "  ],\n",
      "  \"capabilityInvocation\": [\n",
      "    \"#initialKey\"\n",
      "  ],\n",
      "  \"capabilityDelegation\": [\n",
      "    \"#initialKey\"\n",
      "  ],\n",
      "  \"service\": [\n",
      "    {\n",
      "      \"id\": \"#initialP2PKH\",\n",
      "      \"type\": \"SingletonBeacon\",\n",
      "      \"serviceEndpoint\": \"bitcoin:moFJwqLXBDmw4rnWQm9c3ag4kSdFxD5yiz\"\n",
      "    },\n",
      "    {\n",
      "      \"id\": \"#initialP2WPKH\",\n",
      "      \"type\": \"SingletonBeacon\",\n",
      "      \"serviceEndpoint\": \"bitcoin:bcrt1q2n9edlz3yehahctcj6p93lzznhz9m0kzp67ung\"\n",
      "    },\n",
      "    {\n",
      "      \"id\": \"#initialP2TR\",\n",
      "      \"type\": \"SingletonBeacon\",\n",
      "      \"serviceEndpoint\": \"bitcoin:bcrt1p6rs5tnq94rt4uu5edc9luahlkyphk30yk8smwfzurpc8ru06vcws8ylq7l\"\n",
      "    }\n",
      "  ]\n",
      "}\n"
     ]
    }
   ],
   "source": [
    "import json\n",
    "print(json.dumps(did_document, indent=2))"
   ]
  },
  {
   "cell_type": "markdown",
   "id": "0448f13c-e61e-49d5-96b3-068e3fcc514f",
   "metadata": {},
   "source": [
    "## 2 Create DID update payload\n",
    "\n",
    "- JSON Patch transformation from current document to new one \n",
    "- Bump version number\n",
    "\n",
    " "
   ]
  },
  {
   "cell_type": "code",
   "execution_count": 8,
   "id": "eff2cfeb-6b54-4527-a963-dd82b8fd97f0",
   "metadata": {},
   "outputs": [
    {
     "name": "stdout",
     "output_type": "stream",
     "text": [
      "[{'op': 'add', 'path': '/service/3', 'value': {'id': '#linked-domain', 'type': 'LinkedDomains', 'serviceEndpoint': 'https://contact-me.com'}}]\n"
     ]
    }
   ],
   "source": [
    "# This is saying add linkedDomanSE to the end of the service list of a json document.\n",
    "import copy\n",
    "# Adding a new service\n",
    "linked_domain = {\n",
    "    \"id\":\"#linked-domain\",\n",
    "    \"type\": \"LinkedDomains\", \n",
    "    \"serviceEndpoint\": \"https://contact-me.com\"    \n",
    "}\n",
    "\n",
    "\n",
    "service_path = f\"/service/{len(did_document[\"service\"])}\"\n",
    "\n",
    "update_patch = [{'op': 'add', 'path': service_path, 'value': linked_domain}]\n",
    "\n",
    "\n",
    "print(update_patch)"
   ]
  },
  {
   "cell_type": "code",
   "execution_count": 9,
   "id": "71c1c9e2-8e57-4b72-9920-89ad03b39722",
   "metadata": {},
   "outputs": [],
   "source": [
    "import jsonpatch\n",
    "\n",
    "patch = jsonpatch.JsonPatch(update_patch)\n",
    "\n",
    "v2_did_document = patch.apply(did_document)\n"
   ]
  },
  {
   "cell_type": "code",
   "execution_count": 10,
   "id": "142dab06-5103-40e5-a4f4-27295c17d693",
   "metadata": {},
   "outputs": [
    {
     "data": {
      "text/plain": [
       "{'id': 'did:btc1:regtest:k1qdh2ef3aqne63sdhq8tr7c8zv9lyl5xy4llj8uw3ejfj5xsuhcacjq98ccc',\n",
       " '@context': ['https://www.w3.org/ns/did/v1', 'https://did-btc1/TBD/context'],\n",
       " 'verificationMethod': [{'id': '#initialKey',\n",
       "   'type': 'Multikey',\n",
       "   'controller': 'did:btc1:regtest:k1qdh2ef3aqne63sdhq8tr7c8zv9lyl5xy4llj8uw3ejfj5xsuhcacjq98ccc',\n",
       "   'publicKeyMultibase': 'zQ3shn68faoXE2EqCTtefQXNLgaTa7ZohG2ftZjgXphStJsGc'}],\n",
       " 'authentication': ['#initialKey'],\n",
       " 'assertionMethod': ['#initialKey'],\n",
       " 'capabilityInvocation': ['#initialKey'],\n",
       " 'capabilityDelegation': ['#initialKey'],\n",
       " 'service': [{'id': '#initialP2PKH',\n",
       "   'type': 'SingletonBeacon',\n",
       "   'serviceEndpoint': 'bitcoin:moFJwqLXBDmw4rnWQm9c3ag4kSdFxD5yiz'},\n",
       "  {'id': '#initialP2WPKH',\n",
       "   'type': 'SingletonBeacon',\n",
       "   'serviceEndpoint': 'bitcoin:bcrt1q2n9edlz3yehahctcj6p93lzznhz9m0kzp67ung'},\n",
       "  {'id': '#initialP2TR',\n",
       "   'type': 'SingletonBeacon',\n",
       "   'serviceEndpoint': 'bitcoin:bcrt1p6rs5tnq94rt4uu5edc9luahlkyphk30yk8smwfzurpc8ru06vcws8ylq7l'},\n",
       "  {'id': '#linked-domain',\n",
       "   'type': 'LinkedDomains',\n",
       "   'serviceEndpoint': 'https://contact-me.com'}]}"
      ]
     },
     "execution_count": 10,
     "metadata": {},
     "output_type": "execute_result"
    }
   ],
   "source": [
    "v2_did_document"
   ]
  },
  {
   "cell_type": "code",
   "execution_count": 11,
   "id": "7afa122c-7123-4af6-b08d-a80212a7ce18",
   "metadata": {},
   "outputs": [],
   "source": [
    "# This is the first update\n",
    "# If you want to do another update you MUST bump the version\n",
    "from buidl.helper import encode_base58, sha256\n",
    "import jcs\n",
    "\n",
    "source_hash_bytes = sha256(jcs.canonicalize(did_document))\n",
    "source_hash = encode_base58(source_hash_bytes)\n",
    "target_hash_bytes = sha256(jcs.canonicalize(v2_did_document))\n",
    "target_hash = encode_base58(target_hash_bytes)\n",
    "targetVersionId = 2\n"
   ]
  },
  {
   "cell_type": "code",
   "execution_count": 12,
   "id": "938fe9ee-7293-454f-8ea9-c322aef0b6d7",
   "metadata": {},
   "outputs": [],
   "source": [
    "\n",
    "\n",
    "\n",
    "\n",
    "did_update_payload = {\n",
    "    '@context': [\n",
    "        'https://w3id.org/security/v2',\n",
    "        'https://w3id.org/zcap/v1',\n",
    "        'https://w3id.org/json-ld-patch/v1'\n",
    "        # TODO did:btc1 zcap context\n",
    "    ],\n",
    "    'patch': update_patch,\n",
    "    # TODO: this might not go here?\n",
    "    'sourceHash': source_hash,\n",
    "    'targetHash': target_hash,\n",
    "    'targetVersionId': targetVersionId\n",
    "};"
   ]
  },
  {
   "cell_type": "markdown",
   "id": "3fabd6fb-fffd-4d94-a3fa-e69178e91c5b",
   "metadata": {},
   "source": [
    "## C3. Create DID Update Invocation"
   ]
  },
  {
   "cell_type": "markdown",
   "id": "ddb45cac-e997-4164-aee8-1121e6e3047b",
   "metadata": {},
   "source": [
    "### C3.1 Deterministically Generate Root Capability for DID document\n",
    "\n",
    "This is a root capability for a specific did:btc1 to invoke a capability to update that did:btc's DID document"
   ]
  },
  {
   "cell_type": "code",
   "execution_count": 13,
   "id": "736299c0-0a5a-4f3d-a5fc-ee7eddc821ea",
   "metadata": {},
   "outputs": [
    {
     "data": {
      "text/plain": [
       "{'@context': 'https://w3id.org/security/v2',\n",
       " 'id': 'urn:zcap:root:did%3Abtc1%3Aregtest%3Ak1qdh2ef3aqne63sdhq8tr7c8zv9lyl5xy4llj8uw3ejfj5xsuhcacjq98ccc',\n",
       " 'controller': 'did:btc1:regtest:k1qdh2ef3aqne63sdhq8tr7c8zv9lyl5xy4llj8uw3ejfj5xsuhcacjq98ccc',\n",
       " 'invocationTarget': 'did:btc1:regtest:k1qdh2ef3aqne63sdhq8tr7c8zv9lyl5xy4llj8uw3ejfj5xsuhcacjq98ccc'}"
      ]
     },
     "execution_count": 13,
     "metadata": {},
     "output_type": "execute_result"
    }
   ],
   "source": [
    "import urllib\n",
    "root_capability = {\n",
    "  \"@context\": \"https://w3id.org/security/v2\",\n",
    "  \"id\": f\"urn:zcap:root:{urllib.parse.quote(did_btc1)}\",\n",
    "  \"controller\": did_btc1,\n",
    "  \"invocationTarget\": did_btc1\n",
    "};\n",
    "root_capability"
   ]
  },
  {
   "cell_type": "markdown",
   "id": "5960969e-1163-4e94-85c6-84101a4b9ff3",
   "metadata": {},
   "source": [
    "### C3.2 Invoke root capability over the DID update payload\n",
    "\n",
    "**Note:** There are no libraries for this in python. I have a separate POC that demonstrates how to achieve this using libraries for Digital Bazaar in JavaScript."
   ]
  },
  {
   "cell_type": "code",
   "execution_count": 18,
   "id": "5452d177-e273-4ef9-a302-0be0edf553f5",
   "metadata": {},
   "outputs": [],
   "source": []
  },
  {
   "cell_type": "code",
   "execution_count": 19,
   "id": "f79d7358-3e76-45a6-8d0d-95bec9a4d407",
   "metadata": {},
   "outputs": [],
   "source": [
    "from di_bip340.multikey import SchnorrSecp256k1Multikey\n",
    "from di_bip340.data_integrity_proof import DataIntegrityProof\n",
    "from di_bip340.cryptosuite import Bip340JcsCryptoSuite\n",
    "\n",
    "did_update_invocation = copy.deepcopy(did_update_payload)\n",
    "\n",
    "multikey = SchnorrSecp256k1Multikey(id=\"#initialKey\", controller=did_btc1, private_key=initial_sk)\n",
    "cryptosuite = Bip340JcsCryptoSuite(multikey)\n",
    "di_proof = DataIntegrityProof(cryptosuite)\n",
    "\n",
    "\n",
    "\n",
    "options = {\n",
    "        \"type\": \"DataIntegrityProof\",\n",
    "        \"cryptosuite\": \"bip340-jcs-2025\",\n",
    "        \"verificationMethod\": multikey.full_id(),\n",
    "        \"proofPurpose\": \"capabilityInvocation\",\n",
    "        \"capability\": root_capability[\"id\"],\n",
    "        \"capabilityAction\": \"Write\"\n",
    "}\n",
    "\n",
    "\n",
    "secured_did_update_payload = di_proof.add_proof(did_update_invocation, options)"
   ]
  },
  {
   "cell_type": "code",
   "execution_count": 22,
   "id": "1220efe8-3dd6-4cc4-b4f2-43eb66affaa3",
   "metadata": {},
   "outputs": [
    {
     "name": "stdout",
     "output_type": "stream",
     "text": [
      "{'@context': ['https://w3id.org/security/v2', 'https://w3id.org/zcap/v1', 'https://w3id.org/json-ld-patch/v1'], 'patch': [{'op': 'add', 'path': '/service/3', 'value': {'id': '#linked-domain', 'type': 'LinkedDomains', 'serviceEndpoint': 'https://contact-me.com'}}], 'sourceHash': '9kSA9j3z2X3a26yAdJi6nwg31qyfaHMCU1u81ZrkHirM', 'targetHash': 'C45TsdfkLZh5zL6pFfRmK93X4EdHusbCDwvt8d7Xs3dP', 'targetVersionId': 2, 'proof': {'type': 'DataIntegrityProof', 'cryptosuite': 'bip340-jcs-2025', 'verificationMethod': 'did:btc1:regtest:k1qdh2ef3aqne63sdhq8tr7c8zv9lyl5xy4llj8uw3ejfj5xsuhcacjq98ccc#initialKey', 'proofPurpose': 'capabilityInvocation', 'capability': 'urn:zcap:root:did%3Abtc1%3Aregtest%3Ak1qdh2ef3aqne63sdhq8tr7c8zv9lyl5xy4llj8uw3ejfj5xsuhcacjq98ccc', 'capabilityAction': 'Write', '@context': ['https://w3id.org/security/v2', 'https://w3id.org/zcap/v1', 'https://w3id.org/json-ld-patch/v1'], 'proofValue': 'z3yfzVGdoDF4s8y4Bk8JeV9XuZw1nMeMtNW3x5brEm7DNtmWZkNBPbCLzUBJRpctBj9QJL1dydm94ZNsPxosPnkPP'}}\n"
     ]
    }
   ],
   "source": [
    "print(secured_did_update_payload)"
   ]
  },
  {
   "cell_type": "markdown",
   "id": "db7ee0d4-382e-4068-a810-386da282ce7e",
   "metadata": {},
   "source": [
    "# Hash invocation\n",
    "\n",
    "Note: this might end up being an ipfs CID"
   ]
  },
  {
   "cell_type": "code",
   "execution_count": 23,
   "id": "0b82d4ae-61f6-4fe4-9cd4-7ee021ab15d8",
   "metadata": {},
   "outputs": [],
   "source": [
    "canonical_bytes = jcs.canonicalize(secured_did_update_payload)\n",
    "invocation_hash = sha256(canonical_bytes)"
   ]
  },
  {
   "cell_type": "markdown",
   "id": "63129e9a-fdc8-4630-9d66-712aefd7a21e",
   "metadata": {},
   "source": [
    "## Get beacon address"
   ]
  },
  {
   "cell_type": "code",
   "execution_count": 24,
   "id": "ae2b9c5b-0037-48e3-b437-13ea5dbb477d",
   "metadata": {},
   "outputs": [
    {
     "data": {
      "text/plain": [
       "'bcrt1q2n9edlz3yehahctcj6p93lzznhz9m0kzp67ung'"
      ]
     },
     "execution_count": 24,
     "metadata": {},
     "output_type": "execute_result"
    }
   ],
   "source": [
    "beacon_address = initial_pk.p2wpkh_address(network=\"regtest\")\n",
    "beacon_address"
   ]
  },
  {
   "cell_type": "markdown",
   "id": "2d5d5f28-950b-4b6b-a43e-db74f94f379c",
   "metadata": {},
   "source": [
    "## Connect to local RegTest Node"
   ]
  },
  {
   "cell_type": "code",
   "execution_count": 25,
   "id": "0639c655-0a18-404a-a0a2-11fb84e18c19",
   "metadata": {},
   "outputs": [],
   "source": [
    "import asyncio\n",
    "\n",
    "from bitcoinrpc import BitcoinRPC"
   ]
  },
  {
   "cell_type": "code",
   "execution_count": 26,
   "id": "2bd48c20-9d33-4467-a5ff-6b5401591188",
   "metadata": {},
   "outputs": [
    {
     "data": {
      "text/plain": [
       "0"
      ]
     },
     "execution_count": 26,
     "metadata": {},
     "output_type": "execute_result"
    }
   ],
   "source": [
    "rpc = BitcoinRPC.from_config(\"http://localhost:18443\", (\"polaruser\", \"polarpass\"))\n",
    "await rpc.getconnectioncount()"
   ]
  },
  {
   "cell_type": "code",
   "execution_count": 27,
   "id": "69117db9-f599-4ed3-8ac2-667e04e4fce0",
   "metadata": {},
   "outputs": [],
   "source": [
    "bitcoin_balance = await rpc.acall(\"getbalance\", {})"
   ]
  },
  {
   "cell_type": "code",
   "execution_count": 28,
   "id": "54f4ea67-6552-4900-ad9b-99393e09bce7",
   "metadata": {},
   "outputs": [
    {
     "data": {
      "text/plain": [
       "3347.1898026"
      ]
     },
     "execution_count": 28,
     "metadata": {},
     "output_type": "execute_result"
    }
   ],
   "source": [
    "bitcoin_balance"
   ]
  },
  {
   "cell_type": "markdown",
   "id": "aa7875d3-9778-4d27-b7a1-d2e285d9c753",
   "metadata": {},
   "source": [
    "## Fund Beacon address\n",
    "\n",
    "This makes an RPC call to the Bitcoin node and telling it to use its controlled funds to spend a Bitcoin transaction to a specific address with the value of 0.2 BTC. The result returns the bitcoin transaction ID."
   ]
  },
  {
   "cell_type": "code",
   "execution_count": 29,
   "id": "faf45e30-a1d2-4f51-9a58-b9757d95581b",
   "metadata": {},
   "outputs": [],
   "source": [
    "res = await rpc.acall(\"send\", {\"outputs\": { beacon_address: 0.2}})"
   ]
  },
  {
   "cell_type": "code",
   "execution_count": 30,
   "id": "1aa3685a-8a7f-42fe-b740-b42d14e244f9",
   "metadata": {},
   "outputs": [
    {
     "data": {
      "text/plain": [
       "'a4646b7d0d429a7f4c73d9e086a5b74c147e64219751a334c2767abdea7c5a89'"
      ]
     },
     "execution_count": 30,
     "metadata": {},
     "output_type": "execute_result"
    }
   ],
   "source": [
    "funding_txid = res[\"txid\"]\n",
    "funding_txid"
   ]
  },
  {
   "cell_type": "code",
   "execution_count": 31,
   "id": "4dfe0917-c0a9-41e9-bd02-7c4606205492",
   "metadata": {},
   "outputs": [
    {
     "data": {
      "text/plain": [
       "'02000000000101324824647d208d021a5c04c92634801e4ad451b58c5922c8ef0223b8bb044b950000000000fdffffff02a4ec451901000000160014e1788366ee8e07892b833e6cfef7a80ba10d35f9002d31010000000016001454cb96fc51266fdbe178968258fc429dc45dbec20247304402206a92ddcb98a29f0b5dfee273e0e78b70390491f7989100599badc077c49deb47022054ee8f4a39b6b476fc941c34defc9b14dfc405ee3667e816b4a536014ac35d94012103a601ea5609c246a1c477b4cfd1fc23ffaeaf742d8bd45d55c943f2581d83102b00000000'"
      ]
     },
     "execution_count": 31,
     "metadata": {},
     "output_type": "execute_result"
    }
   ],
   "source": [
    "funding_tx_hex = await rpc.acall(\"getrawtransaction\", {\"txid\": funding_txid})\n",
    "funding_tx_hex"
   ]
  },
  {
   "cell_type": "code",
   "execution_count": 32,
   "id": "316ee809-cbf3-4de7-8cc3-b6118c47564e",
   "metadata": {},
   "outputs": [
    {
     "data": {
      "text/plain": [
       "\n",
       "tx: a4646b7d0d429a7f4c73d9e086a5b74c147e64219751a334c2767abdea7c5a89\n",
       "version: 2\n",
       "locktime: 0\n",
       "tx_ins:\n",
       "954b04bbb82302efc822598cb551d44a1e803426c9045c1a028d207d64244832:0\n",
       "tx_outs:\n",
       "4718980260:OP_0 e1788366ee8e07892b833e6cfef7a80ba10d35f9 \n",
       "20000000:OP_0 54cb96fc51266fdbe178968258fc429dc45dbec2 "
      ]
     },
     "execution_count": 32,
     "metadata": {},
     "output_type": "execute_result"
    }
   ],
   "source": [
    "from buidl.tx import Tx\n",
    "funding_tx = Tx.parse_hex(funding_tx_hex)\n",
    "funding_tx"
   ]
  },
  {
   "cell_type": "markdown",
   "id": "b288b273-54ad-44db-bbf2-1ef6f851c0b3",
   "metadata": {},
   "source": [
    "## Construct Beacon Signal"
   ]
  },
  {
   "cell_type": "code",
   "execution_count": 33,
   "id": "4638eddb-023b-4fd3-8c6f-f7bf948011d1",
   "metadata": {},
   "outputs": [
    {
     "name": "stdout",
     "output_type": "stream",
     "text": [
      "Tx Input satoshis:  20000000\n"
     ]
    }
   ],
   "source": [
    "from buidl.tx import Tx, TxIn, TxOut, SIGHASH_DEFAULT\n",
    "\n",
    "# TODO: Need to fund a beacon address\n",
    "prev_tx = bytes.fromhex(funding_txid)  # Identifying funding tx\n",
    "prev_index = 1 # Identify funding output index\n",
    "\n",
    "\n",
    "tx_in = TxIn(prev_tx=prev_tx, prev_index=prev_index)\n",
    "\n",
    "# Hack the TxIn to know about the TxOut it is spending\n",
    "# This is to do with checks in the Buidl library \n",
    "tx_in._script_pubkey = funding_tx.tx_outs[prev_index].script_pubkey\n",
    "tx_in._value = funding_tx.tx_outs[prev_index].amount\n",
    "\n",
    "# from buidl.tx import URL\n",
    "# URL[\"regtest\"] = \"http://localhost:18443\"\n",
    "\n",
    "print(\"Tx Input satoshis: \",tx_in.value(network=\"regtest\"))"
   ]
  },
  {
   "cell_type": "code",
   "execution_count": 34,
   "id": "79abdc50-2cb3-44e0-a842-b42a3c472ca0",
   "metadata": {},
   "outputs": [],
   "source": [
    "from buidl.script import ScriptPubKey\n",
    "\n",
    "# This is the TxOutput of the SignletonBeacon beacon signal [OP_RETURN, OP_PUSH_32, <invocation_hash>]\n",
    "# It announces and attests to an update through the invocation_hash\n",
    "script_pubkey = ScriptPubKey([0x6a, invocation_hash])\n",
    "\n",
    "beacon_signal_txout = TxOut(0, script_pubkey)"
   ]
  },
  {
   "cell_type": "code",
   "execution_count": 35,
   "id": "28af7004-7dc2-4c09-9405-e6d09be4cc49",
   "metadata": {
    "scrolled": true
   },
   "outputs": [],
   "source": [
    "tx_fee = 350\n",
    "\n",
    "refund_amount = tx_in.value() - tx_fee\n",
    "\n",
    "script_pubkey = initial_pk.p2wpkh_script()\n",
    "refund_out = TxOut(amount=refund_amount, script_pubkey=script_pubkey)"
   ]
  },
  {
   "cell_type": "code",
   "execution_count": 36,
   "id": "d9cfad95-d9a3-4250-9dca-b0da8ee0f9b9",
   "metadata": {},
   "outputs": [
    {
     "name": "stdout",
     "output_type": "stream",
     "text": [
      "01000000000101895a7ceabd7a76c234a3519721647e144cb7a586e0d9734c7f9a420d7d6b64a40100000000ffffffff020000000000000000226a20335a39b28577022748ff4ce580a3a9e17d8824d6bb73fd01b6701e1564a8e01aa22b31010000000016001454cb96fc51266fdbe178968258fc429dc45dbec20000000000\n"
     ]
    }
   ],
   "source": [
    "tx_ins = [tx_in]\n",
    "\n",
    "tx_outs = [beacon_signal_txout,refund_out]\n",
    "\n",
    "pending_beacon_signal = Tx(version=1, tx_ins=tx_ins, tx_outs=tx_outs, network=\"regtest\",segwit=True)\n",
    "\n",
    "\n",
    "print(pending_beacon_signal.serialize().hex())"
   ]
  },
  {
   "cell_type": "markdown",
   "id": "dc99c371-2f5c-49b6-a85f-4c67c257ad74",
   "metadata": {},
   "source": [
    "## Sign Beacon Signal"
   ]
  },
  {
   "cell_type": "code",
   "execution_count": 37,
   "id": "2c102420-9147-477a-8ead-93b121cb8338",
   "metadata": {},
   "outputs": [
    {
     "data": {
      "text/plain": [
       "True"
      ]
     },
     "execution_count": 37,
     "metadata": {},
     "output_type": "execute_result"
    }
   ],
   "source": [
    "pending_beacon_signal.sign_input(0, initial_sk)"
   ]
  },
  {
   "cell_type": "code",
   "execution_count": 38,
   "id": "1efc06a7-fb9e-4bfb-b67d-cf5f82b26cba",
   "metadata": {},
   "outputs": [],
   "source": [
    "signed_hex = pending_beacon_signal.serialize().hex()"
   ]
  },
  {
   "cell_type": "markdown",
   "id": "5344413c-c489-4381-8194-556a1fa15f3e",
   "metadata": {},
   "source": [
    "## Broadcast Beacon Signal"
   ]
  },
  {
   "cell_type": "code",
   "execution_count": 39,
   "id": "15051dde-2dcf-47ec-8e1a-5f50d5586021",
   "metadata": {},
   "outputs": [],
   "source": [
    "signal_id = await rpc.acall(\"sendrawtransaction\", {\"hexstring\": signed_hex})"
   ]
  },
  {
   "cell_type": "code",
   "execution_count": 40,
   "id": "a4b720c0-43ab-4dfe-8d63-7c754105dee8",
   "metadata": {},
   "outputs": [
    {
     "data": {
      "text/plain": [
       "'5f8cd13f39fa509b1cdfdc7c6588b6cda99e82202e9498dff9f37dc99d4a1e10'"
      ]
     },
     "execution_count": 40,
     "metadata": {},
     "output_type": "execute_result"
    }
   ],
   "source": [
    "signal_id"
   ]
  },
  {
   "cell_type": "code",
   "execution_count": 41,
   "id": "bbd76675-0071-4fb5-96cc-080e26415704",
   "metadata": {},
   "outputs": [],
   "source": [
    "sidecar_data = {\n",
    "    \"did\": did_btc1,\n",
    "    \"signalsMetadata\": {}\n",
    "\n",
    "}"
   ]
  },
  {
   "cell_type": "code",
   "execution_count": 42,
   "id": "2b30e968-dd4c-4684-813a-8c72eea5b9d3",
   "metadata": {},
   "outputs": [],
   "source": [
    "sidecar_data[\"signalsMetadata\"][signal_id] = {\n",
    "    \"updatePayload\": secured_did_update_payload\n",
    "}"
   ]
  },
  {
   "cell_type": "code",
   "execution_count": 43,
   "id": "82706491-8f5f-4533-bb40-830014b6bb1a",
   "metadata": {},
   "outputs": [
    {
     "name": "stdout",
     "output_type": "stream",
     "text": [
      "{\n",
      "  \"did\": \"did:btc1:regtest:k1qdh2ef3aqne63sdhq8tr7c8zv9lyl5xy4llj8uw3ejfj5xsuhcacjq98ccc\",\n",
      "  \"signalsMetadata\": {\n",
      "    \"5f8cd13f39fa509b1cdfdc7c6588b6cda99e82202e9498dff9f37dc99d4a1e10\": {\n",
      "      \"updatePayload\": {\n",
      "        \"@context\": [\n",
      "          \"https://w3id.org/security/v2\",\n",
      "          \"https://w3id.org/zcap/v1\",\n",
      "          \"https://w3id.org/json-ld-patch/v1\"\n",
      "        ],\n",
      "        \"patch\": [\n",
      "          {\n",
      "            \"op\": \"add\",\n",
      "            \"path\": \"/service/3\",\n",
      "            \"value\": {\n",
      "              \"id\": \"#linked-domain\",\n",
      "              \"type\": \"LinkedDomains\",\n",
      "              \"serviceEndpoint\": \"https://contact-me.com\"\n",
      "            }\n",
      "          }\n",
      "        ],\n",
      "        \"sourceHash\": \"9kSA9j3z2X3a26yAdJi6nwg31qyfaHMCU1u81ZrkHirM\",\n",
      "        \"targetHash\": \"C45TsdfkLZh5zL6pFfRmK93X4EdHusbCDwvt8d7Xs3dP\",\n",
      "        \"targetVersionId\": 2,\n",
      "        \"proof\": {\n",
      "          \"type\": \"DataIntegrityProof\",\n",
      "          \"cryptosuite\": \"bip340-jcs-2025\",\n",
      "          \"verificationMethod\": \"did:btc1:regtest:k1qdh2ef3aqne63sdhq8tr7c8zv9lyl5xy4llj8uw3ejfj5xsuhcacjq98ccc#initialKey\",\n",
      "          \"proofPurpose\": \"capabilityInvocation\",\n",
      "          \"capability\": \"urn:zcap:root:did%3Abtc1%3Aregtest%3Ak1qdh2ef3aqne63sdhq8tr7c8zv9lyl5xy4llj8uw3ejfj5xsuhcacjq98ccc\",\n",
      "          \"capabilityAction\": \"Write\",\n",
      "          \"@context\": [\n",
      "            \"https://w3id.org/security/v2\",\n",
      "            \"https://w3id.org/zcap/v1\",\n",
      "            \"https://w3id.org/json-ld-patch/v1\"\n",
      "          ],\n",
      "          \"proofValue\": \"z3yfzVGdoDF4s8y4Bk8JeV9XuZw1nMeMtNW3x5brEm7DNtmWZkNBPbCLzUBJRpctBj9QJL1dydm94ZNsPxosPnkPP\"\n",
      "        }\n",
      "      }\n",
      "    }\n",
      "  }\n",
      "}\n"
     ]
    }
   ],
   "source": [
    "print(json.dumps(sidecar_data, indent=2))"
   ]
  },
  {
   "cell_type": "code",
   "execution_count": null,
   "id": "061068ca-cd95-49a2-9f72-c69bc1a414c1",
   "metadata": {},
   "outputs": [],
   "source": []
  },
  {
   "cell_type": "code",
   "execution_count": null,
   "id": "1db61296-bab3-416d-90be-e3bd426bdcea",
   "metadata": {},
   "outputs": [],
   "source": []
  },
  {
   "cell_type": "code",
   "execution_count": null,
   "id": "43115d1d-e695-460c-ad59-294bfed1e383",
   "metadata": {},
   "outputs": [],
   "source": []
  },
  {
   "cell_type": "code",
   "execution_count": null,
   "id": "1d105251-4091-4fa3-aa80-9e452de37db0",
   "metadata": {},
   "outputs": [],
   "source": []
  },
  {
   "cell_type": "code",
   "execution_count": null,
   "id": "53315967-cb8b-469e-8345-ea8144691fd2",
   "metadata": {},
   "outputs": [],
   "source": []
  },
  {
   "cell_type": "code",
   "execution_count": null,
   "id": "37902913-d3f3-4272-b208-148316ae2022",
   "metadata": {},
   "outputs": [],
   "source": []
  }
 ],
 "metadata": {
  "kernelspec": {
   "display_name": "Python 3 (ipykernel)",
   "language": "python",
   "name": "python3"
  },
  "language_info": {
   "codemirror_mode": {
    "name": "ipython",
    "version": 3
   },
   "file_extension": ".py",
   "mimetype": "text/x-python",
   "name": "python",
   "nbconvert_exporter": "python",
   "pygments_lexer": "ipython3",
   "version": "3.12.3"
  }
 },
 "nbformat": 4,
 "nbformat_minor": 5
}
