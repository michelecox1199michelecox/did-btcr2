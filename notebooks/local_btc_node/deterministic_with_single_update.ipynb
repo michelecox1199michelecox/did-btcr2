{
 "cells": [
  {
   "cell_type": "markdown",
   "id": "c076915f-5567-4aa7-a30f-3584903b9ad4",
   "metadata": {},
   "source": [
    "# Deterministic did:btc with a Update to a Singleton Beacon\n",
    "\n",
    "This notebook works through a basic example of creating a deterministic did:btc and then updating it by publishing an update to a singleton beacon. The example uses the regtest network and interfaces with a local bitcoin node over an RPC endpoint.\n",
    "\n",
    "It is recommended you run a local Bitcoin regtest network using the [Lightning Polar](https://lightningpolar.com/) application which provides a friendly GUI for interfacing with the network."
   ]
  },
  {
   "cell_type": "markdown",
   "id": "f4b30b14-a101-46f3-97ae-33b8739a6b5f",
   "metadata": {},
   "source": [
    "# 0. Initial Setup\n",
    "\n",
    "We do some initial setup to create a DID and an unsecuredDocument to be signed"
   ]
  },
  {
   "cell_type": "markdown",
   "id": "ec5945cc-7575-4e31-81e9-1883c73b39cf",
   "metadata": {},
   "source": [
    "## 0.1. Add libbtc1 python library to path"
   ]
  },
  {
   "cell_type": "code",
   "execution_count": 1,
   "id": "8b7f14f3-6bcc-4091-ba8c-76b7f6eeaf09",
   "metadata": {},
   "outputs": [],
   "source": [
    "import sys\n",
    "import os\n",
    "\n",
    "notebooks_path = os.path.abspath(os.path.join(os.getcwd(), '..'))\n",
    "\n",
    "# Add the Notebooks directory to the sys.path\n",
    "sys.path.append(notebooks_path)"
   ]
  },
  {
   "cell_type": "markdown",
   "id": "ded78a4e-d8e7-41a1-abd6-9b530d577f55",
   "metadata": {},
   "source": [
    "## 0.2. Create key pair"
   ]
  },
  {
   "cell_type": "code",
   "execution_count": 2,
   "id": "5a90a2d0-5b77-400b-8615-051e65d4265a",
   "metadata": {},
   "outputs": [],
   "source": [
    "from buidl.mnemonic import secure_mnemonic\n",
    "from buidl.hd import HDPrivateKey\n"
   ]
  },
  {
   "cell_type": "code",
   "execution_count": 3,
   "id": "a3a2642d-b210-4607-9be4-0e669fd0c3e4",
   "metadata": {},
   "outputs": [
    {
     "name": "stdout",
     "output_type": "stream",
     "text": [
      "Mnemonic :  piece foster struggle verb neglect provide thought emerge write crane sing glance blanket gossip blue predict find wrist envelope museum reward castle ostrich ritual\n"
     ]
    }
   ],
   "source": [
    "## Run this if you want a new hardware key\n",
    "mnemonic = secure_mnemonic()\n",
    "\n",
    "# mnemonic = \"prosper can dial lumber write coconut express imitate husband isolate inside release brush media please kind comic pill science repeat basic also endorse bronze\"\n",
    "root_hdpriv = HDPrivateKey.from_mnemonic(mnemonic, network=\"signet\")\n",
    "print(\"Mnemonic : \", mnemonic)"
   ]
  },
  {
   "cell_type": "code",
   "execution_count": 4,
   "id": "e29df6ae-654f-42c6-ac49-f63b24d01fe7",
   "metadata": {},
   "outputs": [
    {
     "name": "stdout",
     "output_type": "stream",
     "text": [
      "Secp256k1 PrivateKey e8cda54a01a42cc9235128e0a0040c7237b7ff290ee35ec1c37ba56021831239\n",
      "Secp256k1 Public Key S256Point(03de899ca0ce1ebd49e30f5884a061bdfcbdf0a1790541066e70f29a4cf4ea8f66)\n"
     ]
    }
   ],
   "source": [
    "didkey_purpose = \"11\"\n",
    "\n",
    "initial_sk = root_hdpriv.get_private_key(didkey_purpose, address_num=2)\n",
    "initial_pk = initial_sk.point\n",
    "\n",
    "print(\"Secp256k1 PrivateKey\", initial_sk.hex())\n",
    "print(\"Secp256k1 Public Key\", initial_pk.__repr__())"
   ]
  },
  {
   "cell_type": "markdown",
   "id": "abddd0f4-cdf9-48ac-9a6a-0e8bcf15785d",
   "metadata": {},
   "source": [
    "## 1. Deterministically Create DID BTC1 "
   ]
  },
  {
   "cell_type": "code",
   "execution_count": 5,
   "id": "c79cc16f-1f6a-4098-a550-1f218daeb1b9",
   "metadata": {},
   "outputs": [],
   "source": [
    "from libbtc1.did import create_deterministic\n",
    "\n",
    "did_btc1, did_document = create_deterministic(initial_pk, network=\"regtest\")"
   ]
  },
  {
   "cell_type": "code",
   "execution_count": 6,
   "id": "cc4c4d7c-2514-4588-913e-549abf6eb5b2",
   "metadata": {},
   "outputs": [
    {
     "data": {
      "text/plain": [
       "'did:btc1:regtest:k1q00gn89qec0t6j0rpavgfgrphh7tmu9p0yz5zpnwwref5n85a28kvnu9laf'"
      ]
     },
     "execution_count": 6,
     "metadata": {},
     "output_type": "execute_result"
    }
   ],
   "source": [
    "did_btc1"
   ]
  },
  {
   "cell_type": "code",
   "execution_count": 7,
   "id": "9ece4657-bbd1-48c0-9b96-fb2203bc1aa4",
   "metadata": {
    "scrolled": true
   },
   "outputs": [
    {
     "name": "stdout",
     "output_type": "stream",
     "text": [
      "{\n",
      "  \"id\": \"did:btc1:regtest:k1q00gn89qec0t6j0rpavgfgrphh7tmu9p0yz5zpnwwref5n85a28kvnu9laf\",\n",
      "  \"@context\": [\n",
      "    \"https://www.w3.org/ns/did/v1\",\n",
      "    \"https://did-btc1/TBD/context\"\n",
      "  ],\n",
      "  \"verificationMethod\": [\n",
      "    {\n",
      "      \"id\": \"#initialKey\",\n",
      "      \"type\": \"Multikey\",\n",
      "      \"controller\": \"did:btc1:regtest:k1q00gn89qec0t6j0rpavgfgrphh7tmu9p0yz5zpnwwref5n85a28kvnu9laf\",\n",
      "      \"publicKeyMultibase\": \"z66Q1s4kPncjiPQrssyHkcbTFdHC6vi3nf3B1Hsxg8qFwuoT\"\n",
      "    }\n",
      "  ],\n",
      "  \"authentication\": [\n",
      "    \"#initialKey\"\n",
      "  ],\n",
      "  \"assertionMethod\": [\n",
      "    \"#initialKey\"\n",
      "  ],\n",
      "  \"capabilityInvocation\": [\n",
      "    \"#initialKey\"\n",
      "  ],\n",
      "  \"capabilityDelegation\": [\n",
      "    \"#initialKey\"\n",
      "  ],\n",
      "  \"service\": [\n",
      "    {\n",
      "      \"id\": \"#initial_p2pkh\",\n",
      "      \"type\": \"SingletonBeacon\",\n",
      "      \"serviceEndpoint\": \"bitcoin:n3UVZvtnA64AGQBaMcnM9Bohts9tsbudVm\"\n",
      "    },\n",
      "    {\n",
      "      \"id\": \"#initial_p2wpkh\",\n",
      "      \"type\": \"SingletonBeacon\",\n",
      "      \"serviceEndpoint\": \"bitcoin:bcrt1q7rd6q9kf9tl4r5tv8sc9sm046yhry8g94crxqc\"\n",
      "    },\n",
      "    {\n",
      "      \"id\": \"#initial_p2tr\",\n",
      "      \"type\": \"SingletonBeacon\",\n",
      "      \"serviceEndpoint\": \"bitcoin:bcrt1pn5pc3em9vw9vw3l3g28tg2nfa2h09efrlq3x3cgmsz6qw2lxuv2sdypydk\"\n",
      "    }\n",
      "  ]\n",
      "}\n"
     ]
    }
   ],
   "source": [
    "import json\n",
    "print(json.dumps(did_document, indent=2))"
   ]
  },
  {
   "cell_type": "markdown",
   "id": "0448f13c-e61e-49d5-96b3-068e3fcc514f",
   "metadata": {},
   "source": [
    "## 2 Create DID update payload\n",
    "\n",
    "- JSON Patch transformation from current document to new one \n",
    "- Bump version number\n",
    "\n",
    " "
   ]
  },
  {
   "cell_type": "code",
   "execution_count": 8,
   "id": "eff2cfeb-6b54-4527-a963-dd82b8fd97f0",
   "metadata": {},
   "outputs": [
    {
     "name": "stdout",
     "output_type": "stream",
     "text": [
      "[{'op': 'add', 'path': '/service/3', 'value': {'id': '#linked-domain', 'type': 'LinkedDomains', 'serviceEndpoint': 'https://contact-me.com'}}]\n"
     ]
    }
   ],
   "source": [
    "# This is saying add linkedDomanSE to the end of the service list of a json document.\n",
    "import copy\n",
    "# Adding a new service\n",
    "linked_domain = {\n",
    "    \"id\":\"#linked-domain\",\n",
    "    \"type\": \"LinkedDomains\", \n",
    "    \"serviceEndpoint\": \"https://contact-me.com\"    \n",
    "}\n",
    "\n",
    "\n",
    "service_path = f\"/service/{len(did_document[\"service\"])}\"\n",
    "\n",
    "update_patch = [{'op': 'add', 'path': service_path, 'value': linked_domain}]\n",
    "\n",
    "\n",
    "print(update_patch)"
   ]
  },
  {
   "cell_type": "code",
   "execution_count": 9,
   "id": "71c1c9e2-8e57-4b72-9920-89ad03b39722",
   "metadata": {},
   "outputs": [],
   "source": [
    "import jsonpatch\n",
    "\n",
    "patch = jsonpatch.JsonPatch(update_patch)\n",
    "\n",
    "v2_did_document = patch.apply(did_document)\n"
   ]
  },
  {
   "cell_type": "code",
   "execution_count": 10,
   "id": "7afa122c-7123-4af6-b08d-a80212a7ce18",
   "metadata": {},
   "outputs": [],
   "source": [
    "# This is the first update\n",
    "# If you want to do another update you MUST bump the version\n",
    "from buidl.helper import encode_base58, sha256\n",
    "import jcs\n",
    "\n",
    "source_hash_bytes = sha256(jcs.canonicalize(did_document))\n",
    "source_hash = encode_base58(source_hash_bytes)\n",
    "target_hash_bytes = sha256(jcs.canonicalize(v2_did_document))\n",
    "target_hash = encode_base58(target_hash_bytes)\n",
    "targetVersionId = 2\n"
   ]
  },
  {
   "cell_type": "code",
   "execution_count": 11,
   "id": "938fe9ee-7293-454f-8ea9-c322aef0b6d7",
   "metadata": {},
   "outputs": [],
   "source": [
    "\n",
    "\n",
    "\n",
    "\n",
    "did_update_payload = {\n",
    "    '@context': [\n",
    "        'https://w3id.org/security/v2',\n",
    "        'https://w3id.org/zcap/v1',\n",
    "        'https://w3id.org/json-ld-patch/v1'\n",
    "        # TODO did:btc1 zcap context\n",
    "    ],\n",
    "    'patch': update_patch,\n",
    "    # TODO: this might not go here?\n",
    "    'sourceHash': source_hash,\n",
    "    'targetHash': target_hash,\n",
    "    'targetVersionId': targetVersionId\n",
    "};"
   ]
  },
  {
   "cell_type": "markdown",
   "id": "3fabd6fb-fffd-4d94-a3fa-e69178e91c5b",
   "metadata": {},
   "source": [
    "## C3. Create DID Update Invocation"
   ]
  },
  {
   "cell_type": "markdown",
   "id": "ddb45cac-e997-4164-aee8-1121e6e3047b",
   "metadata": {},
   "source": [
    "### C3.1 Deterministically Generate Root Capability for DID document\n",
    "\n",
    "This is a root capability for a specific did:btc1 to invoke a capability to update that did:btc's DID document"
   ]
  },
  {
   "cell_type": "code",
   "execution_count": 12,
   "id": "736299c0-0a5a-4f3d-a5fc-ee7eddc821ea",
   "metadata": {},
   "outputs": [
    {
     "data": {
      "text/plain": [
       "{'@context': 'https://w3id.org/security/v2',\n",
       " 'id': 'urn:zcap:root:did%3Abtc1%3Aregtest%3Ak1q00gn89qec0t6j0rpavgfgrphh7tmu9p0yz5zpnwwref5n85a28kvnu9laf',\n",
       " 'controller': 'did:btc1:regtest:k1q00gn89qec0t6j0rpavgfgrphh7tmu9p0yz5zpnwwref5n85a28kvnu9laf',\n",
       " 'invocationTarget': 'did:btc1:regtest:k1q00gn89qec0t6j0rpavgfgrphh7tmu9p0yz5zpnwwref5n85a28kvnu9laf'}"
      ]
     },
     "execution_count": 12,
     "metadata": {},
     "output_type": "execute_result"
    }
   ],
   "source": [
    "import urllib\n",
    "root_capability = {\n",
    "  \"@context\": \"https://w3id.org/security/v2\",\n",
    "  \"id\": f\"urn:zcap:root:{urllib.parse.quote(did_btc1)}\",\n",
    "  \"controller\": did_btc1,\n",
    "  \"invocationTarget\": did_btc1\n",
    "};\n",
    "root_capability"
   ]
  },
  {
   "cell_type": "markdown",
   "id": "5960969e-1163-4e94-85c6-84101a4b9ff3",
   "metadata": {},
   "source": [
    "### C3.2 Invoke root capability over the DID update payload\n",
    "\n",
    "**Note:** There are no libraries for this in python. I have a separate POC that demonstrates how to achieve this using libraries for Digital Bazaar in JavaScript."
   ]
  },
  {
   "cell_type": "code",
   "execution_count": 13,
   "id": "f79d7358-3e76-45a6-8d0d-95bec9a4d407",
   "metadata": {},
   "outputs": [],
   "source": [
    "from di_schnorr_secp256k1.multikey import SchnorrSecp256k1Multikey\n",
    "from di_schnorr_secp256k1.data_integrity_proof import DataIntegrityProof\n",
    "from di_schnorr_secp256k1.cryptosuite import SchnorrSecp256k1JcsCryptoSuite\n",
    "\n",
    "did_update_invocation = copy.deepcopy(did_update_payload)\n",
    "\n",
    "multikey = SchnorrSecp256k1Multikey(id=\"#initialKey\", controller=did_btc1, private_key=initial_sk)\n",
    "cryptosuite = SchnorrSecp256k1JcsCryptoSuite(multikey)\n",
    "di_proof = DataIntegrityProof(cryptosuite)\n",
    "\n",
    "\n",
    "\n",
    "options = {\n",
    "        \"type\": \"DataIntegrityProof\",\n",
    "        \"cryptosuite\": \"schnorr-secp256k1-jcs-2025\",\n",
    "        \"verificationMethod\": multikey.full_id(),\n",
    "        \"proofPurpose\": \"capabilityInvocation\"\n",
    "}\n",
    "\n",
    "\n",
    "secured_did_update_payload = di_proof.add_proof(did_update_invocation, options)"
   ]
  },
  {
   "cell_type": "code",
   "execution_count": 14,
   "id": "1220efe8-3dd6-4cc4-b4f2-43eb66affaa3",
   "metadata": {},
   "outputs": [
    {
     "name": "stdout",
     "output_type": "stream",
     "text": [
      "{'@context': ['https://w3id.org/security/v2', 'https://w3id.org/zcap/v1', 'https://w3id.org/json-ld-patch/v1'], 'patch': [{'op': 'add', 'path': '/service/3', 'value': {'id': '#linked-domain', 'type': 'LinkedDomains', 'serviceEndpoint': 'https://contact-me.com'}}], 'sourceHash': '5XcoqeTqmXAYu89hKCNcoWE2R5wQjqze8QrG9HtMmAdC', 'targetHash': 'J9igy4rwejytESdSvqEvFpa8ZvaT8tVwBodyjDrr1KiQ', 'targetVersionId': 2, 'proof': {'type': 'DataIntegrityProof', 'cryptosuite': 'schnorr-secp256k1-jcs-2025', 'verificationMethod': 'did:btc1:regtest:k1q00gn89qec0t6j0rpavgfgrphh7tmu9p0yz5zpnwwref5n85a28kvnu9laf#initialKey', 'proofPurpose': 'capabilityInvocation', '@context': ['https://w3id.org/security/v2', 'https://w3id.org/zcap/v1', 'https://w3id.org/json-ld-patch/v1'], 'proofValue': 'z5pz3vvVjHp1Eaip4AwTeurhKPpozkQxD9xpShcZ8DQ8Ez28VyZyaiUQjtb5W7ugmsJ8BzeomYNpJQfXA4j7hMfaX'}}\n"
     ]
    }
   ],
   "source": [
    "print(secured_did_update_payload)"
   ]
  },
  {
   "cell_type": "markdown",
   "id": "db7ee0d4-382e-4068-a810-386da282ce7e",
   "metadata": {},
   "source": [
    "# Hash invocation\n",
    "\n",
    "Note: this might end up being an ipfs CID"
   ]
  },
  {
   "cell_type": "code",
   "execution_count": 15,
   "id": "0b82d4ae-61f6-4fe4-9cd4-7ee021ab15d8",
   "metadata": {},
   "outputs": [],
   "source": [
    "canonical_bytes = jcs.canonicalize(secured_did_update_payload)\n",
    "invocation_hash = sha256(canonical_bytes)"
   ]
  },
  {
   "cell_type": "markdown",
   "id": "63129e9a-fdc8-4630-9d66-712aefd7a21e",
   "metadata": {},
   "source": [
    "## Get beacon address"
   ]
  },
  {
   "cell_type": "code",
   "execution_count": 16,
   "id": "ae2b9c5b-0037-48e3-b437-13ea5dbb477d",
   "metadata": {},
   "outputs": [
    {
     "data": {
      "text/plain": [
       "'bcrt1q7rd6q9kf9tl4r5tv8sc9sm046yhry8g94crxqc'"
      ]
     },
     "execution_count": 16,
     "metadata": {},
     "output_type": "execute_result"
    }
   ],
   "source": [
    "beacon_address = initial_pk.p2wpkh_address(network=\"regtest\")\n",
    "beacon_address"
   ]
  },
  {
   "cell_type": "markdown",
   "id": "2d5d5f28-950b-4b6b-a43e-db74f94f379c",
   "metadata": {},
   "source": [
    "## Connect to local RegTest Node"
   ]
  },
  {
   "cell_type": "code",
   "execution_count": 17,
   "id": "0639c655-0a18-404a-a0a2-11fb84e18c19",
   "metadata": {},
   "outputs": [],
   "source": [
    "import asyncio\n",
    "\n",
    "from bitcoinrpc import BitcoinRPC"
   ]
  },
  {
   "cell_type": "code",
   "execution_count": 18,
   "id": "2bd48c20-9d33-4467-a5ff-6b5401591188",
   "metadata": {},
   "outputs": [
    {
     "data": {
      "text/plain": [
       "0"
      ]
     },
     "execution_count": 18,
     "metadata": {},
     "output_type": "execute_result"
    }
   ],
   "source": [
    "rpc = BitcoinRPC.from_config(\"http://localhost:18443\", (\"polaruser\", \"polarpass\"))\n",
    "await rpc.getconnectioncount()"
   ]
  },
  {
   "cell_type": "code",
   "execution_count": 19,
   "id": "69117db9-f599-4ed3-8ac2-667e04e4fce0",
   "metadata": {},
   "outputs": [],
   "source": [
    "bitcoin_balance = await rpc.acall(\"getbalance\", {})"
   ]
  },
  {
   "cell_type": "code",
   "execution_count": 20,
   "id": "54f4ea67-6552-4900-ad9b-99393e09bce7",
   "metadata": {},
   "outputs": [
    {
     "data": {
      "text/plain": [
       "1697.589859"
      ]
     },
     "execution_count": 20,
     "metadata": {},
     "output_type": "execute_result"
    }
   ],
   "source": [
    "bitcoin_balance"
   ]
  },
  {
   "cell_type": "markdown",
   "id": "aa7875d3-9778-4d27-b7a1-d2e285d9c753",
   "metadata": {},
   "source": [
    "## Fund Beacon address\n",
    "\n",
    "This makes an RPC call to the Bitcoin node and telling it to use its controlled funds to spend a Bitcoin transaction to a specific address with the value of 0.2 BTC. The result returns the bitcoin transaction ID."
   ]
  },
  {
   "cell_type": "code",
   "execution_count": 21,
   "id": "faf45e30-a1d2-4f51-9a58-b9757d95581b",
   "metadata": {},
   "outputs": [],
   "source": [
    "res = await rpc.acall(\"send\", {\"outputs\": { beacon_address: 0.2}})"
   ]
  },
  {
   "cell_type": "code",
   "execution_count": 22,
   "id": "1aa3685a-8a7f-42fe-b740-b42d14e244f9",
   "metadata": {},
   "outputs": [
    {
     "data": {
      "text/plain": [
       "'3c2dfc65402e52f3e449f163349748c695eb17c4db31fdde9b0727cf8137740a'"
      ]
     },
     "execution_count": 22,
     "metadata": {},
     "output_type": "execute_result"
    }
   ],
   "source": [
    "funding_txid = res[\"txid\"]\n",
    "funding_txid"
   ]
  },
  {
   "cell_type": "code",
   "execution_count": 23,
   "id": "4dfe0917-c0a9-41e9-bd02-7c4606205492",
   "metadata": {},
   "outputs": [
    {
     "data": {
      "text/plain": [
       "'020000000001015ee2bd00a8b2fdf51e9169ba0709f528f5a1491d607dc1986898e725445e2b8e0100000000fdffffff02ac5ca81b010000001600144181ca6f1d2fb23f3732a483d202b97301c6b053002d310100000000160014f0dba016c92aff51d16c3c30586df5d12e321d0502473044022005b4bbb148bc3242b57bf8b7d5e1d34421e594058efd6fe849b2fc3b637632a30220606a09f50f09cc20ee29bd9bf087c304466e58fd802c7afcbf4bbb2273b4e6f6012102e13191abba1478387c37424eae06ee945913f4c2d8cf9d92391febb5a12ea3d400000000'"
      ]
     },
     "execution_count": 23,
     "metadata": {},
     "output_type": "execute_result"
    }
   ],
   "source": [
    "funding_tx_hex = await rpc.acall(\"getrawtransaction\", {\"txid\": funding_txid})\n",
    "funding_tx_hex"
   ]
  },
  {
   "cell_type": "code",
   "execution_count": 24,
   "id": "316ee809-cbf3-4de7-8cc3-b6118c47564e",
   "metadata": {},
   "outputs": [
    {
     "data": {
      "text/plain": [
       "\n",
       "tx: 3c2dfc65402e52f3e449f163349748c695eb17c4db31fdde9b0727cf8137740a\n",
       "version: 2\n",
       "locktime: 0\n",
       "tx_ins:\n",
       "8e2b5e4425e7986898c17d601d49a1f528f50907ba69911ef5fdb2a800bde25e:1\n",
       "tx_outs:\n",
       "4758985900:OP_0 4181ca6f1d2fb23f3732a483d202b97301c6b053 \n",
       "20000000:OP_0 f0dba016c92aff51d16c3c30586df5d12e321d05 "
      ]
     },
     "execution_count": 24,
     "metadata": {},
     "output_type": "execute_result"
    }
   ],
   "source": [
    "from buidl.tx import Tx\n",
    "funding_tx = Tx.parse_hex(funding_tx_hex)\n",
    "funding_tx"
   ]
  },
  {
   "cell_type": "markdown",
   "id": "b288b273-54ad-44db-bbf2-1ef6f851c0b3",
   "metadata": {},
   "source": [
    "## Construct Beacon Signal"
   ]
  },
  {
   "cell_type": "code",
   "execution_count": 25,
   "id": "4638eddb-023b-4fd3-8c6f-f7bf948011d1",
   "metadata": {},
   "outputs": [
    {
     "name": "stdout",
     "output_type": "stream",
     "text": [
      "Tx Input satoshis:  20000000\n"
     ]
    }
   ],
   "source": [
    "from buidl.tx import Tx, TxIn, TxOut, SIGHASH_DEFAULT\n",
    "\n",
    "# TODO: Need to fund a beacon address\n",
    "prev_tx = bytes.fromhex(funding_txid)  # Identifying funding tx\n",
    "prev_index = 1 # Identify funding output index\n",
    "\n",
    "\n",
    "tx_in = TxIn(prev_tx=prev_tx, prev_index=prev_index)\n",
    "\n",
    "# Hack the TxIn to know about the TxOut it is spending\n",
    "# This is to do with checks in the Buidl library \n",
    "tx_in._script_pubkey = funding_tx.tx_outs[prev_index].script_pubkey\n",
    "tx_in._value = funding_tx.tx_outs[prev_index].amount\n",
    "\n",
    "# from buidl.tx import URL\n",
    "# URL[\"regtest\"] = \"http://localhost:18443\"\n",
    "\n",
    "print(\"Tx Input satoshis: \",tx_in.value(network=\"regtest\"))"
   ]
  },
  {
   "cell_type": "code",
   "execution_count": 26,
   "id": "79abdc50-2cb3-44e0-a842-b42a3c472ca0",
   "metadata": {},
   "outputs": [],
   "source": [
    "from buidl.script import ScriptPubKey\n",
    "\n",
    "# This is the TxOutput of the SignletonBeacon beacon signal [OP_RETURN, OP_PUSH_32, <invocation_hash>]\n",
    "# It announces and attests to an update through the invocation_hash\n",
    "script_pubkey = ScriptPubKey([0x6a, invocation_hash])\n",
    "\n",
    "beacon_signal_txout = TxOut(0, script_pubkey)"
   ]
  },
  {
   "cell_type": "code",
   "execution_count": 27,
   "id": "28af7004-7dc2-4c09-9405-e6d09be4cc49",
   "metadata": {
    "scrolled": true
   },
   "outputs": [],
   "source": [
    "tx_fee = 350\n",
    "\n",
    "refund_amount = tx_in.value() - tx_fee\n",
    "\n",
    "script_pubkey = initial_pk.p2wpkh_script()\n",
    "refund_out = TxOut(amount=refund_amount, script_pubkey=script_pubkey)"
   ]
  },
  {
   "cell_type": "code",
   "execution_count": 28,
   "id": "d9cfad95-d9a3-4250-9dca-b0da8ee0f9b9",
   "metadata": {},
   "outputs": [
    {
     "name": "stdout",
     "output_type": "stream",
     "text": [
      "010000000001010a743781cf27079bdefd31dbc417eb95c648973463f149e4f3522e4065fc2d3c0100000000ffffffff020000000000000000226a20fa4f9cc77516ac5c1a201f87fcdc18017b80ed0d8cee81e2a7f21037cff4330aa22b310100000000160014f0dba016c92aff51d16c3c30586df5d12e321d050000000000\n"
     ]
    }
   ],
   "source": [
    "tx_ins = [tx_in]\n",
    "\n",
    "tx_outs = [beacon_signal_txout,refund_out]\n",
    "\n",
    "pending_beacon_signal = Tx(version=1, tx_ins=tx_ins, tx_outs=tx_outs, network=\"regtest\",segwit=True)\n",
    "\n",
    "\n",
    "print(pending_beacon_signal.serialize().hex())"
   ]
  },
  {
   "cell_type": "markdown",
   "id": "dc99c371-2f5c-49b6-a85f-4c67c257ad74",
   "metadata": {},
   "source": [
    "## Sign Beacon Signal"
   ]
  },
  {
   "cell_type": "code",
   "execution_count": 29,
   "id": "2c102420-9147-477a-8ead-93b121cb8338",
   "metadata": {},
   "outputs": [
    {
     "data": {
      "text/plain": [
       "True"
      ]
     },
     "execution_count": 29,
     "metadata": {},
     "output_type": "execute_result"
    }
   ],
   "source": [
    "pending_beacon_signal.sign_input(0, initial_sk)"
   ]
  },
  {
   "cell_type": "code",
   "execution_count": 30,
   "id": "1efc06a7-fb9e-4bfb-b67d-cf5f82b26cba",
   "metadata": {},
   "outputs": [],
   "source": [
    "signed_hex = pending_beacon_signal.serialize().hex()"
   ]
  },
  {
   "cell_type": "markdown",
   "id": "5344413c-c489-4381-8194-556a1fa15f3e",
   "metadata": {},
   "source": [
    "## Broadcast Beacon Signal"
   ]
  },
  {
   "cell_type": "code",
   "execution_count": 31,
   "id": "15051dde-2dcf-47ec-8e1a-5f50d5586021",
   "metadata": {},
   "outputs": [],
   "source": [
    "signal_id = await rpc.acall(\"sendrawtransaction\", {\"hexstring\": signed_hex})"
   ]
  },
  {
   "cell_type": "code",
   "execution_count": 32,
   "id": "a4b720c0-43ab-4dfe-8d63-7c754105dee8",
   "metadata": {},
   "outputs": [
    {
     "data": {
      "text/plain": [
       "'f6ca3433fe6b015fabaf41412aa6857b7466969078a464fcd0a9605c0d38996b'"
      ]
     },
     "execution_count": 32,
     "metadata": {},
     "output_type": "execute_result"
    }
   ],
   "source": [
    "signal_id"
   ]
  },
  {
   "cell_type": "code",
   "execution_count": 34,
   "id": "bbd76675-0071-4fb5-96cc-080e26415704",
   "metadata": {},
   "outputs": [],
   "source": [
    "sidecar_data = {\n",
    "    \"did\": did_btc1,\n",
    "    \"signalsMetadata\": {}\n",
    "\n",
    "}"
   ]
  },
  {
   "cell_type": "code",
   "execution_count": 35,
   "id": "2b30e968-dd4c-4684-813a-8c72eea5b9d3",
   "metadata": {},
   "outputs": [],
   "source": [
    "sidecar_data[\"signalsMetadata\"][signal_id] = {\n",
    "    \"updatePayload\": secured_did_update_payload\n",
    "}"
   ]
  },
  {
   "cell_type": "code",
   "execution_count": 37,
   "id": "82706491-8f5f-4533-bb40-830014b6bb1a",
   "metadata": {},
   "outputs": [
    {
     "name": "stdout",
     "output_type": "stream",
     "text": [
      "{\n",
      "  \"did\": \"did:btc1:regtest:k1q00gn89qec0t6j0rpavgfgrphh7tmu9p0yz5zpnwwref5n85a28kvnu9laf\",\n",
      "  \"signalsMetadata\": {\n",
      "    \"f6ca3433fe6b015fabaf41412aa6857b7466969078a464fcd0a9605c0d38996b\": {\n",
      "      \"updatePayload\": {\n",
      "        \"@context\": [\n",
      "          \"https://w3id.org/security/v2\",\n",
      "          \"https://w3id.org/zcap/v1\",\n",
      "          \"https://w3id.org/json-ld-patch/v1\"\n",
      "        ],\n",
      "        \"patch\": [\n",
      "          {\n",
      "            \"op\": \"add\",\n",
      "            \"path\": \"/service/3\",\n",
      "            \"value\": {\n",
      "              \"id\": \"#linked-domain\",\n",
      "              \"type\": \"LinkedDomains\",\n",
      "              \"serviceEndpoint\": \"https://contact-me.com\"\n",
      "            }\n",
      "          }\n",
      "        ],\n",
      "        \"sourceHash\": \"5XcoqeTqmXAYu89hKCNcoWE2R5wQjqze8QrG9HtMmAdC\",\n",
      "        \"targetHash\": \"J9igy4rwejytESdSvqEvFpa8ZvaT8tVwBodyjDrr1KiQ\",\n",
      "        \"targetVersionId\": 2,\n",
      "        \"proof\": {\n",
      "          \"type\": \"DataIntegrityProof\",\n",
      "          \"cryptosuite\": \"schnorr-secp256k1-jcs-2025\",\n",
      "          \"verificationMethod\": \"did:btc1:regtest:k1q00gn89qec0t6j0rpavgfgrphh7tmu9p0yz5zpnwwref5n85a28kvnu9laf#initialKey\",\n",
      "          \"proofPurpose\": \"capabilityInvocation\",\n",
      "          \"@context\": [\n",
      "            \"https://w3id.org/security/v2\",\n",
      "            \"https://w3id.org/zcap/v1\",\n",
      "            \"https://w3id.org/json-ld-patch/v1\"\n",
      "          ],\n",
      "          \"proofValue\": \"z5pz3vvVjHp1Eaip4AwTeurhKPpozkQxD9xpShcZ8DQ8Ez28VyZyaiUQjtb5W7ugmsJ8BzeomYNpJQfXA4j7hMfaX\"\n",
      "        }\n",
      "      }\n",
      "    }\n",
      "  }\n",
      "}\n"
     ]
    }
   ],
   "source": [
    "print(json.dumps(sidecar_data, indent=2))"
   ]
  },
  {
   "cell_type": "code",
   "execution_count": null,
   "id": "061068ca-cd95-49a2-9f72-c69bc1a414c1",
   "metadata": {},
   "outputs": [],
   "source": []
  }
 ],
 "metadata": {
  "kernelspec": {
   "display_name": "Python 3 (ipykernel)",
   "language": "python",
   "name": "python3"
  },
  "language_info": {
   "codemirror_mode": {
    "name": "ipython",
    "version": 3
   },
   "file_extension": ".py",
   "mimetype": "text/x-python",
   "name": "python",
   "nbconvert_exporter": "python",
   "pygments_lexer": "ipython3",
   "version": "3.12.3"
  }
 },
 "nbformat": 4,
 "nbformat_minor": 5
}
