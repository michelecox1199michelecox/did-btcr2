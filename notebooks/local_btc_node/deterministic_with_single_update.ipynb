{
 "cells": [
  {
   "cell_type": "markdown",
   "id": "c076915f-5567-4aa7-a30f-3584903b9ad4",
   "metadata": {},
   "source": [
    "# Deterministic did:btc with a Update to a Singleton Beacon\n",
    "\n",
    "This notebook works through a basic example of creating a deterministic did:btc and then updating it by publishing an update to a singleton beacon. The example uses the regtest network and interfaces with a local bitcoin node over an RPC endpoint."
   ]
  },
  {
   "cell_type": "markdown",
   "id": "f4b30b14-a101-46f3-97ae-33b8739a6b5f",
   "metadata": {},
   "source": [
    "# 0. Initial Setup\n",
    "\n",
    "We do some initial setup to create a DID and an unsecuredDocument to be signed"
   ]
  },
  {
   "cell_type": "markdown",
   "id": "ec5945cc-7575-4e31-81e9-1883c73b39cf",
   "metadata": {},
   "source": [
    "## 0.1. Add libbtc1 python library to path"
   ]
  },
  {
   "cell_type": "code",
   "execution_count": 1,
   "id": "8b7f14f3-6bcc-4091-ba8c-76b7f6eeaf09",
   "metadata": {},
   "outputs": [],
   "source": [
    "import sys\n",
    "import os\n",
    "\n",
    "notebooks_path = os.path.abspath(os.path.join(os.getcwd(), '..'))\n",
    "\n",
    "# Add the Notebooks directory to the sys.path\n",
    "sys.path.append(notebooks_path)"
   ]
  },
  {
   "cell_type": "markdown",
   "id": "ded78a4e-d8e7-41a1-abd6-9b530d577f55",
   "metadata": {},
   "source": [
    "## 0.2. Create key pair"
   ]
  },
  {
   "cell_type": "code",
   "execution_count": 2,
   "id": "5a90a2d0-5b77-400b-8615-051e65d4265a",
   "metadata": {},
   "outputs": [],
   "source": [
    "from buidl.mnemonic import secure_mnemonic\n",
    "from buidl.hd import HDPrivateKey\n"
   ]
  },
  {
   "cell_type": "code",
   "execution_count": 3,
   "id": "a3a2642d-b210-4607-9be4-0e669fd0c3e4",
   "metadata": {},
   "outputs": [
    {
     "name": "stdout",
     "output_type": "stream",
     "text": [
      "Mnemonic :  prosper can dial lumber write coconut express imitate husband isolate inside release brush media please kind comic pill science repeat basic also endorse bronze\n"
     ]
    }
   ],
   "source": [
    "## Run this if you want a new hardware key\n",
    "# mnemonic = secure_mnemonic()\n",
    "\n",
    "mnemonic = \"prosper can dial lumber write coconut express imitate husband isolate inside release brush media please kind comic pill science repeat basic also endorse bronze\"\n",
    "root_hdpriv = HDPrivateKey.from_mnemonic(mnemonic, network=\"signet\")\n",
    "print(\"Mnemonic : \", mnemonic)"
   ]
  },
  {
   "cell_type": "code",
   "execution_count": 4,
   "id": "e29df6ae-654f-42c6-ac49-f63b24d01fe7",
   "metadata": {},
   "outputs": [
    {
     "name": "stdout",
     "output_type": "stream",
     "text": [
      "Secp256k1 PrivateKey 73fddc12fc9342bb29ae9b5ed476323bdc693a116e36512455aee830fe8a25a2\n",
      "Secp256k1 Public Key S256Point(029ad5f6a85d27ee69b133aed273b4f2f5d70ed4a71675019c1a76f04c663526ef)\n"
     ]
    }
   ],
   "source": [
    "didkey_purpose = \"11\"\n",
    "\n",
    "initial_sk = root_hdpriv.get_private_key(didkey_purpose, address_num=2)\n",
    "initial_pk = initial_sk.point\n",
    "\n",
    "print(\"Secp256k1 PrivateKey\", initial_sk.hex())\n",
    "print(\"Secp256k1 Public Key\", initial_pk.__repr__())"
   ]
  },
  {
   "cell_type": "markdown",
   "id": "abddd0f4-cdf9-48ac-9a6a-0e8bcf15785d",
   "metadata": {},
   "source": [
    "## 1. Deterministically Create DID BTC1 "
   ]
  },
  {
   "cell_type": "code",
   "execution_count": 5,
   "id": "c79cc16f-1f6a-4098-a550-1f218daeb1b9",
   "metadata": {},
   "outputs": [],
   "source": [
    "from libbtc1.did import create_deterministic\n",
    "\n",
    "did_btc1, did_document = create_deterministic(initial_pk, network=\"regtest\")"
   ]
  },
  {
   "cell_type": "code",
   "execution_count": 6,
   "id": "cc4c4d7c-2514-4588-913e-549abf6eb5b2",
   "metadata": {},
   "outputs": [
    {
     "data": {
      "text/plain": [
       "'did:btc1:regtest:k1q2ddta4gt5n7u6d3xwhdyua57t6awrk55ut82qvurfm0qnrxx5nw7vnsy65'"
      ]
     },
     "execution_count": 6,
     "metadata": {},
     "output_type": "execute_result"
    }
   ],
   "source": [
    "did_btc1"
   ]
  },
  {
   "cell_type": "code",
   "execution_count": 7,
   "id": "9ece4657-bbd1-48c0-9b96-fb2203bc1aa4",
   "metadata": {
    "scrolled": true
   },
   "outputs": [
    {
     "name": "stdout",
     "output_type": "stream",
     "text": [
      "{\n",
      "  \"id\": \"did:btc1:regtest:k1q2ddta4gt5n7u6d3xwhdyua57t6awrk55ut82qvurfm0qnrxx5nw7vnsy65\",\n",
      "  \"@context\": [\n",
      "    \"https://www.w3.org/ns/did/v1\",\n",
      "    \"https://did-btc1/TBD/context\"\n",
      "  ],\n",
      "  \"verificationMethod\": [\n",
      "    {\n",
      "      \"id\": \"#initialKey\",\n",
      "      \"type\": \"Multikey\",\n",
      "      \"controller\": \"did:btc1:regtest:k1q2ddta4gt5n7u6d3xwhdyua57t6awrk55ut82qvurfm0qnrxx5nw7vnsy65\",\n",
      "      \"publicKeyMultibase\": \"z66PwJnYvwJLhGrVc8vcuUkKs99sKCzYRM2HQ2gDCGTAStHk\"\n",
      "    }\n",
      "  ],\n",
      "  \"authentication\": [\n",
      "    \"#initialKey\"\n",
      "  ],\n",
      "  \"assertionMethod\": [\n",
      "    \"#initialKey\"\n",
      "  ],\n",
      "  \"capabilityInvocation\": [\n",
      "    \"#initialKey\"\n",
      "  ],\n",
      "  \"capabilityDelegation\": [\n",
      "    \"#initialKey\"\n",
      "  ],\n",
      "  \"service\": [\n",
      "    {\n",
      "      \"id\": \"#initial_p2pkh\",\n",
      "      \"type\": \"SingletonBeacon\",\n",
      "      \"serviceEndpoint\": \"bitcoin:ms4wr9JokfjLPtBVHpMefXS6domSgEdHXf\"\n",
      "    },\n",
      "    {\n",
      "      \"id\": \"#initial_p2wpkh\",\n",
      "      \"type\": \"SingletonBeacon\",\n",
      "      \"serviceEndpoint\": \"bitcoin:bcrt1q06m9yn2kxgxg2mara55667958d0a6s2ksdc3dd\"\n",
      "    },\n",
      "    {\n",
      "      \"id\": \"#initial_p2tr\",\n",
      "      \"type\": \"SingletonBeacon\",\n",
      "      \"serviceEndpoint\": \"bitcoin:bcrt1psajngvjme0fkzv83m2ys80dhmya3nghph4h478ad2z5q564049jsuu7sng\"\n",
      "    }\n",
      "  ]\n",
      "}\n"
     ]
    }
   ],
   "source": [
    "import json\n",
    "print(json.dumps(did_document, indent=2))"
   ]
  },
  {
   "cell_type": "markdown",
   "id": "9b2384a5-58ae-4104-bd32-6021e912323e",
   "metadata": {},
   "source": [
    "## 2. Create updated DID document\n",
    "\n",
    "- Include any additions to the DID document\n",
    "- Any deletions from the DID document\n",
    "- Can add/remove beacons from the service array"
   ]
  },
  {
   "cell_type": "code",
   "execution_count": 8,
   "id": "efd502ca-6344-4bba-b5e2-39e644ca806a",
   "metadata": {},
   "outputs": [],
   "source": [
    "import copy\n",
    "# Adding a new service\n",
    "linked_domain = {\n",
    "    \"id\":\"#linked-domain\",\n",
    "    \"type\": \"LinkedDomains\", \n",
    "    \"serviceEndpoint\": \"https://contact-me.com\"    \n",
    "}\n"
   ]
  },
  {
   "cell_type": "markdown",
   "id": "0448f13c-e61e-49d5-96b3-068e3fcc514f",
   "metadata": {},
   "source": [
    "## C2 Create DID update payload\n",
    "\n",
    "- JSON Patch transformation from current document to new one \n",
    "- Bump version number\n",
    "\n",
    " \n",
    "**Question** would this be better to version in the payload?\n",
    "DID Document propagates to caller of resolver. That could be useful, especially for enabling resolution by version #.\n",
    "https://www.w3.org/TR/did-core/#dfn-versionid \n"
   ]
  },
  {
   "cell_type": "code",
   "execution_count": 9,
   "id": "eff2cfeb-6b54-4527-a963-dd82b8fd97f0",
   "metadata": {},
   "outputs": [
    {
     "name": "stdout",
     "output_type": "stream",
     "text": [
      "[{'op': 'add', 'path': '/service/3', 'value': {'id': '#linked-domain', 'type': 'LinkedDomains', 'serviceEndpoint': 'https://contact-me.com'}}]\n"
     ]
    }
   ],
   "source": [
    "# This is saying add linkedDomanSE to the end of the service list of a json document.\n",
    "\n",
    "service_path = f\"/service/{len(did_document[\"service\"])}\"\n",
    "\n",
    "update_patch = [{'op': 'add', 'path': service_path, 'value': linked_domain}]\n",
    "\n",
    "\n",
    "print(update_patch)"
   ]
  },
  {
   "cell_type": "code",
   "execution_count": 10,
   "id": "71c1c9e2-8e57-4b72-9920-89ad03b39722",
   "metadata": {},
   "outputs": [],
   "source": [
    "import jsonpatch\n",
    "\n",
    "patch = jsonpatch.JsonPatch(update_patch)\n",
    "\n",
    "v2_did_document = patch.apply(did_document)\n"
   ]
  },
  {
   "cell_type": "code",
   "execution_count": 11,
   "id": "7afa122c-7123-4af6-b08d-a80212a7ce18",
   "metadata": {},
   "outputs": [],
   "source": [
    "# This is the first update\n",
    "# If you want to do another update you MUST bump the version\n",
    "from buidl.helper import encode_base58, sha256\n",
    "import jcs\n",
    "\n",
    "source_hash_bytes = sha256(jcs.canonicalize(did_document))\n",
    "source_hash = encode_base58(source_hash_bytes)\n",
    "target_hash_bytes = sha256(jcs.canonicalize(v2_did_document))\n",
    "target_hash = encode_base58(target_hash_bytes)\n",
    "targetVersionId = 2\n"
   ]
  },
  {
   "cell_type": "code",
   "execution_count": 13,
   "id": "938fe9ee-7293-454f-8ea9-c322aef0b6d7",
   "metadata": {},
   "outputs": [],
   "source": [
    "\n",
    "\n",
    "\n",
    "\n",
    "did_update_payload = {\n",
    "    '@context': [\n",
    "        'https://w3id.org/security/v2',\n",
    "        'https://w3id.org/zcap/v1',\n",
    "        'https://w3id.org/json-ld-patch/v1'\n",
    "        # TODO did:btc1 zcap context\n",
    "    ],\n",
    "    'patch': update_patch,\n",
    "    # TODO: this might not go here?\n",
    "    'sourceHash': source_hash,\n",
    "    'targetHash': target_hash,\n",
    "    'targetVersionId': targetVersionId\n",
    "};"
   ]
  },
  {
   "cell_type": "markdown",
   "id": "3fabd6fb-fffd-4d94-a3fa-e69178e91c5b",
   "metadata": {},
   "source": [
    "## C3. Create DID Update Invocation"
   ]
  },
  {
   "cell_type": "markdown",
   "id": "ddb45cac-e997-4164-aee8-1121e6e3047b",
   "metadata": {},
   "source": [
    "### C3.1 Deterministically Generate Root Capability for DID document\n",
    "\n",
    "This is a root capability for a specific did:btc1 to invoke a capability to update that did:btc's DID document"
   ]
  },
  {
   "cell_type": "code",
   "execution_count": 14,
   "id": "736299c0-0a5a-4f3d-a5fc-ee7eddc821ea",
   "metadata": {},
   "outputs": [
    {
     "data": {
      "text/plain": [
       "{'@context': 'https://w3id.org/security/v2',\n",
       " 'id': 'urn:zcap:root:did%3Abtc1%3Aregtest%3Ak1q2ddta4gt5n7u6d3xwhdyua57t6awrk55ut82qvurfm0qnrxx5nw7vnsy65',\n",
       " 'controller': 'did:btc1:regtest:k1q2ddta4gt5n7u6d3xwhdyua57t6awrk55ut82qvurfm0qnrxx5nw7vnsy65',\n",
       " 'invocationTarget': 'did:btc1:regtest:k1q2ddta4gt5n7u6d3xwhdyua57t6awrk55ut82qvurfm0qnrxx5nw7vnsy65'}"
      ]
     },
     "execution_count": 14,
     "metadata": {},
     "output_type": "execute_result"
    }
   ],
   "source": [
    "import urllib\n",
    "root_capability = {\n",
    "  \"@context\": \"https://w3id.org/security/v2\",\n",
    "  \"id\": f\"urn:zcap:root:{urllib.parse.quote(did_btc1)}\",\n",
    "  \"controller\": did_btc1,\n",
    "  \"invocationTarget\": did_btc1\n",
    "};\n",
    "root_capability"
   ]
  },
  {
   "cell_type": "markdown",
   "id": "5960969e-1163-4e94-85c6-84101a4b9ff3",
   "metadata": {},
   "source": [
    "### C3.2 Invoke root capability over the DID update payload\n",
    "\n",
    "**Note:** There are no libraries for this in python. I have a separate POC that demonstrates how to achieve this using libraries for Digital Bazaar in JavaScript."
   ]
  },
  {
   "cell_type": "code",
   "execution_count": 16,
   "id": "f79d7358-3e76-45a6-8d0d-95bec9a4d407",
   "metadata": {},
   "outputs": [],
   "source": [
    "from di_schnorr_secp256k1.multikey import SchnorrSecp256k1Multikey\n",
    "from di_schnorr_secp256k1.data_integrity_proof import DataIntegrityProof\n",
    "from di_schnorr_secp256k1.cryptosuite import SchnorrSecp256k1JcsCryptoSuite\n",
    "\n",
    "did_update_invocation = copy.deepcopy(did_update_payload)\n",
    "\n",
    "multikey = SchnorrSecp256k1Multikey(id=\"#initialKey\", controller=did_btc1, private_key=initial_sk)\n",
    "cryptosuite = SchnorrSecp256k1JcsCryptoSuite(multikey)\n",
    "di_proof = DataIntegrityProof(cryptosuite)\n",
    "\n",
    "\n",
    "\n",
    "options = {\n",
    "        \"type\": \"DataIntegrityProof\",\n",
    "        \"cryptosuite\": \"schnorr-secp256k1-jcs-2025\",\n",
    "        \"verificationMethod\": multikey.full_id(),\n",
    "        \"proofPurpose\": \"capabilityInvocation\"\n",
    "}\n",
    "\n",
    "\n",
    "secured_did_update_payload = di_proof.add_proof(did_update_invocation, options)"
   ]
  },
  {
   "cell_type": "markdown",
   "id": "db7ee0d4-382e-4068-a810-386da282ce7e",
   "metadata": {},
   "source": [
    "# Hash invocation\n",
    "\n",
    "Note: this might end up being an ipfs CID"
   ]
  },
  {
   "cell_type": "code",
   "execution_count": 17,
   "id": "0b82d4ae-61f6-4fe4-9cd4-7ee021ab15d8",
   "metadata": {},
   "outputs": [],
   "source": [
    "canonical_bytes = jcs.canonicalize(secured_did_update_payload)\n",
    "invocation_hash = sha256(canonical_bytes)"
   ]
  },
  {
   "cell_type": "markdown",
   "id": "63129e9a-fdc8-4630-9d66-712aefd7a21e",
   "metadata": {},
   "source": [
    "## Get beacon address"
   ]
  },
  {
   "cell_type": "code",
   "execution_count": 18,
   "id": "ae2b9c5b-0037-48e3-b437-13ea5dbb477d",
   "metadata": {},
   "outputs": [
    {
     "data": {
      "text/plain": [
       "'bcrt1q06m9yn2kxgxg2mara55667958d0a6s2ksdc3dd'"
      ]
     },
     "execution_count": 18,
     "metadata": {},
     "output_type": "execute_result"
    }
   ],
   "source": [
    "beacon_address = initial_pk.p2wpkh_address(network=\"regtest\")\n",
    "beacon_address"
   ]
  },
  {
   "cell_type": "markdown",
   "id": "aa7875d3-9778-4d27-b7a1-d2e285d9c753",
   "metadata": {},
   "source": [
    "## Fund Beacon address\n",
    "\n",
    "Use the polar interface"
   ]
  },
  {
   "cell_type": "code",
   "execution_count": null,
   "id": "316ee809-cbf3-4de7-8cc3-b6118c47564e",
   "metadata": {},
   "outputs": [],
   "source": [
    "## TODO: YOU MUST CHANGE THIS\n",
    "funding_tx_id = \"e6a4c2d684edab597cb828924e3a7d34cbbc35d49501cc974797ea30ee54807c\"\n",
    "\n",
    "## TODO: MUST CHANGE. SHOULD USE BITCOIN CLI from lightning polar terminal\n",
    "funding_tx_hex = \"0200000000010153859e215d4dbe9dc0ef80842a3fa5bbf2b2ed9036cdc0ed656cf1edfa2bac7a0100000000fdffffff02b8b80024010000001600146cb48d4b1222cbc2f6d8e3968deac6f9770845fa00e1f505000000001600147eb6524d56320c856fa3ed29ad78b43b5fdd4156024730440220425c08d51eae5835e63ead8c5404a9c4156c1ddaf1e2fb6464fade389cb0f47b0220142e18af494683283e40272ded7b955cc037ba0ebf238ac1838ae8084668534801210286581e69b8a3e6830f7b2bed78abc392a9137bc6e94f0960f3404f8eae715d456c000000\"\n",
    "\n",
    "funding_tx = Tx.parse_hex(funding_tx_hex)"
   ]
  },
  {
   "cell_type": "code",
   "execution_count": null,
   "id": "0558a7c4-41d5-4a21-ba60-8f708067508a",
   "metadata": {},
   "outputs": [],
   "source": [
    "funding_tx"
   ]
  },
  {
   "cell_type": "markdown",
   "id": "b288b273-54ad-44db-bbf2-1ef6f851c0b3",
   "metadata": {},
   "source": [
    "## Construct Beacon Signal"
   ]
  },
  {
   "cell_type": "code",
   "execution_count": null,
   "id": "4638eddb-023b-4fd3-8c6f-f7bf948011d1",
   "metadata": {},
   "outputs": [],
   "source": [
    "from buidl.tx import Tx, TxIn, TxOut, SIGHASH_DEFAULT\n",
    "\n",
    "# TODO: Need to fund a beacon address\n",
    "prev_tx = bytes.fromhex(funding_tx_id)  # Identifying funding tx\n",
    "prev_index = 1 # Identify funding output index\n",
    "\n",
    "\n",
    "tx_in = TxIn(prev_tx=prev_tx, prev_index=prev_index)\n",
    "\n",
    "# Hack the TxIn to know about the TxOut it is spending\n",
    "tx_in._script_pubkey = funding_tx.tx_outs[prev_index].script_pubkey\n",
    "tx_in._value = funding_tx.tx_outs[prev_index].amount\n",
    "\n",
    "# from buidl.tx import URL\n",
    "# URL[\"regtest\"] = \"http://localhost:18443\"\n",
    "\n",
    "# print(\"Tx Input satoshis: \",tx_in.value(network=\"regtest\"))"
   ]
  },
  {
   "cell_type": "code",
   "execution_count": null,
   "id": "79abdc50-2cb3-44e0-a842-b42a3c472ca0",
   "metadata": {},
   "outputs": [],
   "source": [
    "from buidl.script import ScriptPubKey\n",
    "\n",
    "script_pubkey = ScriptPubKey([0x6a, invocation_hash])\n",
    "\n",
    "beacon_signal_txout = TxOut(0, script_pubkey)"
   ]
  },
  {
   "cell_type": "code",
   "execution_count": null,
   "id": "28af7004-7dc2-4c09-9405-e6d09be4cc49",
   "metadata": {
    "scrolled": true
   },
   "outputs": [],
   "source": [
    "tx_fee = 350\n",
    "\n",
    "refund_amount = tx_in.value() - tx_fee\n",
    "\n",
    "script_pubkey = initial_pk.p2wpkh_script()\n",
    "refund_out = TxOut(amount=refund_amount, script_pubkey=script_pubkey)"
   ]
  },
  {
   "cell_type": "code",
   "execution_count": null,
   "id": "d9cfad95-d9a3-4250-9dca-b0da8ee0f9b9",
   "metadata": {},
   "outputs": [],
   "source": [
    "tx_ins = [tx_in]\n",
    "\n",
    "tx_outs = [beacon_signal_txout,refund_out]\n",
    "\n",
    "pending_beacon_signal = Tx(version=1, tx_ins=tx_ins, tx_outs=tx_outs, network=\"regtest\",segwit=True)\n",
    "\n",
    "\n",
    "print(pending_beacon_signal.serialize().hex())"
   ]
  },
  {
   "cell_type": "markdown",
   "id": "dc99c371-2f5c-49b6-a85f-4c67c257ad74",
   "metadata": {},
   "source": [
    "## Sign Beacon Signal"
   ]
  },
  {
   "cell_type": "code",
   "execution_count": null,
   "id": "2c102420-9147-477a-8ead-93b121cb8338",
   "metadata": {},
   "outputs": [],
   "source": [
    "pending_beacon_signal.sign_input(0, initial_sk)"
   ]
  },
  {
   "cell_type": "code",
   "execution_count": null,
   "id": "1efc06a7-fb9e-4bfb-b67d-cf5f82b26cba",
   "metadata": {},
   "outputs": [],
   "source": [
    "signed_hex = pending_beacon_signal.serialize().hex()"
   ]
  },
  {
   "cell_type": "markdown",
   "id": "2d5d5f28-950b-4b6b-a43e-db74f94f379c",
   "metadata": {},
   "source": [
    "## Connect to local RegTest Nodew"
   ]
  },
  {
   "cell_type": "code",
   "execution_count": null,
   "id": "0639c655-0a18-404a-a0a2-11fb84e18c19",
   "metadata": {},
   "outputs": [],
   "source": [
    "import asyncio\n",
    "\n",
    "from bitcoinrpc import BitcoinRPC"
   ]
  },
  {
   "cell_type": "code",
   "execution_count": null,
   "id": "2bd48c20-9d33-4467-a5ff-6b5401591188",
   "metadata": {},
   "outputs": [],
   "source": [
    "rpc = BitcoinRPC.from_config(\"http://localhost:18443\", (\"polaruser\", \"polarpass\"))\n",
    "await rpc.getconnectioncount()"
   ]
  },
  {
   "cell_type": "code",
   "execution_count": null,
   "id": "faf45e30-a1d2-4f51-9a58-b9757d95581b",
   "metadata": {},
   "outputs": [],
   "source": [
    "res = await rpc.acall(\"sendrawtransaction\", {\"hexstring\": signed_hex})"
   ]
  },
  {
   "cell_type": "code",
   "execution_count": null,
   "id": "1aa3685a-8a7f-42fe-b740-b42d14e244f9",
   "metadata": {},
   "outputs": [],
   "source": [
    "res"
   ]
  },
  {
   "cell_type": "code",
   "execution_count": null,
   "id": "edbe1766-3b93-4a08-afda-8450a92f892d",
   "metadata": {},
   "outputs": [],
   "source": []
  }
 ],
 "metadata": {
  "kernelspec": {
   "display_name": "Python 3 (ipykernel)",
   "language": "python",
   "name": "python3"
  },
  "language_info": {
   "codemirror_mode": {
    "name": "ipython",
    "version": 3
   },
   "file_extension": ".py",
   "mimetype": "text/x-python",
   "name": "python",
   "nbconvert_exporter": "python",
   "pygments_lexer": "ipython3",
   "version": "3.12.3"
  }
 },
 "nbformat": 4,
 "nbformat_minor": 5
}
